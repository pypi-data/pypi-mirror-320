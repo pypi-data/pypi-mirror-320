{
 "cells": [
  {
   "cell_type": "code",
   "execution_count": 1,
   "id": "e748757a-0ad1-485e-bb34-3d30810fbaf3",
   "metadata": {},
   "outputs": [
    {
     "name": "stderr",
     "output_type": "stream",
     "text": [
      "/Users/cmutel/Code/Brightway/brightway2-io/bw2io/strategies/simapro.py:409: SyntaxWarning: invalid escape sequence '\\('\n",
      "  \"iff\\(\"  # Starting condition, case-insensitive\n",
      "/Users/cmutel/Code/Brightway/brightway2-io/bw2io/strategies/simapro.py:410: SyntaxWarning: invalid escape sequence '\\s'\n",
      "  \"\\s*\"  # Whitespace\n",
      "/Users/cmutel/Code/Brightway/brightway2-io/bw2io/strategies/simapro.py:412: SyntaxWarning: invalid escape sequence '\\s'\n",
      "  \"\\s*\"  # Whitespace\n",
      "/Users/cmutel/Code/Brightway/brightway2-io/bw2io/strategies/simapro.py:414: SyntaxWarning: invalid escape sequence '\\s'\n",
      "  \"\\s*\"  # Whitespace\n",
      "/Users/cmutel/Code/Brightway/brightway2-io/bw2io/strategies/simapro.py:416: SyntaxWarning: invalid escape sequence '\\s'\n",
      "  \"\\s*\"  # Whitespace\n",
      "/Users/cmutel/Code/Brightway/brightway2-io/bw2io/strategies/simapro.py:418: SyntaxWarning: invalid escape sequence '\\s'\n",
      "  \"\\s*\"  # Whitespace\n",
      "/Users/cmutel/Code/Brightway/brightway2-io/bw2io/strategies/simapro.py:420: SyntaxWarning: invalid escape sequence '\\s'\n",
      "  \"\\s*\"  # Whitespace\n",
      "/Users/cmutel/Code/Brightway/brightway2-io/bw2io/strategies/simapro.py:421: SyntaxWarning: invalid escape sequence '\\)'\n",
      "  \"\\)\",  # End parentheses\n",
      "/Users/cmutel/Code/Brightway/brightway2-io/bw2io/strategies/simapro.py:496: SyntaxWarning: invalid escape sequence '\\d'\n",
      "  formula = re.sub(\"\\d,\\d\", replace_comma, formula)\n"
     ]
    }
   ],
   "source": [
    "import bw2data as bd\n",
    "import bw2io as bi"
   ]
  },
  {
   "cell_type": "code",
   "execution_count": null,
   "id": "4d1c6c65-feac-45e4-9112-fa2fc45da7e5",
   "metadata": {},
   "outputs": [],
   "source": []
  }
 ],
 "metadata": {
  "kernelspec": {
   "display_name": "Python 3 (ipykernel)",
   "language": "python",
   "name": "python3"
  },
  "language_info": {
   "codemirror_mode": {
    "name": "ipython",
    "version": 3
   },
   "file_extension": ".py",
   "mimetype": "text/x-python",
   "name": "python",
   "nbconvert_exporter": "python",
   "pygments_lexer": "ipython3",
   "version": "3.12.3"
  }
 },
 "nbformat": 4,
 "nbformat_minor": 5
}
