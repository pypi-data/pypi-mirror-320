{
 "cells": [
  {
   "cell_type": "code",
   "id": "initial_id",
   "metadata": {
    "collapsed": true,
    "ExecuteTime": {
     "end_time": "2025-01-13T20:19:49.824622Z",
     "start_time": "2025-01-13T20:19:49.777283Z"
    }
   },
   "source": [
    "import ipytest\n",
    "ipytest.autoconfig(addopts=[\n",
    "    \"--assert=plain\",\n",
    "    \"--run-eval\",\n",
    "    \"--run-eval-analysis\",\n",
    "    \"-s\",  # Don't capture output\n",
    "    \"--log-cli-level=ERROR\"\n",
    "])"
   ],
   "outputs": [],
   "execution_count": 1
  },
  {
   "metadata": {
    "ExecuteTime": {
     "end_time": "2025-01-13T20:19:50.224207Z",
     "start_time": "2025-01-13T20:19:49.913224Z"
    }
   },
   "cell_type": "code",
   "source": [
    "import openai\n",
    "def classify(text: str) -> bool:\n",
    "    \"\"\"Simple LLM agent that classifies text as computer-related or not.\"\"\"\n",
    "    resp = openai.chat.completions.create(\n",
    "        model=\"gpt-4o-mini\",\n",
    "        messages=[\n",
    "            {\n",
    "                \"role\": \"system\",\n",
    "                \"content\": \"Is this text about a computer-related subject?\"\n",
    "                           \"Reply ONLY with either true or false.\",\n",
    "            },\n",
    "            {\"role\": \"user\", \"content\": text},\n",
    "        ],\n",
    "    )\n",
    "    return resp.choices[0].message.content.lower() == \"true\""
   ],
   "id": "cf1945956eb269f1",
   "outputs": [],
   "execution_count": 2
  },
  {
   "metadata": {
    "ExecuteTime": {
     "end_time": "2025-01-13T20:19:50.228660Z",
     "start_time": "2025-01-13T20:19:50.227003Z"
    }
   },
   "cell_type": "code",
   "source": [
    "TEST_DATA = [\n",
    "    {\"text\": \"I need to debug this Python code\", \"label\": True},\n",
    "    {\"text\": \"The cat jumped over the lazy dog\", \"label\": False},\n",
    "    {\"text\": \"My monitor keeps flickering\", \"label\": True},\n",
    "]"
   ],
   "id": "ed89317d0f567f60",
   "outputs": [],
   "execution_count": 3
  },
  {
   "metadata": {
    "ExecuteTime": {
     "end_time": "2025-01-13T20:19:52.074890Z",
     "start_time": "2025-01-13T20:19:50.563040Z"
    }
   },
   "cell_type": "code",
   "source": [
    "%%ipytest\n",
    "ipytest.force_reload(\"pytest_harvest\") # Force reload the plugin, this is a workaround to run the evaluation tests multiple times in the notebook, and resetting the plugin state\n",
    "\n",
    "import pytest\n",
    "@pytest.fixture\n",
    "def classifier():\n",
    "    return classify\n",
    "\n",
    "@pytest.mark.eval(name=\"computer_classifier\")\n",
    "@pytest.mark.parametrize(\"case\", TEST_DATA)\n",
    "def test_classifier(case: dict, eval_bag, classifier):\n",
    "    eval_bag.input_text = case[\"text\"]\n",
    "    eval_bag.label = case[\"label\"]\n",
    "    eval_bag.prediction = classifier(case[\"text\"])\n",
    "    print(f\"Input: {eval_bag.input_text}\")\n",
    "    print(f\"Prediction: {eval_bag.prediction}\")\n",
    "    assert eval_bag.prediction == eval_bag.label\n",
    "\n",
    "\n",
    "@pytest.mark.eval_analysis(name=\"computer_classifier\")\n",
    "def test_analysis(eval_results):\n",
    "    total = len(eval_results)\n",
    "    correct = sum(1 for r in eval_results if r.result.prediction == r.result.label)\n",
    "    accuracy = correct / total\n",
    "\n",
    "    print(f\"Accuracy: {accuracy:.2%}\")\n",
    "    assert accuracy >= 0.7"
   ],
   "id": "5b70a50e362fd03c",
   "outputs": [
    {
     "name": "stdout",
     "output_type": "stream",
     "text": [
      "\n",
      "t_73ebd04313644f43af72ba306c8af586.py::test_classifier[case0] Input: I need to debug this Python code\n",
      "Prediction: True\n",
      "\u001B[32mPASSED\u001B[0m\n",
      "t_73ebd04313644f43af72ba306c8af586.py::test_classifier[case1] Input: The cat jumped over the lazy dog\n",
      "Prediction: False\n",
      "\u001B[32mPASSED\u001B[0m\n",
      "t_73ebd04313644f43af72ba306c8af586.py::test_classifier[case2] Input: My monitor keeps flickering\n",
      "Prediction: True\n",
      "\u001B[32mPASSED\u001B[0m\n",
      "t_73ebd04313644f43af72ba306c8af586.py::test_analysis Accuracy: 100.00%\n",
      "\u001B[32mPASSED\u001B[0m\n",
      "\n",
      "\u001B[32m======================================== \u001B[32m\u001B[1m4 passed\u001B[0m\u001B[32m in 1.44s\u001B[0m\u001B[32m =========================================\u001B[0m\n"
     ]
    }
   ],
   "execution_count": 4
  }
 ],
 "metadata": {
  "kernelspec": {
   "display_name": "Python 3",
   "language": "python",
   "name": "python3"
  },
  "language_info": {
   "codemirror_mode": {
    "name": "ipython",
    "version": 2
   },
   "file_extension": ".py",
   "mimetype": "text/x-python",
   "name": "python",
   "nbconvert_exporter": "python",
   "pygments_lexer": "ipython2",
   "version": "2.7.6"
  }
 },
 "nbformat": 4,
 "nbformat_minor": 5
}
