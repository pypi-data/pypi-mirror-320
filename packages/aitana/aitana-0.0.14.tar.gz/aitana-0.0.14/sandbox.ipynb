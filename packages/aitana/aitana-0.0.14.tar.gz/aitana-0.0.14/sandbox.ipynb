{
 "cells": [
  {
   "cell_type": "code",
   "execution_count": 1,
   "metadata": {},
   "outputs": [],
   "source": [
    "import inspect\n",
    "import pandas as pd\n"
   ]
  },
  {
   "cell_type": "code",
   "execution_count": 2,
   "metadata": {},
   "outputs": [],
   "source": [
    "class DataFetcher:\n",
    "    def __init__(self, start_date, end_date):\n",
    "        self.start_date = start_date\n",
    "        self.end_date = end_date\n",
    "\n",
    "    def fetch_data(self):\n",
    "        # Simulate fetching data for the specified date range\n",
    "        date_range = pd.date_range(\n",
    "            start=pd.to_datetime('2024-01-01', utc=True), end=self.end_date, freq=\"D\")\n",
    "        data = pd.DataFrame({\n",
    "            \"value\": np.random.rand(len(date_range))\n",
    "        }, index=date_range)\n",
    "        return data\n",
    "\n",
    "\n",
    "def fetch_data_function(end_date):\n",
    "    date_range = pd.date_range(\n",
    "        start=pd.to_datetime(\"2024-01-01\", utc=True), end=end_date, freq=\"D\")\n",
    "    data = pd.DataFrame(\n",
    "        {\"value\": np.random.rand(len(date_range))}, index=date_range)\n",
    "    return data\n",
    "\n"
   ]
  },
  {
   "cell_type": "code",
   "execution_count": 4,
   "metadata": {},
   "outputs": [
    {
     "data": {
      "text/plain": [
       "function"
      ]
     },
     "execution_count": 4,
     "metadata": {},
     "output_type": "execute_result"
    }
   ],
   "source": [
    "type(DataFetcher.fetch_data)"
   ]
  },
  {
   "cell_type": "code",
   "execution_count": 11,
   "metadata": {},
   "outputs": [
    {
     "data": {
      "text/plain": [
       "False"
      ]
     },
     "execution_count": 11,
     "metadata": {},
     "output_type": "execute_result"
    }
   ],
   "source": [
    "func_params = list(inspect.signature(fetch_data_function).parameters)\n",
    "func_params and func_params[0] == 'self'"
   ]
  },
  {
   "cell_type": "code",
   "execution_count": 6,
   "metadata": {},
   "outputs": [
    {
     "data": {
      "text/plain": [
       "True"
      ]
     },
     "execution_count": 6,
     "metadata": {},
     "output_type": "execute_result"
    }
   ],
   "source": [
    "isinstance(fetch_data_function, types.FunctionType)"
   ]
  },
  {
   "cell_type": "code",
   "execution_count": 2,
   "metadata": {},
   "outputs": [
    {
     "data": {
      "text/plain": [
       "Timestamp('2018-01-01 00:00:00+0000', tz='UTC')"
      ]
     },
     "execution_count": 2,
     "metadata": {},
     "output_type": "execute_result"
    }
   ],
   "source": [
    "pd.to_datetime('2018-01-01', utc=True)"
   ]
  },
  {
   "cell_type": "code",
   "execution_count": 5,
   "metadata": {},
   "outputs": [],
   "source": [
    "df = pd.DataFrame({'a': [1, 2, 3], 'b': [4, 5, 6]}, index=pd.date_range('2018-01-01', periods=3))"
   ]
  },
  {
   "cell_type": "code",
   "execution_count": 8,
   "metadata": {},
   "outputs": [
    {
     "data": {
      "text/html": [
       "<div>\n",
       "<style scoped>\n",
       "    .dataframe tbody tr th:only-of-type {\n",
       "        vertical-align: middle;\n",
       "    }\n",
       "\n",
       "    .dataframe tbody tr th {\n",
       "        vertical-align: top;\n",
       "    }\n",
       "\n",
       "    .dataframe thead th {\n",
       "        text-align: right;\n",
       "    }\n",
       "</style>\n",
       "<table border=\"1\" class=\"dataframe\">\n",
       "  <thead>\n",
       "    <tr style=\"text-align: right;\">\n",
       "      <th></th>\n",
       "      <th>a</th>\n",
       "      <th>b</th>\n",
       "    </tr>\n",
       "  </thead>\n",
       "  <tbody>\n",
       "    <tr>\n",
       "      <th>2018-01-01 00:00:00+00:00</th>\n",
       "      <td>1</td>\n",
       "      <td>4</td>\n",
       "    </tr>\n",
       "    <tr>\n",
       "      <th>2018-01-02 00:00:00+00:00</th>\n",
       "      <td>2</td>\n",
       "      <td>5</td>\n",
       "    </tr>\n",
       "    <tr>\n",
       "      <th>2018-01-03 00:00:00+00:00</th>\n",
       "      <td>3</td>\n",
       "      <td>6</td>\n",
       "    </tr>\n",
       "  </tbody>\n",
       "</table>\n",
       "</div>"
      ],
      "text/plain": [
       "                           a  b\n",
       "2018-01-01 00:00:00+00:00  1  4\n",
       "2018-01-02 00:00:00+00:00  2  5\n",
       "2018-01-03 00:00:00+00:00  3  6"
      ]
     },
     "execution_count": 8,
     "metadata": {},
     "output_type": "execute_result"
    }
   ],
   "source": [
    "df = df.tz_localize('utc')\n",
    "df"
   ]
  },
  {
   "cell_type": "code",
   "execution_count": 9,
   "metadata": {},
   "outputs": [
    {
     "name": "stdout",
     "output_type": "stream",
     "text": [
      "\u001b[0;31mSignature:\u001b[0m\n",
      "\u001b[0mdf\u001b[0m\u001b[0;34m.\u001b[0m\u001b[0mtz_localize\u001b[0m\u001b[0;34m(\u001b[0m\u001b[0;34m\u001b[0m\n",
      "\u001b[0;34m\u001b[0m    \u001b[0mtz\u001b[0m\u001b[0;34m,\u001b[0m\u001b[0;34m\u001b[0m\n",
      "\u001b[0;34m\u001b[0m    \u001b[0maxis\u001b[0m\u001b[0;34m:\u001b[0m \u001b[0;34m'Axis'\u001b[0m \u001b[0;34m=\u001b[0m \u001b[0;36m0\u001b[0m\u001b[0;34m,\u001b[0m\u001b[0;34m\u001b[0m\n",
      "\u001b[0;34m\u001b[0m    \u001b[0mlevel\u001b[0m\u001b[0;34m=\u001b[0m\u001b[0;32mNone\u001b[0m\u001b[0;34m,\u001b[0m\u001b[0;34m\u001b[0m\n",
      "\u001b[0;34m\u001b[0m    \u001b[0mcopy\u001b[0m\u001b[0;34m:\u001b[0m \u001b[0;34m'bool_t | None'\u001b[0m \u001b[0;34m=\u001b[0m \u001b[0;32mNone\u001b[0m\u001b[0;34m,\u001b[0m\u001b[0;34m\u001b[0m\n",
      "\u001b[0;34m\u001b[0m    \u001b[0mambiguous\u001b[0m\u001b[0;34m:\u001b[0m \u001b[0;34m'TimeAmbiguous'\u001b[0m \u001b[0;34m=\u001b[0m \u001b[0;34m'raise'\u001b[0m\u001b[0;34m,\u001b[0m\u001b[0;34m\u001b[0m\n",
      "\u001b[0;34m\u001b[0m    \u001b[0mnonexistent\u001b[0m\u001b[0;34m:\u001b[0m \u001b[0;34m'TimeNonexistent'\u001b[0m \u001b[0;34m=\u001b[0m \u001b[0;34m'raise'\u001b[0m\u001b[0;34m,\u001b[0m\u001b[0;34m\u001b[0m\n",
      "\u001b[0;34m\u001b[0m\u001b[0;34m)\u001b[0m \u001b[0;34m->\u001b[0m \u001b[0;34m'Self'\u001b[0m\u001b[0;34m\u001b[0m\u001b[0;34m\u001b[0m\u001b[0m\n",
      "\u001b[0;31mDocstring:\u001b[0m\n",
      "Localize tz-naive index of a Series or DataFrame to target time zone.\n",
      "\n",
      "This operation localizes the Index. To localize the values in a\n",
      "timezone-naive Series, use :meth:`Series.dt.tz_localize`.\n",
      "\n",
      "Parameters\n",
      "----------\n",
      "tz : str or tzinfo or None\n",
      "    Time zone to localize. Passing ``None`` will remove the\n",
      "    time zone information and preserve local time.\n",
      "axis : {0 or 'index', 1 or 'columns'}, default 0\n",
      "    The axis to localize\n",
      "level : int, str, default None\n",
      "    If axis ia a MultiIndex, localize a specific level. Otherwise\n",
      "    must be None.\n",
      "copy : bool, default True\n",
      "    Also make a copy of the underlying data.\n",
      "\n",
      "    .. note::\n",
      "        The `copy` keyword will change behavior in pandas 3.0.\n",
      "        `Copy-on-Write\n",
      "        <https://pandas.pydata.org/docs/dev/user_guide/copy_on_write.html>`__\n",
      "        will be enabled by default, which means that all methods with a\n",
      "        `copy` keyword will use a lazy copy mechanism to defer the copy and\n",
      "        ignore the `copy` keyword. The `copy` keyword will be removed in a\n",
      "        future version of pandas.\n",
      "\n",
      "        You can already get the future behavior and improvements through\n",
      "        enabling copy on write ``pd.options.mode.copy_on_write = True``\n",
      "ambiguous : 'infer', bool-ndarray, 'NaT', default 'raise'\n",
      "    When clocks moved backward due to DST, ambiguous times may arise.\n",
      "    For example in Central European Time (UTC+01), when going from\n",
      "    03:00 DST to 02:00 non-DST, 02:30:00 local time occurs both at\n",
      "    00:30:00 UTC and at 01:30:00 UTC. In such a situation, the\n",
      "    `ambiguous` parameter dictates how ambiguous times should be\n",
      "    handled.\n",
      "\n",
      "    - 'infer' will attempt to infer fall dst-transition hours based on\n",
      "      order\n",
      "    - bool-ndarray where True signifies a DST time, False designates\n",
      "      a non-DST time (note that this flag is only applicable for\n",
      "      ambiguous times)\n",
      "    - 'NaT' will return NaT where there are ambiguous times\n",
      "    - 'raise' will raise an AmbiguousTimeError if there are ambiguous\n",
      "      times.\n",
      "nonexistent : str, default 'raise'\n",
      "    A nonexistent time does not exist in a particular timezone\n",
      "    where clocks moved forward due to DST. Valid values are:\n",
      "\n",
      "    - 'shift_forward' will shift the nonexistent time forward to the\n",
      "      closest existing time\n",
      "    - 'shift_backward' will shift the nonexistent time backward to the\n",
      "      closest existing time\n",
      "    - 'NaT' will return NaT where there are nonexistent times\n",
      "    - timedelta objects will shift nonexistent times by the timedelta\n",
      "    - 'raise' will raise an NonExistentTimeError if there are\n",
      "      nonexistent times.\n",
      "\n",
      "Returns\n",
      "-------\n",
      "Series/DataFrame\n",
      "    Same type as the input.\n",
      "\n",
      "Raises\n",
      "------\n",
      "TypeError\n",
      "    If the TimeSeries is tz-aware and tz is not None.\n",
      "\n",
      "Examples\n",
      "--------\n",
      "Localize local times:\n",
      "\n",
      ">>> s = pd.Series(\n",
      "...     [1],\n",
      "...     index=pd.DatetimeIndex(['2018-09-15 01:30:00']),\n",
      "... )\n",
      ">>> s.tz_localize('CET')\n",
      "2018-09-15 01:30:00+02:00    1\n",
      "dtype: int64\n",
      "\n",
      "Pass None to convert to tz-naive index and preserve local time:\n",
      "\n",
      ">>> s = pd.Series([1],\n",
      "...               index=pd.DatetimeIndex(['2018-09-15 01:30:00+02:00']))\n",
      ">>> s.tz_localize(None)\n",
      "2018-09-15 01:30:00    1\n",
      "dtype: int64\n",
      "\n",
      "Be careful with DST changes. When there is sequential data, pandas\n",
      "can infer the DST time:\n",
      "\n",
      ">>> s = pd.Series(range(7),\n",
      "...               index=pd.DatetimeIndex(['2018-10-28 01:30:00',\n",
      "...                                       '2018-10-28 02:00:00',\n",
      "...                                       '2018-10-28 02:30:00',\n",
      "...                                       '2018-10-28 02:00:00',\n",
      "...                                       '2018-10-28 02:30:00',\n",
      "...                                       '2018-10-28 03:00:00',\n",
      "...                                       '2018-10-28 03:30:00']))\n",
      ">>> s.tz_localize('CET', ambiguous='infer')\n",
      "2018-10-28 01:30:00+02:00    0\n",
      "2018-10-28 02:00:00+02:00    1\n",
      "2018-10-28 02:30:00+02:00    2\n",
      "2018-10-28 02:00:00+01:00    3\n",
      "2018-10-28 02:30:00+01:00    4\n",
      "2018-10-28 03:00:00+01:00    5\n",
      "2018-10-28 03:30:00+01:00    6\n",
      "dtype: int64\n",
      "\n",
      "In some cases, inferring the DST is impossible. In such cases, you can\n",
      "pass an ndarray to the ambiguous parameter to set the DST explicitly\n",
      "\n",
      ">>> s = pd.Series(range(3),\n",
      "...               index=pd.DatetimeIndex(['2018-10-28 01:20:00',\n",
      "...                                       '2018-10-28 02:36:00',\n",
      "...                                       '2018-10-28 03:46:00']))\n",
      ">>> s.tz_localize('CET', ambiguous=np.array([True, True, False]))\n",
      "2018-10-28 01:20:00+02:00    0\n",
      "2018-10-28 02:36:00+02:00    1\n",
      "2018-10-28 03:46:00+01:00    2\n",
      "dtype: int64\n",
      "\n",
      "If the DST transition causes nonexistent times, you can shift these\n",
      "dates forward or backward with a timedelta object or `'shift_forward'`\n",
      "or `'shift_backward'`.\n",
      "\n",
      ">>> s = pd.Series(range(2),\n",
      "...               index=pd.DatetimeIndex(['2015-03-29 02:30:00',\n",
      "...                                       '2015-03-29 03:30:00']))\n",
      ">>> s.tz_localize('Europe/Warsaw', nonexistent='shift_forward')\n",
      "2015-03-29 03:00:00+02:00    0\n",
      "2015-03-29 03:30:00+02:00    1\n",
      "dtype: int64\n",
      ">>> s.tz_localize('Europe/Warsaw', nonexistent='shift_backward')\n",
      "2015-03-29 01:59:59.999999999+01:00    0\n",
      "2015-03-29 03:30:00+02:00              1\n",
      "dtype: int64\n",
      ">>> s.tz_localize('Europe/Warsaw', nonexistent=pd.Timedelta('1h'))\n",
      "2015-03-29 03:30:00+02:00    0\n",
      "2015-03-29 03:30:00+02:00    1\n",
      "dtype: int64\n",
      "\u001b[0;31mFile:\u001b[0m      ~/.local/lib/python3.10/site-packages/pandas/core/generic.py\n",
      "\u001b[0;31mType:\u001b[0m      method"
     ]
    }
   ],
   "source": [
    "df.tz_localize?"
   ]
  },
  {
   "cell_type": "code",
   "execution_count": 4,
   "metadata": {},
   "outputs": [],
   "source": [
    "def get_so2(start_date: str='2018-01-01', end_date: str='2018-01-01', useit: bool=True, **kwargs):\n",
    "    print(\"something\")"
   ]
  },
  {
   "cell_type": "code",
   "execution_count": 10,
   "metadata": {},
   "outputs": [
    {
     "name": "stdout",
     "output_type": "stream",
     "text": [
      "\u001b[0;31mInit signature:\u001b[0m\n",
      "\u001b[0mpd\u001b[0m\u001b[0;34m.\u001b[0m\u001b[0mDataFrame\u001b[0m\u001b[0;34m(\u001b[0m\u001b[0;34m\u001b[0m\n",
      "\u001b[0;34m\u001b[0m    \u001b[0mdata\u001b[0m\u001b[0;34m=\u001b[0m\u001b[0;32mNone\u001b[0m\u001b[0;34m,\u001b[0m\u001b[0;34m\u001b[0m\n",
      "\u001b[0;34m\u001b[0m    \u001b[0mindex\u001b[0m\u001b[0;34m:\u001b[0m \u001b[0;34m'Axes | None'\u001b[0m \u001b[0;34m=\u001b[0m \u001b[0;32mNone\u001b[0m\u001b[0;34m,\u001b[0m\u001b[0;34m\u001b[0m\n",
      "\u001b[0;34m\u001b[0m    \u001b[0mcolumns\u001b[0m\u001b[0;34m:\u001b[0m \u001b[0;34m'Axes | None'\u001b[0m \u001b[0;34m=\u001b[0m \u001b[0;32mNone\u001b[0m\u001b[0;34m,\u001b[0m\u001b[0;34m\u001b[0m\n",
      "\u001b[0;34m\u001b[0m    \u001b[0mdtype\u001b[0m\u001b[0;34m:\u001b[0m \u001b[0;34m'Dtype | None'\u001b[0m \u001b[0;34m=\u001b[0m \u001b[0;32mNone\u001b[0m\u001b[0;34m,\u001b[0m\u001b[0;34m\u001b[0m\n",
      "\u001b[0;34m\u001b[0m    \u001b[0mcopy\u001b[0m\u001b[0;34m:\u001b[0m \u001b[0;34m'bool | None'\u001b[0m \u001b[0;34m=\u001b[0m \u001b[0;32mNone\u001b[0m\u001b[0;34m,\u001b[0m\u001b[0;34m\u001b[0m\n",
      "\u001b[0;34m\u001b[0m\u001b[0;34m)\u001b[0m \u001b[0;34m->\u001b[0m \u001b[0;34m'None'\u001b[0m\u001b[0;34m\u001b[0m\u001b[0;34m\u001b[0m\u001b[0m\n",
      "\u001b[0;31mDocstring:\u001b[0m     \n",
      "Two-dimensional, size-mutable, potentially heterogeneous tabular data.\n",
      "\n",
      "Data structure also contains labeled axes (rows and columns).\n",
      "Arithmetic operations align on both row and column labels. Can be\n",
      "thought of as a dict-like container for Series objects. The primary\n",
      "pandas data structure.\n",
      "\n",
      "Parameters\n",
      "----------\n",
      "data : ndarray (structured or homogeneous), Iterable, dict, or DataFrame\n",
      "    Dict can contain Series, arrays, constants, dataclass or list-like objects. If\n",
      "    data is a dict, column order follows insertion-order. If a dict contains Series\n",
      "    which have an index defined, it is aligned by its index. This alignment also\n",
      "    occurs if data is a Series or a DataFrame itself. Alignment is done on\n",
      "    Series/DataFrame inputs.\n",
      "\n",
      "    If data is a list of dicts, column order follows insertion-order.\n",
      "\n",
      "index : Index or array-like\n",
      "    Index to use for resulting frame. Will default to RangeIndex if\n",
      "    no indexing information part of input data and no index provided.\n",
      "columns : Index or array-like\n",
      "    Column labels to use for resulting frame when data does not have them,\n",
      "    defaulting to RangeIndex(0, 1, 2, ..., n). If data contains column labels,\n",
      "    will perform column selection instead.\n",
      "dtype : dtype, default None\n",
      "    Data type to force. Only a single dtype is allowed. If None, infer.\n",
      "copy : bool or None, default None\n",
      "    Copy data from inputs.\n",
      "    For dict data, the default of None behaves like ``copy=True``.  For DataFrame\n",
      "    or 2d ndarray input, the default of None behaves like ``copy=False``.\n",
      "    If data is a dict containing one or more Series (possibly of different dtypes),\n",
      "    ``copy=False`` will ensure that these inputs are not copied.\n",
      "\n",
      "    .. versionchanged:: 1.3.0\n",
      "\n",
      "See Also\n",
      "--------\n",
      "DataFrame.from_records : Constructor from tuples, also record arrays.\n",
      "DataFrame.from_dict : From dicts of Series, arrays, or dicts.\n",
      "read_csv : Read a comma-separated values (csv) file into DataFrame.\n",
      "read_table : Read general delimited file into DataFrame.\n",
      "read_clipboard : Read text from clipboard into DataFrame.\n",
      "\n",
      "Notes\n",
      "-----\n",
      "Please reference the :ref:`User Guide <basics.dataframe>` for more information.\n",
      "\n",
      "Examples\n",
      "--------\n",
      "Constructing DataFrame from a dictionary.\n",
      "\n",
      ">>> d = {'col1': [1, 2], 'col2': [3, 4]}\n",
      ">>> df = pd.DataFrame(data=d)\n",
      ">>> df\n",
      "   col1  col2\n",
      "0     1     3\n",
      "1     2     4\n",
      "\n",
      "Notice that the inferred dtype is int64.\n",
      "\n",
      ">>> df.dtypes\n",
      "col1    int64\n",
      "col2    int64\n",
      "dtype: object\n",
      "\n",
      "To enforce a single dtype:\n",
      "\n",
      ">>> df = pd.DataFrame(data=d, dtype=np.int8)\n",
      ">>> df.dtypes\n",
      "col1    int8\n",
      "col2    int8\n",
      "dtype: object\n",
      "\n",
      "Constructing DataFrame from a dictionary including Series:\n",
      "\n",
      ">>> d = {'col1': [0, 1, 2, 3], 'col2': pd.Series([2, 3], index=[2, 3])}\n",
      ">>> pd.DataFrame(data=d, index=[0, 1, 2, 3])\n",
      "   col1  col2\n",
      "0     0   NaN\n",
      "1     1   NaN\n",
      "2     2   2.0\n",
      "3     3   3.0\n",
      "\n",
      "Constructing DataFrame from numpy ndarray:\n",
      "\n",
      ">>> df2 = pd.DataFrame(np.array([[1, 2, 3], [4, 5, 6], [7, 8, 9]]),\n",
      "...                    columns=['a', 'b', 'c'])\n",
      ">>> df2\n",
      "   a  b  c\n",
      "0  1  2  3\n",
      "1  4  5  6\n",
      "2  7  8  9\n",
      "\n",
      "Constructing DataFrame from a numpy ndarray that has labeled columns:\n",
      "\n",
      ">>> data = np.array([(1, 2, 3), (4, 5, 6), (7, 8, 9)],\n",
      "...                 dtype=[(\"a\", \"i4\"), (\"b\", \"i4\"), (\"c\", \"i4\")])\n",
      ">>> df3 = pd.DataFrame(data, columns=['c', 'a'])\n",
      "...\n",
      ">>> df3\n",
      "   c  a\n",
      "0  3  1\n",
      "1  6  4\n",
      "2  9  7\n",
      "\n",
      "Constructing DataFrame from dataclass:\n",
      "\n",
      ">>> from dataclasses import make_dataclass\n",
      ">>> Point = make_dataclass(\"Point\", [(\"x\", int), (\"y\", int)])\n",
      ">>> pd.DataFrame([Point(0, 0), Point(0, 3), Point(2, 3)])\n",
      "   x  y\n",
      "0  0  0\n",
      "1  0  3\n",
      "2  2  3\n",
      "\n",
      "Constructing DataFrame from Series/DataFrame:\n",
      "\n",
      ">>> ser = pd.Series([1, 2, 3], index=[\"a\", \"b\", \"c\"])\n",
      ">>> df = pd.DataFrame(data=ser, index=[\"a\", \"c\"])\n",
      ">>> df\n",
      "   0\n",
      "a  1\n",
      "c  3\n",
      "\n",
      ">>> df1 = pd.DataFrame([1, 2, 3], index=[\"a\", \"b\", \"c\"], columns=[\"x\"])\n",
      ">>> df2 = pd.DataFrame(data=df1, index=[\"a\", \"c\"])\n",
      ">>> df2\n",
      "   x\n",
      "a  1\n",
      "c  3\n",
      "\u001b[0;31mFile:\u001b[0m           ~/.local/lib/python3.10/site-packages/pandas/core/frame.py\n",
      "\u001b[0;31mType:\u001b[0m           type\n",
      "\u001b[0;31mSubclasses:\u001b[0m     SubclassedDataFrame"
     ]
    }
   ],
   "source": [
    "pd.DataFrame?"
   ]
  },
  {
   "cell_type": "code",
   "execution_count": 5,
   "metadata": {},
   "outputs": [],
   "source": [
    "sig = inspect.signature(get_so2)"
   ]
  },
  {
   "cell_type": "code",
   "execution_count": 6,
   "metadata": {},
   "outputs": [
    {
     "data": {
      "text/plain": [
       "mappingproxy({'start_date': <Parameter \"start_date: str = '2018-01-01'\">,\n",
       "              'end_date': <Parameter \"end_date: str = '2018-01-01'\">,\n",
       "              'useit': <Parameter \"useit: bool = True\">,\n",
       "              'kwargs': <Parameter \"**kwargs\">})"
      ]
     },
     "execution_count": 6,
     "metadata": {},
     "output_type": "execute_result"
    }
   ],
   "source": [
    "sig.parameters"
   ]
  },
  {
   "cell_type": "code",
   "execution_count": 9,
   "metadata": {},
   "outputs": [
    {
     "data": {
      "text/plain": [
       "'get_so2'"
      ]
     },
     "execution_count": 9,
     "metadata": {},
     "output_type": "execute_result"
    }
   ],
   "source": [
    "get_so2.__name__"
   ]
  },
  {
   "cell_type": "code",
   "execution_count": 1,
   "metadata": {},
   "outputs": [
    {
     "data": {
      "text/plain": [
       "2"
      ]
     },
     "execution_count": 1,
     "metadata": {},
     "output_type": "execute_result"
    }
   ],
   "source": [
    "a = None\n",
    "b = 2\n",
    "c = a if a else b\n",
    "c"
   ]
  },
  {
   "cell_type": "code",
   "execution_count": 2,
   "metadata": {},
   "outputs": [
    {
     "name": "stdout",
     "output_type": "stream",
     "text": [
      "\u001b[0;31mDocstring:\u001b[0m\n",
      "getattr(object, name[, default]) -> value\n",
      "\n",
      "Get a named attribute from an object; getattr(x, 'y') is equivalent to x.y.\n",
      "When a default argument is given, it is returned when the attribute doesn't\n",
      "exist; without it, an exception is raised in that case.\n",
      "\u001b[0;31mType:\u001b[0m      builtin_function_or_method"
     ]
    }
   ],
   "source": [
    "getattr?"
   ]
  },
  {
   "cell_type": "code",
   "execution_count": 4,
   "metadata": {},
   "outputs": [
    {
     "name": "stdout",
     "output_type": "stream",
     "text": [
      "2\n",
      "blub\n"
     ]
    }
   ],
   "source": [
    "def test_func(a):\n",
    "    print(getattr(test_func, a, 'blub'))\n",
    "\n",
    "setattr(test_func, 'a', 2)\n",
    "test_func('a')\n",
    "test_func('b')"
   ]
  },
  {
   "cell_type": "code",
   "execution_count": null,
   "metadata": {},
   "outputs": [],
   "source": []
  }
 ],
 "metadata": {
  "kernelspec": {
   "display_name": "Python 3",
   "language": "python",
   "name": "python3"
  },
  "language_info": {
   "codemirror_mode": {
    "name": "ipython",
    "version": 3
   },
   "file_extension": ".py",
   "mimetype": "text/x-python",
   "name": "python",
   "nbconvert_exporter": "python",
   "pygments_lexer": "ipython3",
   "version": "3.10.16"
  }
 },
 "nbformat": 4,
 "nbformat_minor": 2
}
