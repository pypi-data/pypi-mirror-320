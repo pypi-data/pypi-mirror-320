{
 "cells": [
  {
   "cell_type": "code",
   "execution_count": 9,
   "metadata": {},
   "outputs": [
    {
     "name": "stdout",
     "output_type": "stream",
     "text": [
      "Scipy method took 2.5931 seconds\n"
     ]
    }
   ],
   "source": [
    "import numpy as np\n",
    "from scipy import stats\n",
    "import time\n",
    "\n",
    "def percentile_ranks_scipy(arr):\n",
    "    return stats.rankdata(arr, method=\"average\") / len(arr)\n",
    "\n",
    "# Generate a large random array for testing\n",
    "arr = np.random.rand(4000*4000)\n",
    "\n",
    "# Time the scipy method\n",
    "start_time = time.time()\n",
    "percentiles_scipy = percentile_ranks_scipy(arr)\n",
    "print(f\"Scipy method took {time.time() - start_time:0.4f} seconds\")\n"
   ]
  },
  {
   "cell_type": "code",
   "execution_count": 10,
   "metadata": {},
   "outputs": [
    {
     "name": "stdout",
     "output_type": "stream",
     "text": [
      "NumPy method took 2.1269 seconds\n"
     ]
    }
   ],
   "source": [
    "import numpy as np\n",
    "import time\n",
    "\n",
    "def percentile_ranks_numpy(arr):\n",
    "    sorted_indices = np.argsort(arr)\n",
    "    ranks = np.empty_like(sorted_indices)\n",
    "    ranks[sorted_indices] = np.arange(len(arr))\n",
    "    percentiles = (ranks + 1) / float(len(arr))  # +1 to make ranks start from 1\n",
    "    return percentiles\n",
    "\n",
    "# Time the numpy method\n",
    "start_time = time.time()\n",
    "percentiles_numpy = percentile_ranks_numpy(arr)\n",
    "print(f\"NumPy method took {time.time() - start_time:0.4f} seconds\")\n"
   ]
  },
  {
   "cell_type": "code",
   "execution_count": 11,
   "metadata": {},
   "outputs": [
    {
     "name": "stdout",
     "output_type": "stream",
     "text": [
      "argsort method took 2.2070 seconds\n"
     ]
    }
   ],
   "source": [
    "import numpy as np\n",
    "\n",
    "def percentile_ranks_fast(arr):\n",
    "    sorted_indices = np.argsort(arr)\n",
    "    ranks = np.empty_like(sorted_indices)\n",
    "    ranks[sorted_indices] = np.arange(1, len(arr) + 1)  # Ranks start from 1\n",
    "    percentiles = ranks / float(len(arr))\n",
    "    return percentiles\n",
    "\n",
    "# Time the numpy method\n",
    "start_time = time.time()\n",
    "percentiles_numpy = percentile_ranks_fast(arr)\n",
    "print(f\"argsort method took {time.time() - start_time:0.4f} seconds\")\n"
   ]
  },
  {
   "cell_type": "code",
   "execution_count": 12,
   "metadata": {},
   "outputs": [
    {
     "name": "stdout",
     "output_type": "stream",
     "text": [
      "inplace method took 2.1712 seconds\n"
     ]
    }
   ],
   "source": [
    "import numpy as np\n",
    "\n",
    "def percentile_ranks_inplace(arr):\n",
    "    sorted_indices = np.argsort(arr)\n",
    "    arr[sorted_indices] = np.arange(1, len(arr) + 1)  # Ranks start from 1\n",
    "    arr = arr / float(len(arr))\n",
    "    return arr\n",
    "\n",
    "# Time the numpy method\n",
    "start_time = time.time()\n",
    "percentiles_inplace = percentile_ranks_fast(arr)\n",
    "print(f\"inplace method took {time.time() - start_time:0.4f} seconds\")\n"
   ]
  },
  {
   "cell_type": "code",
   "execution_count": 14,
   "metadata": {},
   "outputs": [
    {
     "name": "stdout",
     "output_type": "stream",
     "text": [
      "Scipy method: 2.555591 sec ± 0.038955 sec\n",
      "Numpy method: 2.094897 sec ± 0.033403 sec\n",
      "In-place method: 2.118528 sec ± 0.044289 sec\n"
     ]
    }
   ],
   "source": [
    "import numpy as np\n",
    "import timeit\n",
    "\n",
    "def percentile_ranks_scipy(arr):\n",
    "    from scipy import stats\n",
    "    return stats.rankdata(arr, method=\"average\") / len(arr)\n",
    "\n",
    "def percentile_ranks_numpy(arr):\n",
    "    sorted_indices = np.argsort(arr)\n",
    "    ranks = np.empty_like(sorted_indices)\n",
    "    ranks[sorted_indices] = np.arange(1, len(arr) + 1)  # Ranks start from 1\n",
    "    percentiles = ranks / float(len(arr))\n",
    "    return percentiles\n",
    "\n",
    "def percentile_ranks_inplace(arr):\n",
    "    sorted_indices = np.argsort(arr)\n",
    "    arr[sorted_indices] = np.arange(1, len(arr) + 1)  # Ranks start from 1\n",
    "    arr = arr / float(len(arr))\n",
    "    return arr\n",
    "\n",
    "# Generate a large random array for testing\n",
    "arr = np.random.rand(4000*4000)\n",
    "\n",
    "# Define a wrapper to test with timeit\n",
    "def test_scipy():\n",
    "    percentile_ranks_scipy(arr.copy())\n",
    "\n",
    "def test_numpy():\n",
    "    percentile_ranks_numpy(arr.copy())\n",
    "\n",
    "def test_inplace():\n",
    "    percentile_ranks_inplace(arr.copy())\n",
    "\n",
    "# Number of times to repeat the test\n",
    "num_repeats = 10\n",
    "\n",
    "# Measure execution time using timeit.repeat\n",
    "scipy_times = timeit.repeat(\"test_scipy()\", globals=globals(), repeat=num_repeats, number=1)\n",
    "numpy_times = timeit.repeat(\"test_numpy()\", globals=globals(), repeat=num_repeats, number=1)\n",
    "inplace_times = timeit.repeat(\"test_inplace()\", globals=globals(), repeat=num_repeats, number=1)\n",
    "\n",
    "# Print the statistics\n",
    "print(f\"Scipy method: {np.mean(scipy_times):.6f} sec ± {np.std(scipy_times):.6f} sec\")\n",
    "print(f\"Numpy method: {np.mean(numpy_times):.6f} sec ± {np.std(numpy_times):.6f} sec\")\n",
    "print(f\"In-place method: {np.mean(inplace_times):.6f} sec ± {np.std(inplace_times):.6f} sec\")\n"
   ]
  }
 ],
 "metadata": {
  "kernelspec": {
   "display_name": "sunpy_again",
   "language": "python",
   "name": "python3"
  },
  "language_info": {
   "codemirror_mode": {
    "name": "ipython",
    "version": 3
   },
   "file_extension": ".py",
   "mimetype": "text/x-python",
   "name": "python",
   "nbconvert_exporter": "python",
   "pygments_lexer": "ipython3",
   "version": "3.11.5"
  }
 },
 "nbformat": 4,
 "nbformat_minor": 2
}
