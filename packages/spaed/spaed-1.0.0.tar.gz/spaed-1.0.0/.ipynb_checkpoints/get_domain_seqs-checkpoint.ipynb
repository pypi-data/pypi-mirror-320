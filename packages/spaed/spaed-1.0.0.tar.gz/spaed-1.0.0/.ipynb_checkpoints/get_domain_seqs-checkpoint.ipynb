{
 "cells": [
  {
   "cell_type": "code",
   "execution_count": null,
   "id": "d7c7ccc5-a0f6-4831-ad91-32c9004955a5",
   "metadata": {},
   "outputs": [],
   "source": [
    "# Load predictions file.\n",
    "# Load fasta file or folder\n",
    "# Fetch full sequence\n",
    "# Subset to keep domain\n",
    "\n",
    "# Main\n",
    "  # Load predictions file\n",
    "  # Load fasta if 1 fasta file\n",
    "  # For lysin in file\n",
    "    # Fetch sequence from fasta (whether 1 fasta file or folder of fastas)\n",
    "    # For domain in lysin\n",
    "      # Subset to keep domain\n",
    "      # Save to output fasta with appropriate header"
   ]
  },
  {
   "cell_type": "code",
   "execution_count": null,
   "id": "3bd1e104-65e8-4ccb-a6c1-71021ad4e6d1",
   "metadata": {},
   "outputs": [],
   "source": [
    "from Bio import SeqIO\n",
    "import os"
   ]
  },
  {
   "cell_type": "code",
   "execution_count": null,
   "id": "cd5fc9ef-b6de-4bdb-abd4-130aff33a00b",
   "metadata": {},
   "outputs": [],
   "source": [
    "def load_predictions(filename):\n",
    "    df = pd.read_csv(filename, index_col= 0)\n",
    "    df.index = df.index.astype(str)\n",
    "    df.linkers = df.linkers.astype(str)\n",
    "    df.disordered = df.disordered.astype(str)\n",
    "    df.domains = df.domains.astype(str)\n",
    "    return df"
   ]
  },
  {
   "cell_type": "code",
   "execution_count": null,
   "id": "c5b5adcc-b1bd-4bd2-9ebc-7491de479167",
   "metadata": {},
   "outputs": [],
   "source": [
    "def search_for_fasta(directory, name):\n",
    "    name = name.lower()\n",
    "    for root, dirs, files in os.walk(directory, topdown=True):\n",
    "        for e in files+dirs:\n",
    "            if os.path.splitext(e)[0].lower() == name:\n",
    "                if os.path.splitext(e)[1] in [\"faa\", \"fasta\", \"fa\"]:\n",
    "                    return os.path.join(root, e)\n",
    "\n",
    "    print(f\"No fasta file found for {name} with extension .fa, .faa, .fasta\")\n",
    "    return None"
   ]
  },
  {
   "cell_type": "code",
   "execution_count": null,
   "id": "81194f78-5699-4ed2-b19e-eb860545dd11",
   "metadata": {},
   "outputs": [],
   "source": [
    "def load_fasta(fasta_path, prot):\n",
    "    if prot != \"\":\n",
    "        fasta_path = os.path.join(fasta_path, f\"{prot}.{ext}\")\n",
    "    \n",
    "    seqs = dict()\n",
    "    with open(fasta_path) as f:\n",
    "        lines = f.readlines()\n",
    "        for i in range(0, len(lines)):\n",
    "            s=lines[i].strip()\n",
    "            if s[0] == '>':\n",
    "                key=s[1:]\n",
    "            else:\n",
    "                seqs[key] = s\n",
    "    return seqs"
   ]
  },
  {
   "cell_type": "code",
   "execution_count": null,
   "id": "1b0db539-d79c-44e8-a864-5bdef02ba523",
   "metadata": {},
   "outputs": [],
   "source": [
    "def load_fasta(fasta_path, prot):"
   ]
  },
  {
   "cell_type": "code",
   "execution_count": null,
   "id": "c7273626-eec4-4966-8907-e7b48aaa679e",
   "metadata": {},
   "outputs": [],
   "source": [
    "def get_seq(fasta_seqs, prot):"
   ]
  },
  {
   "cell_type": "code",
   "execution_count": null,
   "id": "66418c61-14be-45c7-9cdd-43a15ec70524",
   "metadata": {},
   "outputs": [],
   "source": [
    "def subset_dom_seq(preds, prot, seq, mode=\"domains\"):\n",
    "    if preds.loc[prot, \"domains\"] == \"\": return []\n",
    "\n",
    "    dom_seqs = []\n",
    "    for dom in preds.loc[prot, \"domains\"].split(\";\"):\n",
    "        start_ind = int(dom.split(\"-\")[0])-1\n",
    "        end_ind = int(dom.split(\"-\")[1])-1\n",
    "\n",
    "        dom_seq = seq[start_ind:end_ind+1]\n",
    "        dom_seqs.append(dom_seq)\n",
    "        \n",
    "    return dom_seqs"
   ]
  },
  {
   "cell_type": "code",
   "execution_count": null,
   "id": "fd6adb0c-e9d4-4098-a6a5-946daa5624b7",
   "metadata": {},
   "outputs": [],
   "source": [
    "def save_to_fasta(dom_seqs, prot, output_path):\n",
    "    with open(output_path, \"a\") as f:\n",
    "        for i, dom in enumerate(dom_seqs):\n",
    "            header=f\">{prot}_{i}\"\n",
    "            f.write(header)\n",
    "            f.write(dom)"
   ]
  },
  {
   "cell_type": "code",
   "execution_count": null,
   "id": "155f0a8a-5efb-4b35-adaa-e60c311e80af",
   "metadata": {},
   "outputs": [],
   "source": [
    "def main(pred_path, fasta_path, output_path=\"predicted_domain_seqs.faa\", mode=\"domains\"):\n",
    "    preds = load_predictions(pred_path)\n",
    "\n",
    "    if os.path.isfile(fasta_path):\n",
    "        try: fasta_seqs = load_fasta(fasta_path, prot=\"\")\n",
    "        except: print(f\"Fasta file not formatted correctly: {fasta_path}\")\n",
    "\n",
    "    if os.path.isfile(output_path):\n",
    "        print(\"Output file already exists and will be overwritten.\")\n",
    "        os.path.delete(output_path)\n",
    "\n",
    "    for prot in preds.index:\n",
    "        #fetch sequence from fasta\n",
    "        if os.path.isfile(fasta_path):\n",
    "            seq = get_seq(fasta_seqs, prot):\n",
    "        else:\n",
    "            fasta_seq = load_fasta(fasta_path, prot)\n",
    "            seq = get_seq(fasta_seq, prot)\n",
    "\n",
    "        #subset domains from sequence\n",
    "        dom_seqs = subset_dom_seq(preds, prot, seq)\n",
    "\n",
    "        #save to output fasta file\n",
    "        save_to_fasta(dom_seqs, prot, output_path)"
   ]
  }
 ],
 "metadata": {
  "kernelspec": {
   "display_name": "Python 3 (ipykernel)",
   "language": "python",
   "name": "python3"
  },
  "language_info": {
   "codemirror_mode": {
    "name": "ipython",
    "version": 3
   },
   "file_extension": ".py",
   "mimetype": "text/x-python",
   "name": "python",
   "nbconvert_exporter": "python",
   "pygments_lexer": "ipython3",
   "version": "3.10.14"
  }
 },
 "nbformat": 4,
 "nbformat_minor": 5
}
