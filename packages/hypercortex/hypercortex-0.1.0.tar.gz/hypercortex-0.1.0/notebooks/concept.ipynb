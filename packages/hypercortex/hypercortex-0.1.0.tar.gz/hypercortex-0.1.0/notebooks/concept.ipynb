{
 "cells": [
  {
   "cell_type": "code",
   "execution_count": 12,
   "id": "3235be3d-4f45-4341-8e67-c8b61734b51b",
   "metadata": {},
   "outputs": [],
   "source": [
    "from nozzle import hello"
   ]
  },
  {
   "cell_type": "code",
   "execution_count": 13,
   "id": "dabda63e",
   "metadata": {},
   "outputs": [
    {
     "data": {
      "text/plain": [
       "\"Hello from nozzle! It's time to test whether black worked. \""
      ]
     },
     "execution_count": 13,
     "metadata": {},
     "output_type": "execute_result"
    }
   ],
   "source": [
    "hello()"
   ]
  }
 ],
 "metadata": {
  "kernelspec": {
   "display_name": "Python 3 (ipykernel)",
   "language": "python",
   "name": "python3"
  },
  "language_info": {
   "codemirror_mode": {
    "name": "ipython",
    "version": 3
   },
   "file_extension": ".py",
   "mimetype": "text/x-python",
   "name": "python",
   "nbconvert_exporter": "python",
   "pygments_lexer": "ipython3",
   "version": "3.13.1"
  }
 },
 "nbformat": 4,
 "nbformat_minor": 5
}
