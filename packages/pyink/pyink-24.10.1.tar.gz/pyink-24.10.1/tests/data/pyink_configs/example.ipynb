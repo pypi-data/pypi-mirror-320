{
  "cells": [
   {
    "cell_type": "markdown",
    "metadata": {},
    "source": [
     "### Unformatted notebook"
    ]
   },
   {
    "cell_type": "code",
    "execution_count": null,
    "metadata": {},
    "outputs": [],
    "source": [
     " %%time\n",
     "\n",
     "a=1\n",
     "if a  <1 or a>1:\n",
     "    print(\"&<>\")\n"
    ]
   }
  ],
  "metadata": {
   "language_info": {
    "name": "python"
   }
  },
  "nbformat": 4,
  "nbformat_minor": 5
 }
