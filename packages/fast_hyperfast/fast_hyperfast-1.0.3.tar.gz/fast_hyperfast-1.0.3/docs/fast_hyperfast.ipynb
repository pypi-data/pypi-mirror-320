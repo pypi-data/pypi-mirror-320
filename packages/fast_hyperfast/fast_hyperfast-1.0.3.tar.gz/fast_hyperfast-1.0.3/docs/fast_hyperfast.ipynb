{
 "cells": [
  {
   "cell_type": "markdown",
   "metadata": {},
   "source": [
    " # Fast Hyperfast ⚡\n",
    "\n",
    " This notebook shows some of the uses of the library [fast_hyperfast](https://github.com/Pablito2020/fast-hyperfast/).\n",
    "\n",
    " fast_hyperfast tries to improve the original [hyperfast library](https://github.com/AI-sandbox/HyperFast) based on the\n",
    "\n",
    " [hyperfast paper](https://arxiv.org/abs/2402.14335). It tries to improve it on the following aspects:\n",
    "\n",
    "  - Rewrote the code entirely to make an \"easy to know what you are doing\" library. You can easily see what you are training, infering, etc (in the original project you only have one sckit-learn like interface, which does all the \"magic\" for you)\n",
    "\n",
    "  - Allowing the user to save the main network weights\n",
    "\n",
    "  - Allowing the user to train the hypernetwork\n",
    "\n",
    "\n",
    "\n",
    " In this notebook we'll show how we create a main network from a random dataset from kaggle, fine tune it and save his weights so we can load it on a low-level device"
   ]
  },
  {
   "cell_type": "markdown",
   "metadata": {},
   "source": [
    " ## Installation\n",
    "\n",
    " We'll install [fast_hyperfast from pypy](https://pypi.org/project/fast_hyperfast/)\n",
    "\n",
    " If you want to see the code, [check it out on github](https://github.com/Pablito2020/fast-hyperfast/)"
   ]
  },
  {
   "cell_type": "code",
   "execution_count": null,
   "metadata": {
    "vscode": {
     "languageId": "shellscript"
    }
   },
   "outputs": [],
   "source": [
    "pip install fast_hyperfast"
   ]
  },
  {
   "cell_type": "markdown",
   "metadata": {},
   "source": [
    " ## Imports\n",
    "\n",
    " Import some utils from libraries, and the datasets from the /data folder"
   ]
  },
  {
   "cell_type": "code",
   "execution_count": null,
   "metadata": {},
   "outputs": [],
   "source": [
    "import numpy as np\n",
    "from sklearn.metrics import accuracy_score\n",
    "\n",
    "from hyperfast.hyper_network.model import HyperNetworkGenerator\n",
    "from hyperfast.utils.seed import seed_everything\n",
    "\n",
    "def get_phone_ds():\n",
    "    \"\"\"\n",
    "    Get Mobile Price Classification dataset from:\n",
    "    From: https://www.kaggle.com/datasets/iabhishekofficial/mobile-price-classification?resource=download&select=train.csv\n",
    "    \"\"\"\n",
    "    data_array = np.loadtxt(\"data/train.xls\", delimiter=\",\", dtype=str)\n",
    "    X_train = data_array[1:, :-1]  # All rows, all columns except the last\n",
    "    y_train = data_array[1:, -1]  # All rows, only the last column\n",
    "    X_train = np.array(X_train, dtype=np.number)\n",
    "    y_train = np.array(y_train)\n",
    "\n",
    "    data_array = np.loadtxt(\"data/test.xls\", delimiter=\",\", dtype=str)\n",
    "    X_test = data_array[1:, :-1]  # All rows, all columns except the last\n",
    "    y_test = data_array[1:, -1]  # All rows, only the last column\n",
    "    X_test = np.array(X_train, dtype=np.number)\n",
    "    y_test = np.array(y_train)\n",
    "    return X_train, y_train, X_test, y_test\n",
    "\n",
    "\n",
    "def get_original_ds():\n",
    "    X_train, y_train = (\n",
    "        np.load(\"data/hapmap1_X_train.npy\"),\n",
    "        np.load(\"data/hapmap1_y_train.npy\"),\n",
    "    )\n",
    "    X_test, y_test = (\n",
    "        np.load(\"data/hapmap1_X_test.npy\"),\n",
    "        np.load(\"data/hapmap1_y_test.npy\"),\n",
    "    )\n",
    "    return X_train, y_train, X_test, y_test\n"
   ]
  },
  {
   "cell_type": "markdown",
   "metadata": {},
   "source": [
    " ## Seed everything, for reproducibility"
   ]
  },
  {
   "cell_type": "code",
   "execution_count": null,
   "metadata": {},
   "outputs": [],
   "source": [
    "seed_everything(seed=3)\n"
   ]
  },
  {
   "cell_type": "markdown",
   "metadata": {},
   "source": [
    " ## Load the dataset"
   ]
  },
  {
   "cell_type": "code",
   "execution_count": null,
   "metadata": {},
   "outputs": [],
   "source": [
    "X_train, y_train, X_test, y_test = get_phone_ds()\n"
   ]
  },
  {
   "cell_type": "markdown",
   "metadata": {},
   "source": [
    " ## Load the hypernetwork\n",
    "\n",
    " Get the weights generated from the meta-training dataset that they give us on the paper.\n",
    "\n",
    " Then, generate a classifier (main network) given X_train\n",
    "\n",
    " We generate only one hypernetwork, and therefore we'll only generate one main network. In the paper they explain that they saw better results\n",
    "\n",
    " when using multiple ensembles (N hypernetworks that generate N main networks) and combine the results of the N main networks."
   ]
  },
  {
   "cell_type": "code",
   "execution_count": null,
   "metadata": {},
   "outputs": [],
   "source": [
    "hyper_network = HyperNetworkGenerator.load_from_pre_trained(n_ensemble=1)\n",
    "classifier = hyper_network.generate_classifier_for_dataset(X_train, y_train)\n"
   ]
  },
  {
   "cell_type": "markdown",
   "metadata": {},
   "source": [
    " ## Out of the box performance\n",
    "\n",
    " Okay, now let's see how well it performs!"
   ]
  },
  {
   "cell_type": "code",
   "execution_count": null,
   "metadata": {},
   "outputs": [],
   "source": [
    "predictions = classifier.predict(X_test)\n",
    "accuracy = accuracy_score(y_test, predictions)\n",
    "print(f\"Accuracy: {accuracy * 100:.2f}%\")\n"
   ]
  },
  {
   "cell_type": "markdown",
   "metadata": {},
   "source": [
    " ## Fine-Tunning the main network\n",
    "\n",
    " Maybe we can improve the accuracy if we fine tune the main network?\n",
    "\n",
    " (although 68.8 % for the first try wasn't bad at all...) Let's try it!"
   ]
  },
  {
   "cell_type": "code",
   "execution_count": null,
   "metadata": {},
   "outputs": [],
   "source": [
    "print(\"Fine tuning...\")\n",
    "classifier.fine_tune_networks(x=X_train, y=y_train, optimize_steps=64)\n",
    "predictions = classifier.predict(X_test)\n",
    "accuracy = accuracy_score(y_test, predictions)\n",
    "print(f\"Accuracy: {accuracy * 100:.2f}%\")\n"
   ]
  },
  {
   "cell_type": "markdown",
   "metadata": {},
   "source": [
    " ## Save the model\n",
    "\n",
    " Woah! That's pretty good! We can save the classifier to a .pkl file so we can run the\n",
    "\n",
    " main network on another low-level device (without having to load the whole hypernetwork!)"
   ]
  },
  {
   "cell_type": "code",
   "execution_count": null,
   "metadata": {},
   "outputs": [],
   "source": [
    "print(\"Saving the model\")\n",
    "classifier.save_model(path=\"./model.pkl\")\n"
   ]
  },
  {
   "cell_type": "markdown",
   "metadata": {},
   "source": [
    " ## Load the model\n",
    "\n",
    " Now, given we have the weights of the classifier, we can load it on a less-intensive devices like, for example a raspberry pi 4.\n",
    "\n",
    " An example of loading a model and predicting directly:"
   ]
  },
  {
   "cell_type": "code",
   "execution_count": null,
   "metadata": {},
   "outputs": [],
   "source": [
    "from hyperfast.main_network.model import MainNetworkClassifier\n",
    "classifier = MainNetworkClassifier.load_from_pre_trained(path=\"./model.pkl\")\n",
    "predictions = classifier.predict(X_test)\n",
    "\n",
    "# We should have the same accuracy as before\n",
    "accuracy = accuracy_score(y_test, predictions)\n",
    "print(f\"Accuracy: {accuracy * 100:.2f}%\")\n"
   ]
  }
 ],
 "metadata": {
  "language_info": {
   "codemirror_mode": {
    "name": "ipython",
    "version": 3
   },
   "file_extension": ".py",
   "mimetype": "text/x-python",
   "name": "python",
   "nbconvert_exporter": "python",
   "pygments_lexer": "ipython3",
   "version": 3
  }
 },
 "nbformat": 4,
 "nbformat_minor": 2
}
