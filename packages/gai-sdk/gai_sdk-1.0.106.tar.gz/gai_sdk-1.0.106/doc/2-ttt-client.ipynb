{
 "cells": [
  {
   "cell_type": "markdown",
   "metadata": {},
   "source": [
    "# TTT (Text-to-Text) Client"
   ]
  },
  {
   "cell_type": "markdown",
   "metadata": {},
   "source": [
    "## 1. Setup\n",
    "\n",
    "1. Clone the repository.\n",
    "\n",
    "```bash\n",
    "git clone https://github.com/kakkoii1337/gai-sdk\n",
    "```\n",
    "\n",
    "2. Initialize the SDK.\n",
    "\n",
    "```bash\n",
    "gai init\n",
    "```\n",
    "\n",
    "3. Download the Model.\n",
    "\n",
    "```bash\n",
    "gai pull llamacpp-dolphin\n",
    "```\n",
    "\n",
    "4. To test with openai model, create a `.env` file in the root directory of the project and add the following:\n",
    "\n",
    "```\n",
    "OPENAI_API_KEY=<REPLACE_WITH_YOUR_OPENAI_API_KEY>\n",
    "```\n"
   ]
  },
  {
   "cell_type": "markdown",
   "metadata": {},
   "source": [
    "## 2. Chat"
   ]
  },
  {
   "cell_type": "markdown",
   "metadata": {},
   "source": [
    "Local LLM"
   ]
  },
  {
   "cell_type": "code",
   "execution_count": 1,
   "metadata": {},
   "outputs": [
    {
     "name": "stdout",
     "output_type": "stream",
     "text": [
      "{'type': 'content', 'content': 'The old man, tired of his mundane life, found new purpose when he adopted a stray dog, and together they embarked on a series of thrilling adventures.'}\n"
     ]
    }
   ],
   "source": [
    "from gai.ttt.client.ttt_client import TTTClient\n",
    "client = TTTClient({\n",
    "    \"url\":\"http://localhost:12031/gen/v1/chat/completions\"\n",
    "})\n",
    "response=client(messages=[\n",
    "        {\"role\":\"user\",\"content\":\"tell me a one sentence story\"},\n",
    "        {\"role\":\"assistant\",\"content\":\"\"}\n",
    "    ],\n",
    "    stream=False\n",
    "    )\n",
    "print(response.extract())"
   ]
  },
  {
   "cell_type": "markdown",
   "metadata": {},
   "source": [
    "openai"
   ]
  },
  {
   "cell_type": "code",
   "execution_count": 2,
   "metadata": {},
   "outputs": [
    {
     "name": "stdout",
     "output_type": "stream",
     "text": [
      "{'type': 'content', 'content': 'In the midst of a stormy night, a timid, stray kitten found warmth and solace in the old, creaky house which was believed to be haunted.'}\n"
     ]
    }
   ],
   "source": [
    "from gai.ttt.client.ttt_client import TTTClient\n",
    "client = TTTClient({\n",
    "    \"engine\":\"openai\",\n",
    "    \"model\":\"gpt-4\"\n",
    "})\n",
    "response=client(messages=[\n",
    "        {\"role\":\"user\",\"content\":\"tell me a one sentence story\"},\n",
    "        {\"role\":\"assistant\",\"content\":\"\"}\n",
    "    ],\n",
    "    stream=False\n",
    "    )\n",
    "print(response.extract())"
   ]
  },
  {
   "cell_type": "markdown",
   "metadata": {},
   "source": [
    "## 3. Stream"
   ]
  },
  {
   "cell_type": "markdown",
   "metadata": {},
   "source": [
    "Local LLM"
   ]
  },
  {
   "cell_type": "code",
   "execution_count": 1,
   "metadata": {},
   "outputs": [
    {
     "name": "stdout",
     "output_type": "stream",
     "text": [
      "An old man sat alone in his house, his only companion the ticking clock on the wall."
     ]
    }
   ],
   "source": [
    "from gai.ttt.client.ttt_client import TTTClient\n",
    "client = TTTClient({\n",
    "        \"url\": \"http://localhost:12031/gen/v1/chat/completions\"\n",
    "})\n",
    "response=client(messages=[\n",
    "    {\"role\":\"user\",\"content\":\"tell me a one sentence story\"},\n",
    "    {\"role\":\"assistant\",\"content\":\"\"}\n",
    "    ],stream=True)\n",
    "for chunk in response:\n",
    "    chunk = chunk.extract()\n",
    "    print(chunk, end=\"\", flush=True)\n"
   ]
  },
  {
   "cell_type": "markdown",
   "metadata": {},
   "source": [
    "openai"
   ]
  },
  {
   "cell_type": "code",
   "execution_count": 6,
   "metadata": {},
   "outputs": [
    {
     "name": "stdout",
     "output_type": "stream",
     "text": [
      "\"In the hushed serenity of a snow-blanketed Christmas morning, grandpa finally received a hand-written letter from his long-lost brother, John, igniting hope and warmth in his old, weary heart.\""
     ]
    }
   ],
   "source": [
    "from gai.ttt.client.ttt_client import TTTClient\n",
    "client = TTTClient({\n",
    "    \"engine\":\"openai\",\n",
    "    \"model\":\"gpt-4\"\n",
    "})\n",
    "response=client(messages=[\n",
    "    {\"role\":\"user\",\"content\":\"tell me a one sentence story\"},\n",
    "    {\"role\":\"assistant\",\"content\":\"\"}\n",
    "],stream=True)\n",
    "for chunk in response:\n",
    "    chunk = chunk.extract()\n",
    "    if type(chunk) is str:\n",
    "        print(chunk, end=\"\", flush=True)\n"
   ]
  },
  {
   "cell_type": "markdown",
   "metadata": {},
   "source": [
    "## 4. Tool Call"
   ]
  },
  {
   "cell_type": "markdown",
   "metadata": {},
   "source": [
    "Local LLM"
   ]
  },
  {
   "cell_type": "code",
   "execution_count": 7,
   "metadata": {},
   "outputs": [
    {
     "name": "stdout",
     "output_type": "stream",
     "text": [
      "{'type': 'function', 'name': 'google', 'arguments': '{\"search_query\": \"current time in Singapore\"}'}\n"
     ]
    }
   ],
   "source": [
    "messages = [\n",
    "    {\"role\":\"user\",\"content\":\"What is the current time in Singapore?\"},\n",
    "    {\"role\":\"assistant\",\"content\":\"\"}\n",
    "]\n",
    "tool_choice=\"required\"\n",
    "tools = [\n",
    "    {\n",
    "        \"type\": \"function\",\n",
    "        \"function\": {\n",
    "            \"name\": \"google\",\n",
    "            \"description\": \"The 'google' function is a powerful tool that allows the AI to gather external information from the internet using Google search. It can be invoked when the AI needs to answer a question or provide information that requires up-to-date, comprehensive, and diverse sources which are not inherently known by the AI. For instance, it can be used to find current date, current news, weather updates, latest sports scores, trending topics, specific facts, or even the current date and time. The usage of this tool should be considered when the user's query implies or explicitly requests recent or wide-ranging data, or when the AI's inherent knowledge base may not have the required or most current information. The 'search_query' parameter should be a concise and accurate representation of the information needed.\",\n",
    "            \"parameters\": {\n",
    "                \"type\": \"object\",\n",
    "                \"properties\": {\n",
    "                    \"search_query\": {\n",
    "                        \"type\": \"string\",\n",
    "                        \"description\": \"The search query to search google with. For example, to find the current date or time, use 'current date' or 'current time' respectively.\"\n",
    "                    }\n",
    "                },\n",
    "                \"required\": [\"search_query\"]\n",
    "            }\n",
    "        }\n",
    "    }\n",
    "]\n",
    "from gai.ttt.client.ttt_client import TTTClient\n",
    "client = TTTClient({\n",
    "        \"url\": \"http://localhost:12031/gen/v1/chat/completions\"\n",
    "})\n",
    "response=client(messages=messages,stream=False,tool_choice=tool_choice,tools=tools)\n",
    "print(response.extract())\n"
   ]
  },
  {
   "cell_type": "markdown",
   "metadata": {},
   "source": [
    "openai"
   ]
  },
  {
   "cell_type": "code",
   "execution_count": 8,
   "metadata": {},
   "outputs": [
    {
     "name": "stdout",
     "output_type": "stream",
     "text": [
      "{'type': 'function', 'name': 'google', 'arguments': '{\\n  \"search_query\": \"current time in Singapore\"\\n}'}\n"
     ]
    }
   ],
   "source": [
    "messages = [\n",
    "    {\"role\":\"user\",\"content\":\"What is the current time in Singapore?\"},\n",
    "    {\"role\":\"assistant\",\"content\":\"\"}\n",
    "]\n",
    "tool_choice=\"required\"\n",
    "tools = [\n",
    "    {\n",
    "        \"type\": \"function\",\n",
    "        \"function\": {\n",
    "            \"name\": \"google\",\n",
    "            \"description\": \"The 'google' function is a powerful tool that allows the AI to gather external information from the internet using Google search. It can be invoked when the AI needs to answer a question or provide information that requires up-to-date, comprehensive, and diverse sources which are not inherently known by the AI. For instance, it can be used to find current date, current news, weather updates, latest sports scores, trending topics, specific facts, or even the current date and time. The usage of this tool should be considered when the user's query implies or explicitly requests recent or wide-ranging data, or when the AI's inherent knowledge base may not have the required or most current information. The 'search_query' parameter should be a concise and accurate representation of the information needed.\",\n",
    "            \"parameters\": {\n",
    "                \"type\": \"object\",\n",
    "                \"properties\": {\n",
    "                    \"search_query\": {\n",
    "                        \"type\": \"string\",\n",
    "                        \"description\": \"The search query to search google with. For example, to find the current date or time, use 'current date' or 'current time' respectively.\"\n",
    "                    }\n",
    "                },\n",
    "                \"required\": [\"search_query\"]\n",
    "            }\n",
    "        }\n",
    "    }\n",
    "]\n",
    "from gai.ttt.client.ttt_client import TTTClient\n",
    "client = TTTClient({\n",
    "    \"engine\":\"openai\",\n",
    "    \"model\":\"gpt-4\"\n",
    "})\n",
    "response=client(messages=messages,stream=False,tool_choice=tool_choice,tools=tools)\n",
    "print(response.extract())\n"
   ]
  },
  {
   "cell_type": "markdown",
   "metadata": {},
   "source": [
    "## 5. JSON Schema"
   ]
  },
  {
   "cell_type": "markdown",
   "metadata": {},
   "source": [
    "local llm"
   ]
  },
  {
   "cell_type": "code",
   "execution_count": 2,
   "metadata": {},
   "outputs": [
    {
     "name": "stdout",
     "output_type": "stream",
     "text": [
      "{'type': 'content', 'content': '{ \"title\": \"Foundation\", \"summary\": \"Foundation is a science fiction novel by American writer Isaac Asimov. It is the first published in his Foundation Trilogy (later expanded into the Foundation series). Foundation is a cycle of five interrelated short stories, first published as a single book by Gnome Press in 1951. Collectively they tell the early story of the Foundation, an institute founded by psychohistorian Hari Seldon to preserve the best of galactic civilization after the collapse of the Galactic Empire.\" ,\"author\": \"Isaac Asimov\",\"published_year\": 1951}'}\n"
     ]
    }
   ],
   "source": [
    "from gai.ttt.client.ttt_client import TTTClient\n",
    "client = TTTClient({        \n",
    "        \"url\": \"http://localhost:12031/gen/v1/chat/completions\"\n",
    "})\n",
    "# Define Schema\n",
    "from pydantic import BaseModel\n",
    "class Book(BaseModel):\n",
    "    title: str\n",
    "    summary: str\n",
    "    author: str\n",
    "    published_year: int\n",
    "\n",
    "response=client(\n",
    "    messages=[\n",
    "        {\"role\":\"user\",\"content\":\"\"\"Foundation is a science fiction novel by American writer \n",
    "            Isaac Asimov. It is the first published in his Foundation Trilogy (later \n",
    "            expanded into the Foundation series). Foundation is a cycle of five \n",
    "            interrelated short stories, first published as a single book by Gnome Press \n",
    "            in 1951. Collectively they tell the early story of the Foundation, \n",
    "            an institute founded by psychohistorian Hari Seldon to preserve the best \n",
    "            of galactic civilization after the collapse of the Galactic Empire.\n",
    "            \"\"\"},\n",
    "        {\"role\":\"assistant\",\"content\":\"\"}\n",
    "        ],\n",
    "    response_format=Book,\n",
    "    tool_choice=\"none\",\n",
    "    stream=False\n",
    "    )\n",
    "print(response.extract())"
   ]
  },
  {
   "cell_type": "markdown",
   "metadata": {},
   "source": [
    "openai"
   ]
  },
  {
   "cell_type": "code",
   "execution_count": 1,
   "metadata": {},
   "outputs": [
    {
     "name": "stdout",
     "output_type": "stream",
     "text": [
      "{'type': 'content', 'content': '{\"title\":\"Foundation\",\"summary\":\"\\\\\"Foundation\\\\\" is a seminal science fiction novel that weaves together a series of interconnected stories set in a future where the Galactic Empire is on the brink of collapse. The narrative revolves around Hari Seldon, a visionary psychohistorian, who predicts the fall of the empire and creates the Foundation — a consortium of scientists and scholars — to safeguard knowledge and the remnants of civilization. The novel explores themes of decay, the rise of new powers, and the struggle to maintain knowledge in tumultuous times.\",\"author\":\"Isaac Asimov\",\"published_year\":1951}'}\n"
     ]
    }
   ],
   "source": [
    "from gai.ttt.client.ttt_client import TTTClient\n",
    "client = TTTClient({\n",
    "    \"engine\":\"openai\",\n",
    "    \"model\":\"gpt-4o\"\n",
    "})\n",
    "# Define Schema\n",
    "from pydantic import BaseModel\n",
    "class Book(BaseModel):\n",
    "    title: str\n",
    "    summary: str\n",
    "    author: str\n",
    "    published_year: int\n",
    "\n",
    "response=client(\n",
    "    messages=[\n",
    "        {\"role\":\"user\",\"content\":\"\"\"Foundation is a science fiction novel by American writer \n",
    "            Isaac Asimov. It is the first published in his Foundation Trilogy (later \n",
    "            expanded into the Foundation series). Foundation is a cycle of five \n",
    "            interrelated short stories, first published as a single book by Gnome Press \n",
    "            in 1951. Collectively they tell the early story of the Foundation, \n",
    "            an institute founded by psychohistorian Hari Seldon to preserve the best \n",
    "            of galactic civilization after the collapse of the Galactic Empire.\n",
    "            \"\"\"},\n",
    "        {\"role\":\"assistant\",\"content\":\"\"}\n",
    "        ],\n",
    "    response_format=Book,\n",
    "    tool_choice=None,\n",
    "    stream=False\n",
    "    )\n",
    "print(response.extract())"
   ]
  }
 ],
 "metadata": {
  "kernelspec": {
   "display_name": ".venv",
   "language": "python",
   "name": "python3"
  },
  "language_info": {
   "codemirror_mode": {
    "name": "ipython",
    "version": 3
   },
   "file_extension": ".py",
   "mimetype": "text/x-python",
   "name": "python",
   "nbconvert_exporter": "python",
   "pygments_lexer": "ipython3",
   "version": "3.10.12"
  }
 },
 "nbformat": 4,
 "nbformat_minor": 2
}
