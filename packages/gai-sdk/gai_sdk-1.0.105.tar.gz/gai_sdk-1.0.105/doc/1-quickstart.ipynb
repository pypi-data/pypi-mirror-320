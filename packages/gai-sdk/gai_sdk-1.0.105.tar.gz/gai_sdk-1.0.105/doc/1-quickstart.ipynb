{
 "cells": [
  {
   "cell_type": "markdown",
   "metadata": {},
   "source": [
    "# 1. Quickstart"
   ]
  },
  {
   "cell_type": "markdown",
   "metadata": {},
   "source": [
    "Run the following to check if the container is running:\n",
    "\n",
    "```$ docker ps --format \"table {{.Image}}\\t{{.Names}}\\t{{.Status}}\" | grep gai-ttt```\n",
    "\n",
    "Once it is started, the status will look like this:\n",
    "\n",
    "```gai-ttt:latest   gai-ttt   Up 2 minutes```\n",
    "\n",
    "Otherwise, run `gai docker start`.\n",
    "\n"
   ]
  },
  {
   "cell_type": "markdown",
   "metadata": {},
   "source": [
    "a) Patch OpenAI Client"
   ]
  },
  {
   "cell_type": "code",
   "execution_count": 2,
   "metadata": {},
   "outputs": [],
   "source": [
    "from rich.console import Console\n",
    "console = Console()\n",
    "\n",
    "import os\n",
    "# Replace this with your OpenAI API key if you want to use it\n",
    "if os.environ.get(\"OPENAI_API_KEY\") is None:\n",
    "    os.environ[\"OPENAI_API_KEY\"] = \"\"\n",
    "\n",
    "# Load and patch openai\n",
    "from openai import OpenAI\n",
    "client = OpenAI()\n",
    "\n",
    "# get url from default client config\n",
    "from gai.ttt.client.completions import Completions\n",
    "\n",
    "client = Completions.PatchOpenAI(client,override_url=\"http://localhost:12031/gen/v1/chat/completions\")\n"
   ]
  },
  {
   "cell_type": "markdown",
   "metadata": {},
   "source": [
    "b) Create Completions"
   ]
  },
  {
   "cell_type": "code",
   "execution_count": 3,
   "metadata": {},
   "outputs": [
    {
     "data": {
      "text/html": [
       "<pre style=\"white-space:pre;overflow-x:auto;line-height:normal;font-family:Menlo,'DejaVu Sans Mono',consolas,'Courier New',monospace\"><span style=\"color: #808000; text-decoration-color: #808000\">Use GPT-4o create:</span>\n",
       "</pre>\n"
      ],
      "text/plain": [
       "\u001b[33mUse GPT-4o create:\u001b[0m\n"
      ]
     },
     "metadata": {},
     "output_type": "display_data"
    },
    {
     "data": {
      "text/html": [
       "<pre style=\"white-space:pre;overflow-x:auto;line-height:normal;font-family:Menlo,'DejaVu Sans Mono',consolas,'Courier New',monospace\"><span style=\"color: #c0c0c0; text-decoration-color: #c0c0c0; font-weight: bold\">ChatCompletion(</span><span style=\"color: #c0c0c0; text-decoration-color: #c0c0c0\">id</span><span style=\"color: #c0c0c0; text-decoration-color: #c0c0c0\">=</span><span style=\"color: #c0c0c0; text-decoration-color: #c0c0c0\">'chatcmpl-AhYLK9eeWKei0NdUpD7xvZBeA8P8i'</span><span style=\"color: #c0c0c0; text-decoration-color: #c0c0c0\">, </span><span style=\"color: #c0c0c0; text-decoration-color: #c0c0c0\">choices</span><span style=\"color: #c0c0c0; text-decoration-color: #c0c0c0\">=</span><span style=\"color: #c0c0c0; text-decoration-color: #c0c0c0; font-weight: bold\">[Choice(</span><span style=\"color: #c0c0c0; text-decoration-color: #c0c0c0\">finish_reason</span><span style=\"color: #c0c0c0; text-decoration-color: #c0c0c0\">=</span><span style=\"color: #c0c0c0; text-decoration-color: #c0c0c0\">'stop'</span><span style=\"color: #c0c0c0; text-decoration-color: #c0c0c0\">, </span><span style=\"color: #c0c0c0; text-decoration-color: #c0c0c0\">index</span><span style=\"color: #c0c0c0; text-decoration-color: #c0c0c0\">=</span><span style=\"color: #c0c0c0; text-decoration-color: #c0c0c0; font-weight: bold\">0</span><span style=\"color: #c0c0c0; text-decoration-color: #c0c0c0\">, </span>\n",
       "<span style=\"color: #c0c0c0; text-decoration-color: #c0c0c0\">logprobs</span><span style=\"color: #c0c0c0; text-decoration-color: #c0c0c0\">=</span><span style=\"color: #c0c0c0; text-decoration-color: #c0c0c0; font-style: italic\">None</span><span style=\"color: #c0c0c0; text-decoration-color: #c0c0c0\">, </span><span style=\"color: #c0c0c0; text-decoration-color: #c0c0c0\">message</span><span style=\"color: #c0c0c0; text-decoration-color: #c0c0c0\">=</span><span style=\"color: #c0c0c0; text-decoration-color: #c0c0c0; font-weight: bold\">ChatCompletionMessage</span><span style=\"color: #c0c0c0; text-decoration-color: #c0c0c0; font-weight: bold\">(</span><span style=\"color: #c0c0c0; text-decoration-color: #c0c0c0\">content</span><span style=\"color: #c0c0c0; text-decoration-color: #c0c0c0\">=</span><span style=\"color: #c0c0c0; text-decoration-color: #c0c0c0\">'Under the haunting glow of the harvest moon, a mysterious </span>\n",
       "<span style=\"color: #c0c0c0; text-decoration-color: #c0c0c0\">melody drifted through the ancient forest, luring travelers to a long-forgotten village that existed only in </span>\n",
       "<span style=\"color: #c0c0c0; text-decoration-color: #c0c0c0\">whispers.'</span><span style=\"color: #c0c0c0; text-decoration-color: #c0c0c0\">, </span><span style=\"color: #c0c0c0; text-decoration-color: #c0c0c0\">refusal</span><span style=\"color: #c0c0c0; text-decoration-color: #c0c0c0\">=</span><span style=\"color: #c0c0c0; text-decoration-color: #c0c0c0; font-style: italic\">None</span><span style=\"color: #c0c0c0; text-decoration-color: #c0c0c0\">, </span><span style=\"color: #c0c0c0; text-decoration-color: #c0c0c0\">role</span><span style=\"color: #c0c0c0; text-decoration-color: #c0c0c0\">=</span><span style=\"color: #c0c0c0; text-decoration-color: #c0c0c0\">'assistant'</span><span style=\"color: #c0c0c0; text-decoration-color: #c0c0c0\">, </span><span style=\"color: #c0c0c0; text-decoration-color: #c0c0c0\">function_call</span><span style=\"color: #c0c0c0; text-decoration-color: #c0c0c0\">=</span><span style=\"color: #c0c0c0; text-decoration-color: #c0c0c0; font-style: italic\">None</span><span style=\"color: #c0c0c0; text-decoration-color: #c0c0c0\">, </span><span style=\"color: #c0c0c0; text-decoration-color: #c0c0c0\">tool_calls</span><span style=\"color: #c0c0c0; text-decoration-color: #c0c0c0\">=</span><span style=\"color: #c0c0c0; text-decoration-color: #c0c0c0; font-style: italic\">None</span><span style=\"color: #c0c0c0; text-decoration-color: #c0c0c0; font-weight: bold\">))]</span><span style=\"color: #c0c0c0; text-decoration-color: #c0c0c0\">, </span><span style=\"color: #c0c0c0; text-decoration-color: #c0c0c0\">created</span><span style=\"color: #c0c0c0; text-decoration-color: #c0c0c0\">=</span><span style=\"color: #c0c0c0; text-decoration-color: #c0c0c0; font-weight: bold\">1734943482</span><span style=\"color: #c0c0c0; text-decoration-color: #c0c0c0\">, </span>\n",
       "<span style=\"color: #c0c0c0; text-decoration-color: #c0c0c0\">model</span><span style=\"color: #c0c0c0; text-decoration-color: #c0c0c0\">=</span><span style=\"color: #c0c0c0; text-decoration-color: #c0c0c0\">'gpt-4o-2024-08-06'</span><span style=\"color: #c0c0c0; text-decoration-color: #c0c0c0\">, </span><span style=\"color: #c0c0c0; text-decoration-color: #c0c0c0\">object</span><span style=\"color: #c0c0c0; text-decoration-color: #c0c0c0\">=</span><span style=\"color: #c0c0c0; text-decoration-color: #c0c0c0\">'chat.completion'</span><span style=\"color: #c0c0c0; text-decoration-color: #c0c0c0\">, </span><span style=\"color: #c0c0c0; text-decoration-color: #c0c0c0\">service_tier</span><span style=\"color: #c0c0c0; text-decoration-color: #c0c0c0\">=</span><span style=\"color: #c0c0c0; text-decoration-color: #c0c0c0; font-style: italic\">None</span><span style=\"color: #c0c0c0; text-decoration-color: #c0c0c0\">, </span><span style=\"color: #c0c0c0; text-decoration-color: #c0c0c0\">system_fingerprint</span><span style=\"color: #c0c0c0; text-decoration-color: #c0c0c0\">=</span><span style=\"color: #c0c0c0; text-decoration-color: #c0c0c0\">'fp_5f20662549'</span><span style=\"color: #c0c0c0; text-decoration-color: #c0c0c0\">, </span>\n",
       "<span style=\"color: #c0c0c0; text-decoration-color: #c0c0c0\">usage</span><span style=\"color: #c0c0c0; text-decoration-color: #c0c0c0\">=</span><span style=\"color: #c0c0c0; text-decoration-color: #c0c0c0; font-weight: bold\">CompletionUsage</span><span style=\"color: #c0c0c0; text-decoration-color: #c0c0c0; font-weight: bold\">(</span><span style=\"color: #c0c0c0; text-decoration-color: #c0c0c0\">completion_tokens</span><span style=\"color: #c0c0c0; text-decoration-color: #c0c0c0\">=</span><span style=\"color: #c0c0c0; text-decoration-color: #c0c0c0; font-weight: bold\">36</span><span style=\"color: #c0c0c0; text-decoration-color: #c0c0c0\">, </span><span style=\"color: #c0c0c0; text-decoration-color: #c0c0c0\">prompt_tokens</span><span style=\"color: #c0c0c0; text-decoration-color: #c0c0c0\">=</span><span style=\"color: #c0c0c0; text-decoration-color: #c0c0c0; font-weight: bold\">13</span><span style=\"color: #c0c0c0; text-decoration-color: #c0c0c0\">, </span><span style=\"color: #c0c0c0; text-decoration-color: #c0c0c0\">total_tokens</span><span style=\"color: #c0c0c0; text-decoration-color: #c0c0c0\">=</span><span style=\"color: #c0c0c0; text-decoration-color: #c0c0c0; font-weight: bold\">49</span><span style=\"color: #c0c0c0; text-decoration-color: #c0c0c0\">, </span>\n",
       "<span style=\"color: #c0c0c0; text-decoration-color: #c0c0c0\">prompt_tokens_details</span><span style=\"color: #c0c0c0; text-decoration-color: #c0c0c0\">=</span><span style=\"color: #c0c0c0; text-decoration-color: #c0c0c0; font-weight: bold\">{</span><span style=\"color: #c0c0c0; text-decoration-color: #c0c0c0\">'cached_tokens'</span><span style=\"color: #c0c0c0; text-decoration-color: #c0c0c0\">: </span><span style=\"color: #c0c0c0; text-decoration-color: #c0c0c0; font-weight: bold\">0</span><span style=\"color: #c0c0c0; text-decoration-color: #c0c0c0\">, </span><span style=\"color: #c0c0c0; text-decoration-color: #c0c0c0\">'audio_tokens'</span><span style=\"color: #c0c0c0; text-decoration-color: #c0c0c0\">: </span><span style=\"color: #c0c0c0; text-decoration-color: #c0c0c0; font-weight: bold\">0</span><span style=\"color: #c0c0c0; text-decoration-color: #c0c0c0; font-weight: bold\">}</span><span style=\"color: #c0c0c0; text-decoration-color: #c0c0c0\">, </span><span style=\"color: #c0c0c0; text-decoration-color: #c0c0c0\">completion_tokens_details</span><span style=\"color: #c0c0c0; text-decoration-color: #c0c0c0\">=</span><span style=\"color: #c0c0c0; text-decoration-color: #c0c0c0; font-weight: bold\">{</span><span style=\"color: #c0c0c0; text-decoration-color: #c0c0c0\">'reasoning_tokens'</span><span style=\"color: #c0c0c0; text-decoration-color: #c0c0c0\">: </span><span style=\"color: #c0c0c0; text-decoration-color: #c0c0c0; font-weight: bold\">0</span><span style=\"color: #c0c0c0; text-decoration-color: #c0c0c0\">, </span>\n",
       "<span style=\"color: #c0c0c0; text-decoration-color: #c0c0c0\">'audio_tokens'</span><span style=\"color: #c0c0c0; text-decoration-color: #c0c0c0\">: </span><span style=\"color: #c0c0c0; text-decoration-color: #c0c0c0; font-weight: bold\">0</span><span style=\"color: #c0c0c0; text-decoration-color: #c0c0c0\">, </span><span style=\"color: #c0c0c0; text-decoration-color: #c0c0c0\">'accepted_prediction_tokens'</span><span style=\"color: #c0c0c0; text-decoration-color: #c0c0c0\">: </span><span style=\"color: #c0c0c0; text-decoration-color: #c0c0c0; font-weight: bold\">0</span><span style=\"color: #c0c0c0; text-decoration-color: #c0c0c0\">, </span><span style=\"color: #c0c0c0; text-decoration-color: #c0c0c0\">'rejected_prediction_tokens'</span><span style=\"color: #c0c0c0; text-decoration-color: #c0c0c0\">: </span><span style=\"color: #c0c0c0; text-decoration-color: #c0c0c0; font-weight: bold\">0</span><span style=\"color: #c0c0c0; text-decoration-color: #c0c0c0; font-weight: bold\">})</span><span style=\"color: #c0c0c0; text-decoration-color: #c0c0c0\">, </span><span style=\"color: #c0c0c0; text-decoration-color: #c0c0c0\">extract</span><span style=\"color: #c0c0c0; text-decoration-color: #c0c0c0\">=</span><span style=\"color: #c0c0c0; text-decoration-color: #c0c0c0; font-weight: bold\">&lt;function</span><span style=\"color: #c0c0c0; text-decoration-color: #c0c0c0\"> </span>\n",
       "<span style=\"color: #c0c0c0; text-decoration-color: #c0c0c0\">Completions.PatchOpenAI.&lt;locals&gt;.patched_create.&lt;locals&gt;.attach_extractor.&lt;locals&gt;.&lt;lambda&gt; at </span><span style=\"color: #c0c0c0; text-decoration-color: #c0c0c0; font-weight: bold\">0x7f25d3da44c0</span><span style=\"color: #c0c0c0; text-decoration-color: #c0c0c0; font-weight: bold\">&gt;)</span>\n",
       "</pre>\n"
      ],
      "text/plain": [
       "\u001b[1;37mChatCompletion\u001b[0m\u001b[1;37m(\u001b[0m\u001b[37mid\u001b[0m\u001b[37m=\u001b[0m\u001b[37m'chatcmpl-AhYLK9eeWKei0NdUpD7xvZBeA8P8i'\u001b[0m\u001b[37m, \u001b[0m\u001b[37mchoices\u001b[0m\u001b[37m=\u001b[0m\u001b[1;37m[\u001b[0m\u001b[1;37mChoice\u001b[0m\u001b[1;37m(\u001b[0m\u001b[37mfinish_reason\u001b[0m\u001b[37m=\u001b[0m\u001b[37m'stop'\u001b[0m\u001b[37m, \u001b[0m\u001b[37mindex\u001b[0m\u001b[37m=\u001b[0m\u001b[1;37m0\u001b[0m\u001b[37m, \u001b[0m\n",
       "\u001b[37mlogprobs\u001b[0m\u001b[37m=\u001b[0m\u001b[3;37mNone\u001b[0m\u001b[37m, \u001b[0m\u001b[37mmessage\u001b[0m\u001b[37m=\u001b[0m\u001b[1;37mChatCompletionMessage\u001b[0m\u001b[1;37m(\u001b[0m\u001b[37mcontent\u001b[0m\u001b[37m=\u001b[0m\u001b[37m'Under the haunting glow of the harvest moon, a mysterious \u001b[0m\n",
       "\u001b[37mmelody drifted through the ancient forest, luring travelers to a long-forgotten village that existed only in \u001b[0m\n",
       "\u001b[37mwhispers.'\u001b[0m\u001b[37m, \u001b[0m\u001b[37mrefusal\u001b[0m\u001b[37m=\u001b[0m\u001b[3;37mNone\u001b[0m\u001b[37m, \u001b[0m\u001b[37mrole\u001b[0m\u001b[37m=\u001b[0m\u001b[37m'assistant'\u001b[0m\u001b[37m, \u001b[0m\u001b[37mfunction_call\u001b[0m\u001b[37m=\u001b[0m\u001b[3;37mNone\u001b[0m\u001b[37m, \u001b[0m\u001b[37mtool_calls\u001b[0m\u001b[37m=\u001b[0m\u001b[3;37mNone\u001b[0m\u001b[1;37m)\u001b[0m\u001b[1;37m)\u001b[0m\u001b[1;37m]\u001b[0m\u001b[37m, \u001b[0m\u001b[37mcreated\u001b[0m\u001b[37m=\u001b[0m\u001b[1;37m1734943482\u001b[0m\u001b[37m, \u001b[0m\n",
       "\u001b[37mmodel\u001b[0m\u001b[37m=\u001b[0m\u001b[37m'gpt-4o-2024-08-06'\u001b[0m\u001b[37m, \u001b[0m\u001b[37mobject\u001b[0m\u001b[37m=\u001b[0m\u001b[37m'chat.completion'\u001b[0m\u001b[37m, \u001b[0m\u001b[37mservice_tier\u001b[0m\u001b[37m=\u001b[0m\u001b[3;37mNone\u001b[0m\u001b[37m, \u001b[0m\u001b[37msystem_fingerprint\u001b[0m\u001b[37m=\u001b[0m\u001b[37m'fp_5f20662549'\u001b[0m\u001b[37m, \u001b[0m\n",
       "\u001b[37musage\u001b[0m\u001b[37m=\u001b[0m\u001b[1;37mCompletionUsage\u001b[0m\u001b[1;37m(\u001b[0m\u001b[37mcompletion_tokens\u001b[0m\u001b[37m=\u001b[0m\u001b[1;37m36\u001b[0m\u001b[37m, \u001b[0m\u001b[37mprompt_tokens\u001b[0m\u001b[37m=\u001b[0m\u001b[1;37m13\u001b[0m\u001b[37m, \u001b[0m\u001b[37mtotal_tokens\u001b[0m\u001b[37m=\u001b[0m\u001b[1;37m49\u001b[0m\u001b[37m, \u001b[0m\n",
       "\u001b[37mprompt_tokens_details\u001b[0m\u001b[37m=\u001b[0m\u001b[1;37m{\u001b[0m\u001b[37m'cached_tokens'\u001b[0m\u001b[37m: \u001b[0m\u001b[1;37m0\u001b[0m\u001b[37m, \u001b[0m\u001b[37m'audio_tokens'\u001b[0m\u001b[37m: \u001b[0m\u001b[1;37m0\u001b[0m\u001b[1;37m}\u001b[0m\u001b[37m, \u001b[0m\u001b[37mcompletion_tokens_details\u001b[0m\u001b[37m=\u001b[0m\u001b[1;37m{\u001b[0m\u001b[37m'reasoning_tokens'\u001b[0m\u001b[37m: \u001b[0m\u001b[1;37m0\u001b[0m\u001b[37m, \u001b[0m\n",
       "\u001b[37m'audio_tokens'\u001b[0m\u001b[37m: \u001b[0m\u001b[1;37m0\u001b[0m\u001b[37m, \u001b[0m\u001b[37m'accepted_prediction_tokens'\u001b[0m\u001b[37m: \u001b[0m\u001b[1;37m0\u001b[0m\u001b[37m, \u001b[0m\u001b[37m'rejected_prediction_tokens'\u001b[0m\u001b[37m: \u001b[0m\u001b[1;37m0\u001b[0m\u001b[1;37m}\u001b[0m\u001b[1;37m)\u001b[0m\u001b[37m, \u001b[0m\u001b[37mextract\u001b[0m\u001b[37m=\u001b[0m\u001b[1;37m<\u001b[0m\u001b[1;37mfunction\u001b[0m\u001b[37m \u001b[0m\n",
       "\u001b[37mCompletions.PatchOpenAI.<locals>.patched_create.<locals>.attach_extractor.<locals>.<lambda> at \u001b[0m\u001b[1;37m0x7f25d3da44c0\u001b[0m\u001b[1;37m>\u001b[0m\u001b[1;37m)\u001b[0m\n"
      ]
     },
     "metadata": {},
     "output_type": "display_data"
    },
    {
     "data": {
      "text/html": [
       "<pre style=\"white-space:pre;overflow-x:auto;line-height:normal;font-family:Menlo,'DejaVu Sans Mono',consolas,'Courier New',monospace\"><span style=\"color: #c0c0c0; text-decoration-color: #c0c0c0\">extract:</span>\n",
       "</pre>\n"
      ],
      "text/plain": [
       "\u001b[37mextract:\u001b[0m\n"
      ]
     },
     "metadata": {},
     "output_type": "display_data"
    },
    {
     "name": "stdout",
     "output_type": "stream",
     "text": [
      "[white]{'type': 'content', 'content': 'Under the haunting glow of the harvest moon, a mysterious melody drifted through the ancient forest, luring travelers to a long-forgotten village that existed only in whispers.'}[/]\n"
     ]
    }
   ],
   "source": [
    "console.print(\"[yellow]Use GPT-4o create:[/]\")\n",
    "response=client.chat.completions.create(model=\"gpt-4o\",messages=[{\"role\":\"user\",\"content\":\"Tell me a one sentence story\"}])\n",
    "console.print(f\"[white]{response}[/]\")\n",
    "console.print(\"[white]extract:[/]\")\n",
    "print(f\"[white]{response.extract()}[/]\")\n"
   ]
  },
  {
   "cell_type": "code",
   "execution_count": null,
   "metadata": {},
   "outputs": [
    {
     "data": {
      "text/html": [
       "<pre style=\"white-space:pre;overflow-x:auto;line-height:normal;font-family:Menlo,'DejaVu Sans Mono',consolas,'Courier New',monospace\"><span style=\"color: #808000; text-decoration-color: #808000\">Use GPT-4o create:</span>\n",
       "</pre>\n"
      ],
      "text/plain": [
       "\u001b[33mUse GPT-4o create:\u001b[0m\n"
      ]
     },
     "metadata": {},
     "output_type": "display_data"
    },
    {
     "data": {
      "text/html": [
       "<pre style=\"white-space:pre;overflow-x:auto;line-height:normal;font-family:Menlo,'DejaVu Sans Mono',consolas,'Courier New',monospace\"><span style=\"color: #c0c0c0; text-decoration-color: #c0c0c0; font-weight: bold\">ChatCompletion(</span><span style=\"color: #c0c0c0; text-decoration-color: #c0c0c0\">id</span><span style=\"color: #c0c0c0; text-decoration-color: #c0c0c0\">=</span><span style=\"color: #c0c0c0; text-decoration-color: #c0c0c0\">'chatcmpl-AfkQHKR0p6Re5PBlTEPHFU0lVnjp8'</span><span style=\"color: #c0c0c0; text-decoration-color: #c0c0c0\">, </span><span style=\"color: #c0c0c0; text-decoration-color: #c0c0c0\">choices</span><span style=\"color: #c0c0c0; text-decoration-color: #c0c0c0\">=</span><span style=\"color: #c0c0c0; text-decoration-color: #c0c0c0; font-weight: bold\">[Choice(</span><span style=\"color: #c0c0c0; text-decoration-color: #c0c0c0\">finish_reason</span><span style=\"color: #c0c0c0; text-decoration-color: #c0c0c0\">=</span><span style=\"color: #c0c0c0; text-decoration-color: #c0c0c0\">'stop'</span><span style=\"color: #c0c0c0; text-decoration-color: #c0c0c0\">, </span><span style=\"color: #c0c0c0; text-decoration-color: #c0c0c0\">index</span><span style=\"color: #c0c0c0; text-decoration-color: #c0c0c0\">=</span><span style=\"color: #c0c0c0; text-decoration-color: #c0c0c0; font-weight: bold\">0</span><span style=\"color: #c0c0c0; text-decoration-color: #c0c0c0\">, </span>\n",
       "<span style=\"color: #c0c0c0; text-decoration-color: #c0c0c0\">logprobs</span><span style=\"color: #c0c0c0; text-decoration-color: #c0c0c0\">=</span><span style=\"color: #c0c0c0; text-decoration-color: #c0c0c0; font-style: italic\">None</span><span style=\"color: #c0c0c0; text-decoration-color: #c0c0c0\">, </span><span style=\"color: #c0c0c0; text-decoration-color: #c0c0c0\">message</span><span style=\"color: #c0c0c0; text-decoration-color: #c0c0c0\">=</span><span style=\"color: #c0c0c0; text-decoration-color: #c0c0c0; font-weight: bold\">ChatCompletionMessage</span><span style=\"color: #c0c0c0; text-decoration-color: #c0c0c0; font-weight: bold\">(</span><span style=\"color: #c0c0c0; text-decoration-color: #c0c0c0\">content</span><span style=\"color: #c0c0c0; text-decoration-color: #c0c0c0\">=</span><span style=\"color: #c0c0c0; text-decoration-color: #c0c0c0\">'In a world where music had the power to alter reality, a </span>\n",
       "<span style=\"color: #c0c0c0; text-decoration-color: #c0c0c0\">young composer discovered a melody that could bring peace to even the darkest hearts.'</span><span style=\"color: #c0c0c0; text-decoration-color: #c0c0c0\">, </span><span style=\"color: #c0c0c0; text-decoration-color: #c0c0c0\">refusal</span><span style=\"color: #c0c0c0; text-decoration-color: #c0c0c0\">=</span><span style=\"color: #c0c0c0; text-decoration-color: #c0c0c0; font-style: italic\">None</span><span style=\"color: #c0c0c0; text-decoration-color: #c0c0c0\">, </span>\n",
       "<span style=\"color: #c0c0c0; text-decoration-color: #c0c0c0\">role</span><span style=\"color: #c0c0c0; text-decoration-color: #c0c0c0\">=</span><span style=\"color: #c0c0c0; text-decoration-color: #c0c0c0\">'assistant'</span><span style=\"color: #c0c0c0; text-decoration-color: #c0c0c0\">, </span><span style=\"color: #c0c0c0; text-decoration-color: #c0c0c0\">function_call</span><span style=\"color: #c0c0c0; text-decoration-color: #c0c0c0\">=</span><span style=\"color: #c0c0c0; text-decoration-color: #c0c0c0; font-style: italic\">None</span><span style=\"color: #c0c0c0; text-decoration-color: #c0c0c0\">, </span><span style=\"color: #c0c0c0; text-decoration-color: #c0c0c0\">tool_calls</span><span style=\"color: #c0c0c0; text-decoration-color: #c0c0c0\">=</span><span style=\"color: #c0c0c0; text-decoration-color: #c0c0c0; font-style: italic\">None</span><span style=\"color: #c0c0c0; text-decoration-color: #c0c0c0; font-weight: bold\">))]</span><span style=\"color: #c0c0c0; text-decoration-color: #c0c0c0\">, </span><span style=\"color: #c0c0c0; text-decoration-color: #c0c0c0\">created</span><span style=\"color: #c0c0c0; text-decoration-color: #c0c0c0\">=</span><span style=\"color: #c0c0c0; text-decoration-color: #c0c0c0; font-weight: bold\">1734513261</span><span style=\"color: #c0c0c0; text-decoration-color: #c0c0c0\">, </span><span style=\"color: #c0c0c0; text-decoration-color: #c0c0c0\">model</span><span style=\"color: #c0c0c0; text-decoration-color: #c0c0c0\">=</span><span style=\"color: #c0c0c0; text-decoration-color: #c0c0c0\">'gpt-4o-2024-08-06'</span><span style=\"color: #c0c0c0; text-decoration-color: #c0c0c0\">, </span>\n",
       "<span style=\"color: #c0c0c0; text-decoration-color: #c0c0c0\">object</span><span style=\"color: #c0c0c0; text-decoration-color: #c0c0c0\">=</span><span style=\"color: #c0c0c0; text-decoration-color: #c0c0c0\">'chat.completion'</span><span style=\"color: #c0c0c0; text-decoration-color: #c0c0c0\">, </span><span style=\"color: #c0c0c0; text-decoration-color: #c0c0c0\">service_tier</span><span style=\"color: #c0c0c0; text-decoration-color: #c0c0c0\">=</span><span style=\"color: #c0c0c0; text-decoration-color: #c0c0c0; font-style: italic\">None</span><span style=\"color: #c0c0c0; text-decoration-color: #c0c0c0\">, </span><span style=\"color: #c0c0c0; text-decoration-color: #c0c0c0\">system_fingerprint</span><span style=\"color: #c0c0c0; text-decoration-color: #c0c0c0\">=</span><span style=\"color: #c0c0c0; text-decoration-color: #c0c0c0\">'fp_a79d8dac1f'</span><span style=\"color: #c0c0c0; text-decoration-color: #c0c0c0\">, </span>\n",
       "<span style=\"color: #c0c0c0; text-decoration-color: #c0c0c0\">usage</span><span style=\"color: #c0c0c0; text-decoration-color: #c0c0c0\">=</span><span style=\"color: #c0c0c0; text-decoration-color: #c0c0c0; font-weight: bold\">CompletionUsage</span><span style=\"color: #c0c0c0; text-decoration-color: #c0c0c0; font-weight: bold\">(</span><span style=\"color: #c0c0c0; text-decoration-color: #c0c0c0\">completion_tokens</span><span style=\"color: #c0c0c0; text-decoration-color: #c0c0c0\">=</span><span style=\"color: #c0c0c0; text-decoration-color: #c0c0c0; font-weight: bold\">28</span><span style=\"color: #c0c0c0; text-decoration-color: #c0c0c0\">, </span><span style=\"color: #c0c0c0; text-decoration-color: #c0c0c0\">prompt_tokens</span><span style=\"color: #c0c0c0; text-decoration-color: #c0c0c0\">=</span><span style=\"color: #c0c0c0; text-decoration-color: #c0c0c0; font-weight: bold\">13</span><span style=\"color: #c0c0c0; text-decoration-color: #c0c0c0\">, </span><span style=\"color: #c0c0c0; text-decoration-color: #c0c0c0\">total_tokens</span><span style=\"color: #c0c0c0; text-decoration-color: #c0c0c0\">=</span><span style=\"color: #c0c0c0; text-decoration-color: #c0c0c0; font-weight: bold\">41</span><span style=\"color: #c0c0c0; text-decoration-color: #c0c0c0\">, </span>\n",
       "<span style=\"color: #c0c0c0; text-decoration-color: #c0c0c0\">prompt_tokens_details</span><span style=\"color: #c0c0c0; text-decoration-color: #c0c0c0\">=</span><span style=\"color: #c0c0c0; text-decoration-color: #c0c0c0; font-weight: bold\">{</span><span style=\"color: #c0c0c0; text-decoration-color: #c0c0c0\">'cached_tokens'</span><span style=\"color: #c0c0c0; text-decoration-color: #c0c0c0\">: </span><span style=\"color: #c0c0c0; text-decoration-color: #c0c0c0; font-weight: bold\">0</span><span style=\"color: #c0c0c0; text-decoration-color: #c0c0c0\">, </span><span style=\"color: #c0c0c0; text-decoration-color: #c0c0c0\">'audio_tokens'</span><span style=\"color: #c0c0c0; text-decoration-color: #c0c0c0\">: </span><span style=\"color: #c0c0c0; text-decoration-color: #c0c0c0; font-weight: bold\">0</span><span style=\"color: #c0c0c0; text-decoration-color: #c0c0c0; font-weight: bold\">}</span><span style=\"color: #c0c0c0; text-decoration-color: #c0c0c0\">, </span><span style=\"color: #c0c0c0; text-decoration-color: #c0c0c0\">completion_tokens_details</span><span style=\"color: #c0c0c0; text-decoration-color: #c0c0c0\">=</span><span style=\"color: #c0c0c0; text-decoration-color: #c0c0c0; font-weight: bold\">{</span><span style=\"color: #c0c0c0; text-decoration-color: #c0c0c0\">'reasoning_tokens'</span><span style=\"color: #c0c0c0; text-decoration-color: #c0c0c0\">: </span><span style=\"color: #c0c0c0; text-decoration-color: #c0c0c0; font-weight: bold\">0</span><span style=\"color: #c0c0c0; text-decoration-color: #c0c0c0\">, </span>\n",
       "<span style=\"color: #c0c0c0; text-decoration-color: #c0c0c0\">'audio_tokens'</span><span style=\"color: #c0c0c0; text-decoration-color: #c0c0c0\">: </span><span style=\"color: #c0c0c0; text-decoration-color: #c0c0c0; font-weight: bold\">0</span><span style=\"color: #c0c0c0; text-decoration-color: #c0c0c0\">, </span><span style=\"color: #c0c0c0; text-decoration-color: #c0c0c0\">'accepted_prediction_tokens'</span><span style=\"color: #c0c0c0; text-decoration-color: #c0c0c0\">: </span><span style=\"color: #c0c0c0; text-decoration-color: #c0c0c0; font-weight: bold\">0</span><span style=\"color: #c0c0c0; text-decoration-color: #c0c0c0\">, </span><span style=\"color: #c0c0c0; text-decoration-color: #c0c0c0\">'rejected_prediction_tokens'</span><span style=\"color: #c0c0c0; text-decoration-color: #c0c0c0\">: </span><span style=\"color: #c0c0c0; text-decoration-color: #c0c0c0; font-weight: bold\">0</span><span style=\"color: #c0c0c0; text-decoration-color: #c0c0c0; font-weight: bold\">})</span><span style=\"color: #c0c0c0; text-decoration-color: #c0c0c0\">, </span><span style=\"color: #c0c0c0; text-decoration-color: #c0c0c0\">extract</span><span style=\"color: #c0c0c0; text-decoration-color: #c0c0c0\">=</span><span style=\"color: #c0c0c0; text-decoration-color: #c0c0c0; font-weight: bold\">&lt;function</span><span style=\"color: #c0c0c0; text-decoration-color: #c0c0c0\"> </span>\n",
       "<span style=\"color: #c0c0c0; text-decoration-color: #c0c0c0\">Completions.PatchOpenAI.&lt;locals&gt;.patched_create.&lt;locals&gt;.attach_extractor.&lt;locals&gt;.&lt;lambda&gt; at </span><span style=\"color: #c0c0c0; text-decoration-color: #c0c0c0; font-weight: bold\">0x7fb67cc041f0</span><span style=\"color: #c0c0c0; text-decoration-color: #c0c0c0; font-weight: bold\">&gt;)</span>\n",
       "</pre>\n"
      ],
      "text/plain": [
       "\u001b[1;37mChatCompletion\u001b[0m\u001b[1;37m(\u001b[0m\u001b[37mid\u001b[0m\u001b[37m=\u001b[0m\u001b[37m'chatcmpl-AfkQHKR0p6Re5PBlTEPHFU0lVnjp8'\u001b[0m\u001b[37m, \u001b[0m\u001b[37mchoices\u001b[0m\u001b[37m=\u001b[0m\u001b[1;37m[\u001b[0m\u001b[1;37mChoice\u001b[0m\u001b[1;37m(\u001b[0m\u001b[37mfinish_reason\u001b[0m\u001b[37m=\u001b[0m\u001b[37m'stop'\u001b[0m\u001b[37m, \u001b[0m\u001b[37mindex\u001b[0m\u001b[37m=\u001b[0m\u001b[1;37m0\u001b[0m\u001b[37m, \u001b[0m\n",
       "\u001b[37mlogprobs\u001b[0m\u001b[37m=\u001b[0m\u001b[3;37mNone\u001b[0m\u001b[37m, \u001b[0m\u001b[37mmessage\u001b[0m\u001b[37m=\u001b[0m\u001b[1;37mChatCompletionMessage\u001b[0m\u001b[1;37m(\u001b[0m\u001b[37mcontent\u001b[0m\u001b[37m=\u001b[0m\u001b[37m'In a world where music had the power to alter reality, a \u001b[0m\n",
       "\u001b[37myoung composer discovered a melody that could bring peace to even the darkest hearts.'\u001b[0m\u001b[37m, \u001b[0m\u001b[37mrefusal\u001b[0m\u001b[37m=\u001b[0m\u001b[3;37mNone\u001b[0m\u001b[37m, \u001b[0m\n",
       "\u001b[37mrole\u001b[0m\u001b[37m=\u001b[0m\u001b[37m'assistant'\u001b[0m\u001b[37m, \u001b[0m\u001b[37mfunction_call\u001b[0m\u001b[37m=\u001b[0m\u001b[3;37mNone\u001b[0m\u001b[37m, \u001b[0m\u001b[37mtool_calls\u001b[0m\u001b[37m=\u001b[0m\u001b[3;37mNone\u001b[0m\u001b[1;37m)\u001b[0m\u001b[1;37m)\u001b[0m\u001b[1;37m]\u001b[0m\u001b[37m, \u001b[0m\u001b[37mcreated\u001b[0m\u001b[37m=\u001b[0m\u001b[1;37m1734513261\u001b[0m\u001b[37m, \u001b[0m\u001b[37mmodel\u001b[0m\u001b[37m=\u001b[0m\u001b[37m'gpt-4o-2024-08-06'\u001b[0m\u001b[37m, \u001b[0m\n",
       "\u001b[37mobject\u001b[0m\u001b[37m=\u001b[0m\u001b[37m'chat.completion'\u001b[0m\u001b[37m, \u001b[0m\u001b[37mservice_tier\u001b[0m\u001b[37m=\u001b[0m\u001b[3;37mNone\u001b[0m\u001b[37m, \u001b[0m\u001b[37msystem_fingerprint\u001b[0m\u001b[37m=\u001b[0m\u001b[37m'fp_a79d8dac1f'\u001b[0m\u001b[37m, \u001b[0m\n",
       "\u001b[37musage\u001b[0m\u001b[37m=\u001b[0m\u001b[1;37mCompletionUsage\u001b[0m\u001b[1;37m(\u001b[0m\u001b[37mcompletion_tokens\u001b[0m\u001b[37m=\u001b[0m\u001b[1;37m28\u001b[0m\u001b[37m, \u001b[0m\u001b[37mprompt_tokens\u001b[0m\u001b[37m=\u001b[0m\u001b[1;37m13\u001b[0m\u001b[37m, \u001b[0m\u001b[37mtotal_tokens\u001b[0m\u001b[37m=\u001b[0m\u001b[1;37m41\u001b[0m\u001b[37m, \u001b[0m\n",
       "\u001b[37mprompt_tokens_details\u001b[0m\u001b[37m=\u001b[0m\u001b[1;37m{\u001b[0m\u001b[37m'cached_tokens'\u001b[0m\u001b[37m: \u001b[0m\u001b[1;37m0\u001b[0m\u001b[37m, \u001b[0m\u001b[37m'audio_tokens'\u001b[0m\u001b[37m: \u001b[0m\u001b[1;37m0\u001b[0m\u001b[1;37m}\u001b[0m\u001b[37m, \u001b[0m\u001b[37mcompletion_tokens_details\u001b[0m\u001b[37m=\u001b[0m\u001b[1;37m{\u001b[0m\u001b[37m'reasoning_tokens'\u001b[0m\u001b[37m: \u001b[0m\u001b[1;37m0\u001b[0m\u001b[37m, \u001b[0m\n",
       "\u001b[37m'audio_tokens'\u001b[0m\u001b[37m: \u001b[0m\u001b[1;37m0\u001b[0m\u001b[37m, \u001b[0m\u001b[37m'accepted_prediction_tokens'\u001b[0m\u001b[37m: \u001b[0m\u001b[1;37m0\u001b[0m\u001b[37m, \u001b[0m\u001b[37m'rejected_prediction_tokens'\u001b[0m\u001b[37m: \u001b[0m\u001b[1;37m0\u001b[0m\u001b[1;37m}\u001b[0m\u001b[1;37m)\u001b[0m\u001b[37m, \u001b[0m\u001b[37mextract\u001b[0m\u001b[37m=\u001b[0m\u001b[1;37m<\u001b[0m\u001b[1;37mfunction\u001b[0m\u001b[37m \u001b[0m\n",
       "\u001b[37mCompletions.PatchOpenAI.<locals>.patched_create.<locals>.attach_extractor.<locals>.<lambda> at \u001b[0m\u001b[1;37m0x7fb67cc041f0\u001b[0m\u001b[1;37m>\u001b[0m\u001b[1;37m)\u001b[0m\n"
      ]
     },
     "metadata": {},
     "output_type": "display_data"
    },
    {
     "data": {
      "text/html": [
       "<pre style=\"white-space:pre;overflow-x:auto;line-height:normal;font-family:Menlo,'DejaVu Sans Mono',consolas,'Courier New',monospace\"><span style=\"color: #c0c0c0; text-decoration-color: #c0c0c0\">extract:</span>\n",
       "</pre>\n"
      ],
      "text/plain": [
       "\u001b[37mextract:\u001b[0m\n"
      ]
     },
     "metadata": {},
     "output_type": "display_data"
    },
    {
     "name": "stdout",
     "output_type": "stream",
     "text": [
      "[white]{'type': 'content', 'content': 'In a world where music had the power to alter reality, a young composer discovered a melody that could bring peace to even the darkest hearts.'}[/]\n"
     ]
    },
    {
     "data": {
      "text/html": [
       "<pre style=\"white-space:pre;overflow-x:auto;line-height:normal;font-family:Menlo,'DejaVu Sans Mono',consolas,'Courier New',monospace\"><span style=\"color: #ffff00; text-decoration-color: #ffff00\">Use Llamacpp create:</span>\n",
       "</pre>\n"
      ],
      "text/plain": [
       "\u001b[93mUse Llamacpp create:\u001b[0m\n"
      ]
     },
     "metadata": {},
     "output_type": "display_data"
    },
    {
     "data": {
      "text/html": [
       "<pre style=\"white-space:pre;overflow-x:auto;line-height:normal;font-family:Menlo,'DejaVu Sans Mono',consolas,'Courier New',monospace\"><span style=\"color: #ffffff; text-decoration-color: #ffffff; font-weight: bold; font-style: italic\">ChatCompletion(</span><span style=\"color: #ffffff; text-decoration-color: #ffffff; font-style: italic\">id=</span><span style=\"color: #ffffff; text-decoration-color: #ffffff; font-style: italic\">'chatcmpl-3bf2888b-cd4c-4a63-8e65-60a66618fe38'</span><span style=\"color: #ffffff; text-decoration-color: #ffffff; font-style: italic\">, choices=</span><span style=\"color: #ffffff; text-decoration-color: #ffffff; font-weight: bold; font-style: italic\">[Choice(</span><span style=\"color: #ffffff; text-decoration-color: #ffffff; font-style: italic\">finish_reason=</span><span style=\"color: #ffffff; text-decoration-color: #ffffff; font-style: italic\">'stop'</span><span style=\"color: #ffffff; text-decoration-color: #ffffff; font-style: italic\">, index=</span><span style=\"color: #ffffff; text-decoration-color: #ffffff; font-weight: bold; font-style: italic\">0</span><span style=\"color: #ffffff; text-decoration-color: #ffffff; font-style: italic\">, </span>\n",
       "<span style=\"color: #ffffff; text-decoration-color: #ffffff; font-style: italic\">logprobs=None, message=</span><span style=\"color: #ffffff; text-decoration-color: #ffffff; font-weight: bold; font-style: italic\">ChatCompletionMessage(</span><span style=\"color: #ffffff; text-decoration-color: #ffffff; font-style: italic\">content=</span><span style=\"color: #ffffff; text-decoration-color: #ffffff; font-style: italic\">'The sun set over the horizon, casting a warm, orange glow </span>\n",
       "<span style=\"color: #ffffff; text-decoration-color: #ffffff; font-style: italic\">over the sleeping town.'</span><span style=\"color: #ffffff; text-decoration-color: #ffffff; font-style: italic\">, refusal=None, role=</span><span style=\"color: #ffffff; text-decoration-color: #ffffff; font-style: italic\">'assistant'</span><span style=\"color: #ffffff; text-decoration-color: #ffffff; font-style: italic\">, function_call=None, tool_calls=None, audio=None</span><span style=\"color: #ffffff; text-decoration-color: #ffffff; font-weight: bold; font-style: italic\">))]</span><span style=\"color: #ffffff; text-decoration-color: #ffffff; font-style: italic\">, </span>\n",
       "<span style=\"color: #ffffff; text-decoration-color: #ffffff; font-style: italic\">created=</span><span style=\"color: #ffffff; text-decoration-color: #ffffff; font-weight: bold; font-style: italic\">1734513266</span><span style=\"color: #ffffff; text-decoration-color: #ffffff; font-style: italic\">, model=</span><span style=\"color: #ffffff; text-decoration-color: #ffffff; font-style: italic\">'llamacpp'</span><span style=\"color: #ffffff; text-decoration-color: #ffffff; font-style: italic\">, object=</span><span style=\"color: #ffffff; text-decoration-color: #ffffff; font-style: italic\">'chat.completion'</span><span style=\"color: #ffffff; text-decoration-color: #ffffff; font-style: italic\">, service_tier=None, system_fingerprint=None, </span>\n",
       "<span style=\"color: #ffffff; text-decoration-color: #ffffff; font-style: italic\">usage=</span><span style=\"color: #ffffff; text-decoration-color: #ffffff; font-weight: bold; font-style: italic\">CompletionUsage(</span><span style=\"color: #ffffff; text-decoration-color: #ffffff; font-style: italic\">completion_tokens=</span><span style=\"color: #ffffff; text-decoration-color: #ffffff; font-weight: bold; font-style: italic\">18</span><span style=\"color: #ffffff; text-decoration-color: #ffffff; font-style: italic\">, prompt_tokens=</span><span style=\"color: #ffffff; text-decoration-color: #ffffff; font-weight: bold; font-style: italic\">21</span><span style=\"color: #ffffff; text-decoration-color: #ffffff; font-style: italic\">, total_tokens=</span><span style=\"color: #ffffff; text-decoration-color: #ffffff; font-weight: bold; font-style: italic\">39</span><span style=\"color: #ffffff; text-decoration-color: #ffffff; font-style: italic\">, completion_tokens_details=None, </span>\n",
       "<span style=\"color: #ffffff; text-decoration-color: #ffffff; font-style: italic\">prompt_tokens_details=None</span><span style=\"color: #ffffff; text-decoration-color: #ffffff; font-weight: bold; font-style: italic\">)</span><span style=\"color: #ffffff; text-decoration-color: #ffffff; font-style: italic\">, extract=</span><span style=\"color: #ffffff; text-decoration-color: #ffffff; font-weight: bold; font-style: italic\">&lt;function</span><span style=\"color: #ffffff; text-decoration-color: #ffffff; font-style: italic\"> </span>\n",
       "<span style=\"color: #ffffff; text-decoration-color: #ffffff; font-style: italic\">Completions.PatchOpenAI.&lt;locals&gt;.patched_create.&lt;locals&gt;.attach_extractor.&lt;locals&gt;.&lt;lambda&gt; at </span><span style=\"color: #ffffff; text-decoration-color: #ffffff; font-weight: bold; font-style: italic\">0x7fb67cc07f40&gt;)</span>\n",
       "</pre>\n"
      ],
      "text/plain": [
       "\u001b[1;3;97mChatCompletion\u001b[0m\u001b[1;3;97m(\u001b[0m\u001b[3;97mid\u001b[0m\u001b[3;97m=\u001b[0m\u001b[3;97m'chatcmpl-3bf2888b-cd4c-4a63-8e65-60a66618fe38'\u001b[0m\u001b[3;97m, \u001b[0m\u001b[3;97mchoices\u001b[0m\u001b[3;97m=\u001b[0m\u001b[1;3;97m[\u001b[0m\u001b[1;3;97mChoice\u001b[0m\u001b[1;3;97m(\u001b[0m\u001b[3;97mfinish_reason\u001b[0m\u001b[3;97m=\u001b[0m\u001b[3;97m'stop'\u001b[0m\u001b[3;97m, \u001b[0m\u001b[3;97mindex\u001b[0m\u001b[3;97m=\u001b[0m\u001b[1;3;97m0\u001b[0m\u001b[3;97m, \u001b[0m\n",
       "\u001b[3;97mlogprobs\u001b[0m\u001b[3;97m=\u001b[0m\u001b[3;97mNone\u001b[0m\u001b[3;97m, \u001b[0m\u001b[3;97mmessage\u001b[0m\u001b[3;97m=\u001b[0m\u001b[1;3;97mChatCompletionMessage\u001b[0m\u001b[1;3;97m(\u001b[0m\u001b[3;97mcontent\u001b[0m\u001b[3;97m=\u001b[0m\u001b[3;97m'The sun set over the horizon, casting a warm, orange glow \u001b[0m\n",
       "\u001b[3;97mover the sleeping town.'\u001b[0m\u001b[3;97m, \u001b[0m\u001b[3;97mrefusal\u001b[0m\u001b[3;97m=\u001b[0m\u001b[3;97mNone\u001b[0m\u001b[3;97m, \u001b[0m\u001b[3;97mrole\u001b[0m\u001b[3;97m=\u001b[0m\u001b[3;97m'assistant'\u001b[0m\u001b[3;97m, \u001b[0m\u001b[3;97mfunction_call\u001b[0m\u001b[3;97m=\u001b[0m\u001b[3;97mNone\u001b[0m\u001b[3;97m, \u001b[0m\u001b[3;97mtool_calls\u001b[0m\u001b[3;97m=\u001b[0m\u001b[3;97mNone\u001b[0m\u001b[3;97m, \u001b[0m\u001b[3;97maudio\u001b[0m\u001b[3;97m=\u001b[0m\u001b[3;97mNone\u001b[0m\u001b[1;3;97m)\u001b[0m\u001b[1;3;97m)\u001b[0m\u001b[1;3;97m]\u001b[0m\u001b[3;97m, \u001b[0m\n",
       "\u001b[3;97mcreated\u001b[0m\u001b[3;97m=\u001b[0m\u001b[1;3;97m1734513266\u001b[0m\u001b[3;97m, \u001b[0m\u001b[3;97mmodel\u001b[0m\u001b[3;97m=\u001b[0m\u001b[3;97m'llamacpp'\u001b[0m\u001b[3;97m, \u001b[0m\u001b[3;97mobject\u001b[0m\u001b[3;97m=\u001b[0m\u001b[3;97m'chat.completion'\u001b[0m\u001b[3;97m, \u001b[0m\u001b[3;97mservice_tier\u001b[0m\u001b[3;97m=\u001b[0m\u001b[3;97mNone\u001b[0m\u001b[3;97m, \u001b[0m\u001b[3;97msystem_fingerprint\u001b[0m\u001b[3;97m=\u001b[0m\u001b[3;97mNone\u001b[0m\u001b[3;97m, \u001b[0m\n",
       "\u001b[3;97musage\u001b[0m\u001b[3;97m=\u001b[0m\u001b[1;3;97mCompletionUsage\u001b[0m\u001b[1;3;97m(\u001b[0m\u001b[3;97mcompletion_tokens\u001b[0m\u001b[3;97m=\u001b[0m\u001b[1;3;97m18\u001b[0m\u001b[3;97m, \u001b[0m\u001b[3;97mprompt_tokens\u001b[0m\u001b[3;97m=\u001b[0m\u001b[1;3;97m21\u001b[0m\u001b[3;97m, \u001b[0m\u001b[3;97mtotal_tokens\u001b[0m\u001b[3;97m=\u001b[0m\u001b[1;3;97m39\u001b[0m\u001b[3;97m, \u001b[0m\u001b[3;97mcompletion_tokens_details\u001b[0m\u001b[3;97m=\u001b[0m\u001b[3;97mNone\u001b[0m\u001b[3;97m, \u001b[0m\n",
       "\u001b[3;97mprompt_tokens_details\u001b[0m\u001b[3;97m=\u001b[0m\u001b[3;97mNone\u001b[0m\u001b[1;3;97m)\u001b[0m\u001b[3;97m, \u001b[0m\u001b[3;97mextract\u001b[0m\u001b[3;97m=\u001b[0m\u001b[1;3;97m<\u001b[0m\u001b[1;3;97mfunction\u001b[0m\u001b[3;97m \u001b[0m\n",
       "\u001b[3;97mCompletions.PatchOpenAI.<locals>.patched_create.<locals>.attach_extractor.<locals>.<lambda> at \u001b[0m\u001b[1;3;97m0x7fb67cc07f40\u001b[0m\u001b[1;3;97m>\u001b[0m\u001b[1;3;97m)\u001b[0m\n"
      ]
     },
     "metadata": {},
     "output_type": "display_data"
    },
    {
     "data": {
      "text/html": [
       "<pre style=\"white-space:pre;overflow-x:auto;line-height:normal;font-family:Menlo,'DejaVu Sans Mono',consolas,'Courier New',monospace\"><span style=\"color: #ffffff; text-decoration-color: #ffffff; font-style: italic\">extract:</span>\n",
       "</pre>\n"
      ],
      "text/plain": [
       "\u001b[3;97mextract:\u001b[0m\n"
      ]
     },
     "metadata": {},
     "output_type": "display_data"
    },
    {
     "data": {
      "text/html": [
       "<pre style=\"white-space:pre;overflow-x:auto;line-height:normal;font-family:Menlo,'DejaVu Sans Mono',consolas,'Courier New',monospace\"><span style=\"color: #ffffff; text-decoration-color: #ffffff; font-weight: bold; font-style: italic\">{</span><span style=\"color: #ffffff; text-decoration-color: #ffffff; font-style: italic\">'type'</span><span style=\"color: #ffffff; text-decoration-color: #ffffff; font-style: italic\">: </span><span style=\"color: #ffffff; text-decoration-color: #ffffff; font-style: italic\">'content'</span><span style=\"color: #ffffff; text-decoration-color: #ffffff; font-style: italic\">, </span><span style=\"color: #ffffff; text-decoration-color: #ffffff; font-style: italic\">'content'</span><span style=\"color: #ffffff; text-decoration-color: #ffffff; font-style: italic\">: </span><span style=\"color: #ffffff; text-decoration-color: #ffffff; font-style: italic\">'The sun set over the horizon, casting a warm, orange glow over the sleeping town.'</span><span style=\"color: #ffffff; text-decoration-color: #ffffff; font-weight: bold; font-style: italic\">}</span>\n",
       "</pre>\n"
      ],
      "text/plain": [
       "\u001b[1;3;97m{\u001b[0m\u001b[3;97m'type'\u001b[0m\u001b[3;97m: \u001b[0m\u001b[3;97m'content'\u001b[0m\u001b[3;97m, \u001b[0m\u001b[3;97m'content'\u001b[0m\u001b[3;97m: \u001b[0m\u001b[3;97m'The sun set over the horizon, casting a warm, orange glow over the sleeping town.'\u001b[0m\u001b[1;3;97m}\u001b[0m\n"
      ]
     },
     "metadata": {},
     "output_type": "display_data"
    }
   ],
   "source": [
    "# Use openai\n",
    "if os.environ.get(\"OPENAI_API_KEY\"):\n",
    "    console.print(\"[yellow]Use GPT-4o:[/]\")\n",
    "    response=client.chat.completions.create(model=\"gpt-4o\",messages=[{\"role\":\"user\",\"content\":\"Tell me a one sentence story\"}])\n",
    "    console.print(f\"[white]{response}[/]\")\n",
    "    console.print(\"[white]extract:[/]\")\n",
    "    print(f\"[white]{response.extract()}[/]\")\n",
    "\n",
    "# Use exllama\n",
    "console.print(\"[bright_yellow]Use LlamaCPP:[/]\")\n",
    "response=client.chat.completions.create(model=\"ttt-llamacpp-dolphin\",messages=[{\"role\":\"user\",\"content\":\"Tell me a one sentence story\"}])\n",
    "console.print(f\"[bright_white italic]{response}[/]\")\n",
    "console.print(\"[bright_white italic]extract:[/]\")\n",
    "console.print(f\"[bright_white italic]{response.extract()}[/]\")\n"
   ]
  },
  {
   "cell_type": "markdown",
   "metadata": {},
   "source": [
    "c) Stream Completions"
   ]
  },
  {
   "cell_type": "code",
   "execution_count": null,
   "metadata": {},
   "outputs": [
    {
     "data": {
      "text/html": [
       "<pre style=\"white-space:pre;overflow-x:auto;line-height:normal;font-family:Menlo,'DejaVu Sans Mono',consolas,'Courier New',monospace\"><span style=\"color: #808000; text-decoration-color: #808000\">Use GPT-4o stream:</span>\n",
       "</pre>\n"
      ],
      "text/plain": [
       "\u001b[33mUse GPT-4o stream:\u001b[0m\n"
      ]
     },
     "metadata": {},
     "output_type": "display_data"
    },
    {
     "name": "stdout",
     "output_type": "stream",
     "text": [
      "In a quiet village, the old oak tree whispered secrets of forgotten times to those who dared to listen.\n"
     ]
    },
    {
     "data": {
      "text/html": [
       "<pre style=\"white-space:pre;overflow-x:auto;line-height:normal;font-family:Menlo,'DejaVu Sans Mono',consolas,'Courier New',monospace\"><span style=\"color: #ffff00; text-decoration-color: #ffff00\">Use Exllama stream:</span>\n",
       "</pre>\n"
      ],
      "text/plain": [
       "\u001b[93mUse Exllama stream:\u001b[0m\n"
      ]
     },
     "metadata": {},
     "output_type": "display_data"
    },
    {
     "name": "stdout",
     "output_type": "stream",
     "text": [
      "The quick brown fox jumped over the lazy dog."
     ]
    }
   ],
   "source": [
    "# Use openai\n",
    "if os.environ.get(\"OPENAI_API_KEY\"):\n",
    "    console.print(\"[yellow]Use GPT-4o:[/]\")\n",
    "    response=client.chat.completions.create(model=\"gpt-4o\",messages=[{\"role\":\"user\",\"content\":\"Tell me a one sentence story\"}],stream=True)\n",
    "    for chunk in response:\n",
    "        chunk = chunk.extract()\n",
    "        if chunk and type(chunk) is str:\n",
    "            print(chunk,end=\"\",flush=True)\n",
    "print()\n",
    "# Use exllama\n",
    "console.print(\"[bright_yellow]Use LlamaCPP:[/]\")\n",
    "response=client.chat.completions.create(model=\"ttt-llamacpp-dolphin\",messages=[{\"role\":\"user\",\"content\":\"Tell me a one sentence story\"}],stream=True)\n",
    "for chunk in response:\n",
    "    chunk = chunk.extract()\n",
    "    if chunk and type(chunk) is str:\n",
    "            print(chunk,end=\"\",flush=True)\n",
    "\n"
   ]
  },
  {
   "cell_type": "markdown",
   "metadata": {},
   "source": [
    "d) Create Tool Call"
   ]
  },
  {
   "cell_type": "code",
   "execution_count": 11,
   "metadata": {},
   "outputs": [
    {
     "data": {
      "text/html": [
       "<pre style=\"white-space:pre;overflow-x:auto;line-height:normal;font-family:Menlo,'DejaVu Sans Mono',consolas,'Courier New',monospace\"><span style=\"color: #808000; text-decoration-color: #808000\">Use GPT-4o create tool call:</span>\n",
       "</pre>\n"
      ],
      "text/plain": [
       "\u001b[33mUse GPT-4o create tool call:\u001b[0m\n"
      ]
     },
     "metadata": {},
     "output_type": "display_data"
    },
    {
     "data": {
      "text/html": [
       "<pre style=\"white-space:pre;overflow-x:auto;line-height:normal;font-family:Menlo,'DejaVu Sans Mono',consolas,'Courier New',monospace\"><span style=\"color: #ffffff; text-decoration-color: #ffffff; font-weight: bold; font-style: italic\">{</span>\n",
       "<span style=\"color: #ffffff; text-decoration-color: #ffffff; font-style: italic\">  </span><span style=\"color: #ffffff; text-decoration-color: #ffffff; font-style: italic\">\"type\"</span><span style=\"color: #ffffff; text-decoration-color: #ffffff; font-style: italic\">: </span><span style=\"color: #ffffff; text-decoration-color: #ffffff; font-style: italic\">\"function\"</span><span style=\"color: #ffffff; text-decoration-color: #ffffff; font-style: italic\">,</span>\n",
       "<span style=\"color: #ffffff; text-decoration-color: #ffffff; font-style: italic\">  </span><span style=\"color: #ffffff; text-decoration-color: #ffffff; font-style: italic\">\"name\"</span><span style=\"color: #ffffff; text-decoration-color: #ffffff; font-style: italic\">: </span><span style=\"color: #ffffff; text-decoration-color: #ffffff; font-style: italic\">\"google\"</span><span style=\"color: #ffffff; text-decoration-color: #ffffff; font-style: italic\">,</span>\n",
       "<span style=\"color: #ffffff; text-decoration-color: #ffffff; font-style: italic\">  </span><span style=\"color: #ffffff; text-decoration-color: #ffffff; font-style: italic\">\"arguments\"</span><span style=\"color: #ffffff; text-decoration-color: #ffffff; font-style: italic\">: </span><span style=\"color: #ffffff; text-decoration-color: #ffffff; font-style: italic\">\"{\\\"search_query\\\":\\\"current time in Singapore\\\"}\"</span>\n",
       "<span style=\"color: #ffffff; text-decoration-color: #ffffff; font-weight: bold; font-style: italic\">}</span>\n",
       "</pre>\n"
      ],
      "text/plain": [
       "\u001b[1;3;97m{\u001b[0m\n",
       "\u001b[3;97m  \u001b[0m\u001b[3;97m\"type\"\u001b[0m\u001b[3;97m: \u001b[0m\u001b[3;97m\"function\"\u001b[0m\u001b[3;97m,\u001b[0m\n",
       "\u001b[3;97m  \u001b[0m\u001b[3;97m\"name\"\u001b[0m\u001b[3;97m: \u001b[0m\u001b[3;97m\"google\"\u001b[0m\u001b[3;97m,\u001b[0m\n",
       "\u001b[3;97m  \u001b[0m\u001b[3;97m\"arguments\"\u001b[0m\u001b[3;97m: \u001b[0m\u001b[3;97m\"\u001b[0m\u001b[3;97m{\u001b[0m\u001b[3;97m\\\"search_query\\\":\\\"current time in Singapore\\\"\u001b[0m\u001b[3;97m}\u001b[0m\u001b[3;97m\"\u001b[0m\n",
       "\u001b[1;3;97m}\u001b[0m\n"
      ]
     },
     "metadata": {},
     "output_type": "display_data"
    },
    {
     "name": "stdout",
     "output_type": "stream",
     "text": [
      "\n"
     ]
    },
    {
     "data": {
      "text/html": [
       "<pre style=\"white-space:pre;overflow-x:auto;line-height:normal;font-family:Menlo,'DejaVu Sans Mono',consolas,'Courier New',monospace\"><span style=\"color: #ffff00; text-decoration-color: #ffff00\">Use Exllama create:</span>\n",
       "</pre>\n"
      ],
      "text/plain": [
       "\u001b[93mUse Exllama create:\u001b[0m\n"
      ]
     },
     "metadata": {},
     "output_type": "display_data"
    },
    {
     "data": {
      "text/html": [
       "<pre style=\"white-space:pre;overflow-x:auto;line-height:normal;font-family:Menlo,'DejaVu Sans Mono',consolas,'Courier New',monospace\"><span style=\"color: #ffffff; text-decoration-color: #ffffff; font-weight: bold; font-style: italic\">{</span>\n",
       "<span style=\"color: #ffffff; text-decoration-color: #ffffff; font-style: italic\">  </span><span style=\"color: #ffffff; text-decoration-color: #ffffff; font-style: italic\">\"type\"</span><span style=\"color: #ffffff; text-decoration-color: #ffffff; font-style: italic\">: </span><span style=\"color: #ffffff; text-decoration-color: #ffffff; font-style: italic\">\"function\"</span><span style=\"color: #ffffff; text-decoration-color: #ffffff; font-style: italic\">,</span>\n",
       "<span style=\"color: #ffffff; text-decoration-color: #ffffff; font-style: italic\">  </span><span style=\"color: #ffffff; text-decoration-color: #ffffff; font-style: italic\">\"name\"</span><span style=\"color: #ffffff; text-decoration-color: #ffffff; font-style: italic\">: </span><span style=\"color: #ffffff; text-decoration-color: #ffffff; font-style: italic\">\"google\"</span><span style=\"color: #ffffff; text-decoration-color: #ffffff; font-style: italic\">,</span>\n",
       "<span style=\"color: #ffffff; text-decoration-color: #ffffff; font-style: italic\">  </span><span style=\"color: #ffffff; text-decoration-color: #ffffff; font-style: italic\">\"arguments\"</span><span style=\"color: #ffffff; text-decoration-color: #ffffff; font-style: italic\">: </span><span style=\"color: #ffffff; text-decoration-color: #ffffff; font-style: italic\">\"{\\\"search_query\\\": \\\"current time in Singapore\\\"}\"</span>\n",
       "<span style=\"color: #ffffff; text-decoration-color: #ffffff; font-weight: bold; font-style: italic\">}</span>\n",
       "</pre>\n"
      ],
      "text/plain": [
       "\u001b[1;3;97m{\u001b[0m\n",
       "\u001b[3;97m  \u001b[0m\u001b[3;97m\"type\"\u001b[0m\u001b[3;97m: \u001b[0m\u001b[3;97m\"function\"\u001b[0m\u001b[3;97m,\u001b[0m\n",
       "\u001b[3;97m  \u001b[0m\u001b[3;97m\"name\"\u001b[0m\u001b[3;97m: \u001b[0m\u001b[3;97m\"google\"\u001b[0m\u001b[3;97m,\u001b[0m\n",
       "\u001b[3;97m  \u001b[0m\u001b[3;97m\"arguments\"\u001b[0m\u001b[3;97m: \u001b[0m\u001b[3;97m\"\u001b[0m\u001b[3;97m{\u001b[0m\u001b[3;97m\\\"search_query\\\": \\\"current time in Singapore\\\"\u001b[0m\u001b[3;97m}\u001b[0m\u001b[3;97m\"\u001b[0m\n",
       "\u001b[1;3;97m}\u001b[0m\n"
      ]
     },
     "metadata": {},
     "output_type": "display_data"
    }
   ],
   "source": [
    "# Use openai\n",
    "import json\n",
    "if os.environ.get(\"OPENAI_API_KEY\"):\n",
    "    console.print(\"[yellow]Use GPT-4o:[/]\")\n",
    "    response = client.chat.completions.create(\n",
    "        model=\"gpt-4o\",\n",
    "        messages=[{\"role\": \"user\", \"content\": \"What is the current time in Singapore?\"}],\n",
    "        tools=[\n",
    "            {\n",
    "                \"type\": \"function\",\n",
    "                \"function\": {\n",
    "                    \"name\": \"google\",\n",
    "                    \"description\": \"The 'google' function is a powerful tool that allows the AI to gather external information from the internet using Google search. It can be invoked when the AI needs to answer a question or provide information that requires up-to-date, comprehensive, and diverse sources which are not inherently known by the AI. For instance, it can be used to find current date, current news, weather updates, latest sports scores, trending topics, specific facts, or even the current date and time. The usage of this tool should be considered when the user's query implies or explicitly requests recent or wide-ranging data, or when the AI's inherent knowledge base may not have the required or most current information. The 'search_query' parameter should be a concise and accurate representation of the information needed.\",\n",
    "                    \"parameters\": {\n",
    "                        \"type\": \"object\",\n",
    "                        \"properties\": {\n",
    "                            \"search_query\": {\n",
    "                                \"type\": \"string\",\n",
    "                                \"description\": \"The search query to search google with. For example, to find the current date or time, use 'current date' or 'current time' respectively.\"\n",
    "                            }\n",
    "                        },\n",
    "                        \"required\": [\"search_query\"]\n",
    "                    }\n",
    "                }\n",
    "            }\n",
    "        ],\n",
    "        tool_choice=\"required\",\n",
    "        stream=False\n",
    "    )\n",
    "    console.print(f\"[bright_white italic]{json.dumps(response.extract(),indent=2)}[/]\")\n",
    "    print()\n",
    "\n",
    "# Use exllama\n",
    "console.print(\"[bright_yellow]Use LlamaCPP:[/]\")\n",
    "response = client.chat.completions.create(\n",
    "    model=\"ttt-llamacpp-dolphin\",\n",
    "    messages=[{\"role\": \"user\", \"content\": \"What is the current time in Singapore?\"},\n",
    "              {\"role\": \"assistant\",\"content\":\"\"}],\n",
    "    tools=[\n",
    "        {\n",
    "            \"type\": \"function\",\n",
    "            \"function\": {\n",
    "                \"name\": \"google\",\n",
    "                \"description\": \"The 'google' function is a powerful tool that allows the AI to gather external information from the internet using Google search. It can be invoked when the AI needs to answer a question or provide information that requires up-to-date, comprehensive, and diverse sources which are not inherently known by the AI. For instance, it can be used to find current date, current news, weather updates, latest sports scores, trending topics, specific facts, or even the current date and time. The usage of this tool should be considered when the user's query implies or explicitly requests recent or wide-ranging data, or when the AI's inherent knowledge base may not have the required or most current information. The 'search_query' parameter should be a concise and accurate representation of the information needed.\",\n",
    "                \"parameters\": {\n",
    "                    \"type\": \"object\",\n",
    "                    \"properties\": {\n",
    "                        \"search_query\": {\n",
    "                            \"type\": \"string\",\n",
    "                            \"description\": \"The search query to search google with. For example, to find the current date or time, use 'current date' or 'current time' respectively.\"\n",
    "                        }\n",
    "                    },\n",
    "                    \"required\": [\"search_query\"]\n",
    "                }\n",
    "            }\n",
    "        }\n",
    "    ],\n",
    "    tool_choice=\"required\",\n",
    "    stream=False\n",
    ")\n",
    "import json\n",
    "console.print(f\"[bright_white italic]{json.dumps(response.extract(),indent=2)}[/]\")\n"
   ]
  },
  {
   "cell_type": "markdown",
   "metadata": {},
   "source": [
    "e) Structured Output"
   ]
  },
  {
   "cell_type": "code",
   "execution_count": 17,
   "metadata": {},
   "outputs": [
    {
     "data": {
      "text/html": [
       "<pre style=\"white-space:pre;overflow-x:auto;line-height:normal;font-family:Menlo,'DejaVu Sans Mono',consolas,'Courier New',monospace\"><span style=\"color: #808000; text-decoration-color: #808000\">Use GPT-4o:</span>\n",
       "</pre>\n"
      ],
      "text/plain": [
       "\u001b[33mUse GPT-4o:\u001b[0m\n"
      ]
     },
     "metadata": {},
     "output_type": "display_data"
    },
    {
     "data": {
      "text/html": [
       "<pre style=\"white-space:pre;overflow-x:auto;line-height:normal;font-family:Menlo,'DejaVu Sans Mono',consolas,'Courier New',monospace\"><span style=\"color: #ffffff; text-decoration-color: #ffffff; font-weight: bold; font-style: italic\">{</span>\n",
       "<span style=\"color: #ffffff; text-decoration-color: #ffffff; font-style: italic\">  </span><span style=\"color: #ffffff; text-decoration-color: #ffffff; font-style: italic\">\"type\"</span><span style=\"color: #ffffff; text-decoration-color: #ffffff; font-style: italic\">: </span><span style=\"color: #ffffff; text-decoration-color: #ffffff; font-style: italic\">\"content\"</span><span style=\"color: #ffffff; text-decoration-color: #ffffff; font-style: italic\">,</span>\n",
       "<span style=\"color: #ffffff; text-decoration-color: #ffffff; font-style: italic\">  </span><span style=\"color: #ffffff; text-decoration-color: #ffffff; font-style: italic\">\"content\"</span><span style=\"color: #ffffff; text-decoration-color: #ffffff; font-style: italic\">: </span><span style=\"color: #ffffff; text-decoration-color: #ffffff; font-style: italic\">\"{\\\"title\\\":\\\"Foundation\\\",\\\"summary\\\":\\\"In Isaac Asimov's seminal science fiction novel </span>\n",
       "<span style=\"color: #ffffff; text-decoration-color: #ffffff; font-style: italic\">\\\\\\\"Foundation,\\\\\\\" the far-reaching vision of psychohistory is unveiled as mathematician Hari Seldon foresees the </span>\n",
       "<span style=\"color: #ffffff; text-decoration-color: #ffffff; font-style: italic\">inevitable downfall of the expansive Galactic Empire. Desiring to reduce a foreseen era of chaos and anarchy </span>\n",
       "<span style=\"color: #ffffff; text-decoration-color: #ffffff; font-style: italic\">following the Empire's collapse, Seldon establishes the Foundation\\u2014a collective of scientists and scholars </span>\n",
       "<span style=\"color: #ffffff; text-decoration-color: #ffffff; font-style: italic\">tasked with preserving knowledge and cultural integrity to eventually establish a new, stable civilization. As the </span>\n",
       "<span style=\"color: #ffffff; text-decoration-color: #ffffff; font-style: italic\">book unfolds, it chronicles intricate power struggles, the pervasive influence of knowledge, and humanity's </span>\n",
       "<span style=\"color: #ffffff; text-decoration-color: #ffffff; font-style: italic\">enduring quest for survival and order amidst cosmic repercussions.\\\",\\\"author\\\":\\\"Isaac </span>\n",
       "<span style=\"color: #ffffff; text-decoration-color: #ffffff; font-style: italic\">Asimov\\\",\\\"published_year\\\":1951}\"</span>\n",
       "<span style=\"color: #ffffff; text-decoration-color: #ffffff; font-weight: bold; font-style: italic\">}</span>\n",
       "</pre>\n"
      ],
      "text/plain": [
       "\u001b[1;3;97m{\u001b[0m\n",
       "\u001b[3;97m  \u001b[0m\u001b[3;97m\"type\"\u001b[0m\u001b[3;97m: \u001b[0m\u001b[3;97m\"content\"\u001b[0m\u001b[3;97m,\u001b[0m\n",
       "\u001b[3;97m  \u001b[0m\u001b[3;97m\"content\"\u001b[0m\u001b[3;97m: \u001b[0m\u001b[3;97m\"\u001b[0m\u001b[3;97m{\u001b[0m\u001b[3;97m\\\"title\\\":\\\"Foundation\\\",\\\"summary\\\":\\\"In Isaac Asimov's seminal science fiction novel \u001b[0m\n",
       "\u001b[3;97m\\\\\\\"Foundation,\\\\\\\" the far-reaching vision of psychohistory is unveiled as mathematician Hari Seldon foresees the \u001b[0m\n",
       "\u001b[3;97minevitable downfall of the expansive Galactic Empire. Desiring to reduce a foreseen era of chaos and anarchy \u001b[0m\n",
       "\u001b[3;97mfollowing the Empire's collapse, Seldon establishes the Foundation\\u2014a collective of scientists and scholars \u001b[0m\n",
       "\u001b[3;97mtasked with preserving knowledge and cultural integrity to eventually establish a new, stable civilization. As the \u001b[0m\n",
       "\u001b[3;97mbook unfolds, it chronicles intricate power struggles, the pervasive influence of knowledge, and humanity's \u001b[0m\n",
       "\u001b[3;97menduring quest for survival and order amidst cosmic repercussions.\\\",\\\"author\\\":\\\"Isaac \u001b[0m\n",
       "\u001b[3;97mAsimov\\\",\\\"published_year\\\":1951\u001b[0m\u001b[3;97m}\u001b[0m\u001b[3;97m\"\u001b[0m\n",
       "\u001b[1;3;97m}\u001b[0m\n"
      ]
     },
     "metadata": {},
     "output_type": "display_data"
    },
    {
     "name": "stdout",
     "output_type": "stream",
     "text": [
      "\n"
     ]
    },
    {
     "data": {
      "text/html": [
       "<pre style=\"white-space:pre;overflow-x:auto;line-height:normal;font-family:Menlo,'DejaVu Sans Mono',consolas,'Courier New',monospace\"><span style=\"color: #ffff00; text-decoration-color: #ffff00\">Use LlamaCPP:</span>\n",
       "</pre>\n"
      ],
      "text/plain": [
       "\u001b[93mUse LlamaCPP:\u001b[0m\n"
      ]
     },
     "metadata": {},
     "output_type": "display_data"
    },
    {
     "data": {
      "text/html": [
       "<pre style=\"white-space:pre;overflow-x:auto;line-height:normal;font-family:Menlo,'DejaVu Sans Mono',consolas,'Courier New',monospace\"><span style=\"color: #ffffff; text-decoration-color: #ffffff; font-weight: bold; font-style: italic\">{</span>\n",
       "<span style=\"color: #ffffff; text-decoration-color: #ffffff; font-style: italic\">  </span><span style=\"color: #ffffff; text-decoration-color: #ffffff; font-style: italic\">\"type\"</span><span style=\"color: #ffffff; text-decoration-color: #ffffff; font-style: italic\">: </span><span style=\"color: #ffffff; text-decoration-color: #ffffff; font-style: italic\">\"content\"</span><span style=\"color: #ffffff; text-decoration-color: #ffffff; font-style: italic\">,</span>\n",
       "<span style=\"color: #ffffff; text-decoration-color: #ffffff; font-style: italic\">  </span><span style=\"color: #ffffff; text-decoration-color: #ffffff; font-style: italic\">\"content\"</span><span style=\"color: #ffffff; text-decoration-color: #ffffff; font-style: italic\">: </span><span style=\"color: #ffffff; text-decoration-color: #ffffff; font-style: italic\">\"The Foundation series is known for its exploration of themes such as\\n        the limits of human </span>\n",
       "<span style=\"color: #ffffff; text-decoration-color: #ffffff; font-style: italic\">knowledge, the role of technology in society,\\n        the nature of power and authority, and the potential for </span>\n",
       "<span style=\"color: #ffffff; text-decoration-color: #ffffff; font-style: italic\">social\\n        and political change. The series has been widely praised for its\\n        innovative use of </span>\n",
       "<span style=\"color: #ffffff; text-decoration-color: #ffffff; font-style: italic\">scientific and mathematical concepts to create\\n        a believable and complex future history, as well as for </span>\n",
       "<span style=\"color: #ffffff; text-decoration-color: #ffffff; font-style: italic\">its\\n        engaging storytelling and memorable characters. It has been\\n        translated into numerous </span>\n",
       "<span style=\"color: #ffffff; text-decoration-color: #ffffff; font-style: italic\">languages and has inspired a wide\\n        range of spin-off works, including prequels, sequels, and\\n        </span>\n",
       "<span style=\"color: #ffffff; text-decoration-color: #ffffff; font-style: italic\">adaptations in other media.\"</span>\n",
       "<span style=\"color: #ffffff; text-decoration-color: #ffffff; font-weight: bold; font-style: italic\">}</span>\n",
       "</pre>\n"
      ],
      "text/plain": [
       "\u001b[1;3;97m{\u001b[0m\n",
       "\u001b[3;97m  \u001b[0m\u001b[3;97m\"type\"\u001b[0m\u001b[3;97m: \u001b[0m\u001b[3;97m\"content\"\u001b[0m\u001b[3;97m,\u001b[0m\n",
       "\u001b[3;97m  \u001b[0m\u001b[3;97m\"content\"\u001b[0m\u001b[3;97m: \u001b[0m\u001b[3;97m\"The Foundation series is known for its exploration of themes such as\\n        the limits of human \u001b[0m\n",
       "\u001b[3;97mknowledge, the role of technology in society,\\n        the nature of power and authority, and the potential for \u001b[0m\n",
       "\u001b[3;97msocial\\n        and political change. The series has been widely praised for its\\n        innovative use of \u001b[0m\n",
       "\u001b[3;97mscientific and mathematical concepts to create\\n        a believable and complex future history, as well as for \u001b[0m\n",
       "\u001b[3;97mits\\n        engaging storytelling and memorable characters. It has been\\n        translated into numerous \u001b[0m\n",
       "\u001b[3;97mlanguages and has inspired a wide\\n        range of spin-off works, including prequels, sequels, and\\n        \u001b[0m\n",
       "\u001b[3;97madaptations in other media.\"\u001b[0m\n",
       "\u001b[1;3;97m}\u001b[0m\n"
      ]
     },
     "metadata": {},
     "output_type": "display_data"
    }
   ],
   "source": [
    "from pydantic import BaseModel\n",
    "class Book(BaseModel):\n",
    "    title: str\n",
    "    summary: str\n",
    "    author: str\n",
    "    published_year: int\n",
    "response_model = Book.schema()\n",
    "\n",
    "data = \"\"\"Foundation is a science fiction novel by American writer\n",
    "        Isaac Asimov. It is the first published in his Foundation Trilogy (later\n",
    "        expanded into the Foundation series). Foundation is a cycle of five\n",
    "        interrelated short stories, first published as a single book by Gnome Press\n",
    "        in 1951. Collectively they tell the early story of the Foundation,\n",
    "        an institute founded by psychohistorian Hari Seldon to preserve the best\n",
    "        of galactic civilization after the collapse of the Galactic Empire.\"\"\"\n",
    "\n",
    "# Use openai\n",
    "if os.environ.get(\"OPENAI_API_KEY\"):\n",
    "\n",
    "    console.print(\"[yellow]Use GPT-4o:[/]\")\n",
    "\n",
    "    response = client.beta.chat.completions.parse(\n",
    "        model=\"gpt-4o\",\n",
    "        response_format=Book,\n",
    "        messages=[{\"role\": \"user\", \"content\": data}]\n",
    "    )\n",
    "    console.print(f\"[bright_white italic]{json.dumps(response.extract(), indent=2)}[/]\")\n",
    "    print()\n",
    "\n",
    "# Use exllama\n",
    "console.print(\"[bright_yellow]Use LlamaCPP:[/]\")\n",
    "response = client.chat.completions.create(\n",
    "    model=\"ttt-exllamav2-mistral7b\",\n",
    "    response_format=Book,\n",
    "    messages=[{\"role\": \"user\", \"content\": data}],\n",
    "    timeout=60\n",
    ")\n",
    "import json\n",
    "console.print(f\"[bright_white italic]{json.dumps(response.extract(), indent=2)}[/]\")\n"
   ]
  }
 ],
 "metadata": {
  "kernelspec": {
   "display_name": ".venv",
   "language": "python",
   "name": "python3"
  },
  "language_info": {
   "codemirror_mode": {
    "name": "ipython",
    "version": 3
   },
   "file_extension": ".py",
   "mimetype": "text/x-python",
   "name": "python",
   "nbconvert_exporter": "python",
   "pygments_lexer": "ipython3",
   "version": "3.10.12"
  }
 },
 "nbformat": 4,
 "nbformat_minor": 2
}
