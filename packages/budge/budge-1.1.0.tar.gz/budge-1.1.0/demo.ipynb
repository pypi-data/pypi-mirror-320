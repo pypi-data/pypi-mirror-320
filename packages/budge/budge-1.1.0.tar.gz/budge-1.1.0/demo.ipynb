{
 "cells": [
  {
   "cell_type": "code",
   "execution_count": 5,
   "metadata": {},
   "outputs": [
    {
     "data": {
      "text/plain": [
       "<stockholm.Money: \"1.00\">"
      ]
     },
     "execution_count": 5,
     "metadata": {},
     "output_type": "execute_result"
    }
   ],
   "source": [
    "from budge import Account, Transaction, RepeatingTransaction\n",
    "from datetime import date\n",
    "from dateutil.rrule import rrule, MONTHLY\n",
    "from stockholm import Money\n",
    "\n",
    "today = date(2022, 12, 6)\n",
    "\n",
    "rt1 = RepeatingTransaction(\n",
    "    \"test 1\", Money(1), schedule=rrule(freq=MONTHLY, bymonthday=1, dtstart=today)\n",
    ")\n",
    "rt2 = RepeatingTransaction(\n",
    "    \"test 2\", Money(2), schedule=rrule(freq=MONTHLY, bymonthday=15, dtstart=today)\n",
    ")\n",
    "t1 = Transaction(\"test 1\", Money(1), date(2022, 12, 1))\n",
    "acct = Account(\"test\")\n",
    "acct.transactions.add(t1)\n",
    "acct.repeating_transactions.add(rt1, rt2)\n",
    "acct.balance(today)"
   ]
  },
  {
   "cell_type": "code",
   "execution_count": 6,
   "metadata": {},
   "outputs": [
    {
     "data": {
      "text/plain": [
       "<stockholm.Money: \"37.00\">"
      ]
     },
     "execution_count": 6,
     "metadata": {},
     "output_type": "execute_result"
    }
   ],
   "source": [
    "from dateutil.relativedelta import relativedelta\n",
    "\n",
    "as_of = today + relativedelta(years=1)\n",
    "\n",
    "acct.balance(as_of)"
   ]
  },
  {
   "cell_type": "code",
   "execution_count": 7,
   "metadata": {},
   "outputs": [
    {
     "name": "stdout",
     "output_type": "stream",
     "text": [
      "-9.00\n",
      "10.00\n"
     ]
    }
   ],
   "source": [
    "from budge import Transfer\n",
    "\n",
    "\n",
    "acct2 = Account(\"test 2\")\n",
    "transfer = Transfer(\n",
    "    \"test transfer\", Money(10), today, from_account=acct, to_account=acct2\n",
    ")\n",
    "print(acct.balance(today))\n",
    "print(acct2.balance(today))"
   ]
  },
  {
   "cell_type": "code",
   "execution_count": 8,
   "metadata": {},
   "outputs": [
    {
     "data": {
      "text/plain": [
       "[(datetime.date(2022, 11, 28), <stockholm.Money: \"0.00\">),\n",
       " (datetime.date(2022, 11, 29), <stockholm.Money: \"0.00\">),\n",
       " (datetime.date(2022, 11, 30), <stockholm.Money: \"0.00\">),\n",
       " (datetime.date(2022, 12, 1), <stockholm.Money: \"1.00\">),\n",
       " (datetime.date(2022, 12, 2), <stockholm.Money: \"1.00\">),\n",
       " (datetime.date(2022, 12, 3), <stockholm.Money: \"1.00\">),\n",
       " (datetime.date(2022, 12, 4), <stockholm.Money: \"1.00\">),\n",
       " (datetime.date(2022, 12, 5), <stockholm.Money: \"1.00\">),\n",
       " (datetime.date(2022, 12, 6), <stockholm.Money: \"-9.00\">),\n",
       " (datetime.date(2022, 12, 7), <stockholm.Money: \"-9.00\">),\n",
       " (datetime.date(2022, 12, 8), <stockholm.Money: \"-9.00\">),\n",
       " (datetime.date(2022, 12, 9), <stockholm.Money: \"-9.00\">),\n",
       " (datetime.date(2022, 12, 10), <stockholm.Money: \"-9.00\">),\n",
       " (datetime.date(2022, 12, 11), <stockholm.Money: \"-9.00\">),\n",
       " (datetime.date(2022, 12, 12), <stockholm.Money: \"-9.00\">),\n",
       " (datetime.date(2022, 12, 13), <stockholm.Money: \"-9.00\">),\n",
       " (datetime.date(2022, 12, 14), <stockholm.Money: \"-9.00\">),\n",
       " (datetime.date(2022, 12, 15), <stockholm.Money: \"-7.00\">),\n",
       " (datetime.date(2022, 12, 16), <stockholm.Money: \"-7.00\">)]"
      ]
     },
     "execution_count": 8,
     "metadata": {},
     "output_type": "execute_result"
    }
   ],
   "source": [
    "[\n",
    "    balance\n",
    "    for balance in acct.daily_balance(\n",
    "        start_date=date(2022, 11, 28), end_date=date(2022, 12, 16)\n",
    "    )\n",
    "]"
   ]
  }
 ],
 "metadata": {
  "kernelspec": {
   "display_name": ".venv",
   "language": "python",
   "name": "python3"
  },
  "language_info": {
   "codemirror_mode": {
    "name": "ipython",
    "version": 3
   },
   "file_extension": ".py",
   "mimetype": "text/x-python",
   "name": "python",
   "nbconvert_exporter": "python",
   "pygments_lexer": "ipython3",
   "version": "3.13.1"
  }
 },
 "nbformat": 4,
 "nbformat_minor": 2
}
