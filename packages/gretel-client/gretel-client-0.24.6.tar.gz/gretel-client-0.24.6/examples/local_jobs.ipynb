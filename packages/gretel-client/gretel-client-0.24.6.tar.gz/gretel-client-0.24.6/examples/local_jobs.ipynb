{
    "cells": [
        {
            "cell_type": "code",
            "execution_count": null,
            "source": [
                "import json\n",
                "\n",
                "import yaml\n",
                "from smart_open import open\n",
                "import pandas as pd\n",
                "\n",
                "from gretel_client import create_project, submit_docker_local\n",
                "\n",
                "data_source = \"https://gretel-public-website.s3.us-west-2.amazonaws.com/datasets/USAdultIncome5k.csv\"\n",
                "\n",
                "# Policy to search for \"sensitive PII\" as defined by\n",
                "# https://www.experian.com/blogs/ask-experian/what-is-personally-identifiable-information/\n",
                "config = \"\"\"\n",
                "schema_version: 1.0\n",
                "models:\n",
                "  - classify:\n",
                "      data_source: \"_\"\n",
                "      labels:\n",
                "        - person_name\n",
                "        - credit_card_number\n",
                "        - phone_number\n",
                "        - us_social_security_number\n",
                "        - email_address\n",
                "\"\"\"\n"
            ],
            "outputs": [],
            "metadata": {}
        },
        {
            "cell_type": "code",
            "execution_count": null,
            "source": [
                "project = create_project()"
            ],
            "outputs": [],
            "metadata": {}
        },
        {
            "cell_type": "code",
            "execution_count": null,
            "source": [
                "# the following cell will create the classification model and \n",
                "# run a sample of the data set through the model. this sample\n",
                "# can be used to ensure the model is functioning correctly\n",
                "# before continuing.\n",
                "classify = project.create_model_obj(\n",
                "    model_config=yaml.safe_load(config),\n",
                "    data_source=data_source\n",
                ")\n",
                "\n",
                "run = submit_docker_local(classify, output_dir=\"tmp/\")"
            ],
            "outputs": [],
            "metadata": {}
        },
        {
            "cell_type": "code",
            "execution_count": null,
            "source": [
                "# review the sampled classification report\n",
                "report = json.loads(open(\"tmp/report_json.json.gz\").read())\n",
                "pd.DataFrame(report[\"metadata\"][\"fields\"])"
            ],
            "outputs": [],
            "metadata": {}
        },
        {
            "cell_type": "code",
            "execution_count": null,
            "source": [
                "# next let's classify the remaining records using the model\n",
                "# that was just created.\n",
                "classify_records = classify.create_record_handler_obj(data_source=data_source)\n",
                "\n",
                "run = submit_docker_local(\n",
                "    classify_records,\n",
                "    model_path=\"tmp/model.tar.gz\",\n",
                "    output_dir=\"tmp/\"\n",
                ")"
            ],
            "outputs": [],
            "metadata": {}
        },
        {
            "cell_type": "code",
            "execution_count": null,
            "source": [
                "report = json.loads(open(\"tmp/report_json.json.gz\").read())\n",
                "pd.DataFrame(report[\"metadata\"][\"fields\"])"
            ],
            "outputs": [],
            "metadata": {}
        }
    ],
    "metadata": {
        "orig_nbformat": 4,
        "language_info": {
            "name": "python",
            "version": "3.7.9",
            "mimetype": "text/x-python",
            "codemirror_mode": {
                "name": "ipython",
                "version": 3
            },
            "pygments_lexer": "ipython3",
            "nbconvert_exporter": "python",
            "file_extension": ".py"
        },
        "kernelspec": {
            "name": "python3",
            "display_name": "Python 3.7.9 64-bit ('g': virtualenvwrapper)"
        },
        "interpreter": {
            "hash": "9bba8f6ed2feafdad698ed6a1926c15a7650a75eedae60d223f34187f1656d66"
        }
    },
    "nbformat": 4,
    "nbformat_minor": 2
}