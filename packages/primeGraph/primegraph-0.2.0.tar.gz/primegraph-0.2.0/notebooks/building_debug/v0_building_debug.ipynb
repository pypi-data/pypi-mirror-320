{
 "cells": [
  {
   "cell_type": "markdown",
   "metadata": {},
   "source": [
    "# Test Run\n"
   ]
  },
  {
   "cell_type": "code",
   "execution_count": 1,
   "metadata": {},
   "outputs": [
    {
     "data": {
      "text/plain": [
       "<tiny_graph.graph.base.BaseGraph at 0x106527990>"
      ]
     },
     "execution_count": 1,
     "metadata": {},
     "output_type": "execute_result"
    }
   ],
   "source": [
    "import os\n",
    "import sys\n",
    "\n",
    "sys.path.append(os.path.abspath(\"../..\"))\n",
    "\n",
    "\n",
    "from tiny_graph.constants import END, START\n",
    "from tiny_graph.graph.base import BaseGraph\n",
    "\n",
    "# Create a simple example graph\n",
    "graph = BaseGraph()\n",
    "\n",
    "\n",
    "# Define some example actions\n",
    "@graph.node()\n",
    "def escape():\n",
    "    print(\"Starting workflow\")\n",
    "\n",
    "\n",
    "@graph.node()\n",
    "def process_data():\n",
    "    print(\"Processing data\")\n",
    "\n",
    "\n",
    "@graph.node()\n",
    "def validate():\n",
    "    print(\"Validating results\")\n",
    "\n",
    "\n",
    "@graph.node()\n",
    "def prep():\n",
    "    print(\"Workflow complete\")\n",
    "\n",
    "\n",
    "# Add edges to create workflow\n",
    "graph.add_edge(START, \"process_data\")\n",
    "graph.add_edge(\"process_data\", \"validate\")\n",
    "graph.add_edge(\"process_data\", \"escape\")\n",
    "graph.add_edge(\"escape\", \"prep\")\n",
    "graph.add_edge(\"validate\", \"prep\")\n",
    "graph.add_edge(\"prep\", END)\n",
    "\n",
    "# Visualize the graph\n",
    "graph.compile()"
   ]
  },
  {
   "cell_type": "code",
   "execution_count": 2,
   "metadata": {},
   "outputs": [
    {
     "data": {
      "text/plain": [
       "{Edge(id='__start___to_process_data_1', start_node='__start__', end_node='process_data'),\n",
       " Edge(id='escape_to_prep_1', start_node='escape', end_node='prep'),\n",
       " Edge(id='prep_to___end___1', start_node='prep', end_node='__end__'),\n",
       " Edge(id='process_data_to_escape_1', start_node='process_data', end_node='escape'),\n",
       " Edge(id='process_data_to_validate_1', start_node='process_data', end_node='validate'),\n",
       " Edge(id='validate_to_prep_1', start_node='validate', end_node='prep')}"
      ]
     },
     "execution_count": 2,
     "metadata": {},
     "output_type": "execute_result"
    }
   ],
   "source": [
    "graph.edges"
   ]
  },
  {
   "cell_type": "code",
   "execution_count": 5,
   "metadata": {},
   "outputs": [],
   "source": [
    "graph.visualize()"
   ]
  },
  {
   "cell_type": "code",
   "execution_count": 4,
   "metadata": {},
   "outputs": [
    {
     "data": {
      "text/plain": [
       "['process_data', ['validate', 'escape'], 'prep']"
      ]
     },
     "execution_count": 4,
     "metadata": {},
     "output_type": "execute_result"
    }
   ],
   "source": [
    "graph.execution_plan"
   ]
  },
  {
   "cell_type": "code",
   "execution_count": null,
   "metadata": {},
   "outputs": [],
   "source": [
    "# Create a simple example graph\n",
    "graph = BaseGraph()\n",
    "\n",
    "\n",
    "# Define some example actions\n",
    "@graph.node()\n",
    "def escape():\n",
    "    print(\"Starting workflow\")\n",
    "\n",
    "\n",
    "@graph.node()\n",
    "def process_data():\n",
    "    print(\"Processing data\")\n",
    "\n",
    "\n",
    "@graph.node()\n",
    "def validate():\n",
    "    print(\"Validating results\")\n",
    "\n",
    "\n",
    "# @graph.node()\n",
    "# def aa():\n",
    "#     print(\"Validating results\")\n",
    "\n",
    "\n",
    "@graph.node()\n",
    "def bb():\n",
    "    print(\"Validating results\")\n",
    "\n",
    "\n",
    "@graph.node()\n",
    "def prep():\n",
    "    print(\"Workflow complete\")\n",
    "\n",
    "\n",
    "# Add edges to create workflow\n",
    "graph.add_edge(START, \"process_data\")\n",
    "graph.add_edge(\"process_data\", \"validate\")\n",
    "graph.add_edge(\"validate\", \"escape\")\n",
    "graph.add_edge(\"escape\", \"prep\")\n",
    "# graph.add_edge(\"validate\", \"aa\")\n",
    "# graph.add_edge(\"aa\", \"bb\")\n",
    "graph.add_edge(\"validate\", \"bb\")\n",
    "graph.add_edge(\"bb\", \"prep\")\n",
    "graph.add_edge(\"prep\", END)\n",
    "\n",
    "# Visualize the graph\n",
    "graph.compile()\n",
    "graph.execution_plan"
   ]
  },
  {
   "cell_type": "code",
   "execution_count": 8,
   "metadata": {},
   "outputs": [],
   "source": [
    "graph.visualize()"
   ]
  },
  {
   "cell_type": "code",
   "execution_count": 2,
   "metadata": {},
   "outputs": [
    {
     "data": {
      "text/plain": [
       "['process_data', 'validate', ['escape', ['aa', 'bb']], 'prep']"
      ]
     },
     "execution_count": 2,
     "metadata": {},
     "output_type": "execute_result"
    }
   ],
   "source": [
    "# Create a simple example graph\n",
    "graph = BaseGraph()\n",
    "\n",
    "\n",
    "# Define some example actions\n",
    "@graph.node()\n",
    "def escape():\n",
    "    print(\"Starting workflow\")\n",
    "\n",
    "\n",
    "@graph.node()\n",
    "def process_data():\n",
    "    print(\"Processing data\")\n",
    "\n",
    "\n",
    "@graph.node()\n",
    "def validate():\n",
    "    print(\"Validating results\")\n",
    "\n",
    "\n",
    "@graph.node()\n",
    "def aa():\n",
    "    print(\"Validating results\")\n",
    "\n",
    "\n",
    "@graph.node()\n",
    "def bb():\n",
    "    print(\"Validating results\")\n",
    "\n",
    "\n",
    "@graph.node()\n",
    "def prep():\n",
    "    print(\"Workflow complete\")\n",
    "\n",
    "\n",
    "# Add edges to create workflow\n",
    "graph.add_edge(START, \"process_data\")\n",
    "graph.add_edge(\"process_data\", \"validate\")\n",
    "graph.add_edge(\"validate\", \"escape\")\n",
    "graph.add_edge(\"escape\", \"prep\")\n",
    "graph.add_edge(\"validate\", \"aa\")\n",
    "graph.add_edge(\"aa\", \"bb\")\n",
    "graph.add_edge(\"bb\", \"prep\")\n",
    "graph.add_edge(\"prep\", END)\n",
    "\n",
    "# Visualize the graph\n",
    "graph.compile()\n",
    "graph.execution_plan"
   ]
  },
  {
   "cell_type": "code",
   "execution_count": 3,
   "metadata": {},
   "outputs": [],
   "source": [
    "graph.visualize()"
   ]
  },
  {
   "cell_type": "code",
   "execution_count": 7,
   "metadata": {},
   "outputs": [
    {
     "data": {
      "text/plain": [
       "['process_data',\n",
       " 'validate',\n",
       " [['escape', ['cc', 'dd'], 'hh'], ['aa', 'bb']],\n",
       " 'prep']"
      ]
     },
     "execution_count": 7,
     "metadata": {},
     "output_type": "execute_result"
    }
   ],
   "source": [
    "# Create a simple example graph\n",
    "graph = BaseGraph()\n",
    "\n",
    "\n",
    "# Define some example actions\n",
    "@graph.node()\n",
    "def escape():\n",
    "    print(\"Starting workflow\")\n",
    "\n",
    "\n",
    "@graph.node()\n",
    "def process_data():\n",
    "    print(\"Processing data\")\n",
    "\n",
    "\n",
    "@graph.node()\n",
    "def validate():\n",
    "    print(\"Validating results\")\n",
    "\n",
    "\n",
    "@graph.node()\n",
    "def aa():\n",
    "    print(\"Validating results\")\n",
    "\n",
    "\n",
    "@graph.node()\n",
    "def bb():\n",
    "    print(\"Validating results\")\n",
    "\n",
    "\n",
    "@graph.node()\n",
    "def dd():\n",
    "    print(\"Validating results\")\n",
    "\n",
    "\n",
    "@graph.node()\n",
    "def cc():\n",
    "    print(\"Validating results\")\n",
    "\n",
    "\n",
    "@graph.node()\n",
    "def hh():\n",
    "    print(\"Validating results\")\n",
    "\n",
    "\n",
    "@graph.node()\n",
    "def prep():\n",
    "    print(\"Workflow complete\")\n",
    "\n",
    "\n",
    "# Add edges to create workflow\n",
    "graph.add_edge(START, \"process_data\")\n",
    "graph.add_edge(\"process_data\", \"validate\")\n",
    "graph.add_edge(\"validate\", \"escape\")\n",
    "graph.add_edge(\"escape\", \"dd\")\n",
    "graph.add_edge(\"escape\", \"cc\")\n",
    "graph.add_edge(\"cc\", \"hh\")\n",
    "graph.add_edge(\"dd\", \"hh\")\n",
    "graph.add_edge(\"hh\", \"prep\")\n",
    "graph.add_edge(\"validate\", \"aa\")\n",
    "graph.add_edge(\"aa\", \"bb\")\n",
    "graph.add_edge(\"bb\", \"prep\")\n",
    "graph.add_edge(\"prep\", END)\n",
    "\n",
    "# Visualize the graph\n",
    "graph.compile()\n",
    "graph.execution_plan"
   ]
  },
  {
   "cell_type": "code",
   "execution_count": 261,
   "metadata": {},
   "outputs": [],
   "source": [
    "graph.visualize()"
   ]
  },
  {
   "cell_type": "code",
   "execution_count": 6,
   "metadata": {},
   "outputs": [
    {
     "data": {
      "text/plain": [
       "['process_data',\n",
       " 'validate',\n",
       " [['escape', ['cc', 'dd'], 'hh'], ['aa', 'bb']],\n",
       " 'prep']"
      ]
     },
     "execution_count": 6,
     "metadata": {},
     "output_type": "execute_result"
    }
   ],
   "source": [
    "graph.execution_plan"
   ]
  },
  {
   "cell_type": "code",
   "execution_count": 8,
   "metadata": {},
   "outputs": [
    {
     "data": {
      "text/plain": [
       "{Edge(id='__start___to_process_data_1', start_node='__start__', end_node='process_data'),\n",
       " Edge(id='aa_to_bb_1', start_node='aa', end_node='bb'),\n",
       " Edge(id='bb_to_prep_1', start_node='bb', end_node='prep'),\n",
       " Edge(id='cc_to_hh_1', start_node='cc', end_node='hh'),\n",
       " Edge(id='dd_to_hh_1', start_node='dd', end_node='hh'),\n",
       " Edge(id='escape_to_cc_1', start_node='escape', end_node='cc'),\n",
       " Edge(id='escape_to_dd_1', start_node='escape', end_node='dd'),\n",
       " Edge(id='hh_to_prep_1', start_node='hh', end_node='prep'),\n",
       " Edge(id='prep_to___end___1', start_node='prep', end_node='__end__'),\n",
       " Edge(id='process_data_to_validate_1', start_node='process_data', end_node='validate'),\n",
       " Edge(id='validate_to_aa_1', start_node='validate', end_node='aa'),\n",
       " Edge(id='validate_to_escape_1', start_node='validate', end_node='escape')}"
      ]
     },
     "execution_count": 8,
     "metadata": {},
     "output_type": "execute_result"
    }
   ],
   "source": [
    "graph.edges"
   ]
  },
  {
   "cell_type": "code",
   "execution_count": 9,
   "metadata": {},
   "outputs": [],
   "source": [
    "graph = BaseGraph()\n",
    "\n",
    "\n",
    "@graph.node()\n",
    "def start():\n",
    "    pass\n",
    "\n",
    "\n",
    "@graph.node()\n",
    "def end():\n",
    "    pass\n",
    "\n",
    "\n",
    "graph.add_edge(START, \"start\")\n",
    "graph.add_edge(\"start\", \"end\", None)\n",
    "graph.add_edge(\"end\", END)\n",
    "graph.compile()\n",
    "graph.execution_plan\n",
    "graph.visualize()"
   ]
  },
  {
   "cell_type": "code",
   "execution_count": 25,
   "metadata": {},
   "outputs": [
    {
     "data": {
      "text/plain": [
       "['process_data',\n",
       " 'validate',\n",
       " [['escape', ['cc', 'dd'], 'hh'], ['aa', 'bb']],\n",
       " 'prep']"
      ]
     },
     "execution_count": 25,
     "metadata": {},
     "output_type": "execute_result"
    }
   ],
   "source": [
    "graph = Graph()\n",
    "\n",
    "\n",
    "@graph.node()\n",
    "def escape():\n",
    "    print(\"Starting workflow\")\n",
    "\n",
    "\n",
    "@graph.node()\n",
    "def process_data():\n",
    "    print(\"Processing data\")\n",
    "\n",
    "\n",
    "@graph.node()\n",
    "def validate():\n",
    "    print(\"Validating results\")\n",
    "\n",
    "\n",
    "@graph.node()\n",
    "def aa():\n",
    "    print(\"Validating results\")\n",
    "\n",
    "\n",
    "@graph.node()\n",
    "def bb():\n",
    "    print(\"Validating results\")\n",
    "\n",
    "\n",
    "@graph.node()\n",
    "def dd():\n",
    "    print(\"Validating results\")\n",
    "\n",
    "\n",
    "@graph.node()\n",
    "def cc():\n",
    "    print(\"Validating results\")\n",
    "\n",
    "\n",
    "@graph.node()\n",
    "def hh():\n",
    "    print(\"Validating results\")\n",
    "\n",
    "\n",
    "@graph.node()\n",
    "def prep():\n",
    "    print(\"Workflow complete\")\n",
    "\n",
    "\n",
    "# Add edges to create workflow\n",
    "graph.add_edge(START, \"process_data\")\n",
    "graph.add_edge(\"process_data\", \"validate\")\n",
    "graph.add_edge(\"validate\", \"escape\")\n",
    "graph.add_edge(\"escape\", \"dd\")\n",
    "graph.add_edge(\"escape\", \"cc\")\n",
    "graph.add_edge(\"cc\", \"hh\")\n",
    "graph.add_edge(\"dd\", \"hh\")\n",
    "graph.add_edge(\"hh\", \"prep\")\n",
    "graph.add_edge(\"validate\", \"aa\")\n",
    "graph.add_edge(\"aa\", \"bb\")\n",
    "graph.add_edge(\"bb\", \"prep\")\n",
    "graph.add_edge(\"prep\", END)\n",
    "\n",
    "graph.compile()\n",
    "graph.visualize()\n",
    "graph.execution_plan"
   ]
  },
  {
   "cell_type": "code",
   "execution_count": 16,
   "metadata": {},
   "outputs": [
    {
     "data": {
      "text/plain": [
       "['process_data', 'validate', ['escape', ['aa', 'bb']], 'prep']"
      ]
     },
     "execution_count": 16,
     "metadata": {},
     "output_type": "execute_result"
    }
   ],
   "source": [
    "def normalize_execution_plan(plan):\n",
    "    \"\"\"Recursively sort lists within the execution plan while preserving structure.\"\"\"\n",
    "    if not isinstance(plan, list):\n",
    "        return plan\n",
    "\n",
    "    # First normalize any nested lists\n",
    "    normalized = [normalize_execution_plan(item) for item in plan]\n",
    "\n",
    "    # Sort only lists that contain all strings or all lists\n",
    "    if all(isinstance(x, str) for x in normalized) or all(\n",
    "        isinstance(x, list) for x in normalized\n",
    "    ):\n",
    "        return sorted(normalized)\n",
    "    return normalized\n",
    "\n",
    "\n",
    "normalize_execution_plan([\"process_data\", \"validate\", [\"escape\", [\"aa\", \"bb\"]], \"prep\"])\n",
    "# Concurrency testing"
   ]
  },
  {
   "cell_type": "code",
   "execution_count": 21,
   "metadata": {},
   "outputs": [
    {
     "name": "stdout",
     "output_type": "stream",
     "text": [
      "[(1, 'str/other'), (1, 'str/other'), (2, 'list'), (1, 'str/other')]\n",
      "[(1, 'str/other'), (1, 'str/other'), (2, 'list'), (1, 'str/other')]\n"
     ]
    }
   ],
   "source": [
    "test = [\"process_data\", \"validate\", [\"escape\", [\"aa\", \"bb\"]], \"prep\"]\n",
    "test2 = [\"process_data\", \"validate\", [[\"aa\", \"bb\"], \"escape\"], \"prep\"]\n",
    "\n",
    "\n",
    "def get_length(item):\n",
    "    if isinstance(item, list):\n",
    "        return len(item)\n",
    "    return 1\n",
    "\n",
    "\n",
    "def get_item_type(item):\n",
    "    if isinstance(item, list):\n",
    "        return \"list\"\n",
    "    return \"str/other\"\n",
    "\n",
    "\n",
    "print([(get_length(item), get_item_type(item)) for item in test])\n",
    "\n",
    "\n",
    "print([(get_length(item), get_item_type(item)) for item in test2])"
   ]
  },
  {
   "cell_type": "markdown",
   "metadata": {},
   "source": [
    "# Concurrency testing\n"
   ]
  },
  {
   "cell_type": "code",
   "execution_count": null,
   "metadata": {},
   "outputs": [],
   "source": [
    "import threading\n",
    "import time\n",
    "from threading import Lock\n",
    "\n",
    "\n",
    "class Counter:\n",
    "    def __init__(self):\n",
    "        self.count = 0\n",
    "        self.lock = Lock()\n",
    "\n",
    "    def increment_unsafe(self):\n",
    "        # This method is not thread-safe\n",
    "        current = self.count\n",
    "        time.sleep(0.1)  # Simulate some work\n",
    "        self.count = current + 1\n",
    "\n",
    "    def increment_safe(self):\n",
    "        # This method is thread-safe\n",
    "        with self.lock:\n",
    "            current = self.count\n",
    "            time.sleep(0.1)  # Simulate some work\n",
    "            self.count = current + 1\n",
    "\n",
    "\n",
    "# Demo of race condition\n",
    "def demo():\n",
    "    counter = Counter()\n",
    "    threads = []\n",
    "\n",
    "    # Create 5 threads that increment unsafe\n",
    "    for _ in range(5):\n",
    "        t = threading.Thread(target=counter.increment_unsafe)\n",
    "        threads.append(t)\n",
    "        t.start()\n",
    "\n",
    "    # Wait for all threads to complete\n",
    "    for t in threads:\n",
    "        t.join()\n",
    "\n",
    "    print(f\"Unsafe count should be 5, but is: {counter.count}\")\n",
    "\n",
    "    # Reset counter\n",
    "    counter.count = 0\n",
    "    threads = []\n",
    "\n",
    "    # Create 5 threads that increment safe\n",
    "    for _ in range(5):\n",
    "        t = threading.Thread(target=counter.increment_safe)\n",
    "        threads.append(t)\n",
    "        t.start()\n",
    "\n",
    "    # Wait for all threads to complete\n",
    "    for t in threads:\n",
    "        t.join()\n",
    "\n",
    "    print(f\"Safe count is correctly: {counter.count}\")\n",
    "\n",
    "\n",
    "demo()"
   ]
  },
  {
   "cell_type": "code",
   "execution_count": null,
   "metadata": {},
   "outputs": [],
   "source": [
    "from typing import Annotated, NamedTuple\n",
    "\n",
    "from pydantic import BaseModel\n",
    "\n",
    "\n",
    "# Using NamedTuple\n",
    "class PersonTuple(NamedTuple):\n",
    "    name: str\n",
    "    age: int\n",
    "    city: str\n",
    "    testing_list: Annotated[list[str], int]\n",
    "\n",
    "\n",
    "# Using Pydantic\n",
    "class PersonPydantic(BaseModel):\n",
    "    name: str\n",
    "    age: int\n",
    "    city: str\n",
    "\n",
    "\n",
    "# Create sample instances\n",
    "person_tuple = PersonTuple(\n",
    "    name=\"John Doe\", age=30, city=\"New York\", testing_list=[\"a\", \"b\", \"c\"]\n",
    ")\n",
    "person_pydantic = PersonPydantic(name=\"Jane Doe\", age=25, city=\"Boston\")\n",
    "\n",
    "print(\"NamedTuple Person:\")\n",
    "print(person_tuple)\n",
    "print(\"\\nPydantic Person:\")\n",
    "print(person_pydantic)"
   ]
  },
  {
   "cell_type": "code",
   "execution_count": null,
   "metadata": {},
   "outputs": [],
   "source": [
    "# ... existing PersonTuple and PersonPydantic definitions ...\n",
    "\n",
    "# Get schema for NamedTuple\n",
    "print(\"NamedTuple Schema:\")\n",
    "print(PersonTuple.__annotations__)  # Shows types of fields\n",
    "print(PersonTuple._fields)  # Shows field names\n",
    "\n",
    "# Get schema for Pydantic\n",
    "print(\"\\nPydantic Schema:\")\n",
    "print(PersonPydantic.model_json_schema())  # Full JSON schema\n",
    "# For a simpler view of fields and types:\n",
    "print(\"\\nPydantic Fields:\")\n",
    "print(PersonPydantic.model_fields)\n",
    "pydantic_schema = {\n",
    "    field_name: field_info.annotation\n",
    "    for field_name, field_info in PersonPydantic.model_fields.items()\n",
    "}\n",
    "print(pydantic_schema)"
   ]
  },
  {
   "cell_type": "code",
   "execution_count": null,
   "metadata": {},
   "outputs": [],
   "source": [
    "PersonTuple.__annotations__[\"testing_list\"]"
   ]
  },
  {
   "cell_type": "code",
   "execution_count": null,
   "metadata": {},
   "outputs": [],
   "source": []
  },
  {
   "cell_type": "code",
   "execution_count": null,
   "metadata": {},
   "outputs": [],
   "source": []
  },
  {
   "cell_type": "code",
   "execution_count": null,
   "metadata": {},
   "outputs": [],
   "source": []
  },
  {
   "cell_type": "code",
   "execution_count": null,
   "metadata": {},
   "outputs": [],
   "source": []
  }
 ],
 "metadata": {
  "kernelspec": {
   "display_name": "tiny_graph",
   "language": "python",
   "name": "python3"
  },
  "language_info": {
   "codemirror_mode": {
    "name": "ipython",
    "version": 3
   },
   "file_extension": ".py",
   "mimetype": "text/x-python",
   "name": "python",
   "nbconvert_exporter": "python",
   "pygments_lexer": "ipython3",
   "version": "3.11.10"
  }
 },
 "nbformat": 4,
 "nbformat_minor": 2
}
