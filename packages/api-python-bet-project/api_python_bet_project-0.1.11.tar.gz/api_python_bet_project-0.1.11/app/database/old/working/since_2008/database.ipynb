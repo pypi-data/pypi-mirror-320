{
 "cells": [
  {
   "cell_type": "code",
   "execution_count": 48,
   "metadata": {},
   "outputs": [],
   "source": [
    "import sqlite3\n",
    "import csv\n",
    "import os\n",
    "import pandas as pd"
   ]
  },
  {
   "cell_type": "code",
   "execution_count": 49,
   "metadata": {},
   "outputs": [],
   "source": [
    "pd.set_option('display.max_columns', None)\n",
    "pd.set_option('display.max_rows', None)"
   ]
  },
  {
   "cell_type": "code",
   "execution_count": 50,
   "metadata": {},
   "outputs": [],
   "source": [
    "ruta_db = \"../../initial/database/database.sqlite\""
   ]
  },
  {
   "cell_type": "code",
   "execution_count": 51,
   "metadata": {},
   "outputs": [
    {
     "name": "stdout",
     "output_type": "stream",
     "text": [
      "Tablas en la base de datos: ['sqlite_sequence', 'Player_Attributes', 'Player', 'Match', 'League', 'Country', 'Team', 'Team_Attributes']\n"
     ]
    }
   ],
   "source": [
    "with sqlite3.connect(ruta_db) as conn:\n",
    "    cursor = conn.cursor()\n",
    "    \n",
    "    # Consulta para obtener los nombres de las tablas\n",
    "    query = \"SELECT name FROM sqlite_master WHERE type='table';\"\n",
    "    cursor.execute(query)\n",
    "    \n",
    "    # Obtener los nombres de las tablas como una lista\n",
    "    tablas = [tabla[0] for tabla in cursor.fetchall()]\n",
    "    \n",
    "    # Imprimir la lista de tablas\n",
    "    print(\"Tablas en la base de datos:\", tablas)"
   ]
  },
  {
   "cell_type": "code",
   "execution_count": 52,
   "metadata": {},
   "outputs": [],
   "source": [
    "tabla = \"League\""
   ]
  },
  {
   "cell_type": "code",
   "execution_count": 53,
   "metadata": {},
   "outputs": [
    {
     "name": "stdout",
     "output_type": "stream",
     "text": [
      "Datos exportados exitosamente a 'League.csv'.\n"
     ]
    }
   ],
   "source": [
    "with sqlite3.connect(ruta_db) as conn:\n",
    "    #cursor = conn.cursor()\n",
    "    \n",
    "    try:\n",
    "        # Abrir el archivo CSV\n",
    "        with open(\"League.csv\", \"w\", newline=\"\", encoding=\"utf-8\") as archivo_csv:\n",
    "            escritor_csv = csv.writer(archivo_csv)\n",
    "            \n",
    "            # Obtener las columnas de la tabla\n",
    "            cursor.execute(f\"PRAGMA table_info('{tabla}')\")\n",
    "            columnas = [col[1] for col in cursor.fetchall()]\n",
    "            escritor_csv.writerow(columnas)\n",
    "            \n",
    "            # Obtener los datos de la tabla\n",
    "            cursor.execute(f\"SELECT * FROM {tabla}\")\n",
    "            for fila in cursor.fetchall():\n",
    "                escritor_csv.writerow(fila)\n",
    "                \n",
    "        print(\"Datos exportados exitosamente a 'League.csv'.\")\n",
    "    except Exception as e:\n",
    "        print(f\"Error: {e}\")"
   ]
  },
  {
   "cell_type": "code",
   "execution_count": 54,
   "metadata": {},
   "outputs": [],
   "source": [
    "#tabla = \"Team\""
   ]
  },
  {
   "cell_type": "code",
   "execution_count": 55,
   "metadata": {},
   "outputs": [
    {
     "name": "stdout",
     "output_type": "stream",
     "text": [
      "Datos exportados exitosamente a 'Team.csv'.\n"
     ]
    }
   ],
   "source": [
    "with sqlite3.connect(ruta_db) as conn:\n",
    "    #cursor = conn.cursor()\n",
    "    \n",
    "    try:\n",
    "        # Abrir el archivo CSV\n",
    "        with open(\"Team.csv\", \"w\", newline=\"\", encoding=\"utf-8\") as archivo_csv:\n",
    "            escritor_csv = csv.writer(archivo_csv)\n",
    "            \n",
    "            # Obtener las columnas de la tabla\n",
    "            cursor.execute(f\"PRAGMA table_info('{tabla}')\")\n",
    "            columnas = [col[1] for col in cursor.fetchall()]\n",
    "            escritor_csv.writerow(columnas)\n",
    "            \n",
    "            # Obtener los datos de la tabla\n",
    "            cursor.execute(f\"SELECT * FROM {tabla}\")\n",
    "            for fila in cursor.fetchall():\n",
    "                escritor_csv.writerow(fila)\n",
    "                \n",
    "        print(\"Datos exportados exitosamente a 'Team.csv'.\")\n",
    "    except Exception as e:\n",
    "        print(f\"Error: {e}\")"
   ]
  },
  {
   "cell_type": "code",
   "execution_count": 56,
   "metadata": {},
   "outputs": [],
   "source": [
    "tabla = \"Match\""
   ]
  },
  {
   "cell_type": "code",
   "execution_count": 57,
   "metadata": {},
   "outputs": [
    {
     "name": "stdout",
     "output_type": "stream",
     "text": [
      "Datos filtrados exportados exitosamente a 'Match.csv'.\n"
     ]
    }
   ],
   "source": [
    "with sqlite3.connect(ruta_db) as conn:\n",
    "    cursor = conn.cursor()\n",
    "    \n",
    "    try:\n",
    "        # Abrir el archivo CSV\n",
    "        with open(\"Match.csv\", \"w\", newline=\"\", encoding=\"utf-8\") as archivo_csv:\n",
    "            escritor_csv = csv.writer(archivo_csv)\n",
    "            \n",
    "            # Obtener las columnas de la tabla\n",
    "            cursor.execute(f\"PRAGMA table_info('{tabla}')\")\n",
    "            columnas = [col[1] for col in cursor.fetchall()]\n",
    "            escritor_csv.writerow(columnas)\n",
    "            \n",
    "            # Obtener los datos filtrados por country_id = 24558\n",
    "            cursor.execute(f\"SELECT * FROM {tabla} WHERE country_id = 24558\")\n",
    "            for fila in cursor.fetchall():\n",
    "                escritor_csv.writerow(fila)\n",
    "                \n",
    "        print(\"Datos filtrados exportados exitosamente a 'Match.csv'.\")\n",
    "    except Exception as e:\n",
    "        print(f\"Error: {e}\")"
   ]
  },
  {
   "cell_type": "code",
   "execution_count": 35,
   "metadata": {},
   "outputs": [
    {
     "name": "stdout",
     "output_type": "stream",
     "text": [
      "Jugadores que participaron en el partido:\n",
      "[]\n"
     ]
    }
   ],
   "source": [
    "# Cargar el archivo CSV\n",
    "ruta_csv = \"Match.csv\"  # Cambia esto por la ruta real de tu archivo\n",
    "csv = pd.read_csv(ruta_csv)\n",
    "\n",
    "# Seleccionar las columnas de jugadores\n",
    "columnas_jugadores = [\n",
    "    'home_player_1', 'home_player_2', 'home_player_3', 'home_player_4', 'home_player_5',\n",
    "    'home_player_6', 'home_player_7', 'home_player_8', 'home_player_9', 'home_player_10', 'home_player_11',\n",
    "    'away_player_1', 'away_player_2', 'away_player_3', 'away_player_4', 'away_player_5',\n",
    "    'away_player_6', 'away_player_7', 'away_player_8', 'away_player_9', 'away_player_10', 'away_player_11'\n",
    "]\n",
    "\n",
    "# Extraer los jugadores para un partido específico (por ejemplo, el primer partido)\n",
    "partido = csv.iloc[0]  # Cambia el índice si quieres otro partido\n",
    "jugadores = partido[columnas_jugadores].dropna().astype(int).tolist()\n",
    "\n",
    "# Mostrar los jugadores\n",
    "print(\"Jugadores que participaron en el partido:\")\n",
    "print(jugadores)"
   ]
  },
  {
   "cell_type": "code",
   "execution_count": null,
   "metadata": {},
   "outputs": [],
   "source": []
  }
 ],
 "metadata": {
  "kernelspec": {
   "display_name": "api-python-bet-project-c88tlEpI-py3.12",
   "language": "python",
   "name": "python3"
  },
  "language_info": {
   "codemirror_mode": {
    "name": "ipython",
    "version": 3
   },
   "file_extension": ".py",
   "mimetype": "text/x-python",
   "name": "python",
   "nbconvert_exporter": "python",
   "pygments_lexer": "ipython3",
   "version": "3.12.8"
  }
 },
 "nbformat": 4,
 "nbformat_minor": 2
}
