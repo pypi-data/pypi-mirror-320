{
 "cells": [
  {
   "cell_type": "markdown",
   "metadata": {},
   "source": [
    "# Model testing"
   ]
  },
  {
   "cell_type": "markdown",
   "metadata": {},
   "source": [
    "## SGD Classifier"
   ]
  },
  {
   "cell_type": "code",
   "execution_count": 32,
   "metadata": {},
   "outputs": [],
   "source": [
    "random_state = 0"
   ]
  },
  {
   "cell_type": "code",
   "execution_count": 33,
   "metadata": {},
   "outputs": [],
   "source": [
    "import pandas as pd\n",
    "import numpy as np\n",
    "from sklearn.model_selection import GridSearchCV, train_test_split, TimeSeriesSplit\n",
    "from sklearn.linear_model import SGDClassifier\n",
    "from sklearn.metrics import make_scorer, accuracy_score\n",
    "from sklearn.pipeline import Pipeline, FeatureUnion\n",
    "from sklearn.compose import ColumnTransformer\n",
    "from sklearn.preprocessing import OneHotEncoder\n",
    "from sklearn.preprocessing import FunctionTransformer\n",
    "from sklearn.preprocessing import StandardScaler\n",
    "from sklearn.base import BaseEstimator, TransformerMixin\n",
    "import mlflow\n",
    "import mlflow.sklearn\n",
    "import matplotlib.pyplot as plt\n"
   ]
  },
  {
   "cell_type": "code",
   "execution_count": 34,
   "metadata": {},
   "outputs": [],
   "source": [
    "csv_path = '../../database/final/since_2008/since_2008.csv'\n",
    "df = pd.read_csv(csv_path)"
   ]
  },
  {
   "cell_type": "code",
   "execution_count": 35,
   "metadata": {},
   "outputs": [
    {
     "name": "stdout",
     "output_type": "stream",
     "text": [
      "<class 'pandas.core.frame.DataFrame'>\n",
      "RangeIndex: 6239 entries, 0 to 6238\n",
      "Data columns (total 33 columns):\n",
      " #   Column                          Non-Null Count  Dtype  \n",
      "---  ------                          --------------  -----  \n",
      " 0   day_of_the_week                 6239 non-null   int64  \n",
      " 1   hour_of_the_match               6239 non-null   int64  \n",
      " 2   day_of_year                     6239 non-null   int64  \n",
      " 3   Game Week                       6239 non-null   float64\n",
      " 4   home_team_name                  6239 non-null   object \n",
      " 5   away_team_name                  6239 non-null   object \n",
      " 6   home_team_goal_count            6239 non-null   int64  \n",
      " 7   away_team_goal_count            6239 non-null   int64  \n",
      " 8   total_goal_count                6239 non-null   int64  \n",
      " 9   total_goals_at_half_time        6239 non-null   int64  \n",
      " 10  home_team_goal_count_half_time  6239 non-null   int64  \n",
      " 11  away_team_goal_count_half_time  6239 non-null   int64  \n",
      " 12  home_team_shots                 6239 non-null   int64  \n",
      " 13  away_team_shots                 6239 non-null   int64  \n",
      " 14  home_team_shots_on_target       6239 non-null   int64  \n",
      " 15  away_team_shots_on_target       6239 non-null   int64  \n",
      " 16  home_team_fouls                 6239 non-null   int64  \n",
      " 17  away_team_fouls                 6239 non-null   int64  \n",
      " 18  home_team_yellow_cards          6239 non-null   int64  \n",
      " 19  home_team_red_cards             6239 non-null   int64  \n",
      " 20  away_team_yellow_cards          6239 non-null   int64  \n",
      " 21  away_team_red_cards             6239 non-null   int64  \n",
      " 22  home_team_first_half_cards      6239 non-null   int64  \n",
      " 23  home_team_second_half_cards     6239 non-null   int64  \n",
      " 24  away_team_first_half_cards      6239 non-null   int64  \n",
      " 25  away_team_second_half_cards     6239 non-null   int64  \n",
      " 26  home_team_shots_off_target      6239 non-null   int64  \n",
      " 27  away_team_shots_off_target      6239 non-null   int64  \n",
      " 28  home_team_corner_count          6239 non-null   int64  \n",
      " 29  away_team_corner_count          6239 non-null   int64  \n",
      " 30  home_ppg                        6239 non-null   float64\n",
      " 31  away_ppg                        6239 non-null   float64\n",
      " 32  match_result                    6239 non-null   int64  \n",
      "dtypes: float64(3), int64(28), object(2)\n",
      "memory usage: 1.6+ MB\n"
     ]
    }
   ],
   "source": [
    "df.info()"
   ]
  },
  {
   "cell_type": "code",
   "execution_count": 36,
   "metadata": {},
   "outputs": [
    {
     "data": {
      "text/html": [
       "<div>\n",
       "<style scoped>\n",
       "    .dataframe tbody tr th:only-of-type {\n",
       "        vertical-align: middle;\n",
       "    }\n",
       "\n",
       "    .dataframe tbody tr th {\n",
       "        vertical-align: top;\n",
       "    }\n",
       "\n",
       "    .dataframe thead th {\n",
       "        text-align: right;\n",
       "    }\n",
       "</style>\n",
       "<table border=\"1\" class=\"dataframe\">\n",
       "  <thead>\n",
       "    <tr style=\"text-align: right;\">\n",
       "      <th></th>\n",
       "      <th>day_of_the_week</th>\n",
       "      <th>hour_of_the_match</th>\n",
       "      <th>day_of_year</th>\n",
       "      <th>Game Week</th>\n",
       "      <th>home_team_name</th>\n",
       "      <th>away_team_name</th>\n",
       "      <th>home_team_goal_count</th>\n",
       "      <th>away_team_goal_count</th>\n",
       "      <th>total_goal_count</th>\n",
       "      <th>total_goals_at_half_time</th>\n",
       "      <th>...</th>\n",
       "      <th>home_team_second_half_cards</th>\n",
       "      <th>away_team_first_half_cards</th>\n",
       "      <th>away_team_second_half_cards</th>\n",
       "      <th>home_team_shots_off_target</th>\n",
       "      <th>away_team_shots_off_target</th>\n",
       "      <th>home_team_corner_count</th>\n",
       "      <th>away_team_corner_count</th>\n",
       "      <th>home_ppg</th>\n",
       "      <th>away_ppg</th>\n",
       "      <th>match_result</th>\n",
       "    </tr>\n",
       "  </thead>\n",
       "  <tbody>\n",
       "    <tr>\n",
       "      <th>0</th>\n",
       "      <td>5</td>\n",
       "      <td>18</td>\n",
       "      <td>243</td>\n",
       "      <td>1.0</td>\n",
       "      <td>RCD Espanyol</td>\n",
       "      <td>Real Valladolid</td>\n",
       "      <td>1</td>\n",
       "      <td>0</td>\n",
       "      <td>1</td>\n",
       "      <td>0</td>\n",
       "      <td>...</td>\n",
       "      <td>3</td>\n",
       "      <td>0</td>\n",
       "      <td>4</td>\n",
       "      <td>8</td>\n",
       "      <td>10</td>\n",
       "      <td>1</td>\n",
       "      <td>9</td>\n",
       "      <td>1.53</td>\n",
       "      <td>0.74</td>\n",
       "      <td>1</td>\n",
       "    </tr>\n",
       "    <tr>\n",
       "      <th>1</th>\n",
       "      <td>5</td>\n",
       "      <td>20</td>\n",
       "      <td>243</td>\n",
       "      <td>1.0</td>\n",
       "      <td>Valencia CF</td>\n",
       "      <td>RCD Mallorca</td>\n",
       "      <td>3</td>\n",
       "      <td>0</td>\n",
       "      <td>3</td>\n",
       "      <td>2</td>\n",
       "      <td>...</td>\n",
       "      <td>2</td>\n",
       "      <td>0</td>\n",
       "      <td>0</td>\n",
       "      <td>11</td>\n",
       "      <td>14</td>\n",
       "      <td>5</td>\n",
       "      <td>6</td>\n",
       "      <td>2.11</td>\n",
       "      <td>0.95</td>\n",
       "      <td>1</td>\n",
       "    </tr>\n",
       "    <tr>\n",
       "      <th>2</th>\n",
       "      <td>6</td>\n",
       "      <td>17</td>\n",
       "      <td>244</td>\n",
       "      <td>1.0</td>\n",
       "      <td>Racing Santander</td>\n",
       "      <td>Sevilla FC</td>\n",
       "      <td>1</td>\n",
       "      <td>1</td>\n",
       "      <td>2</td>\n",
       "      <td>0</td>\n",
       "      <td>...</td>\n",
       "      <td>1</td>\n",
       "      <td>0</td>\n",
       "      <td>0</td>\n",
       "      <td>5</td>\n",
       "      <td>9</td>\n",
       "      <td>4</td>\n",
       "      <td>6</td>\n",
       "      <td>1.21</td>\n",
       "      <td>1.84</td>\n",
       "      <td>0</td>\n",
       "    </tr>\n",
       "    <tr>\n",
       "      <th>3</th>\n",
       "      <td>6</td>\n",
       "      <td>17</td>\n",
       "      <td>244</td>\n",
       "      <td>1.0</td>\n",
       "      <td>Atlético Madrid</td>\n",
       "      <td>Málaga CF</td>\n",
       "      <td>4</td>\n",
       "      <td>0</td>\n",
       "      <td>4</td>\n",
       "      <td>3</td>\n",
       "      <td>...</td>\n",
       "      <td>1</td>\n",
       "      <td>1</td>\n",
       "      <td>1</td>\n",
       "      <td>16</td>\n",
       "      <td>5</td>\n",
       "      <td>11</td>\n",
       "      <td>7</td>\n",
       "      <td>2.11</td>\n",
       "      <td>1.26</td>\n",
       "      <td>1</td>\n",
       "    </tr>\n",
       "    <tr>\n",
       "      <th>4</th>\n",
       "      <td>6</td>\n",
       "      <td>17</td>\n",
       "      <td>244</td>\n",
       "      <td>1.0</td>\n",
       "      <td>CA Osasuna</td>\n",
       "      <td>Villarreal</td>\n",
       "      <td>1</td>\n",
       "      <td>1</td>\n",
       "      <td>2</td>\n",
       "      <td>0</td>\n",
       "      <td>...</td>\n",
       "      <td>2</td>\n",
       "      <td>0</td>\n",
       "      <td>2</td>\n",
       "      <td>9</td>\n",
       "      <td>9</td>\n",
       "      <td>10</td>\n",
       "      <td>2</td>\n",
       "      <td>1.53</td>\n",
       "      <td>1.37</td>\n",
       "      <td>0</td>\n",
       "    </tr>\n",
       "  </tbody>\n",
       "</table>\n",
       "<p>5 rows × 33 columns</p>\n",
       "</div>"
      ],
      "text/plain": [
       "   day_of_the_week  hour_of_the_match  day_of_year  Game Week  \\\n",
       "0                5                 18          243        1.0   \n",
       "1                5                 20          243        1.0   \n",
       "2                6                 17          244        1.0   \n",
       "3                6                 17          244        1.0   \n",
       "4                6                 17          244        1.0   \n",
       "\n",
       "     home_team_name   away_team_name  home_team_goal_count  \\\n",
       "0      RCD Espanyol  Real Valladolid                     1   \n",
       "1       Valencia CF     RCD Mallorca                     3   \n",
       "2  Racing Santander       Sevilla FC                     1   \n",
       "3   Atlético Madrid        Málaga CF                     4   \n",
       "4        CA Osasuna       Villarreal                     1   \n",
       "\n",
       "   away_team_goal_count  total_goal_count  total_goals_at_half_time  ...  \\\n",
       "0                     0                 1                         0  ...   \n",
       "1                     0                 3                         2  ...   \n",
       "2                     1                 2                         0  ...   \n",
       "3                     0                 4                         3  ...   \n",
       "4                     1                 2                         0  ...   \n",
       "\n",
       "   home_team_second_half_cards  away_team_first_half_cards  \\\n",
       "0                            3                           0   \n",
       "1                            2                           0   \n",
       "2                            1                           0   \n",
       "3                            1                           1   \n",
       "4                            2                           0   \n",
       "\n",
       "   away_team_second_half_cards  home_team_shots_off_target  \\\n",
       "0                            4                           8   \n",
       "1                            0                          11   \n",
       "2                            0                           5   \n",
       "3                            1                          16   \n",
       "4                            2                           9   \n",
       "\n",
       "   away_team_shots_off_target  home_team_corner_count  away_team_corner_count  \\\n",
       "0                          10                       1                       9   \n",
       "1                          14                       5                       6   \n",
       "2                           9                       4                       6   \n",
       "3                           5                      11                       7   \n",
       "4                           9                      10                       2   \n",
       "\n",
       "   home_ppg  away_ppg  match_result  \n",
       "0      1.53      0.74             1  \n",
       "1      2.11      0.95             1  \n",
       "2      1.21      1.84             0  \n",
       "3      2.11      1.26             1  \n",
       "4      1.53      1.37             0  \n",
       "\n",
       "[5 rows x 33 columns]"
      ]
     },
     "execution_count": 36,
     "metadata": {},
     "output_type": "execute_result"
    }
   ],
   "source": [
    "df.head()"
   ]
  },
  {
   "cell_type": "code",
   "execution_count": 37,
   "metadata": {},
   "outputs": [
    {
     "data": {
      "text/plain": [
       "match_result\n",
       " 1    2934\n",
       "-1    1755\n",
       " 0    1550\n",
       "Name: count, dtype: int64"
      ]
     },
     "execution_count": 37,
     "metadata": {},
     "output_type": "execute_result"
    }
   ],
   "source": [
    "df['match_result'].value_counts()"
   ]
  },
  {
   "cell_type": "code",
   "execution_count": 38,
   "metadata": {},
   "outputs": [],
   "source": [
    "X: pd.DataFrame = df[[\n",
    "    'day_of_the_week', \n",
    "    'hour_of_the_match', \n",
    "    'day_of_year',\n",
    "    'Game Week',\n",
    "    'home_team_name', \n",
    "    'away_team_name',\n",
    "    'home_team_goal_count',\n",
    "    'away_team_goal_count',\n",
    "    #'total_goal_count',\n",
    "    #'total_goals_at_half_time',\t\n",
    "    #'home_team_goal_count_half_time',\n",
    "    #'away_team_goal_count_half_time',\n",
    "    'home_team_shots', \n",
    "    'away_team_shots', \n",
    "    'home_team_shots_on_target', \n",
    "    'away_team_shots_on_target', \n",
    "    'home_team_fouls', \n",
    "    'away_team_fouls',\n",
    "    'home_team_yellow_cards',\n",
    "    'home_team_red_cards',\n",
    "    'away_team_yellow_cards',\n",
    "    'away_team_red_cards',\n",
    "    #'home_team_first_half_cards',\n",
    "    #'home_team_second_half_cards',\n",
    "    #'away_team_first_half_cards',\n",
    "    #'away_team_second_half_cards',\n",
    "    #'home_team_shots_off_target',\n",
    "    #'away_team_shots_off_target',\t \n",
    "    'home_team_corner_count', \n",
    "    'away_team_corner_count',  \n",
    "    'home_ppg', \n",
    "    'away_ppg'\n",
    "]]\n",
    "y: pd.Series = df[\"match_result\"]"
   ]
  },
  {
   "cell_type": "code",
   "execution_count": 39,
   "metadata": {},
   "outputs": [
    {
     "data": {
      "text/plain": [
       "'tscv = TimeSeriesSplit(n_splits=5)\\n\\nfor train_index, test_index in tscv.split(X):\\n    X_train, X_test = X.iloc[train_index], X.iloc[test_index]\\n    y_train, y_test = y.iloc[train_index], y.iloc[test_index]'"
      ]
     },
     "execution_count": 39,
     "metadata": {},
     "output_type": "execute_result"
    }
   ],
   "source": [
    "'''tscv = TimeSeriesSplit(n_splits=5)\n",
    "\n",
    "for train_index, test_index in tscv.split(X):\n",
    "    X_train, X_test = X.iloc[train_index], X.iloc[test_index]\n",
    "    y_train, y_test = y.iloc[train_index], y.iloc[test_index]'''"
   ]
  },
  {
   "cell_type": "code",
   "execution_count": 40,
   "metadata": {},
   "outputs": [
    {
     "data": {
      "text/plain": [
       "'# Crear la figura\\nplt.figure(figsize=(12, 6))\\n\\n# Iterar sobre las divisiones\\nfor i, (train_index, test_index) in enumerate(tscv.split(X)):\\n    # Representar el conjunto de entrenamiento\\n    plt.plot(train_index, [i + 1] * len(train_index), \\'|\\', color=\\'blue\\', label=\\'Train Set\\' if i == 0 else \"\", markersize=10)\\n    # Representar el conjunto de prueba\\n    plt.plot(test_index, [i + 1] * len(test_index), \\'|\\', color=\\'orange\\', label=\\'Test Set\\' if i == 0 else \"\", markersize=10)\\n\\n# Configurar el gráfico\\nplt.title(\"División Temporal: Train vs Test\")\\nplt.xlabel(\"Índice\")\\nplt.ylabel(\"División\")\\nplt.legend()\\nplt.grid(axis=\\'x\\', linestyle=\\'--\\', alpha=0.7)\\n\\n# Mostrar el gráfico\\nplt.show()'"
      ]
     },
     "execution_count": 40,
     "metadata": {},
     "output_type": "execute_result"
    }
   ],
   "source": [
    "'''# Crear la figura\n",
    "plt.figure(figsize=(12, 6))\n",
    "\n",
    "# Iterar sobre las divisiones\n",
    "for i, (train_index, test_index) in enumerate(tscv.split(X)):\n",
    "    # Representar el conjunto de entrenamiento\n",
    "    plt.plot(train_index, [i + 1] * len(train_index), '|', color='blue', label='Train Set' if i == 0 else \"\", markersize=10)\n",
    "    # Representar el conjunto de prueba\n",
    "    plt.plot(test_index, [i + 1] * len(test_index), '|', color='orange', label='Test Set' if i == 0 else \"\", markersize=10)\n",
    "\n",
    "# Configurar el gráfico\n",
    "plt.title(\"División Temporal: Train vs Test\")\n",
    "plt.xlabel(\"Índice\")\n",
    "plt.ylabel(\"División\")\n",
    "plt.legend()\n",
    "plt.grid(axis='x', linestyle='--', alpha=0.7)\n",
    "\n",
    "# Mostrar el gráfico\n",
    "plt.show()'''"
   ]
  },
  {
   "cell_type": "code",
   "execution_count": 41,
   "metadata": {},
   "outputs": [],
   "source": [
    "class SaveToCSVTransformer(BaseEstimator, TransformerMixin):\n",
    "    def __init__(self, filename):\n",
    "        self.filename = filename  # El nombre del archivo CSV donde se guardará el contenido\n",
    "\n",
    "    def fit(self, X, y=None):\n",
    "        # No es necesario hacer nada en fit para este transformer\n",
    "        return self\n",
    "\n",
    "    def transform(self, X):\n",
    "        # Guardamos el contenido de X en el archivo CSV\n",
    "        pd.DataFrame(X).to_csv(self.filename, index=False)\n",
    "        return X"
   ]
  },
  {
   "cell_type": "code",
   "execution_count": 42,
   "metadata": {},
   "outputs": [],
   "source": [
    "class MLflowLogger(BaseEstimator, TransformerMixin):\n",
    "    def __init__(self, experiment_name=\"default_experiment\", run_name=\"default_run\"):\n",
    "        self.experiment_name = experiment_name\n",
    "        self.run_name = run_name\n",
    "\n",
    "    def fit(self, X, y=None):\n",
    "        # Configurar MLflow\n",
    "        mlflow.set_tracking_uri(\"file:./mlruns\")\n",
    "        mlflow.set_experiment(self.experiment_name)\n",
    "        \n",
    "        # Iniciar una nueva ejecución\n",
    "        self.run = mlflow.start_run(run_name=self.run_name)\n",
    "        return self\n",
    "\n",
    "    def transform(self, X):\n",
    "        # Registrar cualquier dato adicional si es necesario\n",
    "        return X\n",
    "\n",
    "    def log_metrics(self, metrics):\n",
    "        for key, value in metrics.items():\n",
    "            mlflow.log_metric(key, value)\n",
    "\n",
    "    def log_params(self, params):\n",
    "        for key, value in params.items():\n",
    "            mlflow.log_param(key, value)\n",
    "\n",
    "    def log_model(self, model, model_name=\"model\"):\n",
    "        mlflow.sklearn.log_model(model, model_name)\n",
    "\n",
    "    def close(self):\n",
    "        mlflow.end_run()"
   ]
  },
  {
   "cell_type": "code",
   "execution_count": 43,
   "metadata": {},
   "outputs": [],
   "source": [
    "model = GridSearchCV(\n",
    "    estimator=Pipeline(\n",
    "        steps=[\n",
    "            ('CategoricalFeatures', ColumnTransformer(\n",
    "                transformers=[\n",
    "                    ('cat', OneHotEncoder(handle_unknown='ignore', sparse_output=False), [\n",
    "                        \"home_team_name\", \n",
    "                        \"away_team_name\"\n",
    "                    ]),\n",
    "                    ('circular_day', FunctionTransformer(lambda x: np.column_stack([\n",
    "                        np.cos(2 * np.pi * x / 7), \n",
    "                        np.sin(2 * np.pi * x / 7)\n",
    "                    ]), validate=True), [\"day_of_the_week\"]),\n",
    "                    ('circular_hour', FunctionTransformer(lambda x: np.column_stack([\n",
    "                        np.cos(2 * np.pi * x / 24), \n",
    "                        np.sin(2 * np.pi * x / 24)\n",
    "                    ]), validate=True), [\"hour_of_the_match\"]),\n",
    "                    ('circular_day_year', FunctionTransformer(lambda x: np.column_stack([\n",
    "                        np.cos(2 * np.pi * x / 365), \n",
    "                        np.sin(2 * np.pi * x / 365)\n",
    "                    ]), validate=True), [\"day_of_year\"]),\n",
    "                    ('game_week', FunctionTransformer(lambda x: np.column_stack([\n",
    "                        np.cos(2 * np.pi * x / 38), \n",
    "                        np.sin(2 * np.pi * x / 38)\n",
    "                    ]), validate=True), [\"Game Week\"]),\n",
    "                    ('passthrough', FunctionTransformer(lambda x: x, validate=True), [\n",
    "                        'home_team_goal_count',\n",
    "                        'away_team_goal_count',\n",
    "                        #'total_goal_count',\n",
    "                        #'total_goals_at_half_time',\t\n",
    "                        #'home_team_goal_count_half_time',\n",
    "                        #'away_team_goal_count_half_time',\n",
    "                        'home_team_shots', \n",
    "                        'away_team_shots', \n",
    "                        'home_team_shots_on_target', \n",
    "                        'away_team_shots_on_target', \n",
    "                        'home_team_fouls', \n",
    "                        'away_team_fouls',\n",
    "                        'home_team_yellow_cards',\n",
    "                        'home_team_red_cards',\n",
    "                        'away_team_yellow_cards',\n",
    "                        'away_team_red_cards',\n",
    "                        #'home_team_first_half_cards',\n",
    "                        #'home_team_second_half_cards',\n",
    "                        #'away_team_first_half_cards',\n",
    "                        #'away_team_second_half_cards',\n",
    "                        #'home_team_shots_off_target',\n",
    "                        #'away_team_shots_off_target',\t \n",
    "                        'home_team_corner_count', \n",
    "                        'away_team_corner_count',  \n",
    "                        'home_ppg', \n",
    "                        'away_ppg'\n",
    "                    ]),\n",
    "                ]\n",
    "            )),\n",
    "            (\"SaveToCSVTransformer\", SaveToCSVTransformer(filename=\"data.csv\")),\n",
    "            (\"StandardScaler\", StandardScaler(with_mean=True)),\n",
    "            #(\"MLflowLogger\", MLflowLogger(experiment_name=\"Football_Predictions\", run_name=\"Pipeline_Run\")),\n",
    "            (\"SGDClassifier\", SGDClassifier(\n",
    "                random_state=random_state, \n",
    "                max_iter=1000\n",
    "            ))\n",
    "        ]\n",
    "    ),\n",
    "    param_grid={\n",
    "        \"SGDClassifier__tol\": [1e-1,1e-2,1e-3,1e-4,1e-5,1e-6]\n",
    "    },\n",
    "    n_jobs=2,\n",
    "    verbose=4,\n",
    ")"
   ]
  },
  {
   "cell_type": "code",
   "execution_count": 44,
   "metadata": {},
   "outputs": [],
   "source": [
    "tscv = TimeSeriesSplit(n_splits=5)"
   ]
  },
  {
   "cell_type": "code",
   "execution_count": 45,
   "metadata": {},
   "outputs": [],
   "source": [
    "scores = []"
   ]
  },
  {
   "cell_type": "code",
   "execution_count": 46,
   "metadata": {},
   "outputs": [
    {
     "name": "stdout",
     "output_type": "stream",
     "text": [
      "Fitting 5 folds for each of 6 candidates, totalling 30 fits\n",
      "Split 1 - Train accuracy: 0.9789\n",
      "Split 1 - Test accuracy: 0.9394\n",
      "Fitting 5 folds for each of 6 candidates, totalling 30 fits\n",
      "Split 2 - Train accuracy: 0.9942\n",
      "Split 2 - Test accuracy: 0.9904\n",
      "Fitting 5 folds for each of 6 candidates, totalling 30 fits\n",
      "Split 3 - Train accuracy: 0.9946\n",
      "Split 3 - Test accuracy: 0.9047\n",
      "Fitting 5 folds for each of 6 candidates, totalling 30 fits\n",
      "Split 4 - Train accuracy: 0.9957\n",
      "Split 4 - Test accuracy: 0.9942\n",
      "Fitting 5 folds for each of 6 candidates, totalling 30 fits\n",
      "Split 5 - Train accuracy: 0.9969\n",
      "Split 5 - Test accuracy: 0.9990\n"
     ]
    }
   ],
   "source": [
    "for split, (train_index, test_index) in enumerate(tscv.split(X), 1):\n",
    "    X_train, X_test = X.iloc[train_index], X.iloc[test_index]\n",
    "    y_train, y_test = y.iloc[train_index], y.iloc[test_index]\n",
    "\n",
    "    model.fit(X_train, y_train)\n",
    "    \n",
    "    accuracy_train = model.score(X_train, y_train)\n",
    "    scores.append(accuracy_train)\n",
    "\n",
    "    accuracy_test = model.score(X_test, y_test)\n",
    "    scores.append(accuracy_test)\n",
    "    \n",
    "    print(f\"Split {split} - Train accuracy: {accuracy_train:.4f}\")\n",
    "    print(f\"Split {split} - Test accuracy: {accuracy_test:.4f}\")"
   ]
  },
  {
   "cell_type": "code",
   "execution_count": 47,
   "metadata": {},
   "outputs": [
    {
     "data": {
      "text/plain": [
       "{'SGDClassifier__tol': 0.0001}"
      ]
     },
     "execution_count": 47,
     "metadata": {},
     "output_type": "execute_result"
    }
   ],
   "source": [
    "model.best_params_"
   ]
  },
  {
   "cell_type": "code",
   "execution_count": 48,
   "metadata": {},
   "outputs": [
    {
     "name": "stdout",
     "output_type": "stream",
     "text": [
      "\n",
      "Average Accuracy across all splits: 0.9788\n"
     ]
    }
   ],
   "source": [
    "average_score = sum(scores) / len(scores)\n",
    "print(f\"\\nAverage Accuracy across all splits: {average_score:.4f}\")"
   ]
  },
  {
   "cell_type": "code",
   "execution_count": 50,
   "metadata": {},
   "outputs": [
    {
     "data": {
      "image/png": "[encoded data removed]",
      "text/plain": [
       "<Figure size 1200x600 with 1 Axes>"
      ]
     },
     "metadata": {},
     "output_type": "display_data"
    }
   ],
   "source": [
    "# Crear la figura\n",
    "plt.figure(figsize=(12, 6))\n",
    "\n",
    "# Iterar sobre las divisiones\n",
    "for i, (train_index, test_index) in enumerate(tscv.split(X)):\n",
    "    # Representar el conjunto de entrenamiento\n",
    "    plt.plot(train_index, [i + 1] * len(train_index), '|', color='blue', label='Train Set' if i == 0 else \"\", markersize=10)\n",
    "    # Representar el conjunto de prueba\n",
    "    plt.plot(test_index, [i + 1] * len(test_index), '|', color='orange', label='Test Set' if i == 0 else \"\", markersize=10)\n",
    "\n",
    "# Configurar el gráfico\n",
    "plt.title(\"División Temporal: Train vs Test\")\n",
    "plt.xlabel(\"Índice\")\n",
    "plt.ylabel(\"División\")\n",
    "plt.legend()\n",
    "plt.grid(axis='x', linestyle='--', alpha=0.7)\n",
    "\n",
    "# Mostrar el gráfico\n",
    "plt.show()"
   ]
  },
  {
   "cell_type": "code",
   "execution_count": 51,
   "metadata": {},
   "outputs": [
    {
     "ename": "ValueError",
     "evalue": "All arrays must be of the same length",
     "output_type": "error",
     "traceback": [
      "\u001b[1;31m---------------------------------------------------------------------------\u001b[0m",
      "\u001b[1;31mValueError\u001b[0m                                Traceback (most recent call last)",
      "Cell \u001b[1;32mIn[51], line 11\u001b[0m\n\u001b[0;32m      8\u001b[0m feature_names \u001b[38;5;241m=\u001b[39m X\u001b[38;5;241m.\u001b[39mcolumns  \u001b[38;5;66;03m# Los nombres de las características\u001b[39;00m\n\u001b[0;32m     10\u001b[0m \u001b[38;5;66;03m# Crear un DataFrame con los nombres de las características y su importancia\u001b[39;00m\n\u001b[1;32m---> 11\u001b[0m importance_df \u001b[38;5;241m=\u001b[39m \u001b[43mpd\u001b[49m\u001b[38;5;241;43m.\u001b[39;49m\u001b[43mDataFrame\u001b[49m\u001b[43m(\u001b[49m\u001b[43m{\u001b[49m\n\u001b[0;32m     12\u001b[0m \u001b[43m    \u001b[49m\u001b[38;5;124;43m'\u001b[39;49m\u001b[38;5;124;43mFeature\u001b[39;49m\u001b[38;5;124;43m'\u001b[39;49m\u001b[43m:\u001b[49m\u001b[43m \u001b[49m\u001b[43mfeature_names\u001b[49m\u001b[43m,\u001b[49m\n\u001b[0;32m     13\u001b[0m \u001b[43m    \u001b[49m\u001b[38;5;124;43m'\u001b[39;49m\u001b[38;5;124;43mImportance\u001b[39;49m\u001b[38;5;124;43m'\u001b[39;49m\u001b[43m:\u001b[49m\u001b[43m \u001b[49m\u001b[43mimportances\u001b[49m\n\u001b[0;32m     14\u001b[0m \u001b[43m}\u001b[49m\u001b[43m)\u001b[49m\n\u001b[0;32m     16\u001b[0m \u001b[38;5;66;03m# Ordenar las características por importancia\u001b[39;00m\n\u001b[0;32m     17\u001b[0m importance_df \u001b[38;5;241m=\u001b[39m importance_df\u001b[38;5;241m.\u001b[39msort_values(by\u001b[38;5;241m=\u001b[39m\u001b[38;5;124m'\u001b[39m\u001b[38;5;124mImportance\u001b[39m\u001b[38;5;124m'\u001b[39m, ascending\u001b[38;5;241m=\u001b[39m\u001b[38;5;28;01mFalse\u001b[39;00m)\n",
      "File \u001b[1;32mc:\\Users\\julio\\AppData\\Local\\pypoetry\\Cache\\virtualenvs\\api-python-bet-project-c88tlEpI-py3.12\\Lib\\site-packages\\pandas\\core\\frame.py:778\u001b[0m, in \u001b[0;36mDataFrame.__init__\u001b[1;34m(self, data, index, columns, dtype, copy)\u001b[0m\n\u001b[0;32m    772\u001b[0m     mgr \u001b[38;5;241m=\u001b[39m \u001b[38;5;28mself\u001b[39m\u001b[38;5;241m.\u001b[39m_init_mgr(\n\u001b[0;32m    773\u001b[0m         data, axes\u001b[38;5;241m=\u001b[39m{\u001b[38;5;124m\"\u001b[39m\u001b[38;5;124mindex\u001b[39m\u001b[38;5;124m\"\u001b[39m: index, \u001b[38;5;124m\"\u001b[39m\u001b[38;5;124mcolumns\u001b[39m\u001b[38;5;124m\"\u001b[39m: columns}, dtype\u001b[38;5;241m=\u001b[39mdtype, copy\u001b[38;5;241m=\u001b[39mcopy\n\u001b[0;32m    774\u001b[0m     )\n\u001b[0;32m    776\u001b[0m \u001b[38;5;28;01melif\u001b[39;00m \u001b[38;5;28misinstance\u001b[39m(data, \u001b[38;5;28mdict\u001b[39m):\n\u001b[0;32m    777\u001b[0m     \u001b[38;5;66;03m# GH#38939 de facto copy defaults to False only in non-dict cases\u001b[39;00m\n\u001b[1;32m--> 778\u001b[0m     mgr \u001b[38;5;241m=\u001b[39m \u001b[43mdict_to_mgr\u001b[49m\u001b[43m(\u001b[49m\u001b[43mdata\u001b[49m\u001b[43m,\u001b[49m\u001b[43m \u001b[49m\u001b[43mindex\u001b[49m\u001b[43m,\u001b[49m\u001b[43m \u001b[49m\u001b[43mcolumns\u001b[49m\u001b[43m,\u001b[49m\u001b[43m \u001b[49m\u001b[43mdtype\u001b[49m\u001b[38;5;241;43m=\u001b[39;49m\u001b[43mdtype\u001b[49m\u001b[43m,\u001b[49m\u001b[43m \u001b[49m\u001b[43mcopy\u001b[49m\u001b[38;5;241;43m=\u001b[39;49m\u001b[43mcopy\u001b[49m\u001b[43m,\u001b[49m\u001b[43m \u001b[49m\u001b[43mtyp\u001b[49m\u001b[38;5;241;43m=\u001b[39;49m\u001b[43mmanager\u001b[49m\u001b[43m)\u001b[49m\n\u001b[0;32m    779\u001b[0m \u001b[38;5;28;01melif\u001b[39;00m \u001b[38;5;28misinstance\u001b[39m(data, ma\u001b[38;5;241m.\u001b[39mMaskedArray):\n\u001b[0;32m    780\u001b[0m     \u001b[38;5;28;01mfrom\u001b[39;00m \u001b[38;5;21;01mnumpy\u001b[39;00m\u001b[38;5;21;01m.\u001b[39;00m\u001b[38;5;21;01mma\u001b[39;00m \u001b[38;5;28;01mimport\u001b[39;00m mrecords\n",
      "File \u001b[1;32mc:\\Users\\julio\\AppData\\Local\\pypoetry\\Cache\\virtualenvs\\api-python-bet-project-c88tlEpI-py3.12\\Lib\\site-packages\\pandas\\core\\internals\\construction.py:503\u001b[0m, in \u001b[0;36mdict_to_mgr\u001b[1;34m(data, index, columns, dtype, typ, copy)\u001b[0m\n\u001b[0;32m    499\u001b[0m     \u001b[38;5;28;01melse\u001b[39;00m:\n\u001b[0;32m    500\u001b[0m         \u001b[38;5;66;03m# dtype check to exclude e.g. range objects, scalars\u001b[39;00m\n\u001b[0;32m    501\u001b[0m         arrays \u001b[38;5;241m=\u001b[39m [x\u001b[38;5;241m.\u001b[39mcopy() \u001b[38;5;28;01mif\u001b[39;00m \u001b[38;5;28mhasattr\u001b[39m(x, \u001b[38;5;124m\"\u001b[39m\u001b[38;5;124mdtype\u001b[39m\u001b[38;5;124m\"\u001b[39m) \u001b[38;5;28;01melse\u001b[39;00m x \u001b[38;5;28;01mfor\u001b[39;00m x \u001b[38;5;129;01min\u001b[39;00m arrays]\n\u001b[1;32m--> 503\u001b[0m \u001b[38;5;28;01mreturn\u001b[39;00m \u001b[43marrays_to_mgr\u001b[49m\u001b[43m(\u001b[49m\u001b[43marrays\u001b[49m\u001b[43m,\u001b[49m\u001b[43m \u001b[49m\u001b[43mcolumns\u001b[49m\u001b[43m,\u001b[49m\u001b[43m \u001b[49m\u001b[43mindex\u001b[49m\u001b[43m,\u001b[49m\u001b[43m \u001b[49m\u001b[43mdtype\u001b[49m\u001b[38;5;241;43m=\u001b[39;49m\u001b[43mdtype\u001b[49m\u001b[43m,\u001b[49m\u001b[43m \u001b[49m\u001b[43mtyp\u001b[49m\u001b[38;5;241;43m=\u001b[39;49m\u001b[43mtyp\u001b[49m\u001b[43m,\u001b[49m\u001b[43m \u001b[49m\u001b[43mconsolidate\u001b[49m\u001b[38;5;241;43m=\u001b[39;49m\u001b[43mcopy\u001b[49m\u001b[43m)\u001b[49m\n",
      "File \u001b[1;32mc:\\Users\\julio\\AppData\\Local\\pypoetry\\Cache\\virtualenvs\\api-python-bet-project-c88tlEpI-py3.12\\Lib\\site-packages\\pandas\\core\\internals\\construction.py:114\u001b[0m, in \u001b[0;36marrays_to_mgr\u001b[1;34m(arrays, columns, index, dtype, verify_integrity, typ, consolidate)\u001b[0m\n\u001b[0;32m    111\u001b[0m \u001b[38;5;28;01mif\u001b[39;00m verify_integrity:\n\u001b[0;32m    112\u001b[0m     \u001b[38;5;66;03m# figure out the index, if necessary\u001b[39;00m\n\u001b[0;32m    113\u001b[0m     \u001b[38;5;28;01mif\u001b[39;00m index \u001b[38;5;129;01mis\u001b[39;00m \u001b[38;5;28;01mNone\u001b[39;00m:\n\u001b[1;32m--> 114\u001b[0m         index \u001b[38;5;241m=\u001b[39m \u001b[43m_extract_index\u001b[49m\u001b[43m(\u001b[49m\u001b[43marrays\u001b[49m\u001b[43m)\u001b[49m\n\u001b[0;32m    115\u001b[0m     \u001b[38;5;28;01melse\u001b[39;00m:\n\u001b[0;32m    116\u001b[0m         index \u001b[38;5;241m=\u001b[39m ensure_index(index)\n",
      "File \u001b[1;32mc:\\Users\\julio\\AppData\\Local\\pypoetry\\Cache\\virtualenvs\\api-python-bet-project-c88tlEpI-py3.12\\Lib\\site-packages\\pandas\\core\\internals\\construction.py:677\u001b[0m, in \u001b[0;36m_extract_index\u001b[1;34m(data)\u001b[0m\n\u001b[0;32m    675\u001b[0m lengths \u001b[38;5;241m=\u001b[39m \u001b[38;5;28mlist\u001b[39m(\u001b[38;5;28mset\u001b[39m(raw_lengths))\n\u001b[0;32m    676\u001b[0m \u001b[38;5;28;01mif\u001b[39;00m \u001b[38;5;28mlen\u001b[39m(lengths) \u001b[38;5;241m>\u001b[39m \u001b[38;5;241m1\u001b[39m:\n\u001b[1;32m--> 677\u001b[0m     \u001b[38;5;28;01mraise\u001b[39;00m \u001b[38;5;167;01mValueError\u001b[39;00m(\u001b[38;5;124m\"\u001b[39m\u001b[38;5;124mAll arrays must be of the same length\u001b[39m\u001b[38;5;124m\"\u001b[39m)\n\u001b[0;32m    679\u001b[0m \u001b[38;5;28;01mif\u001b[39;00m have_dicts:\n\u001b[0;32m    680\u001b[0m     \u001b[38;5;28;01mraise\u001b[39;00m \u001b[38;5;167;01mValueError\u001b[39;00m(\n\u001b[0;32m    681\u001b[0m         \u001b[38;5;124m\"\u001b[39m\u001b[38;5;124mMixing dicts with non-Series may lead to ambiguous ordering.\u001b[39m\u001b[38;5;124m\"\u001b[39m\n\u001b[0;32m    682\u001b[0m     )\n",
      "\u001b[1;31mValueError\u001b[0m: All arrays must be of the same length"
     ]
    }
   ],
   "source": [
    "# Obtener la importancia de las características\n",
    "importances = model.best_estimator_.named_steps['SGDClassifier'].coef_[0]  # Si usas un modelo lineal como SGDClassifier\n",
    "\n",
    "# Si estás usando un modelo basado en árboles, como RandomForestClassifier:\n",
    "# importances = model.best_estimator_.named_steps['RandomForestClassifier'].feature_importances_\n",
    "\n",
    "# Convertir la importancia a un DataFrame para facilitar su visualización\n",
    "feature_names = X.columns  # Los nombres de las características\n",
    "\n",
    "# Crear un DataFrame con los nombres de las características y su importancia\n",
    "importance_df = pd.DataFrame({\n",
    "    'Feature': feature_names,\n",
    "    'Importance': importances\n",
    "})\n",
    "\n",
    "# Ordenar las características por importancia\n",
    "importance_df = importance_df.sort_values(by='Importance', ascending=False)\n",
    "\n",
    "# Mostrar las características más importantes\n",
    "print(importance_df)\n",
    "\n",
    "# Visualizar la importancia de las características\n",
    "plt.figure(figsize=(10, 6))\n",
    "plt.barh(importance_df['Feature'], importance_df['Importance'])\n",
    "plt.xlabel('Importance')\n",
    "plt.title('Feature Importance')\n",
    "plt.show()"
   ]
  },
  {
   "cell_type": "code",
   "execution_count": 49,
   "metadata": {},
   "outputs": [
    {
     "data": {
      "text/plain": [
       "'# Obtén el transformador MLflowLogger\\nmlflow_logger = model.best_estimator_.named_steps[\"MLflowLogger\"]\\n\\n# Registra parámetros y métricas\\nmlflow_logger.log_params(model.best_params_)\\nmlflow_logger.log_metrics({\"accuracy\": model.score(X_test, y_test)})\\n\\n# Registra el modelo final\\nmlflow_logger.log_model(model.best_estimator_, model_name=\"best_model\")\\n\\n# Cierra la ejecución de MLflow\\nmlflow_logger.close()'"
      ]
     },
     "execution_count": 49,
     "metadata": {},
     "output_type": "execute_result"
    }
   ],
   "source": [
    "'''# Obtén el transformador MLflowLogger\n",
    "mlflow_logger = model.best_estimator_.named_steps[\"MLflowLogger\"]\n",
    "\n",
    "# Registra parámetros y métricas\n",
    "mlflow_logger.log_params(model.best_params_)\n",
    "mlflow_logger.log_metrics({\"accuracy\": model.score(X_test, y_test)})\n",
    "\n",
    "# Registra el modelo final\n",
    "mlflow_logger.log_model(model.best_estimator_, model_name=\"best_model\")\n",
    "\n",
    "# Cierra la ejecución de MLflow\n",
    "mlflow_logger.close()'''"
   ]
  }
 ],
 "metadata": {
  "kernelspec": {
   "display_name": "api-python-bet-project-c88tlEpI-py3.12",
   "language": "python",
   "name": "python3"
  },
  "language_info": {
   "codemirror_mode": {
    "name": "ipython",
    "version": 3
   },
   "file_extension": ".py",
   "mimetype": "text/x-python",
   "name": "python",
   "nbconvert_exporter": "python",
   "pygments_lexer": "ipython3",
   "version": "3.12.8"
  }
 },
 "nbformat": 4,
 "nbformat_minor": 2
}
