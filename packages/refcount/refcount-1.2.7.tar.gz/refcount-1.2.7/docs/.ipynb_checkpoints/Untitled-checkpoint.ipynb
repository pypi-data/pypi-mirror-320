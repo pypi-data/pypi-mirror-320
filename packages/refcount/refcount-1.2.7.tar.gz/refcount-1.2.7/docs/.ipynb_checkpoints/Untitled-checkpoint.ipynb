{
 "cells": [
  {
   "cell_type": "markdown",
   "id": "80cc824a-122b-4026-b728-22a5b83cccad",
   "metadata": {},
   "source": [
    "# Example usage\n",
    "\n",
    "To use `mdsisclienttools` in a project:"
   ]
  },
  {
   "cell_type": "code",
   "execution_count": 2,
   "id": "bfd4056d-1c5d-4e4f-814c-f5bb8d0d8ee3",
   "metadata": {},
   "outputs": [
    {
     "ename": "AttributeError",
     "evalue": "module 'refcount' has no attribute '__version__'",
     "output_type": "error",
     "traceback": [
      "\u001b[0;31m---------------------------------------------------------------------------\u001b[0m",
      "\u001b[0;31mAttributeError\u001b[0m                            Traceback (most recent call last)",
      "\u001b[0;32m/tmp/ipykernel_54128/3348878580.py\u001b[0m in \u001b[0;36m<cell line: 3>\u001b[0;34m()\u001b[0m\n\u001b[1;32m      1\u001b[0m \u001b[0;32mimport\u001b[0m \u001b[0mrefcount\u001b[0m\u001b[0;34m\u001b[0m\u001b[0;34m\u001b[0m\u001b[0m\n\u001b[1;32m      2\u001b[0m \u001b[0;34m\u001b[0m\u001b[0m\n\u001b[0;32m----> 3\u001b[0;31m \u001b[0mprint\u001b[0m\u001b[0;34m(\u001b[0m\u001b[0mrefcount\u001b[0m\u001b[0;34m.\u001b[0m\u001b[0m__version__\u001b[0m\u001b[0;34m)\u001b[0m\u001b[0;34m\u001b[0m\u001b[0;34m\u001b[0m\u001b[0m\n\u001b[0m",
      "\u001b[0;31mAttributeError\u001b[0m: module 'refcount' has no attribute '__version__'"
     ]
    }
   ],
   "source": [
    "import refcount\n",
    "\n",
    "print(refcount.__version__)"
   ]
  },
  {
   "cell_type": "markdown",
   "id": "e90abbe1-f79d-42ae-b6e7-7a02fe397c50",
   "metadata": {},
   "source": [
    "## Overview \n",
    "\n",
    "In computer science, [reference counting](https://en.wikipedia.org/wiki/Reference_counting) is a programming technique of storing the number of references, pointers, or handles to a resource, such as an object, a block of memory, disk space, and others. \n",
    "\n",
    "This `refcount` package is primarily for managing resources in native libraries, written for instance in C++, from Python. While it boils down to \"simply\" maintaining a set of counters, **it is deceptively complicated to do so properly** and not end up with memory leaks or crashes. This package offers structured options for reliably managing external native resources. Surprisingly I could not locate an existing python package doing just what I needed. Other use cases requiring reference counting, aside from native library resources, may benefit from reusing and extending classes in `refcount`.\n",
    "\n",
    "While `refcount` may be used in a variety of contexts, it evolved from use cases needing a Python wrapper around native libraries featuring a C API with opaque pointers (void*), using [cffi](https://cffi.readthedocs.io) for interoperability. This document will not list the many other ways this can be done, nor compare to them.\n",
    "\n",
    "## Interfacing with a C API\n",
    "\n",
    "`C` is still the \"lingua franca' of in-memory interoperability. \n",
    "\n",
    "Say we have a C++ library with objects and a C API. The example is contrived for the sake of simplicity.\n",
    "\n",
    "```C++\n",
    "#define TEST_DOG_PTR  testnative::dog*\n",
    "#define TEST_OWNER_PTR  testnative::owner*\n",
    "#define TEST_COUNTED_PTR  testnative::reference_counter*\n",
    "\n",
    "testnative::dog* create_dog();\n",
    "testnative::owner* create_owner(testnative::dog* d);\n",
    "void say_walk(testnative::owner* owner);\n",
    "void release(testnative::reference_counter* obj);\n",
    "// etc.\n",
    "```\n",
    "\n",
    "From the outside of the library the API is exported with opaque pointers `void*` (C structs pointers and native C99 types could be handled too).\n",
    "\n",
    "```C++\n",
    "void* create_dog();\n",
    "void* create_owner(void* d);\n",
    "void say_walk(void* owner);\n",
    "void release(void* obj);\n",
    "// etc.\n",
    "```\n",
    "\n",
    "A user experience in Python should be something like this:\n",
    "\n",
    "```python\n",
    "dog = Dog()\n",
    "owner = DogOwner(dog)\n",
    "owner.say_walk()\n",
    "print(dog.position)\n",
    "dog = None # the \"native dog\" is still alive though, as the owner incremented the ref count. Otherwise, we could have a dreaded segmentation fault.\n",
    "owner = None\n",
    "```\n",
    "\n",
    "We want python objects and functions hiding the low level details close to the C API, in particular the end user should avoiding managing native memory via `release` C API calls, piggybacking the python reference counting instead.\n",
    "\n",
    "## A real-world use case\n",
    "\n",
    "Let's look at a more compelling story. `refcount` is used to surface to Python a library to manage ensemble, [uchronia] \n"
   ]
  }
 ],
 "metadata": {
  "kernelspec": {
   "display_name": "poetry",
   "language": "python",
   "name": "poetry"
  },
  "language_info": {
   "codemirror_mode": {
    "name": "ipython",
    "version": 3
   },
   "file_extension": ".py",
   "mimetype": "text/x-python",
   "name": "python",
   "nbconvert_exporter": "python",
   "pygments_lexer": "ipython3",
   "version": "3.9.13"
  }
 },
 "nbformat": 4,
 "nbformat_minor": 5
}
