{
  "cells": [
    {
      "cell_type": "markdown",
      "metadata": {
        "id": "ergekGJ4ZAMS"
      },
      "source": [
        "# exec-python examples\n",
        "\n",
        "There are many ways to use exec-python, first, we need to install the package:"
      ]
    },
    {
      "cell_type": "code",
      "execution_count": 5,
      "metadata": {
        "colab": {
          "base_uri": "https://localhost:8080/"
        },
        "id": "cIzwsK-GZOSN",
        "outputId": "cecf0186-4b4e-4548-8f1b-06f7b476acd4"
      },
      "outputs": [
        {
          "name": "stdout",
          "output_type": "stream",
          "text": [
            "Collecting exec-python==0.1.3\n",
            "  Using cached exec_python-0.1.3-py3-none-any.whl.metadata (1.3 kB)\n",
            "Requirement already satisfied: pydantic>=2.8.0 in /usr/local/lib/python3.10/dist-packages (from exec-python==0.1.3) (2.10.3)\n",
            "Requirement already satisfied: annotated-types>=0.6.0 in /usr/local/lib/python3.10/dist-packages (from pydantic>=2.8.0->exec-python==0.1.3) (0.7.0)\n",
            "Requirement already satisfied: pydantic-core==2.27.1 in /usr/local/lib/python3.10/dist-packages (from pydantic>=2.8.0->exec-python==0.1.3) (2.27.1)\n",
            "Requirement already satisfied: typing-extensions>=4.12.2 in /usr/local/lib/python3.10/dist-packages (from pydantic>=2.8.0->exec-python==0.1.3) (4.12.2)\n",
            "Downloading exec_python-0.1.3-py3-none-any.whl (4.8 kB)\n",
            "Installing collected packages: exec-python\n",
            "Successfully installed exec-python-0.1.3\n"
          ]
        }
      ],
      "source": [
        "%pip install exec-python==0.1.3"
      ]
    },
    {
      "cell_type": "markdown",
      "metadata": {
        "id": "Yg5qV9UEZD2V"
      },
      "source": [
        "## 1. Execute plain code with no imported functions"
      ]
    },
    {
      "cell_type": "code",
      "execution_count": 6,
      "metadata": {
        "colab": {
          "base_uri": "https://localhost:8080/"
        },
        "id": "J7PDofFfY8Fe",
        "outputId": "c85cc5dd-a79d-4961-8aa0-584f400cd11b"
      },
      "outputs": [
        {
          "name": "stdout",
          "output_type": "stream",
          "text": [
            "{\n",
            "  \"function_results\": {},\n",
            "  \"variables\": {\n",
            "    \"x\": [1,2],\n",
            "    \"y\": [2,3],\n",
            "    \"z\": [1,2,2,3]\n",
            "  },\n",
            "  \"errors\": []\n",
            "}\n"
          ]
        }
      ],
      "source": [
        "from exec_python import execute_python_code\n",
        "\n",
        "code = \"\"\"\n",
        "x = [1, 2]\n",
        "y = [2, 3]\n",
        "z = x + y\n",
        "\"\"\"\n",
        "\n",
        "results = execute_python_code(\n",
        "    code = code\n",
        ")\n",
        "print(results)"
      ]
    },
    {
      "cell_type": "code",
      "execution_count": 7,
      "metadata": {
        "colab": {
          "base_uri": "https://localhost:8080/"
        },
        "id": "adhXcgTfab09",
        "outputId": "85bb8b00-a245-43ce-fd9a-f2891e6ad688"
      },
      "outputs": [
        {
          "name": "stdout",
          "output_type": "stream",
          "text": [
            "{\n",
            "  \"function_results\": {\n",
            "    \"pair_sum\": [\"z\",\"k\"]\n",
            "  },\n",
            "  \"variables\": {\n",
            "    \"x\": [1,2],\n",
            "    \"y\": [2,3],\n",
            "    \"z\": [3,5],\n",
            "    \"k\": [6,10]\n",
            "  },\n",
            "  \"errors\": []\n",
            "}\n"
          ]
        }
      ],
      "source": [
        "def pair_sum(x: list[int], y: list[int]) -> list[int]:\n",
        "    assert isinstance(x, list)\n",
        "    assert isinstance(y, list)\n",
        "    assert len(x) == len(y)\n",
        "    return [x[i] + y[i] for i in range(len(x))]\n",
        "\n",
        "code = \"\"\"\n",
        "x = [1, 2]\n",
        "y = [2, 3]\n",
        "z = pair_sum(x, y)\n",
        "k = pair_sum(z, z)\n",
        "\"\"\"\n",
        "\n",
        "results = execute_python_code(\n",
        "    code = code,\n",
        "    functions=[pair_sum]\n",
        ")\n",
        "print(results)\n"
      ]
    }
  ],
  "metadata": {
    "colab": {
      "provenance": []
    },
    "kernelspec": {
      "display_name": "Python 3",
      "name": "python3"
    },
    "language_info": {
      "name": "python"
    }
  },
  "nbformat": 4,
  "nbformat_minor": 0
}
