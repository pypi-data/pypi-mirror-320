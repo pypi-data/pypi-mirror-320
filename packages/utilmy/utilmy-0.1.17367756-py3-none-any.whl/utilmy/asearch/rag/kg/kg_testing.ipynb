{
 "cells": [
  {
   "cell_type": "code",
   "execution_count": 1,
   "id": "0975e993-4280-4845-9e43-5b9bd4117728",
   "metadata": {},
   "outputs": [
    {
     "name": "stdout",
     "output_type": "stream",
     "text": [
      "Model loaded in 2.42 seconds\n"
     ]
    }
   ],
   "source": [
    "import sys\n",
    "\n",
    "\n",
    "\n",
    "from utilmy import pd_read_file\n",
    "from rag.engine_kg import TripletExtractorModel, dbsql_fetch_text_by_doc_ids\n",
    "# from rag.bench import glob_glob_last_modified\n",
    "tpe = TripletExtractorModel()\n",
    "\n"
   ]
  },
  {
   "cell_type": "markdown",
   "id": "42478c6710eb6012",
   "metadata": {},
   "source": [
    "# Debug triplet generation"
   ]
  },
  {
   "cell_type": "code",
   "execution_count": 2,
   "id": "9380aa03-243a-47ce-ade9-7bf74e240af2",
   "metadata": {},
   "outputs": [],
   "source": [
    "filepath = \"ztmp/bench/ag_news/kg_triplets/*/*.parquet\"\n",
    "df = pd_read_file(filepath)"
   ]
  },
  {
   "cell_type": "code",
   "execution_count": 3,
   "id": "79a5780a-3183-4961-9030-4db3969623fa",
   "metadata": {},
   "outputs": [
    {
     "name": "stdout",
     "output_type": "stream",
     "text": [
      "29\n"
     ]
    }
   ],
   "source": [
    "x = dbsql_fetch_text_by_doc_ids(text_ids=[10002150938768847559, 10002920186622135836])\n",
    "def get_text_length_byid(text_id):\n",
    "    try:\n",
    "        record,*_ = dbsql_fetch_text_by_doc_ids(text_ids=[text_id])\n",
    "        length= len(record[\"text\"].split())\n",
    "        return length\n",
    "    except Exception as err:\n",
    "        pass\n",
    "    return 0\n",
    "print(get_text_length_byid(10002150938768847559))"
   ]
  },
  {
   "cell_type": "code",
   "execution_count": 4,
   "id": "0d8b5b4b-31dd-485c-8edd-98dc1fd45d19",
   "metadata": {},
   "outputs": [
    {
     "data": {
      "text/plain": [
       "(77036, 5)"
      ]
     },
     "execution_count": 4,
     "metadata": {},
     "output_type": "execute_result"
    }
   ],
   "source": [
    "df.shape"
   ]
  },
  {
   "cell_type": "code",
   "execution_count": 5,
   "id": "bde737ad-8718-49ca-9e8f-ca3ca8cf20b0",
   "metadata": {},
   "outputs": [
    {
     "data": {
      "text/plain": [
       "[{'text_id': '13168321631958298019',\n",
       "  'text': \"Best Asian Tourism Destinations The new APMF survey of the best Asian tourism destinations has just kicked off, but it's crowded at the top, with Chiang Mai in Thailand just leading from perennial favourites Hong Kong, Bangkok and Phuket in Thailand, and Bali in  Indonesia. Be one of the first to vote and let us know your reasons.\"}]"
      ]
     },
     "execution_count": 5,
     "metadata": {},
     "output_type": "execute_result"
    }
   ],
   "source": [
    "dbsql_fetch_text_by_doc_ids(text_ids=[13168321631958298019])"
   ]
  },
  {
   "cell_type": "code",
   "execution_count": 6,
   "id": "0e753aab-f8af-4949-91f7-740d87fd4504",
   "metadata": {},
   "outputs": [
    {
     "data": {
      "text/plain": [
       "type\n",
       "country                                             9841\n",
       "member of sports team                               5965\n",
       "instance of                                         3101\n",
       "position held                                       2477\n",
       "located in the administrative territorial entity    2395\n",
       "                                                    ... \n",
       "constellation                                          1\n",
       "lyrics by                                              1\n",
       "country <triplet>\\Darfur                               1\n",
       "located on street circuit                              1\n",
       "area                                                   1\n",
       "Name: count, Length: 224, dtype: int64"
      ]
     },
     "execution_count": 6,
     "metadata": {},
     "output_type": "execute_result"
    }
   ],
   "source": [
    "df[\"type\"].value_counts()"
   ]
  },
  {
   "cell_type": "code",
   "execution_count": 7,
   "id": "0b7ba6d4-02de-4d0e-8cdf-8f91a7eb5156",
   "metadata": {},
   "outputs": [
    {
     "data": {
      "text/plain": [
       "head\n",
       "1     31942\n",
       "2     12349\n",
       "3      2402\n",
       "4      1601\n",
       "5       555\n",
       "6       321\n",
       "7       132\n",
       "8        67\n",
       "9        24\n",
       "10       16\n",
       "12       12\n",
       "11        6\n",
       "13        3\n",
       "Name: count, dtype: int64"
      ]
     },
     "execution_count": 7,
     "metadata": {},
     "output_type": "execute_result"
    }
   ],
   "source": [
    "# count group by text_id\n",
    "\n",
    "df[[\"text_id\", \"head\"]].groupby(\"text_id\").count().reset_index()[\"head\"].value_counts()"
   ]
  },
  {
   "cell_type": "code",
   "execution_count": 8,
   "id": "ed54963f-b4be-4588-907d-3d8de4a2725f",
   "metadata": {},
   "outputs": [],
   "source": [
    "new_df = df[[\"text_id\", \"head\"]].groupby(\"text_id\").count().reset_index()"
   ]
  },
  {
   "cell_type": "code",
   "execution_count": 9,
   "id": "5ea07342-3ea8-470a-9e58-56227634f1c5",
   "metadata": {},
   "outputs": [
    {
     "data": {
      "text/html": [
       "<div>\n",
       "<style scoped>\n",
       "    .dataframe tbody tr th:only-of-type {\n",
       "        vertical-align: middle;\n",
       "    }\n",
       "\n",
       "    .dataframe tbody tr th {\n",
       "        vertical-align: top;\n",
       "    }\n",
       "\n",
       "    .dataframe thead th {\n",
       "        text-align: right;\n",
       "    }\n",
       "</style>\n",
       "<table border=\"1\" class=\"dataframe\">\n",
       "  <thead>\n",
       "    <tr style=\"text-align: right;\">\n",
       "      <th></th>\n",
       "      <th>text_id</th>\n",
       "      <th>head</th>\n",
       "    </tr>\n",
       "  </thead>\n",
       "  <tbody>\n",
       "    <tr>\n",
       "      <th>5</th>\n",
       "      <td>10002150938768847559</td>\n",
       "      <td>1</td>\n",
       "    </tr>\n",
       "    <tr>\n",
       "      <th>7</th>\n",
       "      <td>10002920186622135836</td>\n",
       "      <td>1</td>\n",
       "    </tr>\n",
       "    <tr>\n",
       "      <th>8</th>\n",
       "      <td>10003267026028842906</td>\n",
       "      <td>1</td>\n",
       "    </tr>\n",
       "    <tr>\n",
       "      <th>10</th>\n",
       "      <td>10004552131248127602</td>\n",
       "      <td>1</td>\n",
       "    </tr>\n",
       "    <tr>\n",
       "      <th>11</th>\n",
       "      <td>1000472594856410479</td>\n",
       "      <td>1</td>\n",
       "    </tr>\n",
       "    <tr>\n",
       "      <th>...</th>\n",
       "      <td>...</td>\n",
       "      <td>...</td>\n",
       "    </tr>\n",
       "    <tr>\n",
       "      <th>49423</th>\n",
       "      <td>9997977433422292775</td>\n",
       "      <td>1</td>\n",
       "    </tr>\n",
       "    <tr>\n",
       "      <th>49426</th>\n",
       "      <td>9998550306966083495</td>\n",
       "      <td>1</td>\n",
       "    </tr>\n",
       "    <tr>\n",
       "      <th>49427</th>\n",
       "      <td>9998595610247887485</td>\n",
       "      <td>1</td>\n",
       "    </tr>\n",
       "    <tr>\n",
       "      <th>49428</th>\n",
       "      <td>9998607669409074929</td>\n",
       "      <td>1</td>\n",
       "    </tr>\n",
       "    <tr>\n",
       "      <th>49429</th>\n",
       "      <td>9999847273908290604</td>\n",
       "      <td>1</td>\n",
       "    </tr>\n",
       "  </tbody>\n",
       "</table>\n",
       "<p>31942 rows × 2 columns</p>\n",
       "</div>"
      ],
      "text/plain": [
       "                    text_id  head\n",
       "5      10002150938768847559     1\n",
       "7      10002920186622135836     1\n",
       "8      10003267026028842906     1\n",
       "10     10004552131248127602     1\n",
       "11      1000472594856410479     1\n",
       "...                     ...   ...\n",
       "49423   9997977433422292775     1\n",
       "49426   9998550306966083495     1\n",
       "49427   9998595610247887485     1\n",
       "49428   9998607669409074929     1\n",
       "49429   9999847273908290604     1\n",
       "\n",
       "[31942 rows x 2 columns]"
      ]
     },
     "execution_count": 9,
     "metadata": {},
     "output_type": "execute_result"
    }
   ],
   "source": [
    "new_df[new_df[\"head\"]==1] "
   ]
  },
  {
   "cell_type": "code",
   "execution_count": null,
   "id": "3696cf96-dca7-40cd-b47f-a12471b937dc",
   "metadata": {},
   "outputs": [],
   "source": []
  },
  {
   "cell_type": "code",
   "execution_count": 10,
   "id": "d46057250aa0298f",
   "metadata": {},
   "outputs": [],
   "source": [
    "new_df[\"word_count\"] = new_df[\"text_id\"].apply(get_text_length_byid)"
   ]
  },
  {
   "cell_type": "code",
   "execution_count": 11,
   "id": "854c2cb2-eaac-43ce-9938-7cc737bcaa29",
   "metadata": {},
   "outputs": [
    {
     "data": {
      "text/html": [
       "<div>\n",
       "<style scoped>\n",
       "    .dataframe tbody tr th:only-of-type {\n",
       "        vertical-align: middle;\n",
       "    }\n",
       "\n",
       "    .dataframe tbody tr th {\n",
       "        vertical-align: top;\n",
       "    }\n",
       "\n",
       "    .dataframe thead th {\n",
       "        text-align: right;\n",
       "    }\n",
       "</style>\n",
       "<table border=\"1\" class=\"dataframe\">\n",
       "  <thead>\n",
       "    <tr style=\"text-align: right;\">\n",
       "      <th></th>\n",
       "      <th>text_id</th>\n",
       "      <th>head</th>\n",
       "      <th>word_count</th>\n",
       "    </tr>\n",
       "  </thead>\n",
       "  <tbody>\n",
       "    <tr>\n",
       "      <th>5</th>\n",
       "      <td>10002150938768847559</td>\n",
       "      <td>1</td>\n",
       "      <td>29</td>\n",
       "    </tr>\n",
       "    <tr>\n",
       "      <th>7</th>\n",
       "      <td>10002920186622135836</td>\n",
       "      <td>1</td>\n",
       "      <td>41</td>\n",
       "    </tr>\n",
       "    <tr>\n",
       "      <th>8</th>\n",
       "      <td>10003267026028842906</td>\n",
       "      <td>1</td>\n",
       "      <td>53</td>\n",
       "    </tr>\n",
       "    <tr>\n",
       "      <th>10</th>\n",
       "      <td>10004552131248127602</td>\n",
       "      <td>1</td>\n",
       "      <td>31</td>\n",
       "    </tr>\n",
       "    <tr>\n",
       "      <th>11</th>\n",
       "      <td>1000472594856410479</td>\n",
       "      <td>1</td>\n",
       "      <td>44</td>\n",
       "    </tr>\n",
       "    <tr>\n",
       "      <th>...</th>\n",
       "      <td>...</td>\n",
       "      <td>...</td>\n",
       "      <td>...</td>\n",
       "    </tr>\n",
       "    <tr>\n",
       "      <th>49423</th>\n",
       "      <td>9997977433422292775</td>\n",
       "      <td>1</td>\n",
       "      <td>51</td>\n",
       "    </tr>\n",
       "    <tr>\n",
       "      <th>49426</th>\n",
       "      <td>9998550306966083495</td>\n",
       "      <td>1</td>\n",
       "      <td>51</td>\n",
       "    </tr>\n",
       "    <tr>\n",
       "      <th>49427</th>\n",
       "      <td>9998595610247887485</td>\n",
       "      <td>1</td>\n",
       "      <td>25</td>\n",
       "    </tr>\n",
       "    <tr>\n",
       "      <th>49428</th>\n",
       "      <td>9998607669409074929</td>\n",
       "      <td>1</td>\n",
       "      <td>34</td>\n",
       "    </tr>\n",
       "    <tr>\n",
       "      <th>49429</th>\n",
       "      <td>9999847273908290604</td>\n",
       "      <td>1</td>\n",
       "      <td>36</td>\n",
       "    </tr>\n",
       "  </tbody>\n",
       "</table>\n",
       "<p>31942 rows × 3 columns</p>\n",
       "</div>"
      ],
      "text/plain": [
       "                    text_id  head  word_count\n",
       "5      10002150938768847559     1          29\n",
       "7      10002920186622135836     1          41\n",
       "8      10003267026028842906     1          53\n",
       "10     10004552131248127602     1          31\n",
       "11      1000472594856410479     1          44\n",
       "...                     ...   ...         ...\n",
       "49423   9997977433422292775     1          51\n",
       "49426   9998550306966083495     1          51\n",
       "49427   9998595610247887485     1          25\n",
       "49428   9998607669409074929     1          34\n",
       "49429   9999847273908290604     1          36\n",
       "\n",
       "[31942 rows x 3 columns]"
      ]
     },
     "execution_count": 11,
     "metadata": {},
     "output_type": "execute_result"
    }
   ],
   "source": [
    "new_df[new_df[\"head\"]==1]"
   ]
  },
  {
   "cell_type": "code",
   "execution_count": 12,
   "id": "4859d55e12dcd978",
   "metadata": {},
   "outputs": [
    {
     "data": {
      "text/html": [
       "<div>\n",
       "<style scoped>\n",
       "    .dataframe tbody tr th:only-of-type {\n",
       "        vertical-align: middle;\n",
       "    }\n",
       "\n",
       "    .dataframe tbody tr th {\n",
       "        vertical-align: top;\n",
       "    }\n",
       "\n",
       "    .dataframe thead th {\n",
       "        text-align: right;\n",
       "    }\n",
       "</style>\n",
       "<table border=\"1\" class=\"dataframe\">\n",
       "  <thead>\n",
       "    <tr style=\"text-align: right;\">\n",
       "      <th></th>\n",
       "      <th>text_id</th>\n",
       "      <th>head</th>\n",
       "      <th>word_count</th>\n",
       "    </tr>\n",
       "  </thead>\n",
       "  <tbody>\n",
       "    <tr>\n",
       "      <th>15090</th>\n",
       "      <td>15033374514112618740</td>\n",
       "      <td>1</td>\n",
       "      <td>168</td>\n",
       "    </tr>\n",
       "    <tr>\n",
       "      <th>13475</th>\n",
       "      <td>1448207204043896405</td>\n",
       "      <td>2</td>\n",
       "      <td>147</td>\n",
       "    </tr>\n",
       "    <tr>\n",
       "      <th>40327</th>\n",
       "      <td>6918921984522097614</td>\n",
       "      <td>2</td>\n",
       "      <td>146</td>\n",
       "    </tr>\n",
       "    <tr>\n",
       "      <th>5473</th>\n",
       "      <td>11820452355826007925</td>\n",
       "      <td>2</td>\n",
       "      <td>145</td>\n",
       "    </tr>\n",
       "    <tr>\n",
       "      <th>28630</th>\n",
       "      <td>3056806053299193426</td>\n",
       "      <td>4</td>\n",
       "      <td>145</td>\n",
       "    </tr>\n",
       "    <tr>\n",
       "      <th>...</th>\n",
       "      <td>...</td>\n",
       "      <td>...</td>\n",
       "      <td>...</td>\n",
       "    </tr>\n",
       "    <tr>\n",
       "      <th>45590</th>\n",
       "      <td>8711276450989850140</td>\n",
       "      <td>2</td>\n",
       "      <td>11</td>\n",
       "    </tr>\n",
       "    <tr>\n",
       "      <th>31753</th>\n",
       "      <td>4066509443622662641</td>\n",
       "      <td>2</td>\n",
       "      <td>10</td>\n",
       "    </tr>\n",
       "    <tr>\n",
       "      <th>45085</th>\n",
       "      <td>8536315245805628285</td>\n",
       "      <td>2</td>\n",
       "      <td>10</td>\n",
       "    </tr>\n",
       "    <tr>\n",
       "      <th>29640</th>\n",
       "      <td>3382653792506686967</td>\n",
       "      <td>1</td>\n",
       "      <td>10</td>\n",
       "    </tr>\n",
       "    <tr>\n",
       "      <th>36788</th>\n",
       "      <td>571323738017072951</td>\n",
       "      <td>2</td>\n",
       "      <td>9</td>\n",
       "    </tr>\n",
       "  </tbody>\n",
       "</table>\n",
       "<p>49430 rows × 3 columns</p>\n",
       "</div>"
      ],
      "text/plain": [
       "                    text_id  head  word_count\n",
       "15090  15033374514112618740     1         168\n",
       "13475   1448207204043896405     2         147\n",
       "40327   6918921984522097614     2         146\n",
       "5473   11820452355826007925     2         145\n",
       "28630   3056806053299193426     4         145\n",
       "...                     ...   ...         ...\n",
       "45590   8711276450989850140     2          11\n",
       "31753   4066509443622662641     2          10\n",
       "45085   8536315245805628285     2          10\n",
       "29640   3382653792506686967     1          10\n",
       "36788    571323738017072951     2           9\n",
       "\n",
       "[49430 rows x 3 columns]"
      ]
     },
     "execution_count": 12,
     "metadata": {},
     "output_type": "execute_result"
    }
   ],
   "source": [
    "# sort by word_count\n",
    "new_df.sort_values(\"word_count\", ascending=False)"
   ]
  },
  {
   "cell_type": "code",
   "execution_count": 13,
   "id": "aabed453-441f-4915-9c76-8e0523bcbb28",
   "metadata": {},
   "outputs": [
    {
     "name": "stdout",
     "output_type": "stream",
     "text": [
      "['Oil prices hover above US\\\\$43 in Asia but market calm after Saudi &lt;b&gt;...&lt;/b&gt; SINGAPORE : Oil prices pushed past 43 dollars in Asian trading but the market was quite calm as the focus shifted to OPEC following a bloody attack on the US consulate in the Saudi port city of Jeddah.']\n"
     ]
    },
    {
     "data": {
      "text/plain": [
       "[[{'head': 'bloody attack on the US consulate',\n",
       "   'type': 'location',\n",
       "   'tail': 'Jeddah'}]]"
      ]
     },
     "execution_count": 13,
     "metadata": {},
     "output_type": "execute_result"
    }
   ],
   "source": [
    "text_id = 9997977433422292775\n",
    "record, *_ = dbsql_fetch_text_by_doc_ids(text_ids=[text_id])\n",
    "print([record[\"text\"]])\n",
    "triplets = tpe.extract([record[\"text\"]])\n",
    "triplets"
   ]
  },
  {
   "cell_type": "markdown",
   "id": "3f1617deb6869d6a",
   "metadata": {},
   "source": [
    "**Findings:**  \n",
    "1. Number of triplets not dependent on length but number of entities present in document.  \n",
    "2. Some times same information is being indexed in 2 triplets  \n",
    "    Eg:\n",
    "    ```\n",
    "        [[{'head': 'NASA', 'type': 'subsidiary', 'tail': 'Ames Research Center'},\n",
    "      {'head': 'Ames Research Center',\n",
    "       'type': 'parent organization',\n",
    "       'tail': 'NASA'}]]\n",
    "    ```\n",
    "    Effect on scoring: This might lead to skewness in scoring.\n",
    "3. "
   ]
  },
  {
   "cell_type": "markdown",
   "id": "6a2453fa-fe36-4e4c-9d92-efc5e10510e9",
   "metadata": {},
   "source": [
    "# Debug failed queries"
   ]
  },
  {
   "cell_type": "code",
   "execution_count": 14,
   "id": "2c54ff1b-78c3-4ec3-aae0-a38d18cab0fb",
   "metadata": {
    "ExecuteTime": {
     "end_time": "2024-06-21T08:22:23.597663Z",
     "start_time": "2024-06-21T08:22:23.592813Z"
    }
   },
   "outputs": [],
   "source": [
    "import os\n",
    "import glob\n",
    "\n",
    "\n",
    "# get failed neo4j questions\n",
    "\n",
    "def glob_glob_last_modified(dirpath):\n",
    "    # print(dirpath)\n",
    "    files = sorted(glob.glob(dirpath), key=os.path.getctime, reverse=True)\n",
    "    if len(files) > 0:\n",
    "        return files[0]  # Latest file\n",
    "\n",
    "\n",
    "dfmetrics_file = glob_glob_last_modified(\"ztmp/bench/ag_news/neo4j/*/*/dfmetrics.csv\")\n",
    "neo_df = pd_read_file(dfmetrics_file, sep=\"\\t\")\n"
   ]
  },
  {
   "cell_type": "code",
   "execution_count": 15,
   "id": "da4cb515-8ef0-4504-812f-251d5e8bc1e9",
   "metadata": {},
   "outputs": [],
   "source": [
    "neo_df = neo_df[neo_df[\"istop_k\"]==0]\n",
    "neo_df[\"text\"] = neo_df[\"id\"].apply(lambda x: dbsql_fetch_text_by_doc_ids(text_ids=[x])[0][\"text\"])\n",
    "neo_df=neo_df[[\"id\", \"text\"]]"
   ]
  },
  {
   "cell_type": "code",
   "execution_count": 16,
   "id": "d6fb645b-c305-42af-947a-2d41f6d3cb81",
   "metadata": {},
   "outputs": [],
   "source": [
    "from rag.relation_extraction import extract_relations\n",
    "def add_triplets_to_df(df):\n",
    "    df[\"triplets\"] = df[\"text\"].apply(lambda x: extract_relations(x))\n",
    "    df = neo_df.explode(column=\"triplets\")\n",
    "    df[\"head\"] = df[\"triplets\"].apply(lambda x: x[\"head\"])\n",
    "    df[\"type\"] = df[\"triplets\"].apply(lambda x: x[\"type\"])\n",
    "    df[\"tail\"] = df[\"triplets\"].apply(lambda x: x[\"tail\"])\n",
    "    df = df[[\"id\",\"text\",\"head\",\"type\", \"tail\"]]\n",
    "    return df"
   ]
  },
  {
   "cell_type": "code",
   "execution_count": 17,
   "id": "c492a22d-dd20-4379-b9b5-9f7c2ec27564",
   "metadata": {},
   "outputs": [
    {
     "name": "stdout",
     "output_type": "stream",
     "text": [
      "relation_matches [have halted, halted, showed, said, said on]\n",
      "relation_matches [soar, soar to, posing, toppling, straining, present]\n",
      "relation_matches [End, End Up, ended, ended slightly, stayed, stayed near, surged, surged past, offsetting]\n",
      "relation_matches [Fell, Fell in, fell, fell by, said]\n",
      "relation_matches [Soaring, are expected, expected, are expected to, expected to, hang, hang over]\n",
      "relation_matches [Pump, can do, do, douse, scorching, oversupplied, oversupplied by, said, warning, could fall, fall, could fall sharply, fall sharply]\n",
      "relation_matches [Should Up, Up, should consider, consider, increasing, said, said on]\n",
      "relation_matches [got, got off, got off to, sidestepped]\n",
      "relation_matches [tumbled, tumbled broadly, tumbled broadly on, showing, cast, draw, fund, growing]\n",
      "relation_matches [could be bracing, be bracing, bracing]\n",
      "relation_matches [keeps, growing, show, continues, continues to, grow, are, may slow, slow, may slow down, slow down]\n",
      "relation_matches [begins, begins on, could be floated, be floated, floated, could be floated for, be floated for, floated for, takes]\n",
      "relation_matches [fall, fall after, disappointing, warns, fall]\n",
      "relation_matches [seeks, asks, pay, pay for, looking, looking after, torn]\n",
      "relation_matches [creating, is planning, planning, is planning to, planning to, float]\n",
      "relation_matches [open, open up, says, push, help, reverse]\n",
      "relation_matches [fill, flies, flies in, work, work on]\n",
      "relation_matches ['ve submitted, submitted, buy, could turn, turn, could turn out, turn out]\n",
      "relation_matches ['ve submitted, submitted, buy, could turn, turn, could turn out, turn out]\n",
      "relation_matches [showed, showed up, showed up in, shopped, shopped hard, shopped hard on, buying, crediting, bringing]\n",
      "relation_matches [can mess, mess, can mess up, mess up, cofounded, guided, blundered, terrorized, parceled, parceled out, gave, gave to, inspired, beat, thought]\n",
      "relation_matches [can mess, mess, can mess up, mess up, cofounded, guided, blundered, terrorized, parceled, parceled out, gave, gave to, inspired, beat, thought]\n",
      "relation_matches [Target, share, expressed, expressed by, 's, share, argues, argues for, called, claiming, be flooding, flooding]\n",
      "relation_matches [emerging, emerging as, has, do, do with]\n",
      "relation_matches [Switching, sees, taking]\n",
      "relation_matches [are spending, spending, are spending more, spending more, are spending more on, spending more on, tricking, tricking out, swim]\n",
      "relation_matches [Meets, does, based, proving, CAN talk, talk, CAN talk about, talk about, work]\n",
      "relation_matches [Meets, does, based, proving, CAN talk, talk, CAN talk about, talk about, work]\n",
      "relation_matches [kicked, kicked off, 's crowded, crowded, 's crowded at, crowded at, leading, leading from, vote, let, know]\n",
      "relation_matches [kicked, kicked off, 's crowded, crowded, 's crowded at, crowded at, leading, leading from, vote, let, know]\n",
      "relation_matches [exec, exec to, head, has hired, hired, head]\n",
      "relation_matches [Play, Go, Go Anyway, Go Anyway Even, gave, allowed, go, go ahead, filed, corrected]\n",
      "relation_matches [Paid, May Slow, Slow, shows, paid, affect, goes]\n",
      "relation_matches [think, came, came out, day,\\and, play]\n",
      "relation_matches [say, urged, throw, throw out, allowing, sue]\n",
      "relation_matches [beats, scored, scored twice, put, put on, beat, remain]\n",
      "relation_matches [beats, scored, scored twice, put, put on, beat, remain]\n",
      "relation_matches [turned, turned down, choosing, choosing instead, choosing instead to, pass, did, said]\n",
      "relation_matches [puts, scored, scored twice, scored twice as, upset, move, move clear, move clear at]\n",
      "relation_matches [got, Report, has said, said, obtained, has admitted, admitted, has admitted to, admitted to, selling]\n",
      "relation_matches [grilled, grilled by, were interviewed, interviewed, were interviewed on, interviewed on, had, had to, change, proposed, became]\n",
      "relation_matches [eliminated, upset, send, cost]\n",
      "relation_matches [will return, return, will return to, return to, fold, fold for, begin]\n",
      "relation_matches [has opened, opened, seeks, seeks to, lure, said, said on]\n",
      "relation_matches [have died, died, according, according to, died, died as, said, said as, said as of, include]\n",
      "relation_matches [has ended, ended]\n",
      "relation_matches [started, started to, resemble]\n",
      "relation_matches [Go, clamor, clamor for]\n",
      "relation_matches [decided, keep, continue, spur]\n",
      "relation_matches [Upset, Upset in, Eliminated, upset, send, cost]\n",
      "relation_matches [Hold, convened, battled, protesting]\n",
      "relation_matches [Reduce, said, said on, would take, take, reduce]\n",
      "relation_matches [Says, Found, found, found in, appears, appears to, kidnapped, said, said on, found, found in, appears, appears to, appears, appears on, told]\n",
      "relation_matches [May Seek, Seek, May Seek to, Seek to, has, suggesting, is working, working, is working on, working on, deliver, said, could increase, increase]\n",
      "relation_matches [says, cutting, said, cutting]\n"
     ]
    }
   ],
   "source": [
    "result_df = add_triplets_to_df(neo_df)\n",
    "result_df.to_csv(\"ztmp/spacy_triplets.csv\", index=False)"
   ]
  },
  {
   "cell_type": "code",
   "execution_count": null,
   "id": "ffcd45a2-4b7b-433b-ac83-4eda139d5526",
   "metadata": {},
   "outputs": [],
   "source": []
  }
 ],
 "metadata": {
  "kernelspec": {
   "display_name": "Python 3 (ipykernel)",
   "language": "python",
   "name": "python3"
  },
  "language_info": {
   "codemirror_mode": {
    "name": "ipython",
    "version": 3
   },
   "file_extension": ".py",
   "mimetype": "text/x-python",
   "name": "python",
   "nbconvert_exporter": "python",
   "pygments_lexer": "ipython3",
   "version": "3.10.12"
  }
 },
 "nbformat": 4,
 "nbformat_minor": 5
}
