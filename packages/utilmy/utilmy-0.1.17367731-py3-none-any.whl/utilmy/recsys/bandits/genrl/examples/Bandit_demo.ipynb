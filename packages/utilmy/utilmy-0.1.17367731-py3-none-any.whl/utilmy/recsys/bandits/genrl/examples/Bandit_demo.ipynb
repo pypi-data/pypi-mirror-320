{
  "nbformat": 4,
  "nbformat_minor": 0,
  "metadata": {
    "colab": {
      "name": "GenRL Bandit Demo",
      "provenance": [],
      "collapsed_sections": [],
      "authorship_tag": "ABX9TyM/n2lbgIBtTIt8joCJyzNp",
      "include_colab_link": true
    },
    "kernelspec": {
      "name": "python3",
      "display_name": "Python 3"
    }
  },
  "cells": [
    {
      "cell_type": "markdown",
      "metadata": {
        "id": "view-in-github",
        "colab_type": "text"
      },
      "source": [
        "<a href=\"https://colab.research.google.com/github/threewisemonkeys-as/genrl/blob/master/examples/Bandit_demo.ipynb\" target=\"_parent\"><img src=\"https://colab.research.google.com/assets/colab-badge.svg\" alt=\"Open In Colab\"/></a>"
      ]
    },
    {
      "cell_type": "markdown",
      "metadata": {
        "id": "YWkMa_yBS2hT",
        "colab_type": "text"
      },
      "source": [
        "# Example of using Bandits from GenRL"
      ]
    },
    {
      "cell_type": "markdown",
      "metadata": {
        "id": "2sXT4gp-O4za",
        "colab_type": "text"
      },
      "source": [
        "## Setup"
      ]
    },
    {
      "cell_type": "code",
      "metadata": {
        "id": "Pbkxqa7t2UQE",
        "colab_type": "code",
        "colab": {
          "base_uri": "https://localhost:8080/",
          "height": 1000
        },
        "outputId": "87439d9f-15f4-4340-df18-1a55578c8458"
      },
      "source": [
        "!git clone https://github.com/SforAiDl/genrl.git\n",
        "!pip install -e genrl"
      ],
      "execution_count": 1,
      "outputs": [
        {
          "output_type": "stream",
          "text": [
            "Cloning into 'genrl'...\n",
            "remote: Enumerating objects: 119, done.\u001b[K\n",
            "remote: Counting objects: 100% (119/119), done.\u001b[K\n",
            "remote: Compressing objects: 100% (107/107), done.\u001b[K\n",
            "remote: Total 7155 (delta 35), reused 30 (delta 8), pack-reused 7036\u001b[K\n",
            "Receiving objects: 100% (7155/7155), 7.59 MiB | 14.18 MiB/s, done.\n",
            "Resolving deltas: 100% (4325/4325), done.\n",
            "Obtaining file:///content/genrl\n",
            "Requirement already satisfied: atari-py==0.2.6 in /usr/local/lib/python3.6/dist-packages (from genrl==0.0.1) (0.2.6)\n",
            "Collecting box2d-py==2.3.8\n",
            "\u001b[?25l  Downloading https://files.pythonhosted.org/packages/06/bd/6cdc3fd994b0649dcf5d9bad85bd9e26172308bbe9a421bfc6fdbf5081a6/box2d_py-2.3.8-cp36-cp36m-manylinux1_x86_64.whl (448kB)\n",
            "\u001b[K     |████████████████████████████████| 450kB 5.9MB/s \n",
            "\u001b[?25hCollecting certifi==2019.11.28\n",
            "\u001b[?25l  Downloading https://files.pythonhosted.org/packages/b9/63/df50cac98ea0d5b006c55a399c3bf1db9da7b5a24de7890bc9cfd5dd9e99/certifi-2019.11.28-py2.py3-none-any.whl (156kB)\n",
            "\u001b[K     |████████████████████████████████| 163kB 9.2MB/s \n",
            "\u001b[?25hRequirement already satisfied: cloudpickle==1.3.0 in /usr/local/lib/python3.6/dist-packages (from genrl==0.0.1) (1.3.0)\n",
            "Collecting future==0.18.2\n",
            "\u001b[?25l  Downloading https://files.pythonhosted.org/packages/45/0b/38b06fd9b92dc2b68d58b75f900e97884c45bedd2ff83203d933cf5851c9/future-0.18.2.tar.gz (829kB)\n",
            "\u001b[K     |████████████████████████████████| 829kB 14.3MB/s \n",
            "\u001b[?25hCollecting gym==0.17.1\n",
            "\u001b[?25l  Downloading https://files.pythonhosted.org/packages/77/48/c43b8a72b916cc70896aa431b0fc00d1481ae34e28dc55e2144f4c77916b/gym-0.17.1.tar.gz (1.6MB)\n",
            "\u001b[K     |████████████████████████████████| 1.6MB 33.0MB/s \n",
            "\u001b[?25hCollecting numpy==1.18.2\n",
            "\u001b[?25l  Downloading https://files.pythonhosted.org/packages/07/08/a549ba8b061005bb629b76adc000f3caaaf881028b963c2e18f811c6edc1/numpy-1.18.2-cp36-cp36m-manylinux1_x86_64.whl (20.2MB)\n",
            "\u001b[K     |████████████████████████████████| 20.2MB 1.5MB/s \n",
            "\u001b[?25hCollecting opencv-python==4.2.0.34\n",
            "\u001b[?25l  Downloading https://files.pythonhosted.org/packages/72/c2/e9cf54ae5b1102020ef895866a67cb2e1aef72f16dd1fde5b5fb1495ad9c/opencv_python-4.2.0.34-cp36-cp36m-manylinux1_x86_64.whl (28.2MB)\n",
            "\u001b[K     |████████████████████████████████| 28.2MB 91kB/s \n",
            "\u001b[?25hCollecting pandas==1.0.4\n",
            "\u001b[?25l  Downloading https://files.pythonhosted.org/packages/8e/86/c14387d6813ebadb7bf61b9ad270ffff111c8b587e4d266e07de774e385e/pandas-1.0.4-cp36-cp36m-manylinux1_x86_64.whl (10.1MB)\n",
            "\u001b[K     |████████████████████████████████| 10.1MB 48.5MB/s \n",
            "\u001b[?25hCollecting Pillow==7.1.0\n",
            "\u001b[?25l  Downloading https://files.pythonhosted.org/packages/ef/73/468ff799fc61607b4f37698d02e4a6699b96f8c0abfa8d973e717bafcba4/Pillow-7.1.0-cp36-cp36m-manylinux1_x86_64.whl (2.1MB)\n",
            "\u001b[K     |████████████████████████████████| 2.1MB 42.9MB/s \n",
            "\u001b[?25hRequirement already satisfied: pyglet==1.5.0 in /usr/local/lib/python3.6/dist-packages (from genrl==0.0.1) (1.5.0)\n",
            "Requirement already satisfied: scipy==1.4.1 in /usr/local/lib/python3.6/dist-packages (from genrl==0.0.1) (1.4.1)\n",
            "Collecting six==1.14.0\n",
            "  Downloading https://files.pythonhosted.org/packages/65/eb/1f97cb97bfc2390a276969c6fae16075da282f5058082d4cb10c6c5c1dba/six-1.14.0-py2.py3-none-any.whl\n",
            "Collecting matplotlib==3.2.1\n",
            "\u001b[?25l  Downloading https://files.pythonhosted.org/packages/93/4b/52da6b1523d5139d04e02d9e26ceda6146b48f2a4e5d2abfdf1c7bac8c40/matplotlib-3.2.1-cp36-cp36m-manylinux1_x86_64.whl (12.4MB)\n",
            "\u001b[K     |████████████████████████████████| 12.4MB 17.6MB/s \n",
            "\u001b[?25hCollecting pytest==5.4.1\n",
            "\u001b[?25l  Downloading https://files.pythonhosted.org/packages/c7/e2/c19c667f42f72716a7d03e8dd4d6f63f47d39feadd44cc1ee7ca3089862c/pytest-5.4.1-py3-none-any.whl (246kB)\n",
            "\u001b[K     |████████████████████████████████| 256kB 46.0MB/s \n",
            "\u001b[?25hCollecting torch==1.4.0\n",
            "\u001b[?25l  Downloading https://files.pythonhosted.org/packages/24/19/4804aea17cd136f1705a5e98a00618cb8f6ccc375ad8bfa437408e09d058/torch-1.4.0-cp36-cp36m-manylinux1_x86_64.whl (753.4MB)\n",
            "\u001b[K     |████████████████████████████████| 753.4MB 18kB/s \n",
            "\u001b[?25hCollecting torchvision==0.5.0\n",
            "\u001b[?25l  Downloading https://files.pythonhosted.org/packages/7e/90/6141bf41f5655c78e24f40f710fdd4f8a8aff6c8b7c6f0328240f649bdbe/torchvision-0.5.0-cp36-cp36m-manylinux1_x86_64.whl (4.0MB)\n",
            "\u001b[K     |████████████████████████████████| 4.0MB 39.4MB/s \n",
            "\u001b[?25hCollecting tensorflow-tensorboard==1.5.1\n",
            "\u001b[?25l  Downloading https://files.pythonhosted.org/packages/cc/fa/91c06952517b4f1bc075545b062a4112e30cebe558a6b962816cb33efa27/tensorflow_tensorboard-1.5.1-py3-none-any.whl (3.0MB)\n",
            "\u001b[K     |████████████████████████████████| 3.0MB 38.6MB/s \n",
            "\u001b[?25hCollecting tensorboard==1.15.0\n",
            "\u001b[?25l  Downloading https://files.pythonhosted.org/packages/1e/e9/d3d747a97f7188f48aa5eda486907f3b345cd409f0a0850468ba867db246/tensorboard-1.15.0-py3-none-any.whl (3.8MB)\n",
            "\u001b[K     |████████████████████████████████| 3.8MB 44.8MB/s \n",
            "\u001b[?25hCollecting pre-commit==2.4.0\n",
            "\u001b[?25l  Downloading https://files.pythonhosted.org/packages/fc/70/b162b8e15689427006853a245b45040435534a568cc773be098bfaebd36d/pre_commit-2.4.0-py2.py3-none-any.whl (171kB)\n",
            "\u001b[K     |████████████████████████████████| 174kB 50.0MB/s \n",
            "\u001b[?25hCollecting importlib-resources==1.0.1\n",
            "  Downloading https://files.pythonhosted.org/packages/81/a3/466b268701207e00b4440803be132e892bd9fc74f1fe786d7e33146ad2c7/importlib_resources-1.0.1-py2.py3-none-any.whl\n",
            "Collecting setuptools==41.0.0\n",
            "\u001b[?25l  Downloading https://files.pythonhosted.org/packages/c8/b0/cc6b7ba28d5fb790cf0d5946df849233e32b8872b6baca10c9e002ff5b41/setuptools-41.0.0-py2.py3-none-any.whl (575kB)\n",
            "\u001b[K     |████████████████████████████████| 583kB 42.7MB/s \n",
            "\u001b[?25hRequirement already satisfied: pytz>=2017.2 in /usr/local/lib/python3.6/dist-packages (from pandas==1.0.4->genrl==0.0.1) (2018.9)\n",
            "Requirement already satisfied: python-dateutil>=2.6.1 in /usr/local/lib/python3.6/dist-packages (from pandas==1.0.4->genrl==0.0.1) (2.8.1)\n",
            "Requirement already satisfied: kiwisolver>=1.0.1 in /usr/local/lib/python3.6/dist-packages (from matplotlib==3.2.1->genrl==0.0.1) (1.2.0)\n",
            "Requirement already satisfied: cycler>=0.10 in /usr/local/lib/python3.6/dist-packages (from matplotlib==3.2.1->genrl==0.0.1) (0.10.0)\n",
            "Requirement already satisfied: pyparsing!=2.0.4,!=2.1.2,!=2.1.6,>=2.0.1 in /usr/local/lib/python3.6/dist-packages (from matplotlib==3.2.1->genrl==0.0.1) (2.4.7)\n",
            "Requirement already satisfied: packaging in /usr/local/lib/python3.6/dist-packages (from pytest==5.4.1->genrl==0.0.1) (20.4)\n",
            "Collecting pluggy<1.0,>=0.12\n",
            "  Downloading https://files.pythonhosted.org/packages/a0/28/85c7aa31b80d150b772fbe4a229487bc6644da9ccb7e427dd8cc60cb8a62/pluggy-0.13.1-py2.py3-none-any.whl\n",
            "Requirement already satisfied: wcwidth in /usr/local/lib/python3.6/dist-packages (from pytest==5.4.1->genrl==0.0.1) (0.2.5)\n",
            "Requirement already satisfied: py>=1.5.0 in /usr/local/lib/python3.6/dist-packages (from pytest==5.4.1->genrl==0.0.1) (1.9.0)\n",
            "Requirement already satisfied: attrs>=17.4.0 in /usr/local/lib/python3.6/dist-packages (from pytest==5.4.1->genrl==0.0.1) (20.1.0)\n",
            "Requirement already satisfied: more-itertools>=4.0.0 in /usr/local/lib/python3.6/dist-packages (from pytest==5.4.1->genrl==0.0.1) (8.4.0)\n",
            "Requirement already satisfied: importlib-metadata>=0.12; python_version < \"3.8\" in /usr/local/lib/python3.6/dist-packages (from pytest==5.4.1->genrl==0.0.1) (1.7.0)\n",
            "Collecting bleach==1.5.0\n",
            "  Downloading https://files.pythonhosted.org/packages/33/70/86c5fec937ea4964184d4d6c4f0b9551564f821e1c3575907639036d9b90/bleach-1.5.0-py2.py3-none-any.whl\n",
            "Requirement already satisfied: wheel>=0.26; python_version >= \"3\" in /usr/local/lib/python3.6/dist-packages (from tensorflow-tensorboard==1.5.1->genrl==0.0.1) (0.35.1)\n",
            "Requirement already satisfied: markdown>=2.6.8 in /usr/local/lib/python3.6/dist-packages (from tensorflow-tensorboard==1.5.1->genrl==0.0.1) (3.2.2)\n",
            "Requirement already satisfied: protobuf>=3.4.0 in /usr/local/lib/python3.6/dist-packages (from tensorflow-tensorboard==1.5.1->genrl==0.0.1) (3.12.4)\n",
            "Collecting html5lib==0.9999999\n",
            "\u001b[?25l  Downloading https://files.pythonhosted.org/packages/ae/ae/bcb60402c60932b32dfaf19bb53870b29eda2cd17551ba5639219fb5ebf9/html5lib-0.9999999.tar.gz (889kB)\n",
            "\u001b[K     |████████████████████████████████| 890kB 39.4MB/s \n",
            "\u001b[?25hRequirement already satisfied: werkzeug>=0.11.10 in /usr/local/lib/python3.6/dist-packages (from tensorflow-tensorboard==1.5.1->genrl==0.0.1) (1.0.1)\n",
            "Requirement already satisfied: absl-py>=0.4 in /usr/local/lib/python3.6/dist-packages (from tensorboard==1.15.0->genrl==0.0.1) (0.8.1)\n",
            "Requirement already satisfied: grpcio>=1.6.3 in /usr/local/lib/python3.6/dist-packages (from tensorboard==1.15.0->genrl==0.0.1) (1.31.0)\n",
            "Collecting cfgv>=2.0.0\n",
            "  Downloading https://files.pythonhosted.org/packages/45/cd/3878c9248e59e5e2ebd0dc741ab984b18d86e7283ae9b127b05fc287d239/cfgv-3.2.0-py2.py3-none-any.whl\n",
            "Collecting virtualenv>=20.0.8\n",
            "\u001b[?25l  Downloading https://files.pythonhosted.org/packages/12/51/36c685ff2c1b2f7b4b5db29f3153159102ae0e0adaff3a26fd1448232e06/virtualenv-20.0.31-py2.py3-none-any.whl (4.9MB)\n",
            "\u001b[K     |████████████████████████████████| 4.9MB 41.4MB/s \n",
            "\u001b[?25hCollecting pyyaml>=5.1\n",
            "\u001b[?25l  Downloading https://files.pythonhosted.org/packages/64/c2/b80047c7ac2478f9501676c988a5411ed5572f35d1beff9cae07d321512c/PyYAML-5.3.1.tar.gz (269kB)\n",
            "\u001b[K     |████████████████████████████████| 276kB 36.7MB/s \n",
            "\u001b[?25hCollecting nodeenv>=0.11.1\n",
            "  Downloading https://files.pythonhosted.org/packages/ae/d0/efdf54539948315cc76e5a66b709212963101d002822c3b54369dbf9b5e0/nodeenv-1.5.0-py2.py3-none-any.whl\n",
            "Collecting identify>=1.0.0\n",
            "\u001b[?25l  Downloading https://files.pythonhosted.org/packages/fd/e0/593fed766c1ddbf7dfb3bdbc997af3c5dcbf7862392f4ee5fef744128622/identify-1.4.29-py2.py3-none-any.whl (97kB)\n",
            "\u001b[K     |████████████████████████████████| 102kB 11.4MB/s \n",
            "\u001b[?25hRequirement already satisfied: toml in /usr/local/lib/python3.6/dist-packages (from pre-commit==2.4.0->genrl==0.0.1) (0.10.1)\n",
            "Requirement already satisfied: zipp>=0.5 in /usr/local/lib/python3.6/dist-packages (from importlib-metadata>=0.12; python_version < \"3.8\"->pytest==5.4.1->genrl==0.0.1) (3.1.0)\n",
            "Collecting appdirs<2,>=1.4.3\n",
            "  Downloading https://files.pythonhosted.org/packages/3b/00/2344469e2084fb287c2e0b57b72910309874c3245463acd6cf5e3db69324/appdirs-1.4.4-py2.py3-none-any.whl\n",
            "Requirement already satisfied: filelock<4,>=3.0.0 in /usr/local/lib/python3.6/dist-packages (from virtualenv>=20.0.8->pre-commit==2.4.0->genrl==0.0.1) (3.0.12)\n",
            "Collecting distlib<1,>=0.3.1\n",
            "\u001b[?25l  Downloading https://files.pythonhosted.org/packages/f5/0a/490fa011d699bb5a5f3a0cf57de82237f52a6db9d40f33c53b2736c9a1f9/distlib-0.3.1-py2.py3-none-any.whl (335kB)\n",
            "\u001b[K     |████████████████████████████████| 337kB 42.3MB/s \n",
            "\u001b[?25hBuilding wheels for collected packages: future, gym, html5lib, pyyaml\n",
            "  Building wheel for future (setup.py) ... \u001b[?25l\u001b[?25hdone\n",
            "  Created wheel for future: filename=future-0.18.2-cp36-none-any.whl size=491057 sha256=8cf52b30de5fee8e76119c05431d1a52eef7ae39a131d23fa70b3d2bfeb1c13d\n",
            "  Stored in directory: /root/.cache/pip/wheels/8b/99/a0/81daf51dcd359a9377b110a8a886b3895921802d2fc1b2397e\n",
            "  Building wheel for gym (setup.py) ... \u001b[?25l\u001b[?25hdone\n",
            "  Created wheel for gym: filename=gym-0.17.1-cp36-none-any.whl size=1648710 sha256=f5ef583b9328385c7c344c372ca3ae1a085b8aa56557482d98a9905383612668\n",
            "  Stored in directory: /root/.cache/pip/wheels/c0/84/61/523b92d88787ae29689b3cc08cf445d8d8186d7fbe1acbf87b\n",
            "  Building wheel for html5lib (setup.py) ... \u001b[?25l\u001b[?25hdone\n",
            "  Created wheel for html5lib: filename=html5lib-0.9999999-cp36-none-any.whl size=107220 sha256=b80489e513128c0bb22be245f1b98637449c9272470ad870e93375e5acdffdb7\n",
            "  Stored in directory: /root/.cache/pip/wheels/50/ae/f9/d2b189788efcf61d1ee0e36045476735c838898eef1cad6e29\n",
            "  Building wheel for pyyaml (setup.py) ... \u001b[?25l\u001b[?25hdone\n",
            "  Created wheel for pyyaml: filename=PyYAML-5.3.1-cp36-cp36m-linux_x86_64.whl size=44619 sha256=77b47e0ba1f5f22e5bd75345640c374869a74cae41ddde00ddb8521ab7db4f20\n",
            "  Stored in directory: /root/.cache/pip/wheels/a7/c1/ea/cf5bd31012e735dc1dfea3131a2d5eae7978b251083d6247bd\n",
            "Successfully built future gym html5lib pyyaml\n",
            "\u001b[31mERROR: xarray 0.15.1 has requirement setuptools>=41.2, but you'll have setuptools 41.0.0 which is incompatible.\u001b[0m\n",
            "\u001b[31mERROR: tensorflow 2.3.0 has requirement tensorboard<3,>=2.3.0, but you'll have tensorboard 1.15.0 which is incompatible.\u001b[0m\n",
            "\u001b[31mERROR: google-colab 1.0.0 has requirement six~=1.15.0, but you'll have six 1.14.0 which is incompatible.\u001b[0m\n",
            "\u001b[31mERROR: datascience 0.10.6 has requirement folium==0.2.1, but you'll have folium 0.8.3 which is incompatible.\u001b[0m\n",
            "\u001b[31mERROR: albumentations 0.1.12 has requirement imgaug<0.2.7,>=0.2.5, but you'll have imgaug 0.2.9 which is incompatible.\u001b[0m\n",
            "Installing collected packages: box2d-py, certifi, future, numpy, six, gym, opencv-python, pandas, Pillow, matplotlib, pluggy, pytest, torch, torchvision, html5lib, bleach, tensorflow-tensorboard, setuptools, tensorboard, cfgv, appdirs, importlib-resources, distlib, virtualenv, pyyaml, nodeenv, identify, pre-commit, genrl\n",
            "  Found existing installation: certifi 2020.6.20\n",
            "    Uninstalling certifi-2020.6.20:\n",
            "      Successfully uninstalled certifi-2020.6.20\n",
            "  Found existing installation: future 0.16.0\n",
            "    Uninstalling future-0.16.0:\n",
            "      Successfully uninstalled future-0.16.0\n",
            "  Found existing installation: numpy 1.18.5\n",
            "    Uninstalling numpy-1.18.5:\n",
            "      Successfully uninstalled numpy-1.18.5\n",
            "  Found existing installation: six 1.15.0\n",
            "    Uninstalling six-1.15.0:\n",
            "      Successfully uninstalled six-1.15.0\n",
            "  Found existing installation: gym 0.17.2\n",
            "    Uninstalling gym-0.17.2:\n",
            "      Successfully uninstalled gym-0.17.2\n",
            "  Found existing installation: opencv-python 4.1.2.30\n",
            "    Uninstalling opencv-python-4.1.2.30:\n",
            "      Successfully uninstalled opencv-python-4.1.2.30\n",
            "  Found existing installation: pandas 1.0.5\n",
            "    Uninstalling pandas-1.0.5:\n",
            "      Successfully uninstalled pandas-1.0.5\n",
            "  Found existing installation: Pillow 7.0.0\n",
            "    Uninstalling Pillow-7.0.0:\n",
            "      Successfully uninstalled Pillow-7.0.0\n",
            "  Found existing installation: matplotlib 3.2.2\n",
            "    Uninstalling matplotlib-3.2.2:\n",
            "      Successfully uninstalled matplotlib-3.2.2\n",
            "  Found existing installation: pluggy 0.7.1\n",
            "    Uninstalling pluggy-0.7.1:\n",
            "      Successfully uninstalled pluggy-0.7.1\n",
            "  Found existing installation: pytest 3.6.4\n",
            "    Uninstalling pytest-3.6.4:\n",
            "      Successfully uninstalled pytest-3.6.4\n",
            "  Found existing installation: torch 1.6.0+cu101\n",
            "    Uninstalling torch-1.6.0+cu101:\n",
            "      Successfully uninstalled torch-1.6.0+cu101\n",
            "  Found existing installation: torchvision 0.7.0+cu101\n",
            "    Uninstalling torchvision-0.7.0+cu101:\n",
            "      Successfully uninstalled torchvision-0.7.0+cu101\n",
            "  Found existing installation: html5lib 1.0.1\n",
            "    Uninstalling html5lib-1.0.1:\n",
            "      Successfully uninstalled html5lib-1.0.1\n",
            "  Found existing installation: bleach 3.1.5\n",
            "    Uninstalling bleach-3.1.5:\n",
            "      Successfully uninstalled bleach-3.1.5\n",
            "  Found existing installation: setuptools 49.6.0\n",
            "    Uninstalling setuptools-49.6.0:\n",
            "      Successfully uninstalled setuptools-49.6.0\n",
            "  Found existing installation: tensorboard 2.3.0\n",
            "    Uninstalling tensorboard-2.3.0:\n",
            "      Successfully uninstalled tensorboard-2.3.0\n",
            "  Found existing installation: PyYAML 3.13\n",
            "    Uninstalling PyYAML-3.13:\n",
            "      Successfully uninstalled PyYAML-3.13\n",
            "  Running setup.py develop for genrl\n",
            "Successfully installed Pillow-7.1.0 appdirs-1.4.4 bleach-1.5.0 box2d-py-2.3.8 certifi-2019.11.28 cfgv-3.2.0 distlib-0.3.1 future-0.18.2 genrl gym-0.17.1 html5lib-0.9999999 identify-1.4.29 importlib-resources-1.0.1 matplotlib-3.2.1 nodeenv-1.5.0 numpy-1.18.2 opencv-python-4.2.0.34 pandas-1.0.4 pluggy-0.13.1 pre-commit-2.4.0 pytest-5.4.1 pyyaml-5.3.1 setuptools-41.0.0 six-1.14.0 tensorboard-1.15.0 tensorflow-tensorboard-1.5.1 torch-1.4.0 torchvision-0.5.0 virtualenv-20.0.31\n"
          ],
          "name": "stdout"
        },
        {
          "output_type": "display_data",
          "data": {
            "application/vnd.colab-display-data+json": {
              "pip_warning": {
                "packages": [
                  "PIL",
                  "matplotlib",
                  "mpl_toolkits",
                  "numpy",
                  "pandas",
                  "pkg_resources",
                  "six"
                ]
              }
            }
          },
          "metadata": {
            "tags": []
          }
        }
      ]
    },
    {
      "cell_type": "code",
      "metadata": {
        "id": "kMa_HDBT3APh",
        "colab_type": "code",
        "colab": {}
      },
      "source": [
        "import matplotlib.pyplot as plt\n",
        "import torch"
      ],
      "execution_count": 1,
      "outputs": []
    },
    {
      "cell_type": "markdown",
      "metadata": {
        "id": "IhfRPmuHPWUp",
        "colab_type": "text"
      },
      "source": [
        "## Epsilon Greedy Policy on a Bernoulli Bandit"
      ]
    },
    {
      "cell_type": "code",
      "metadata": {
        "id": "rVSRR6bG3Dr3",
        "colab_type": "code",
        "colab": {
          "base_uri": "https://localhost:8080/",
          "height": 744
        },
        "outputId": "6fe7d6c0-61bd-4560-c8ad-5c712bcc42ab"
      },
      "source": [
        "from genrl.agents import EpsGreedyMABAgent, BernoulliMAB\n",
        "from genrl.trainers import MABTrainer\n",
        "\n",
        "bandit = BernoulliMAB(arms=50, context_type=\"int\")  \n",
        "agent = EpsGreedyMABAgent(bandit, eps=0.1)\n",
        "trainer = MABTrainer(agent, bandit)             \n",
        "results = trainer.train(2000)\n",
        "\n",
        "plt.plot(results[\"cumulative_regrets\"])"
      ],
      "execution_count": 2,
      "outputs": [
        {
          "output_type": "stream",
          "text": [
            "\n",
            "Started at 27-08-20 18:48:38\n",
            "Training EpsGreedyMABAgent on BernoulliMAB for 2000 timesteps\n",
            "timestep                  regret/regret             reward/reward             regret/cumulative_regret  reward/cumulative_reward  regret/regret_moving_avg  reward/reward_moving_avg  \n",
            "100                       0                         1                         14                        86                        0.14                      0.86                      \n",
            "200                       0                         1                         19                        181                       0.05                      0.95                      \n",
            "300                       0                         1                         29                        271                       0.1                       0.9                       \n",
            "400                       0                         1                         34                        366                       0.05                      0.95                      \n",
            "500                       0                         1                         44                        456                       0.1                       0.9                       \n",
            "600                       0                         1                         52                        548                       0.08                      0.92                      \n",
            "700                       0                         1                         55                        645                       0.03                      0.97                      \n",
            "800                       0                         1                         58                        742                       0.03                      0.97                      \n",
            "900                       0                         1                         62                        838                       0.04                      0.96                      \n",
            "1000                      0                         1                         67                        933                       0.05                      0.95                      \n",
            "1100                      0                         1                         69                        1031                      0.02                      0.98                      \n",
            "1200                      0                         1                         83                        1117                      0.14                      0.86                      \n",
            "1300                      0                         1                         90                        1210                      0.07                      0.93                      \n",
            "1400                      0                         1                         95                        1305                      0.05                      0.95                      \n",
            "1500                      0                         1                         100                       1400                      0.05                      0.95                      \n",
            "1600                      0                         1                         110                       1490                      0.1                       0.9                       \n",
            "1700                      0                         1                         114                       1586                      0.04                      0.96                      \n",
            "1800                      0                         1                         120                       1680                      0.06                      0.94                      \n",
            "1900                      0                         1                         123                       1777                      0.03                      0.97                      \n",
            "2000                      0                         1                         129                       1871                      0.06                      0.94                      \n",
            "Training completed in 0 seconds\n",
            "Final Regret Moving Average: 0.06 | Final Reward Moving Average: 0.94\n"
          ],
          "name": "stdout"
        },
        {
          "output_type": "execute_result",
          "data": {
            "text/plain": [
              "[<matplotlib.lines.Line2D at 0x7f7794c2de48>]"
            ]
          },
          "metadata": {
            "tags": []
          },
          "execution_count": 2
        },
        {
          "output_type": "display_data",
          "data": {
            "image/png": "[encoded data removed]",
            "text/plain": [
              "<Figure size 432x288 with 1 Axes>"
            ]
          },
          "metadata": {
            "tags": [],
            "needs_background": "light"
          }
        }
      ]
    },
    {
      "cell_type": "markdown",
      "metadata": {
        "id": "ySu7WO95QpCA",
        "colab_type": "text"
      },
      "source": [
        "## Linear Posterior Policy with the Covertype Dataset based Bandit"
      ]
    },
    {
      "cell_type": "code",
      "metadata": {
        "id": "-sZC2jIJ3Ihm",
        "colab_type": "code",
        "colab": {
          "base_uri": "https://localhost:8080/",
          "height": 1000
        },
        "outputId": "6d23fc6c-9965-4e3e-aec5-258d4f5bfe4a"
      },
      "source": [
        "from genrl.agents import LinearPosteriorAgent\n",
        "from genrl.trainers import DCBTrainer\n",
        "from genrl.utils.data_bandits import CovertypeDataBandit\n",
        "\n",
        "bandit = CovertypeDataBandit(download=True)\n",
        "agent = LinearPosteriorAgent(bandit)\n",
        "trainer = DCBTrainer(agent, bandit)\n",
        "results = trainer.train(10000)\n",
        "\n",
        "plt.plot(results[\"cumulative_regrets\"])"
      ],
      "execution_count": null,
      "outputs": [
        {
          "output_type": "stream",
          "text": [
            "Downloading https://archive.ics.uci.edu/ml/machine-learning-databases/covtype/covtype.data.gz to /content/data/Covertype/covtype.data.gz\n",
            "\n",
            "Started at 25-08-20 18:24:09\n",
            "Training LinearPosteriorAgent on CovertypeDataBandit for 10000 timesteps\n",
            "timestep                  regret/regret             reward/reward             regret/cumulative_regret  reward/cumulative_reward  regret/regret_moving_avg  reward/reward_moving_avg  \n",
            "100                       0                         1                         86                        14                        0.86                      0.14                      \n",
            "200                       1                         0                         168                       32                        0.84                      0.16                      \n",
            "300                       1                         0                         252                       48                        0.84                      0.16                      \n",
            "400                       1                         0                         339                       61                        0.8475                    0.1525                    \n",
            "500                       1                         0                         424                       76                        0.848                     0.152                     \n"
          ],
          "name": "stdout"
        },
        {
          "output_type": "stream",
          "text": [
            "/content/genrl/genrl/agents/bandits/contextual/linpos.py:92: RuntimeWarning: covariance is not positive-semidefinite.\n",
            "  for i in range(self.n_actions)\n"
          ],
          "name": "stderr"
        },
        {
          "output_type": "stream",
          "text": [
            "600                       1                         0                         509                       91                        0.846                     0.154                     \n",
            "700                       1                         0                         557                       143                       0.778                     0.222                     \n",
            "800                       1                         0                         588                       212                       0.672                     0.328                     \n",
            "900                       0                         1                         634                       266                       0.59                      0.41                      \n",
            "1000                      0                         1                         678                       322                       0.508                     0.492                     \n",
            "1100                      0                         1                         715                       385                       0.412                     0.588                     \n",
            "1200                      0                         1                         752                       448                       0.39                      0.61                      \n",
            "1300                      0                         1                         798                       502                       0.42                      0.58                      \n",
            "1400                      0                         1                         827                       573                       0.386                     0.614                     \n",
            "1500                      1                         0                         856                       644                       0.356                     0.644                     \n",
            "1600                      1                         0                         904                       696                       0.378                     0.622                     \n",
            "1700                      0                         1                         942                       758                       0.38                      0.62                      \n",
            "1800                      1                         0                         985                       815                       0.374                     0.626                     \n",
            "1900                      1                         0                         1023                      877                       0.392                     0.608                     \n",
            "2000                      0                         1                         1053                      947                       0.394                     0.606                     \n",
            "2100                      1                         0                         1101                      999                       0.394                     0.606                     \n",
            "2200                      0                         1                         1127                      1073                      0.37                      0.63                      \n",
            "2300                      1                         0                         1176                      1124                      0.382                     0.618                     \n",
            "2400                      1                         0                         1223                      1177                      0.4                       0.6                       \n",
            "2500                      0                         1                         1262                      1238                      0.418                     0.582                     \n",
            "2600                      1                         0                         1307                      1293                      0.412                     0.588                     \n",
            "2700                      0                         1                         1348                      1352                      0.442                     0.558                     \n",
            "2800                      1                         0                         1392                      1408                      0.432                     0.568                     \n",
            "2900                      1                         0                         1440                      1460                      0.434                     0.566                     \n",
            "3000                      1                         0                         1477                      1523                      0.43                      0.57                      \n",
            "3100                      1                         0                         1526                      1574                      0.438                     0.562                     \n",
            "3200                      1                         0                         1561                      1639                      0.426                     0.574                     \n",
            "3300                      0                         1                         1597                      1703                      0.41                      0.59                      \n",
            "3400                      0                         1                         1638                      1762                      0.396                     0.604                     \n",
            "3500                      0                         1                         1678                      1822                      0.402                     0.598                     \n",
            "3600                      0                         1                         1712                      1888                      0.372                     0.628                     \n",
            "3700                      0                         1                         1757                      1943                      0.392                     0.608                     \n",
            "3800                      0                         1                         1805                      1995                      0.416                     0.584                     \n",
            "3900                      1                         0                         1841                      2059                      0.406                     0.594                     \n",
            "4000                      0                         1                         1873                      2127                      0.39                      0.61                      \n",
            "4100                      1                         0                         1907                      2193                      0.39                      0.61                      \n",
            "4200                      0                         1                         1950                      2250                      0.386                     0.614                     \n",
            "4300                      0                         1                         1986                      2314                      0.362                     0.638                     \n",
            "4400                      0                         1                         2026                      2374                      0.37                      0.63                      \n",
            "4500                      0                         1                         2067                      2433                      0.388                     0.612                     \n",
            "4600                      1                         0                         2107                      2493                      0.4                       0.6                       \n",
            "4700                      0                         1                         2142                      2558                      0.384                     0.616                     \n",
            "4800                      0                         1                         2186                      2614                      0.4                       0.6                       \n",
            "4900                      0                         1                         2228                      2672                      0.404                     0.596                     \n",
            "5000                      1                         0                         2268                      2732                      0.402                     0.598                     \n",
            "5100                      0                         1                         2301                      2799                      0.388                     0.612                     \n",
            "5200                      0                         1                         2335                      2865                      0.386                     0.614                     \n",
            "5300                      0                         1                         2375                      2925                      0.378                     0.622                     \n",
            "5400                      0                         1                         2410                      2990                      0.364                     0.636                     \n",
            "5500                      1                         0                         2456                      3044                      0.376                     0.624                     \n",
            "5600                      1                         0                         2499                      3101                      0.396                     0.604                     \n",
            "5700                      1                         0                         2536                      3164                      0.402                     0.598                     \n",
            "5800                      0                         1                         2576                      3224                      0.402                     0.598                     \n",
            "5900                      0                         1                         2610                      3290                      0.4                       0.6                       \n",
            "6000                      0                         1                         2654                      3346                      0.396                     0.604                     \n",
            "6100                      1                         0                         2701                      3399                      0.404                     0.596                     \n",
            "6200                      1                         0                         2745                      3455                      0.418                     0.582                     \n",
            "6300                      1                         0                         2789                      3511                      0.426                     0.574                     \n",
            "6400                      1                         0                         2824                      3576                      0.428                     0.572                     \n",
            "6500                      0                         1                         2867                      3633                      0.426                     0.574                     \n",
            "6600                      1                         0                         2909                      3691                      0.416                     0.584                     \n",
            "6700                      0                         1                         2952                      3748                      0.414                     0.586                     \n",
            "6800                      0                         1                         2997                      3803                      0.416                     0.584                     \n",
            "6900                      1                         0                         3040                      3860                      0.432                     0.568                     \n",
            "7000                      1                         0                         3076                      3924                      0.418                     0.582                     \n",
            "7100                      0                         1                         3118                      3982                      0.418                     0.582                     \n",
            "7200                      0                         1                         3158                      4042                      0.412                     0.588                     \n",
            "7300                      0                         1                         3205                      4095                      0.416                     0.584                     \n",
            "7400                      0                         1                         3241                      4159                      0.402                     0.598                     \n",
            "7500                      0                         1                         3280                      4220                      0.408                     0.592                     \n",
            "7600                      0                         1                         3320                      4280                      0.404                     0.596                     \n",
            "7700                      1                         0                         3363                      4337                      0.41                      0.59                      \n",
            "7800                      0                         1                         3403                      4397                      0.396                     0.604                     \n",
            "7900                      1                         0                         3442                      4458                      0.402                     0.598                     \n",
            "8000                      1                         0                         3477                      4523                      0.394                     0.606                     \n",
            "8100                      0                         1                         3523                      4577                      0.406                     0.594                     \n",
            "8200                      1                         0                         3568                      4632                      0.41                      0.59                      \n",
            "8300                      1                         0                         3607                      4693                      0.408                     0.592                     \n",
            "8400                      0                         1                         3658                      4742                      0.432                     0.568                     \n",
            "8500                      0                         1                         3699                      4801                      0.444                     0.556                     \n",
            "8600                      0                         1                         3745                      4855                      0.444                     0.556                     \n",
            "8700                      0                         1                         3790                      4910                      0.444                     0.556                     \n",
            "8800                      1                         0                         3828                      4972                      0.442                     0.558                     \n",
            "8900                      0                         1                         3859                      5041                      0.402                     0.598                     \n",
            "9000                      0                         1                         3894                      5106                      0.39                      0.61                      \n",
            "9100                      0                         1                         3939                      5161                      0.388                     0.612                     \n",
            "9200                      1                         0                         3979                      5221                      0.378                     0.622                     \n",
            "9300                      0                         1                         4015                      5285                      0.374                     0.626                     \n",
            "9400                      0                         1                         4058                      5342                      0.398                     0.602                     \n",
            "9500                      0                         1                         4092                      5408                      0.396                     0.604                     \n",
            "9600                      0                         1                         4133                      5467                      0.388                     0.612                     \n",
            "9700                      0                         1                         4183                      5517                      0.408                     0.592                     \n",
            "9800                      1                         0                         4225                      5575                      0.42                      0.58                      \n",
            "9900                      0                         1                         4256                      5644                      0.396                     0.604                     \n",
            "10000                     1                         0                         4298                      5702                      0.412                     0.588                     \n",
            "Training completed in 93 seconds\n",
            "Final Regret Moving Average: 0.412 | Final Reward Moving Average: 0.588\n"
          ],
          "name": "stdout"
        },
        {
          "output_type": "execute_result",
          "data": {
            "text/plain": [
              "[<matplotlib.lines.Line2D at 0x7f845f2220b8>]"
            ]
          },
          "metadata": {
            "tags": []
          },
          "execution_count": 50
        },
        {
          "output_type": "display_data",
          "data": {
            "image/png": "[encoded data removed]",
            "text/plain": [
              "<Figure size 432x288 with 1 Axes>"
            ]
          },
          "metadata": {
            "tags": [],
            "needs_background": "light"
          }
        }
      ]
    },
    {
      "cell_type": "markdown",
      "metadata": {
        "id": "MhILiPNCR75y",
        "colab_type": "text"
      },
      "source": [
        "## Implementing a new Multi-Armed Bandit by extending `MABAgent` base class"
      ]
    },
    {
      "cell_type": "code",
      "metadata": {
        "id": "Tu0BBHt43N4m",
        "colab_type": "code",
        "colab": {
          "base_uri": "https://localhost:8080/",
          "height": 744
        },
        "outputId": "9864790d-d1e4-4d9e-cfc0-330875e19ebf"
      },
      "source": [
        "from genrl.agents import MABAgent\n",
        "from genrl.agents import EpsGreedyMABAgent, BernoulliMAB\n",
        "\n",
        "class ReinforcementComparison(MABAgent):\n",
        "    def __init__(self, bandit, alpha, beta):\n",
        "        super(ReinforcementComparison, self).__init__(bandit)\n",
        "        self.alpha = alpha\n",
        "        self.beta = beta\n",
        "        self._pi = torch.zeros(self._bandit.arms)\n",
        "        self._r = torch.zeros(self._bandit.arms)\n",
        "\n",
        "    def select_action(self, context):\n",
        "        p = torch.softmax(self._pi, 0)\n",
        "        a = torch.distributions.Categorical(p).sample()\n",
        "        return a.item()\n",
        "\n",
        "    def update_params(self, context, action, reward):\n",
        "        self._pi[action] += self.beta * (reward - torch.mean(self._r))\n",
        "        self._r[action] = self._r[action] * (1 - self.alpha) + self._r[action] * self.alpha\n",
        "\n",
        "bandit = BernoulliMAB(arms=50, context_type=\"int\")\n",
        "agent = ReinforcementComparison(bandit, 0.3, 0.3)\n",
        "trainer = MABTrainer(agent, bandit)\n",
        "results = trainer.train(2000)\n",
        "\n",
        "plt.plot(results[\"cumulative_regrets\"])"
      ],
      "execution_count": null,
      "outputs": [
        {
          "output_type": "stream",
          "text": [
            "\n",
            "Started at 25-08-20 18:26:48\n",
            "Training ReinforcementComparison on BernoulliMAB for 2000 timesteps\n",
            "timestep                  regret/regret             reward/reward             regret/cumulative_regret  reward/cumulative_reward  regret/regret_moving_avg  reward/reward_moving_avg  \n",
            "100                       0                         1                         44                        56                        0.44                      0.56                      \n",
            "200                       0                         1                         78                        122                       0.34                      0.66                      \n",
            "300                       0                         1                         111                       189                       0.33                      0.67                      \n",
            "400                       1                         0                         151                       249                       0.4                       0.6                       \n",
            "500                       0                         1                         184                       316                       0.33                      0.67                      \n",
            "600                       1                         0                         222                       378                       0.38                      0.62                      \n",
            "700                       1                         0                         264                       436                       0.42                      0.58                      \n",
            "800                       1                         0                         293                       507                       0.29                      0.71                      \n",
            "900                       0                         1                         330                       570                       0.37                      0.63                      \n",
            "1000                      0                         1                         367                       633                       0.37                      0.63                      \n",
            "1100                      1                         0                         405                       695                       0.38                      0.62                      \n",
            "1200                      0                         1                         440                       760                       0.35                      0.65                      \n",
            "1300                      1                         0                         471                       829                       0.31                      0.69                      \n",
            "1400                      1                         0                         509                       891                       0.38                      0.62                      \n",
            "1500                      0                         1                         541                       959                       0.32                      0.68                      \n",
            "1600                      1                         0                         571                       1029                      0.3                       0.7                       \n",
            "1700                      1                         0                         616                       1084                      0.45                      0.55                      \n",
            "1800                      0                         1                         655                       1145                      0.39                      0.61                      \n",
            "1900                      1                         0                         693                       1207                      0.38                      0.62                      \n",
            "2000                      1                         0                         727                       1273                      0.34                      0.66                      \n",
            "Training completed in 0 seconds\n",
            "Final Regret Moving Average: 0.34 | Final Reward Moving Average: 0.66\n"
          ],
          "name": "stdout"
        },
        {
          "output_type": "execute_result",
          "data": {
            "text/plain": [
              "[<matplotlib.lines.Line2D at 0x7f845f26d5f8>]"
            ]
          },
          "metadata": {
            "tags": []
          },
          "execution_count": 51
        },
        {
          "output_type": "display_data",
          "data": {
            "image/png": "[encoded data removed]",
            "text/plain": [
              "<Figure size 432x288 with 1 Axes>"
            ]
          },
          "metadata": {
            "tags": [],
            "needs_background": "light"
          }
        }
      ]
    },
    {
      "cell_type": "markdown",
      "metadata": {
        "id": "sL6RsMtSSFRS",
        "colab_type": "text"
      },
      "source": [
        "## Implementing a new agent by extending the `DCBAgent` base class"
      ]
    },
    {
      "cell_type": "code",
      "metadata": {
        "id": "r4ld3UXj31ne",
        "colab_type": "code",
        "colab": {
          "base_uri": "https://localhost:8080/",
          "height": 623
        },
        "outputId": "4caa035b-7b89-48ac-f689-4ca8c6d7cf3e"
      },
      "source": [
        "from genrl.agents import DCBAgent, BernoulliMAB\n",
        "from genrl.trainers import DCBTrainer\n",
        "from genrl.agents.bandits.contextual.common import NeuralBanditModel, TransitionDB\n",
        "\n",
        "class NeuralAgent(DCBAgent):\n",
        "    def __init__(self, bandit, **kwargs):\n",
        "        super(NeuralAgent, self).__init__(bandit, **kwargs)\n",
        "        self.model = (\n",
        "            NeuralBanditModel(\n",
        "                context_dim=self.context_dim,\n",
        "                n_actions=self.n_actions,\n",
        "                hidden_dims=kwargs.get(\"hidden_dims\", [64]),\n",
        "                **kwargs\n",
        "            )\n",
        "            .to(torch.float)\n",
        "            .to(self.device)\n",
        "        )\n",
        "        self.db = TransitionDB(self.device)\n",
        "        self.t = 0\n",
        "\n",
        "    def select_action(self, context):\n",
        "        self.t += 1\n",
        "        if self.t < self.n_actions * self.init_pulls:\n",
        "            return torch.tensor(\n",
        "                self.t % self.n_actions, device=self.device, dtype=torch.int\n",
        "            ).view(1)\n",
        "\n",
        "        results = self.model(context)\n",
        "        action = torch.argmax(results[\"pred_rewards\"]).to(torch.int).view(1)\n",
        "        return action\n",
        "\n",
        "    def update_db(self, context, action, reward):\n",
        "        self.db.add(context, action, reward)\n",
        "\n",
        "    def update_param(self, action, batch_size=512, train_epochs=20):\n",
        "        self.model.train_model(self.db, train_epochs, batch_size)\n",
        "\n",
        "bandit = BernoulliMAB(arms=10, context_type=\"tensor\")\n",
        "agent = NeuralAgent(bandit)\n",
        "trainer = DCBTrainer(agent, bandit)\n",
        "results = trainer.train(5000)\n",
        "\n",
        "plt.plot(results[\"cumulative_regrets\"])"
      ],
      "execution_count": null,
      "outputs": [
        {
          "output_type": "stream",
          "text": [
            "\n",
            "Started at 25-08-20 18:28:18\n",
            "Training NeuralAgent on BernoulliMAB for 5000 timesteps\n",
            "timestep                  regret/regret             reward/reward             regret/cumulative_regret  reward/cumulative_reward  regret/regret_moving_avg  reward/reward_moving_avg  \n",
            "100                       0                         1                         14                        86                        0.14                      0.86                      \n",
            "200                       0                         1                         15                        185                       0.075                     0.925                     \n",
            "300                       0                         1                         18                        282                       0.016                     0.984                     \n",
            "400                       0                         1                         20                        380                       0.02                      0.98                      \n",
            "500                       0                         1                         23                        477                       0.028                     0.972                     \n",
            "\n",
            "Encounterred exception during training!\n",
            "'NeuralAgent' object has no attribute 'update_params'\n",
            "\n",
            "Training completed in 0 seconds\n",
            "Final Regret Moving Average: 0.028 | Final Reward Moving Average: 0.972\n"
          ],
          "name": "stdout"
        },
        {
          "output_type": "stream",
          "text": [
            "Traceback (most recent call last):\n",
            "  File \"/content/genrl/genrl/trainers/bandit.py\", line 194, in train\n",
            "    self.agent.update_params(\n",
            "AttributeError: 'NeuralAgent' object has no attribute 'update_params'\n"
          ],
          "name": "stderr"
        },
        {
          "output_type": "execute_result",
          "data": {
            "text/plain": [
              "[<matplotlib.lines.Line2D at 0x7f845f449588>]"
            ]
          },
          "metadata": {
            "tags": []
          },
          "execution_count": 52
        },
        {
          "output_type": "display_data",
          "data": {
            "image/png": "[encoded data removed]",
            "text/plain": [
              "<Figure size 432x288 with 1 Axes>"
            ]
          },
          "metadata": {
            "tags": [],
            "needs_background": "light"
          }
        }
      ]
    },
    {
      "cell_type": "code",
      "metadata": {
        "id": "4e8fq4n24LhA",
        "colab_type": "code",
        "colab": {}
      },
      "source": [
        ""
      ],
      "execution_count": null,
      "outputs": []
    }
  ]
}