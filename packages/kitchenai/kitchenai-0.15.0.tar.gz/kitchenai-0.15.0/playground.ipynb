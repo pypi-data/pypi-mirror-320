{
 "cells": [
  {
   "cell_type": "code",
   "execution_count": 1,
   "metadata": {},
   "outputs": [
    {
     "data": {
      "application/vnd.jupyter.widget-view+json": {
       "model_id": "b1a972179f3f4878aa0c24169b5d8743",
       "version_major": 2,
       "version_minor": 0
      },
      "text/plain": [
       "Output()"
      ]
     },
     "metadata": {},
     "output_type": "display_data"
    },
    {
     "data": {
      "text/html": [
       "<pre style=\"white-space:pre;overflow-x:auto;line-height:normal;font-family:Menlo,'DejaVu Sans Mono',consolas,'Courier New',monospace\">INFO HTTP Request: GET https://raw.githubusercontent.com/BerriAI/litellm/main/model_prices_and_context_window.json \n",
       "\"HTTP/1.1 200 OK\"\n",
       "</pre>\n"
      ],
      "text/plain": [
       "INFO HTTP Request: GET https://raw.githubusercontent.com/BerriAI/litellm/main/model_prices_and_context_window.json \n",
       "\"HTTP/1.1 200 OK\"\n"
      ]
     },
     "metadata": {},
     "output_type": "display_data"
    },
    {
     "data": {
      "text/html": [
       "<pre style=\"white-space:pre;overflow-x:auto;line-height:normal;font-family:Menlo,'DejaVu Sans Mono',consolas,'Courier New',monospace\">/home/epuerta/.local/share/hatch/env/pip-compile/kitchenai/H8pmQr2m/dev/lib/python3.11/site-packages/pydantic/_inte\n",
       "rnal/_config.py:341: UserWarning: Valid config keys have changed in V2:\n",
       "* 'fields' has been removed\n",
       "  warnings.warn(message, UserWarning)\n",
       "</pre>\n"
      ],
      "text/plain": [
       "/home/epuerta/.local/share/hatch/env/pip-compile/kitchenai/H8pmQr2m/dev/lib/python3.11/site-packages/pydantic/_inte\n",
       "rnal/_config.py:341: UserWarning: Valid config keys have changed in V2:\n",
       "* 'fields' has been removed\n",
       "  warnings.warn(message, UserWarning)\n"
      ]
     },
     "metadata": {},
     "output_type": "display_data"
    },
    {
     "data": {
      "text/html": [
       "<pre style=\"white-space:pre;overflow-x:auto;line-height:normal;font-family:Menlo,'DejaVu Sans Mono',consolas,'Courier New',monospace\">/home/epuerta/.local/share/hatch/env/pip-compile/kitchenai/H8pmQr2m/dev/lib/python3.11/site-packages/deepeval/__ini\n",
       "t__.py:51: UserWarning: You are using deepeval version 2.0.9, however version 2.1.1 is available. You should \n",
       "consider upgrading via the \"pip install --upgrade deepeval\" command.\n",
       "  warnings.warn(\n",
       "</pre>\n"
      ],
      "text/plain": [
       "/home/epuerta/.local/share/hatch/env/pip-compile/kitchenai/H8pmQr2m/dev/lib/python3.11/site-packages/deepeval/__ini\n",
       "t__.py:51: UserWarning: You are using deepeval version 2.0.9, however version 2.1.1 is available. You should \n",
       "consider upgrading via the \"pip install --upgrade deepeval\" command.\n",
       "  warnings.warn(\n"
      ]
     },
     "metadata": {},
     "output_type": "display_data"
    },
    {
     "data": {
      "text/html": [
       "<pre style=\"white-space:pre;overflow-x:auto;line-height:normal;font-family:Menlo,'DejaVu Sans Mono',consolas,'Courier New',monospace\"></pre>\n"
      ],
      "text/plain": []
     },
     "metadata": {},
     "output_type": "display_data"
    }
   ],
   "source": [
    "from dj_notebook import activate\n",
    "\n",
    "plus = activate()"
   ]
  },
  {
   "cell_type": "code",
   "execution_count": 4,
   "metadata": {},
   "outputs": [],
   "source": [
    "from deepeval_plugin.models import DataSet, Data, AnswerRelevance, Faithfulness, ContextualRelevancy, Hallucination, Toxicity\n",
    "from django.db.models import Avg, OuterRef, Subquery\n",
    "from django.db.models.functions import Coalesce\n",
    "\n",
    "dataset = await DataSet.objects.aget(id=1)\n",
    "\n",
    "# Get page number from request\n",
    "\n",
    "# Get all data entries for this dataset with metrics in one query\n",
    "entries = Data.objects.prefetch_related(\n",
    "    'answerrelevance',\n",
    "    'faithfulness',\n",
    "    'contextualrelevancy',\n",
    "    'hallucination',\n",
    "    'toxicity'\n",
    ").filter(\n",
    "    dataset_id=1\n",
    ").values(\n",
    "    'source_id',\n",
    "    'input',\n",
    "    'output',\n",
    "    'created_at',\n",
    ").annotate(\n",
    "    answer_relevance=Coalesce(\n",
    "        Subquery(\n",
    "            AnswerRelevance.objects.filter(data_id=OuterRef('id')).values('score')[:1]\n",
    "        ), None\n",
    "    ),\n",
    "    faithfulness=Coalesce(\n",
    "        Subquery(\n",
    "            Faithfulness.objects.filter(data_id=OuterRef('id')).values('score')[:1]\n",
    "        ), None\n",
    "    ),\n",
    "    contextual_relevancy=Coalesce(\n",
    "        Subquery(\n",
    "            ContextualRelevancy.objects.filter(data_id=OuterRef('id')).values('score')[:1]\n",
    "        ), None\n",
    "    ),\n",
    "    hallucination=Coalesce(\n",
    "        Subquery(\n",
    "            Hallucination.objects.filter(data_id=OuterRef('id')).values('score')[:1]\n",
    "        ), None\n",
    "    ),\n",
    "    toxicity=Coalesce(\n",
    "        Subquery(\n",
    "            Toxicity.objects.filter(data_id=OuterRef('id')).values('score')[:1]\n",
    "        ), None\n",
    "    )\n",
    ").order_by('-created_at')\n",
    "\n"
   ]
  },
  {
   "cell_type": "code",
   "execution_count": 6,
   "metadata": {},
   "outputs": [
    {
     "data": {
      "text/plain": [
       "<QuerySet [{'source_id': 82, 'input': 'who is the point of contact for submissions?', 'output': 'Chelsey Mazurek, at Incourage Community Foundation Inc., is the point of contact for submissions. Proposals should be submitted to her at 478 E. Grand Avenue, Wisconsin Rapids, WI 54494, or via email at tribunebuilding@incouragecf.org.', 'created_at': datetime.datetime(2025, 1, 3, 5, 39, 26, 495812, tzinfo=datetime.timezone.utc), 'answer_relevance': 1.0, 'faithfulness': 1.0, 'contextual_relevancy': 0.3333333333333333, 'hallucination': 0.0, 'toxicity': 0.0}, {'source_id': 81, 'input': 'list me the top three most urgent requirements ', 'output': 'The top three most urgent requirements are:\\n\\n1. **Proposal Submittal Deadline**: Proposals must be submitted and received by Incourage no later than 4:00 p.m. on Friday, February 13, 2015.\\n2. **RSVP for Site Visit and Q&A Session**: Prospective Proposers must RSVP for the site visit by contacting Chelsey Mazurek at cmazurek@incouragecf.org or 715-423-3863, and for the Q&A webinar by the same contact.\\n3. **Submission of Questions**: Proposers must submit questions concerning the Project in written form via email or fax to the Owner with a copy to the Architect by 4:30 p.m. CST on Tuesday, February 10, 2015, to receive a reply by 4:30 p.m. on Thursday, February 12, 2015.', 'created_at': datetime.datetime(2025, 1, 3, 5, 32, 32, 332301, tzinfo=datetime.timezone.utc), 'answer_relevance': 1.0, 'faithfulness': 1.0, 'contextual_relevancy': 0.0, 'hallucination': 0.0, 'toxicity': 0.0}, {'source_id': 80, 'input': 'whats the first sentence of this document?', 'output': 'The Construction Manager shall comply with applicable laws, statutes, ordinances, codes, rules and regulations, and lawful orders of public authorities applicable to its performance under this Contract, and with equal employment opportunity programs, and other programs as may be required by governmental and quasi-governmental authorities for inclusion in the Contract Documents.', 'created_at': datetime.datetime(2025, 1, 3, 5, 27, 38, 919722, tzinfo=datetime.timezone.utc), 'answer_relevance': None, 'faithfulness': None, 'contextual_relevancy': None, 'hallucination': 0.5, 'toxicity': 0.0}, {'source_id': 79, 'input': 'give me the top three requirements I need to submit this proposal ', 'output': 'To submit a proposal, the top three requirements are: \\n1. Provide a detailed summary of your current workload and future commitments over the proposed timeline, including the expected duration in days for each phase of the project, as outlined in the \"Ability to Meet Timelines\" section.\\n2. Include names, addresses, and descriptions of key subcontractors, along with their relevant experience and past performance, as specified in the \"Subcontracted Work\" section.\\n3. Describe how your firm will manage material purchases to take advantage of the tax-exempt status of the Owner, as required in the \"Tax-Exempt Status\" section.', 'created_at': datetime.datetime(2025, 1, 3, 5, 20, 7, 108829, tzinfo=datetime.timezone.utc), 'answer_relevance': None, 'faithfulness': None, 'contextual_relevancy': None, 'hallucination': 0.0, 'toxicity': 0.0}, {'source_id': 78, 'input': 'summarize this document ', 'output': \"The document appears to be a Request for Proposal (RFP) for a construction management project, specifically the revitalization of the Tribune Building in Wisconsin Rapids. The project aims to transform the building into a community-centered space with various local entrepreneurial operations, such as a culinary kitchen, microbrewery, and creative workshop. The RFP outlines the responsibilities of the Construction Manager, including compliance with laws and regulations, insurance and bonding requirements, and proposal format. The proposal should include information about the firm's history, organization, personnel, hiring practices, qualifications, and experience. The document also provides background information on the project's context, including the economic hardships faced by the south Wood County area and the historical significance of the Tribune Building. The Construction Management at-risk process is also described, which allows the Owner to choose the Construction Manager before the design stage is complete and centralizes the operation under a single contract.\", 'created_at': datetime.datetime(2025, 1, 3, 5, 18, 23, 995158, tzinfo=datetime.timezone.utc), 'answer_relevance': None, 'faithfulness': None, 'contextual_relevancy': None, 'hallucination': 0.0, 'toxicity': None}, {'source_id': 72, 'input': 'whats the title?', 'output': 'There are two possible titles: \"Exploring Uniqueness: Entities, Titles, and Themes\" and \"The Great Escape: A Dog\\'s Leap Over the Fence - A Tale of Adventure and Freedom\".', 'created_at': datetime.datetime(2025, 1, 3, 4, 17, 3, 967129, tzinfo=datetime.timezone.utc), 'answer_relevance': 1.0, 'faithfulness': None, 'contextual_relevancy': None, 'hallucination': 0.5, 'toxicity': None}, {'source_id': 71, 'input': 'testing this ', 'output': 'The specific topic being tested is mentioned in the document \"Uncovering the Unconventional: Exploring Unique Entities and Themes in Testing\". The source of the document discussing testing unique entities and themes is kitchenai.', 'created_at': datetime.datetime(2025, 1, 3, 4, 16, 18, 95042, tzinfo=datetime.timezone.utc), 'answer_relevance': None, 'faithfulness': None, 'contextual_relevancy': None, 'hallucination': None, 'toxicity': None}, {'source_id': 70, 'input': 'testing this ', 'output': 'The specific topic being tested is mentioned in the document \"Uncovering the Unconventional: Exploring Unique Entities and Themes in Testing\". The source of the document discussing testing unique entities and themes is kitchenai.', 'created_at': datetime.datetime(2025, 1, 3, 4, 15, 9, 766090, tzinfo=datetime.timezone.utc), 'answer_relevance': None, 'faithfulness': None, 'contextual_relevancy': None, 'hallucination': None, 'toxicity': None}, {'source_id': 69, 'input': 'whats the title', 'output': 'There are two possible document titles: \"Exploring Uniqueness: Entities, Titles, and Themes\" and \"The Great Escape: A Dog\\'s Leap Over the Fence - A Tale of Adventure and Freedom\".', 'created_at': datetime.datetime(2025, 1, 3, 3, 18, 25, 114782, tzinfo=datetime.timezone.utc), 'answer_relevance': None, 'faithfulness': None, 'contextual_relevancy': None, 'hallucination': None, 'toxicity': None}, {'source_id': 68, 'input': 'whats the title', 'output': 'There are two possible titles: \"Exploring Uniqueness: Entities, Titles, and Themes\" and \"The Great Escape: A Dog\\'s Leap Over the Fence - A Tale of Adventure and Freedom\".', 'created_at': datetime.datetime(2025, 1, 3, 3, 13, 32, 219743, tzinfo=datetime.timezone.utc), 'answer_relevance': None, 'faithfulness': None, 'contextual_relevancy': None, 'hallucination': None, 'toxicity': None}, {'source_id': 67, 'input': 'whats the title?', 'output': 'There are two possible titles: \"Exploring Uniqueness: Entities, Titles, and Themes\" and \"The Great Escape: A Dog\\'s Leap Over the Fence - A Tale of Adventure and Freedom\".', 'created_at': datetime.datetime(2025, 1, 3, 2, 49, 25, 321303, tzinfo=datetime.timezone.utc), 'answer_relevance': None, 'faithfulness': None, 'contextual_relevancy': None, 'hallucination': None, 'toxicity': None}, {'source_id': 66, 'input': 'whats the title?', 'output': 'There are two possible titles: \"Exploring Uniqueness: Entities, Titles, and Themes\" and \"The Great Escape: A Dog\\'s Leap Over the Fence - A Tale of Adventure and Freedom\".', 'created_at': datetime.datetime(2025, 1, 3, 2, 36, 52, 465598, tzinfo=datetime.timezone.utc), 'answer_relevance': 1.0, 'faithfulness': None, 'contextual_relevancy': None, 'hallucination': None, 'toxicity': None}, {'source_id': 65, 'input': 'whats the title?', 'output': 'There are two possible titles: \"Exploring Uniqueness: Entities, Titles, and Themes\" and \"The Great Escape: A Dog\\'s Leap Over the Fence - A Tale of Adventure and Freedom\".', 'created_at': datetime.datetime(2025, 1, 3, 2, 35, 27, 358833, tzinfo=datetime.timezone.utc), 'answer_relevance': 1.0, 'faithfulness': None, 'contextual_relevancy': None, 'hallucination': None, 'toxicity': None}, {'source_id': 64, 'input': 'whats the summary of the document?', 'output': \"The documents appear to focus on exploring and analyzing diversity, with one delving into the diversity of entities and themes, and the other emphasizing the unique qualities of individuals. They seem to offer comprehensive analyses and insights into the importance of diversity, although specific details about the documents' summaries are not provided.\", 'created_at': datetime.datetime(2025, 1, 3, 2, 33, 9, 313661, tzinfo=datetime.timezone.utc), 'answer_relevance': 0.8, 'faithfulness': None, 'contextual_relevancy': None, 'hallucination': None, 'toxicity': None}, {'source_id': 63, 'input': 'whats the summary of the document?', 'output': 'The documents appear to focus on exploring and analyzing diversity, with one delving into the diversity of entities and themes, and the other emphasizing the unique qualities of individuals. They seem to offer comprehensive analyses and insights into the importance of diversity, individual uniqueness, and the exploration of these concepts.', 'created_at': datetime.datetime(2025, 1, 3, 2, 28, 21, 177301, tzinfo=datetime.timezone.utc), 'answer_relevance': 1.0, 'faithfulness': None, 'contextual_relevancy': None, 'hallucination': None, 'toxicity': None}, {'source_id': 62, 'input': 'whats the summary of the document?', 'output': \"The documents appear to focus on exploring and analyzing diversity, with one delving into the diversity of entities and themes, and the other emphasizing the unique qualities of individuals. They seem to offer comprehensive analyses and insights into the importance of diversity, although specific details about the documents' summaries are not provided.\", 'created_at': datetime.datetime(2025, 1, 3, 2, 24, 48, 185490, tzinfo=datetime.timezone.utc), 'answer_relevance': 1.0, 'faithfulness': None, 'contextual_relevancy': None, 'hallucination': None, 'toxicity': None}, {'source_id': 60, 'input': 'whats the summary of the document?', 'output': \"The documents appear to focus on exploring and analyzing diversity, with one delving into the diversity of entities and themes, and the other emphasizing the unique qualities of individuals. They seem to offer comprehensive analyses and insights into the importance of diversity, although specific details about the documents' summaries are not provided.\", 'created_at': datetime.datetime(2025, 1, 3, 1, 48, 22, 858917, tzinfo=datetime.timezone.utc), 'answer_relevance': 0.8, 'faithfulness': None, 'contextual_relevancy': None, 'hallucination': None, 'toxicity': None}, {'source_id': 59, 'input': 'whats the summary of the document?', 'output': 'The documents appear to focus on exploring and analyzing diversity, with one delving into the diversity of entities and themes, and the other emphasizing the unique qualities of individuals. They seem to offer comprehensive analyses and insights into the importance of diversity, individual uniqueness, and the exploration of these concepts.', 'created_at': datetime.datetime(2025, 1, 3, 1, 47, 48, 575174, tzinfo=datetime.timezone.utc), 'answer_relevance': 1.0, 'faithfulness': None, 'contextual_relevancy': None, 'hallucination': None, 'toxicity': None}, {'source_id': 58, 'input': 'whats the summary of the document?', 'output': 'The documents appear to focus on exploring and analyzing diversity, with one delving into the diversity of entities and themes, and the other emphasizing the unique qualities of individuals. They seem to offer comprehensive analyses and insights into the importance of diversity, individual uniqueness, and the exploration of these concepts.', 'created_at': datetime.datetime(2025, 1, 3, 1, 19, 50, 893666, tzinfo=datetime.timezone.utc), 'answer_relevance': 1.0, 'faithfulness': None, 'contextual_relevancy': None, 'hallucination': None, 'toxicity': None}, {'source_id': 57, 'input': 'whats the best part of new year?', 'output': 'The best part of the New Year is not explicitly stated, but it can be inferred that the main focus is on embracing change and innovation, as well as featuring unique entities and themes in events.', 'created_at': datetime.datetime(2025, 1, 3, 1, 16, 50, 105395, tzinfo=datetime.timezone.utc), 'answer_relevance': 0.6666666666666666, 'faithfulness': None, 'contextual_relevancy': None, 'hallucination': None, 'toxicity': None}, '...(remaining elements truncated)...']>"
      ]
     },
     "execution_count": 6,
     "metadata": {},
     "output_type": "execute_result"
    }
   ],
   "source": [
    "entries"
   ]
  }
 ],
 "metadata": {
  "kernelspec": {
   "display_name": "Python 3 (ipykernel)",
   "language": "python",
   "name": "python3"
  },
  "language_info": {
   "codemirror_mode": {
    "name": "ipython",
    "version": 3
   },
   "file_extension": ".py",
   "mimetype": "text/x-python",
   "name": "python",
   "nbconvert_exporter": "python",
   "pygments_lexer": "ipython3",
   "version": "3.11.8"
  }
 },
 "nbformat": 4,
 "nbformat_minor": 4
}
