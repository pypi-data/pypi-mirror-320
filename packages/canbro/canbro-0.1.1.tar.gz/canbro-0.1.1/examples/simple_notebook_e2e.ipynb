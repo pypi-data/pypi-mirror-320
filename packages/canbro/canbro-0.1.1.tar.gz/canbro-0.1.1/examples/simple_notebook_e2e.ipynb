{
 "cells": [
  {
   "cell_type": "code",
   "execution_count": null,
   "metadata": {},
   "outputs": [],
   "source": [
    "from can.interface import Bus\n",
    "import can\n",
    "from cantools.database import load_file\n",
    "from broqer import Sink\n",
    "from canbro import Node, update_e2e_autosar_profile2\n",
    "import ipywidgets as widgets"
   ]
  },
  {
   "cell_type": "code",
   "execution_count": null,
   "metadata": {},
   "outputs": [],
   "source": [
    "# load dbc file\n",
    "db = load_file('poc/device_CAN.dbc')"
   ]
  },
  {
   "cell_type": "code",
   "execution_count": null,
   "metadata": {},
   "outputs": [],
   "source": [
    "# create ECU node with virtual bus test\n",
    "bus_e= Bus('test', interface='virtual')\n",
    "ecu = Node(name=\"ECU\",bus=bus_e,database=db )"
   ]
  },
  {
   "cell_type": "code",
   "execution_count": null,
   "metadata": {},
   "outputs": [],
   "source": [
    "# create VCU node with virtual bus test, and connect to ECU via same name of bus -> test\n",
    "bus_v= Bus('test', interface='virtual')\n",
    "vcu= Node(name='CONTROL',bus=bus_v,database=db )"
   ]
  },
  {
   "cell_type": "code",
   "execution_count": null,
   "metadata": {},
   "outputs": [],
   "source": [
    "print(vcu.DEM._signal_operation_mode._metadata.initial)"
   ]
  },
  {
   "cell_type": "code",
   "execution_count": null,
   "metadata": {},
   "outputs": [],
   "source": [
    "print(vcu.DEM._signal_DEM_CRC._metadata.initial)"
   ]
  },
  {
   "cell_type": "code",
   "execution_count": null,
   "metadata": {},
   "outputs": [],
   "source": [
    "def update_E2E( msg: can.Message):\n",
    "    # Get the message from the database using the arbitration ID\n",
    "    message = db.get_message_by_frame_id(msg.arbitration_id)\n",
    "\n",
    "    if \"DEM\" == message.name:\n",
    "        update_e2e_autosar_profile2(msg)\n",
    "        vcu.DEM._signal_DEM_CRC.notify(msg.data[0])\n",
    "        vcu.DEM._signal_DEM_SNC.notify(msg.data[1] & 0x0F)"
   ]
  },
  {
   "cell_type": "code",
   "execution_count": null,
   "metadata": {},
   "outputs": [],
   "source": [
    "vcu.DEM.start_periodic(msg_callback=update_E2E)"
   ]
  },
  {
   "cell_type": "code",
   "execution_count": null,
   "metadata": {},
   "outputs": [],
   "source": [
    "label_value = widgets.HTML(value=\"value=?\")\n",
    "def show_vcu_value(value, label: widgets.Label):\n",
    "    label.value = 'counter for ECU node DEM: <br> value={}'.format(value)\n",
    "\n",
    "show_print = ecu.DEM._signal_DEM_SNC.subscribe(Sink(show_vcu_value, label=label_value))\n"
   ]
  },
  {
   "cell_type": "code",
   "execution_count": null,
   "metadata": {},
   "outputs": [],
   "source": [
    "list_op_mode = list(set([str(x) for x in list(reversed(vcu.DEM._signal_operation_mode._metadata.conversion.choices.values()))]))"
   ]
  },
  {
   "cell_type": "code",
   "execution_count": null,
   "metadata": {},
   "outputs": [],
   "source": [
    "# Check if the value is in the list\n",
    "if str(vcu.DEM._signal_operation_mode._state) in list_op_mode:\n",
    "    value = str(vcu.DEM._signal_operation_mode._state)\n",
    "else:\n",
    "    value = list_op_mode[0]  # Set a default value\n",
    "\n",
    "vcu_mode = widgets.ToggleButtons(\n",
    "    options=list_op_mode,\n",
    "    description=ecu.DEM._signal_operation_mode._metadata.name + ' selection for VCU node:',\n",
    "    disabled=False,\n",
    "    button_style='', \n",
    "    tooltips=list_op_mode,\n",
    "    value=value,\n",
    ")\n",
    "# 'success', 'info', 'warning', 'danger' or ''"
   ]
  },
  {
   "cell_type": "code",
   "execution_count": null,
   "metadata": {},
   "outputs": [],
   "source": [
    "def set_vcu_mode(value):\n",
    "    #print('set value to {}'.format(value))\n",
    "    vcu.DEM._signal_operation_mode.notify(value['new'])\n",
    "    \n",
    "vcu_mode.observe(set_vcu_mode, 'value')"
   ]
  },
  {
   "cell_type": "code",
   "execution_count": null,
   "metadata": {},
   "outputs": [],
   "source": [
    "def val_vcu_value(value):\n",
    "    global a_op_mode\n",
    "    a_op_mode = value\n",
    "\n",
    "show_print_var = ecu.DEM._signal_operation_mode.subscribe(Sink(val_vcu_value))"
   ]
  },
  {
   "cell_type": "code",
   "execution_count": null,
   "metadata": {},
   "outputs": [],
   "source": [
    "display(vcu_mode)\n",
    "display(label_value)"
   ]
  },
  {
   "cell_type": "code",
   "execution_count": null,
   "metadata": {},
   "outputs": [],
   "source": [
    "vcu.DEM._signal_DEM_SNC._state"
   ]
  },
  {
   "cell_type": "code",
   "execution_count": null,
   "metadata": {},
   "outputs": [],
   "source": [
    "vcu.DEM._signal_DEM_CRC._state"
   ]
  },
  {
   "cell_type": "code",
   "execution_count": null,
   "metadata": {},
   "outputs": [],
   "source": []
  }
 ],
 "metadata": {
  "kernelspec": {
   "display_name": "venv",
   "language": "python",
   "name": "python3"
  },
  "language_info": {
   "codemirror_mode": {
    "name": "ipython",
    "version": 3
   },
   "file_extension": ".py",
   "mimetype": "text/x-python",
   "name": "python",
   "nbconvert_exporter": "python",
   "pygments_lexer": "ipython3",
   "version": "3.12.0"
  }
 },
 "nbformat": 4,
 "nbformat_minor": 2
}
