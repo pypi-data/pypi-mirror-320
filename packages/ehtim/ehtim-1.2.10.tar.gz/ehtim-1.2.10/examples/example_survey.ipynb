{
 "cells": [
  {
   "cell_type": "code",
   "execution_count": 1,
   "metadata": {
    "pycharm": {
     "name": "#%%\n"
    }
   },
   "outputs": [
    {
     "name": "stdout",
     "output_type": "stream",
     "text": [
      "Welcome to eht-imaging! v 1.2.4 \n",
      "\n"
     ]
    }
   ],
   "source": [
    "import ehtim as eh"
   ]
  },
  {
   "cell_type": "code",
   "execution_count": 2,
   "metadata": {
    "pycharm": {
     "name": "#%%\n"
    }
   },
   "outputs": [
    {
     "name": "stdout",
     "output_type": "stream",
     "text": [
      "Loading text image:  ../models/avery_sgra_eofn.txt\n"
     ]
    }
   ],
   "source": [
    "# Load in example image and array\n",
    "im = eh.image.load_txt('../models/avery_sgra_eofn.txt')\n",
    "eht = eh.array.load_txt('../arrays/EHT2017.txt')"
   ]
  },
  {
   "cell_type": "code",
   "execution_count": 3,
   "metadata": {
    "pycharm": {
     "name": "#%%\n"
    }
   },
   "outputs": [
    {
     "name": "stdout",
     "output_type": "stream",
     "text": [
      "Generating empty observation file . . . \n",
      "Producing clean visibilities from image with nfft FT . . . \n",
      "Adding gain + phase errors to data and applying a priori calibration . . . \n",
      "   Applying atmospheric phase corruption: phasecal-->False\n",
      "Adding thermal noise to data . . . \n",
      "Building NX table\n"
     ]
    }
   ],
   "source": [
    "# create example observation uvfits file\n",
    "tint_sec = 5\n",
    "tadv_sec = 600\n",
    "tstart_hr = 0\n",
    "tstop_hr = 24\n",
    "bw_hz = 4e9\n",
    "obs = im.observe(eht, tint_sec, tadv_sec, tstart_hr, tstop_hr, bw_hz,\n",
    "                 sgrscat=False, ampcal=True, phasecal=False)\n",
    "obs.save_uvfits('../../example_survey_obs.uvfits')"
   ]
  },
  {
   "cell_type": "code",
   "execution_count": 4,
   "metadata": {
    "pycharm": {
     "name": "#%%\n"
    }
   },
   "outputs": [
    {
     "name": "stdout",
     "output_type": "stream",
     "text": [
      "{'ALMA': 0.1, 'LMT': 0.1, 'PV': 0.1, 'APEX': 0.1, 'SMA': 0.1, 'SMT': 0.1, 'SPT': 0.1, 'JCMT': 0.1}\n"
     ]
    }
   ],
   "source": [
    "# create a mock SEFD error budget for this array\n",
    "sites = list(obs.tkey.keys())\n",
    "SEFD_errs = {}\n",
    "for site in sites:\n",
    "    SEFD_errs[site] = 0.1\n",
    "\n",
    "print(SEFD_errs)"
   ]
  },
  {
   "cell_type": "code",
   "execution_count": 5,
   "metadata": {
    "pycharm": {
     "name": "#%%\n"
    }
   },
   "outputs": [
    {
     "name": "stdout",
     "output_type": "stream",
     "text": [
      "{'infile': '../../example_survey_obs.uvfits', 'outfile_base': 'example_survey', 'outpath': '../../example_survey_output/', 'ground_truth_img': 'None', 'save_imgsums': False, 'save_uvfits': True, 'save_pdf': False, 'save_stats': True, 'save_caltab': True, 'nproc': -1, 'backend': 'multiprocessing', 'ttype': 'fast', 'overwrite': True, 'selfcal': True, 'gaintol': [0.02, 0.2], 'niter_static': 2, 'blurfrac': 1, 'maxit': 100, 'stop': 0.0001, 'fov': 128, 'npixels': 64, 'reverse_taper_uas': 5, 'uv_zblcut': 100000000.0, 'SEFD_error_budget': {'ALMA': 0.1, 'LMT': 0.1, 'PV': 0.1, 'APEX': 0.1, 'SMA': 0.1, 'SMT': 0.1, 'SPT': 0.1, 'JCMT': 0.1}}\n"
     ]
    }
   ],
   "source": [
    "# create a dict of non-varying imaging parameters, such as filenames\n",
    "# see a full list of fixed parameters in the docs\n",
    "params_fixed = eh.survey.create_params_fixed(infile='../../example_survey_obs.uvfits',\n",
    "                                            outfile_base='example_survey',\n",
    "                                            outpath='../../example_survey_output/',\n",
    "                                            nproc=-1, # use all available cores, can be changed\n",
    "                                            overwrite=True,\n",
    "                                            niter_static=2,\n",
    "                                            SEFD_error_budget= SEFD_errs,\n",
    "                                            ttype='fast')\n",
    "\n",
    "print(params_fixed)"
   ]
  },
  {
   "cell_type": "code",
   "execution_count": 6,
   "metadata": {
    "pycharm": {
     "name": "#%%\n"
    }
   },
   "outputs": [
    {
     "data": {
      "text/html": [
       "<div>\n",
       "<style scoped>\n",
       "    .dataframe tbody tr th:only-of-type {\n",
       "        vertical-align: middle;\n",
       "    }\n",
       "\n",
       "    .dataframe tbody tr th {\n",
       "        vertical-align: top;\n",
       "    }\n",
       "\n",
       "    .dataframe thead th {\n",
       "        text-align: right;\n",
       "    }\n",
       "</style>\n",
       "<table border=\"1\" class=\"dataframe\">\n",
       "  <thead>\n",
       "    <tr style=\"text-align: right;\">\n",
       "      <th></th>\n",
       "      <th>zbl</th>\n",
       "      <th>sys_noise</th>\n",
       "      <th>avg_time</th>\n",
       "      <th>prior_fwhm</th>\n",
       "      <th>sc_phase</th>\n",
       "      <th>xdw_phase</th>\n",
       "      <th>sc_ap</th>\n",
       "      <th>xdw_ap</th>\n",
       "      <th>amp</th>\n",
       "      <th>cphase</th>\n",
       "      <th>logcamp</th>\n",
       "      <th>simple</th>\n",
       "      <th>l1</th>\n",
       "      <th>tv</th>\n",
       "      <th>tv2</th>\n",
       "      <th>flux</th>\n",
       "      <th>epsilon_tv</th>\n",
       "      <th>i</th>\n",
       "    </tr>\n",
       "  </thead>\n",
       "  <tbody>\n",
       "    <tr>\n",
       "      <th>0</th>\n",
       "      <td>0.6</td>\n",
       "      <td>0.00</td>\n",
       "      <td>scan</td>\n",
       "      <td>50</td>\n",
       "      <td>0</td>\n",
       "      <td>10</td>\n",
       "      <td>0</td>\n",
       "      <td>1</td>\n",
       "      <td>0.2</td>\n",
       "      <td>1</td>\n",
       "      <td>1</td>\n",
       "      <td>1</td>\n",
       "      <td>1</td>\n",
       "      <td>1</td>\n",
       "      <td>1</td>\n",
       "      <td>1</td>\n",
       "      <td>1.000000e-10</td>\n",
       "      <td>0</td>\n",
       "    </tr>\n",
       "    <tr>\n",
       "      <th>1</th>\n",
       "      <td>0.6</td>\n",
       "      <td>0.01</td>\n",
       "      <td>scan</td>\n",
       "      <td>50</td>\n",
       "      <td>0</td>\n",
       "      <td>10</td>\n",
       "      <td>0</td>\n",
       "      <td>1</td>\n",
       "      <td>0.2</td>\n",
       "      <td>1</td>\n",
       "      <td>1</td>\n",
       "      <td>1</td>\n",
       "      <td>1</td>\n",
       "      <td>1</td>\n",
       "      <td>1</td>\n",
       "      <td>1</td>\n",
       "      <td>1.000000e-10</td>\n",
       "      <td>1</td>\n",
       "    </tr>\n",
       "    <tr>\n",
       "      <th>2</th>\n",
       "      <td>0.7</td>\n",
       "      <td>0.00</td>\n",
       "      <td>scan</td>\n",
       "      <td>50</td>\n",
       "      <td>0</td>\n",
       "      <td>10</td>\n",
       "      <td>0</td>\n",
       "      <td>1</td>\n",
       "      <td>0.2</td>\n",
       "      <td>1</td>\n",
       "      <td>1</td>\n",
       "      <td>1</td>\n",
       "      <td>1</td>\n",
       "      <td>1</td>\n",
       "      <td>1</td>\n",
       "      <td>1</td>\n",
       "      <td>1.000000e-10</td>\n",
       "      <td>2</td>\n",
       "    </tr>\n",
       "    <tr>\n",
       "      <th>3</th>\n",
       "      <td>0.7</td>\n",
       "      <td>0.01</td>\n",
       "      <td>scan</td>\n",
       "      <td>50</td>\n",
       "      <td>0</td>\n",
       "      <td>10</td>\n",
       "      <td>0</td>\n",
       "      <td>1</td>\n",
       "      <td>0.2</td>\n",
       "      <td>1</td>\n",
       "      <td>1</td>\n",
       "      <td>1</td>\n",
       "      <td>1</td>\n",
       "      <td>1</td>\n",
       "      <td>1</td>\n",
       "      <td>1</td>\n",
       "      <td>1.000000e-10</td>\n",
       "      <td>3</td>\n",
       "    </tr>\n",
       "  </tbody>\n",
       "</table>\n",
       "</div>"
      ],
      "text/plain": [
       "   zbl sys_noise avg_time prior_fwhm sc_phase xdw_phase sc_ap xdw_ap  amp  \\\n",
       "0  0.6      0.00     scan         50        0        10     0      1  0.2   \n",
       "1  0.6      0.01     scan         50        0        10     0      1  0.2   \n",
       "2  0.7      0.00     scan         50        0        10     0      1  0.2   \n",
       "3  0.7      0.01     scan         50        0        10     0      1  0.2   \n",
       "\n",
       "  cphase logcamp simple l1 tv tv2 flux    epsilon_tv  i  \n",
       "0      1       1      1  1  1   1    1  1.000000e-10  0  \n",
       "1      1       1      1  1  1   1    1  1.000000e-10  1  \n",
       "2      1       1      1  1  1   1    1  1.000000e-10  2  \n",
       "3      1       1      1  1  1   1    1  1.000000e-10  3  "
      ]
     },
     "metadata": {},
     "output_type": "display_data"
    }
   ],
   "source": [
    "# create a DataFrame of parameters to be surveyed over\n",
    "psets = eh.survey.create_survey_psets(zbl=[0.6,0.7], sys_noise=[0,0.01], prior_fwhm=[50])\n",
    "display(psets)"
   ]
  },
  {
   "cell_type": "code",
   "execution_count": 7,
   "metadata": {
    "pycharm": {
     "name": "#%%\n"
    }
   },
   "outputs": [
    {
     "name": "stdout",
     "output_type": "stream",
     "text": [
      "Loading uvfits:  ../../example_survey_obs.uvfits\n",
      "no IF in uvfits header!\n",
      "POLREP_UVFITS: circ\n",
      "Number of uvfits Correlation Products: 4\n",
      "Warning! Specified flux is < 80% of maximum visibility amplitude!\n",
      "Initializing imager data products . . .\n",
      "U-V flagged 125/1030 visibilities\n",
      "U-V flagged 905/1030 visibilities\n",
      "==============================\n",
      "Imager run 1 \n",
      "Warning! Specified flux is < 80% of maximum visibility amplitude!\n",
      "time: 4.248440 s\n",
      "J: 97.889630\n",
      "chi2_amp : 188.42 chi2_cphase : 37.40 chi2_logcamp : 11.76 \n",
      "STOP: TOTAL NO. of ITERATIONS REACHED LIMIT\n",
      "==============================\n",
      "==============================\n",
      "Imager run 2 \n",
      "Warning! Specified flux is < 80% of maximum visibility amplitude!\n",
      "time: 4.167313 s\n",
      "J: 90.334988\n",
      "chi2_amp : 211.27 chi2_cphase : 22.08 chi2_logcamp : 14.51 \n",
      "STOP: TOTAL NO. of ITERATIONS REACHED LIMIT\n",
      "==============================\n",
      "No stations specified in self cal: defaulting to calibrating all stations!\n",
      "Computing the Model Visibilities with fast Fourier Transform...\n",
      "Producing clean visibilities from image with fast FT . . . \n",
      "Not Using Multiprocessing\n",
      "Scan 106/107 : [----------------------------- ]99%\n",
      "self_cal time: 11.644029 s\n",
      "U-V flagged 125/1030 visibilities\n",
      "U-V flagged 905/1030 visibilities\n",
      "Updated self.amp: no averaging\n",
      "Updated self.amp: avg_time 0.000000 s\n",
      "\n",
      "Adding a 1.7372112467451863 Jy circular Gaussian of FWHM size 1303.9269657417408 uas\n",
      "No stations specified in self cal: defaulting to calibrating all stations!\n",
      "Computing the Model Visibilities with fast Fourier Transform...\n",
      "Producing clean visibilities from image with fast FT . . . \n",
      "Not Using Multiprocessing\n",
      "Scan 106/107 : [----------------------------- ]99%\n",
      "self_cal time: 12.742369 s\n",
      "Building NX table\n",
      "No NX table in saved uvfits\n",
      "U-V flagged 125/1030 visibilities\n",
      "U-V flagged 905/1030 visibilities\n",
      "No stations specified in self cal: defaulting to calibrating all stations!\n",
      "Computing the Model Visibilities with fast Fourier Transform...\n",
      "Producing clean visibilities from image with fast FT . . . \n",
      "Not Using Multiprocessing\n",
      "Scan 106/107 : [----------------------------- ]99%\n",
      "self_cal time: 16.189591 s\n",
      "U-V flagged 125/1030 visibilities\n",
      "U-V flagged 905/1030 visibilities\n"
     ]
    }
   ],
   "source": [
    "# to run only a single pset, create an instance of the ParameterSet class and use the function run()\n",
    "# should take ~1 minute to run\n",
    "pset = dict(psets.iloc[0])\n",
    "\n",
    "ps = eh.survey.ParameterSet(pset, params_fixed)\n",
    "ps.run()"
   ]
  },
  {
   "cell_type": "code",
   "execution_count": 8,
   "metadata": {
    "pycharm": {
     "name": "#%%\n"
    }
   },
   "outputs": [
    {
     "data": {
      "image/png": "[encoded data removed]",
      "text/plain": [
       "<Figure size 432x288 with 2 Axes>"
      ]
     },
     "metadata": {
      "needs_background": "light"
     },
     "output_type": "display_data"
    }
   ],
   "source": [
    "# display output image\n",
    "# won't necessarily be good as the default selection of hyperparameters is not optimized for anything\n",
    "ps.im_out.display();"
   ]
  },
  {
   "cell_type": "code",
   "execution_count": 9,
   "metadata": {},
   "outputs": [
    {
     "name": "stderr",
     "output_type": "stream",
     "text": [
      "initializing paramsurvey multiprocessing backend\n",
      "initializing multiprocessing pool with 7 processes\n",
      "paramsurvey.map start time 20221129-165457\n",
      "paramsurvey.map pset count 4, pset columns ['zbl', 'sys_noise', 'avg_time', 'prior_fwhm', 'sc_phase', 'xdw_phase', 'sc_ap', 'xdw_ap', 'amp', 'cphase', 'logcamp', 'simple', 'l1', 'tv', 'tv2', 'flux', 'epsilon_tv', 'i']\n"
     ]
    },
    {
     "name": "stdout",
     "output_type": "stream",
     "text": [
      "Welcome to eht-imaging! v 1.2.4 \n",
      "\n",
      "Loading uvfits:  ../../example_survey_obs.uvfits\n",
      "no IF in uvfits header!\n",
      "POLREP_UVFITS: circ\n",
      "Number of uvfits Correlation Products: 4\n",
      "Warning! Specified flux is < 80% of maximum visibility amplitude!\n",
      "Initializing imager data products . . .\n",
      "U-V flagged 125/1030 visibilities\n",
      "U-V flagged 905/1030 visibilities\n",
      "==============================\n",
      "Imager run 1 \n",
      "Warning! Specified flux is < 80% of maximum visibility amplitude!\n",
      "time: 4.751679 s\n",
      "J: 70.631814\n",
      "chi2_amp : 144.78 chi2_cphase : 23.55 chi2_logcamp : 8.37 \n",
      "STOP: TOTAL NO. of ITERATIONS REACHED LIMIT\n",
      "==============================\n",
      "==============================\n",
      "Imager run 2 \n",
      "Warning! Specified flux is < 80% of maximum visibility amplitude!\n",
      "time: 4.803640 s\n",
      "J: 59.472611\n",
      "chi2_amp : 145.98 chi2_cphase : 9.25 chi2_logcamp : 9.47 \n",
      "STOP: TOTAL NO. of ITERATIONS REACHED LIMIT\n",
      "==============================\n",
      "No stations specified in self cal: defaulting to calibrating all stations!\n",
      "Computing the Model Visibilities with fast Fourier Transform...\n",
      "Producing clean visibilities from image with fast FT . . . \n",
      "Not Using Multiprocessing\n",
      "Scan 001/107 : [                              ]0%Welcome to eht-imaging! v 1.2.4 \n",
      "\n",
      "Loading uvfits:  ../../example_survey_obs.uvfits\n",
      "no IF in uvfits header!\n",
      "POLREP_UVFITS: circ\n",
      "Number of uvfits Correlation Products: 4\n",
      "Warning! Specified flux is < 80% of maximum visibility amplitude!\n",
      "Initializing imager data products . . .\n",
      "U-V flagged 125/1030 visibilities\n",
      "U-V flagged 905/1030 visibilities\n",
      "==============================\n",
      "Imager run 1 \n",
      "Warning! Specified flux is < 80% of maximum visibility amplitude!\n",
      "time: 4.807395 s\n",
      "J: 84.648618\n",
      "chi2_amp : 161.44 chi2_cphase : 30.55 chi2_logcamp : 11.39 \n",
      "STOP: TOTAL NO. of ITERATIONS REACHED LIMIT\n",
      "==============================\n",
      "==============================\n",
      "Imager run 2 \n",
      "Warning! Specified flux is < 80% of maximum visibility amplitude!\n",
      "time: 4.827927 s\n",
      "J: 75.180081\n",
      "chi2_amp : 174.25 chi2_cphase : 18.07 chi2_logcamp : 11.50 \n",
      "STOP: TOTAL NO. of ITERATIONS REACHED LIMIT\n",
      "==============================\n",
      "No stations specified in self cal: defaulting to calibrating all stations!\n",
      "Computing the Model Visibilities with fast Fourier Transform...\n",
      "Producing clean visibilities from image with fast FT . . . \n",
      "Not Using Multiprocessing\n",
      "Scan 000/107 : [                              ]0%Welcome to eht-imaging! v 1.2.4 \n",
      "\n",
      "Loading uvfits:  ../../example_survey_obs.uvfits\n",
      "no IF in uvfits header!\n",
      "POLREP_UVFITS: circ\n",
      "Number of uvfits Correlation Products: 4\n",
      "Warning! Specified flux is < 80% of maximum visibility amplitude!\n",
      "Initializing imager data products . . .\n",
      "U-V flagged 125/1030 visibilities\n",
      "U-V flagged 905/1030 visibilities\n",
      "==============================\n",
      "Imager run 1 \n",
      "Warning! Specified flux is < 80% of maximum visibility amplitude!\n",
      "time: 4.807775 s\n",
      "J: 97.889630\n",
      "chi2_amp : 188.42 chi2_cphase : 37.40 chi2_logcamp : 11.76 \n",
      "STOP: TOTAL NO. of ITERATIONS REACHED LIMIT\n",
      "==============================\n",
      "==============================\n",
      "Imager run 2 \n",
      "Warning! Specified flux is < 80% of maximum visibility amplitude!\n",
      "time: 4.832875 s\n",
      "J: 90.334988\n",
      "chi2_amp : 211.27 chi2_cphase : 22.08 chi2_logcamp : 14.51 \n",
      "STOP: TOTAL NO. of ITERATIONS REACHED LIMIT\n",
      "==============================\n",
      "No stations specified in self cal: defaulting to calibrating all stations!\n",
      "Computing the Model Visibilities with fast Fourier Transform...\n",
      "Producing clean visibilities from image with fast FT . . . \n",
      "Not Using Multiprocessing\n",
      "Scan 003/107 : [                              ]2%Welcome to eht-imaging! v 1.2.4 \n",
      "\n",
      "Loading uvfits:  ../../example_survey_obs.uvfits\n",
      "no IF in uvfits header!\n",
      "POLREP_UVFITS: circ\n",
      "Number of uvfits Correlation Products: 4\n",
      "Warning! Specified flux is < 80% of maximum visibility amplitude!\n",
      "Initializing imager data products . . .\n",
      "U-V flagged 125/1030 visibilities\n",
      "U-V flagged 905/1030 visibilities\n",
      "==============================\n",
      "Imager run 1 \n",
      "Warning! Specified flux is < 80% of maximum visibility amplitude!\n",
      "time: 4.903839 s\n",
      "J: 83.146094\n",
      "chi2_amp : 165.80 chi2_cphase : 30.46 chi2_logcamp : 9.46 \n",
      "STOP: TOTAL NO. of ITERATIONS REACHED LIMIT\n",
      "==============================\n",
      "==============================\n",
      "Imager run 2 \n",
      "Warning! Specified flux is < 80% of maximum visibility amplitude!\n",
      "time: 4.949486 s\n",
      "J: 75.069150\n",
      "chi2_amp : 180.89 chi2_cphase : 17.38 chi2_logcamp : 11.85 \n",
      "STOP: TOTAL NO. of ITERATIONS REACHED LIMIT\n",
      "==============================\n",
      "No stations specified in self cal: defaulting to calibrating all stations!\n",
      "Computing the Model Visibilities with fast Fourier Transform...\n",
      "Producing clean visibilities from image with fast FT . . . \n",
      "Not Using Multiprocessing\n",
      "Scan 106/107 : [----------------------------- ]99%\n",
      "self_cal time: 8.881100 s\n",
      "U-V flagged 125/1030 visibilities\n",
      "U-V flagged 905/1030 visibilities\n",
      "Updated self.amp: no averaging\n",
      "Updated self.amp: avg_time 0.000000 s\n",
      "\n",
      "Adding a 1.5951758445460071 Jy circular Gaussian of FWHM size 1303.9269657417408 uas\n",
      "No stations specified in self cal: defaulting to calibrating all stations!\n",
      "Computing the Model Visibilities with fast Fourier Transform...\n",
      "Producing clean visibilities from image with fast FT . . . \n",
      "Not Using Multiprocessing\n",
      "Scan 000/107 : [                              ]0%\n",
      "self_cal time: 8.789273 s\n",
      "U-V flagged 125/1030 visibilities\n",
      "U-V flagged 905/1030 visibilities\n",
      "Updated self.amp: no averaging\n",
      "Updated self.amp: avg_time 0.000000 s\n",
      "\n",
      "Adding a 1.7368294580613926 Jy circular Gaussian of FWHM size 1303.9269657417408 uas\n",
      "No stations specified in self cal: defaulting to calibrating all stations!\n",
      "Computing the Model Visibilities with fast Fourier Transform...\n",
      "Producing clean visibilities from image with fast FT . . . \n",
      "Not Using Multiprocessing\n",
      "Scan 027/107 : [-------                       ]25%\n",
      "self_cal time: 11.734197 s\n",
      "U-V flagged 125/1030 visibilities\n",
      "U-V flagged 905/1030 visibilities\n",
      "Updated self.amp: no averaging\n",
      "Updated self.amp: avg_time 0.000000 s\n",
      "\n",
      "Adding a 1.6157646035434894 Jy circular Gaussian of FWHM size 1303.9269657417408 uas\n",
      "No stations specified in self cal: defaulting to calibrating all stations!\n",
      "Computing the Model Visibilities with fast Fourier Transform...\n",
      "Producing clean visibilities from image with fast FT . . . \n",
      "Not Using Multiprocessing\n",
      "Scan 031/107 : [--------                      ]28%\n",
      "self_cal time: 13.418360 s\n",
      "U-V flagged 125/1030 visibilities\n",
      "U-V flagged 905/1030 visibilities\n",
      "Updated self.amp: no averaging\n",
      "Updated self.amp: avg_time 0.000000 s\n",
      "\n",
      "Adding a 1.7372112467451863 Jy circular Gaussian of FWHM size 1303.9269657417408 uas\n",
      "No stations specified in self cal: defaulting to calibrating all stations!\n",
      "Computing the Model Visibilities with fast Fourier Transform...\n",
      "Producing clean visibilities from image with fast FT . . . \n",
      "Not Using Multiprocessing\n",
      "Scan 106/107 : [----------------------------- ]99%\n",
      "self_cal time: 16.203956 s\n",
      "Building NX table\n",
      "No NX table in saved uvfits\n",
      "U-V flagged 125/1030 visibilities\n",
      "U-V flagged 905/1030 visibilities\n",
      "No stations specified in self cal: defaulting to calibrating all stations!\n",
      "Computing the Model Visibilities with fast Fourier Transform...\n",
      "Producing clean visibilities from image with fast FT . . . \n",
      "Not Using Multiprocessing\n",
      "Scan 002/107 : [                              ]1%\n",
      "self_cal time: 16.650900 s\n",
      "Building NX table\n",
      "No NX table in saved uvfits\n",
      "U-V flagged 125/1030 visibilities\n",
      "U-V flagged 905/1030 visibilities\n",
      "No stations specified in self cal: defaulting to calibrating all stations!\n",
      "Computing the Model Visibilities with fast Fourier Transform...\n",
      "Producing clean visibilities from image with fast FT . . . \n",
      "Not Using Multiprocessing\n",
      "Scan 033/107 : [---------                     ]30%\n",
      "self_cal time: 16.959041 s\n",
      "Building NX table\n",
      "No NX table in saved uvfits\n",
      "U-V flagged 125/1030 visibilities\n",
      "U-V flagged 905/1030 visibilities\n",
      "No stations specified in self cal: defaulting to calibrating all stations!\n",
      "Computing the Model Visibilities with fast Fourier Transform...\n",
      "Producing clean visibilities from image with fast FT . . . \n",
      "Not Using Multiprocessing\n",
      "Scan 007/107 : [-                             ]6%%\n",
      "self_cal time: 16.887405 s\n",
      "Building NX table\n",
      "No NX table in saved uvfits\n",
      "U-V flagged 125/1030 visibilities\n",
      "U-V flagged 905/1030 visibilities\n",
      "No stations specified in self cal: defaulting to calibrating all stations!\n",
      "Computing the Model Visibilities with fast Fourier Transform...\n",
      "Producing clean visibilities from image with fast FT . . . \n",
      "Not Using Multiprocessing\n"
     ]
    },
    {
     "name": "stdout",
     "output_type": "stream",
     "text": [
      "Scan 106/107 : [----------------------------- ]99%"
     ]
    },
    {
     "name": "stderr",
     "output_type": "stream",
     "text": [
      "counter default_iowait, total 9s, mean 4.57s, counts 2\n",
      "counter default_iowait, 50%tile: 4.58s\n",
      "counter default_iowait, 90%tile: 4.61s\n",
      "counter default_iowait, 95%tile: 4.61s\n",
      "counter default_iowait, 99%tile: 4.61s\n",
      "counter default_wallclock, total 160s, mean 79.87s, counts 2\n",
      "counter default_wallclock, 50%tile: 79.87s\n",
      "counter default_wallclock, 90%tile: 80.38s\n",
      "counter default_wallclock, 95%tile: 80.38s\n",
      "counter default_wallclock, 99%tile: 80.38s\n",
      "default progress: total: 4, active: 0, finished: 4, failures: 0, exceptions: 0\n",
      "counter default_iowait, total 18s, mean 4.54s, counts 4\n",
      "counter default_iowait, 50%tile: 4.58s\n",
      "counter default_iowait, 90%tile: 4.61s\n",
      "counter default_iowait, 95%tile: 4.61s\n",
      "counter default_iowait, 99%tile: 4.61s\n",
      "counter default_wallclock, total 338s, mean 84.57s, counts 4\n",
      "counter default_wallclock, 50%tile: 80.38s\n",
      "counter default_wallclock, 90%tile: 90.11s\n",
      "counter default_wallclock, 95%tile: 90.11s\n",
      "counter default_wallclock, 99%tile: 90.11s\n",
      "/Users/nitikayadlapalli/opt/anaconda3/envs/py38/lib/python3.8/site-packages/pandas_appender/appender.py:117: FutureWarning: The frame.append method is deprecated and will be removed from pandas in a future version. Use pandas.concat instead.\n",
      "  df = df.append(self._small, **self._append_kwargs)\n",
      "paramsurvey.map end time 20221129-165630\n",
      "paramsurvey.map returning results\n"
     ]
    }
   ],
   "source": [
    "# to run all parameter sets, use the run_survey function\n",
    "# should take ~1-2 minutes to run\n",
    "eh.survey.run_survey(psets, params_fixed)"
   ]
  }
 ],
 "metadata": {
  "kernelspec": {
   "display_name": "Python 3 (ipykernel)",
   "language": "python",
   "name": "python3"
  },
  "language_info": {
   "codemirror_mode": {
    "name": "ipython",
    "version": 3
   },
   "file_extension": ".py",
   "mimetype": "text/x-python",
   "name": "python",
   "nbconvert_exporter": "python",
   "pygments_lexer": "ipython3",
   "version": "3.8.13"
  }
 },
 "nbformat": 4,
 "nbformat_minor": 1
}
