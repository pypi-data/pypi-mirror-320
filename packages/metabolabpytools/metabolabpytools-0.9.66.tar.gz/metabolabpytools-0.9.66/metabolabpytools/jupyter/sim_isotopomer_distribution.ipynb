{
 "cells": [
  {
   "cell_type": "markdown",
   "id": "fb13c981",
   "metadata": {},
   "source": [
    "### Simulation of pre-defined isotopomer distributions\n",
    "Import necessary packages"
   ]
  },
  {
   "cell_type": "code",
   "execution_count": 10,
   "id": "82f0ff14",
   "metadata": {
    "ExecuteTime": {
     "end_time": "2024-08-05T13:22:21.324801Z",
     "start_time": "2024-08-05T13:22:16.378129Z"
    }
   },
   "outputs": [],
   "source": [
    "from metabolabpytools import isotopomerAnalysis1"
   ]
  },
  {
   "cell_type": "markdown",
   "id": "24f7ffdc",
   "metadata": {},
   "source": [
    "Create an isotopomerAnalysis object"
   ]
  },
  {
   "cell_type": "code",
   "execution_count": 11,
   "id": "9228f2e5",
   "metadata": {},
   "outputs": [
    {
     "ename": "AttributeError",
     "evalue": "module 'metabolabpytools.isotopomerAnalysis1' has no attribute 'IsotopomerAnalysis'",
     "output_type": "error",
     "traceback": [
      "\u001b[1;31m---------------------------------------------------------------------------\u001b[0m",
      "\u001b[1;31mAttributeError\u001b[0m                            Traceback (most recent call last)",
      "Cell \u001b[1;32mIn[11], line 1\u001b[0m\n\u001b[1;32m----> 1\u001b[0m ia \u001b[38;5;241m=\u001b[39m \u001b[43misotopomerAnalysis1\u001b[49m\u001b[38;5;241;43m.\u001b[39;49m\u001b[43mIsotopomerAnalysis\u001b[49m()\n",
      "\u001b[1;31mAttributeError\u001b[0m: module 'metabolabpytools.isotopomerAnalysis1' has no attribute 'IsotopomerAnalysis'"
     ]
    }
   ],
   "source": [
    "ia = isotopomerAnalysis1.IsotopomerAnalysis()"
   ]
  },
  {
   "cell_type": "markdown",
   "id": "6feda906",
   "metadata": {},
   "source": [
    "Define metabolite parameters (name, HSQC vector, isotopomers & percentages to be simulated, simulate only one dataset <- exp_index)"
   ]
  },
  {
   "cell_type": "code",
   "execution_count": 3,
   "id": "346441bd",
   "metadata": {},
   "outputs": [],
   "source": [
    "isotopomers = [[0,1,1],[1,0,1],[0,0,1]]\n",
    "percentages = [18.0, 10.0,2.0]\n",
    "hsqc = [0,1,1]\n",
    "metabolite = 'L-LacticAcid'\n",
    "exp_index = 0"
   ]
  },
  {
   "cell_type": "markdown",
   "id": "42de67cc",
   "metadata": {},
   "source": [
    "Initialise isotopomerAnalysis object with selected data"
   ]
  },
  {
   "cell_type": "code",
   "execution_count": 4,
   "id": "cbe0f3e1",
   "metadata": {},
   "outputs": [],
   "source": [
    "ia.init_metabolite(metabolite, hsqc)\n",
    "ia.set_fit_isotopomers(metabolite=metabolite, isotopomers=isotopomers, percentages=percentages)"
   ]
  },
  {
   "cell_type": "markdown",
   "id": "ff4bbd33-e068-4bd3-87d2-ba4a61e855b5",
   "metadata": {},
   "source": [
    "Isotopomer data are filled up to 100% with unlabelled metabolite"
   ]
  },
  {
   "cell_type": "code",
   "execution_count": 5,
   "id": "f919f7b3-084a-4291-bcd2-ffd341d1f99a",
   "metadata": {},
   "outputs": [
    {
     "name": "stdout",
     "output_type": "stream",
     "text": [
      "Isotopomers : [[0, 0, 0], [0, 1, 1], [1, 0, 1], [0, 0, 1]]\n",
      "Isotopomer %: [70.0, 18.0, 10.0, 2.0]\n"
     ]
    }
   ],
   "source": [
    "print(f'Isotopomers : {ia.fit_isotopomers[metabolite]}\\nIsotopomer %: {ia.isotopomer_percentages[metabolite]}')"
   ]
  },
  {
   "cell_type": "markdown",
   "id": "cda9e969",
   "metadata": {},
   "source": [
    "Simulate HSQC data"
   ]
  },
  {
   "cell_type": "code",
   "execution_count": 6,
   "id": "ad47e15a",
   "metadata": {},
   "outputs": [],
   "source": [
    "ia.sim_hsqc_data(metabolite=metabolite, exp_index=exp_index, isotopomers=ia.fit_isotopomers[metabolite], percentages=ia.isotopomer_percentages[metabolite])"
   ]
  },
  {
   "cell_type": "markdown",
   "id": "c690719f-fc1d-4f2b-809f-c4d042f2319e",
   "metadata": {},
   "source": [
    "Simulated NMR multiplet data is stored in ia.exp_multiplets and ia.exp_multiplet_percentages"
   ]
  },
  {
   "cell_type": "code",
   "execution_count": 7,
   "id": "945afab5-0135-41a8-b155-dbbe0170c192",
   "metadata": {},
   "outputs": [
    {
     "name": "stdout",
     "output_type": "stream",
     "text": [
      "HSQC Multiplets: [[2], [2, 3], [2, 1, 3], [3], [3, 2]]\n",
      "Multiplet percentages: [3.9677074173350153, 94.44520961573097, 1.587082966934006, 41.043936388175226, 58.956063611824774]\n"
     ]
    }
   ],
   "source": [
    "print(f'HSQC Multiplets: {ia.exp_multiplets[metabolite][exp_index]}')\n",
    "print(f'Multiplet percentages: {ia.exp_multiplet_percentages[metabolite][exp_index]}')"
   ]
  },
  {
   "cell_type": "markdown",
   "id": "9001ba6b-5f04-4800-8895-b437352f30ce",
   "metadata": {},
   "source": [
    "Simulate GC-MS data"
   ]
  },
  {
   "cell_type": "code",
   "execution_count": 8,
   "id": "8b351732-e605-4557-92d5-8138f8829307",
   "metadata": {},
   "outputs": [
    {
     "data": {
      "text/plain": [
       "[70.0, 18.0, 10.0, 2.0]"
      ]
     },
     "execution_count": 8,
     "metadata": {},
     "output_type": "execute_result"
    }
   ],
   "source": [
    "ia.isotopomer_percentages[metabolite]"
   ]
  },
  {
   "cell_type": "code",
   "execution_count": 9,
   "id": "3b8c8c33-a020-4fe9-8430-f4a514019baf",
   "metadata": {},
   "outputs": [
    {
     "name": "stdout",
     "output_type": "stream",
     "text": [
      "70.0\n",
      "18.0\n",
      "10.0\n",
      "2.0\n"
     ]
    },
    {
     "ename": "TypeError",
     "evalue": "'float' object is not iterable",
     "output_type": "error",
     "traceback": [
      "\u001b[1;31m---------------------------------------------------------------------------\u001b[0m",
      "\u001b[1;31mTypeError\u001b[0m                                 Traceback (most recent call last)",
      "Cell \u001b[1;32mIn[9], line 1\u001b[0m\n\u001b[1;32m----> 1\u001b[0m \u001b[43mia\u001b[49m\u001b[38;5;241;43m.\u001b[39;49m\u001b[43msim_gcms_data\u001b[49m\u001b[43m(\u001b[49m\u001b[43mmetabolite\u001b[49m\u001b[43m,\u001b[49m\u001b[43m \u001b[49m\u001b[43mexp_index\u001b[49m\u001b[43m)\u001b[49m\n",
      "File \u001b[1;32m~\\metabolabpytools\\metabolabpytools\\isotopomerAnalysis.py:753\u001b[0m, in \u001b[0;36mIsotopomerAnalysis.sim_gcms_data\u001b[1;34m(self, metabolite, exp_index)\u001b[0m\n\u001b[0;32m    750\u001b[0m \u001b[38;5;28;01mif\u001b[39;00m \u001b[38;5;28mlen\u001b[39m(metabolite) \u001b[38;5;241m==\u001b[39m \u001b[38;5;241m0\u001b[39m \u001b[38;5;129;01mor\u001b[39;00m metabolite \u001b[38;5;129;01mnot\u001b[39;00m \u001b[38;5;129;01min\u001b[39;00m \u001b[38;5;28mself\u001b[39m\u001b[38;5;241m.\u001b[39mmetabolites:\n\u001b[0;32m    751\u001b[0m     \u001b[38;5;28;01mreturn\u001b[39;00m\n\u001b[1;32m--> 753\u001b[0m \u001b[38;5;28;43mself\u001b[39;49m\u001b[38;5;241;43m.\u001b[39;49m\u001b[43mset_gcms_percentages\u001b[49m\u001b[43m(\u001b[49m\u001b[43mmetabolite\u001b[49m\u001b[43m)\u001b[49m\n\u001b[0;32m    754\u001b[0m \u001b[38;5;28mself\u001b[39m\u001b[38;5;241m.\u001b[39mexp_gcms[metabolite][exp_index] \u001b[38;5;241m=\u001b[39m \u001b[38;5;28mlist\u001b[39m(np\u001b[38;5;241m.\u001b[39mcopy(\u001b[38;5;28mself\u001b[39m\u001b[38;5;241m.\u001b[39mgcms_percentages[metabolite]))\n",
      "File \u001b[1;32m~\\metabolabpytools\\metabolabpytools\\isotopomerAnalysis.py:728\u001b[0m, in \u001b[0;36mIsotopomerAnalysis.set_gcms_percentages\u001b[1;34m(self, metabolite)\u001b[0m\n\u001b[0;32m    725\u001b[0m     gcms_data \u001b[38;5;241m=\u001b[39m \u001b[38;5;28mlist\u001b[39m(np\u001b[38;5;241m.\u001b[39mzeros(\u001b[38;5;28mlen\u001b[39m(\u001b[38;5;28mself\u001b[39m\u001b[38;5;241m.\u001b[39mhsqc[metabolite]) \u001b[38;5;241m+\u001b[39m \u001b[38;5;241m1\u001b[39m, dtype\u001b[38;5;241m=\u001b[39m\u001b[38;5;28mint\u001b[39m))\n\u001b[0;32m    727\u001b[0m \u001b[38;5;66;03m# Ensure percentages are correctly flattened and processed\u001b[39;00m\n\u001b[1;32m--> 728\u001b[0m flattened_percentages \u001b[38;5;241m=\u001b[39m \u001b[43m[\u001b[49m\u001b[43mitem\u001b[49m\u001b[43m \u001b[49m\u001b[38;5;28;43;01mfor\u001b[39;49;00m\u001b[43m \u001b[49m\u001b[43msublist\u001b[49m\u001b[43m \u001b[49m\u001b[38;5;129;43;01min\u001b[39;49;00m\u001b[43m \u001b[49m\u001b[38;5;28;43mself\u001b[39;49m\u001b[38;5;241;43m.\u001b[39;49m\u001b[43misotopomer_percentages\u001b[49m\u001b[43m[\u001b[49m\u001b[43mmetabolite\u001b[49m\u001b[43m]\u001b[49m\u001b[43m \u001b[49m\u001b[38;5;28;43;01mfor\u001b[39;49;00m\u001b[43m \u001b[49m\u001b[43mitem\u001b[49m\u001b[43m \u001b[49m\u001b[38;5;129;43;01min\u001b[39;49;00m\u001b[43m \u001b[49m\u001b[43msublist\u001b[49m\u001b[43m]\u001b[49m\n\u001b[0;32m    729\u001b[0m percentages \u001b[38;5;241m=\u001b[39m np\u001b[38;5;241m.\u001b[39marray(flattened_percentages)\n\u001b[0;32m    731\u001b[0m \u001b[38;5;28;01mfor\u001b[39;00m k \u001b[38;5;129;01min\u001b[39;00m \u001b[38;5;28mrange\u001b[39m(\u001b[38;5;28mlen\u001b[39m(gcms_data)):\n",
      "\u001b[1;31mTypeError\u001b[0m: 'float' object is not iterable"
     ]
    }
   ],
   "source": [
    "ia.sim_gcms_data(metabolite, exp_index)"
   ]
  },
  {
   "cell_type": "markdown",
   "id": "6c93bf99-0509-443d-b630-cc37071a7904",
   "metadata": {},
   "source": [
    "Simulated data is stored in ia.exp_gcms[metabolite][exp_index] (m+0, m+1, m+2...)"
   ]
  },
  {
   "cell_type": "code",
   "execution_count": 10,
   "id": "d4f0a0e5-ae1b-4dce-b8b4-310ea5650259",
   "metadata": {},
   "outputs": [
    {
     "data": {
      "text/plain": [
       "[70.0, 2.0, 28.0, 0.0]"
      ]
     },
     "execution_count": 10,
     "metadata": {},
     "output_type": "execute_result"
    }
   ],
   "source": [
    "ia.exp_gcms[metabolite][exp_index]"
   ]
  },
  {
   "cell_type": "markdown",
   "id": "206f837c",
   "metadata": {},
   "source": [
    "### Derivation of the isotopomer distribution using simulated HSQC and GC-MS data"
   ]
  },
  {
   "cell_type": "markdown",
   "id": "8cc529c6-4906-4f70-bfe6-b934bb5b5a2f",
   "metadata": {},
   "source": [
    "Use only HSQC multiplets and GC-MS data for analysis"
   ]
  },
  {
   "cell_type": "code",
   "execution_count": 11,
   "id": "752fc103",
   "metadata": {},
   "outputs": [],
   "source": [
    "ia.use_hsqc_multiplet_data = True\n",
    "ia.use_gcms_data = True\n",
    "ia.use_nmr1d_data = False"
   ]
  },
  {
   "cell_type": "markdown",
   "id": "68b352a4",
   "metadata": {},
   "source": [
    "Use the isotopomers previously used to simulate the data"
   ]
  },
  {
   "cell_type": "code",
   "execution_count": 12,
   "id": "92440d26-0fac-4208-b69a-275713b31909",
   "metadata": {},
   "outputs": [
    {
     "data": {
      "text/plain": [
       "[70.0, 18.0, 10.0, 2.0]"
      ]
     },
     "execution_count": 12,
     "metadata": {},
     "output_type": "execute_result"
    }
   ],
   "source": [
    "ia.fit_isotopomers[metabolite]\n",
    "ia.isotopomer_percentages[metabolite]"
   ]
  },
  {
   "cell_type": "code",
   "execution_count": 13,
   "id": "23329eae",
   "metadata": {},
   "outputs": [],
   "source": [
    "ia.fit_data(exp_index=exp_index, metabolite=metabolite, fit_isotopomers=ia.fit_isotopomers[metabolite])"
   ]
  },
  {
   "cell_type": "markdown",
   "id": "fee95a38-0f0b-41f3-b035-d8ff31a48bdc",
   "metadata": {},
   "source": [
    "Fitted isotopomer distributions are stored in ia.fitted_isotopomers[metabolite][exp_index] amd ia.fitted_isotopomer_percentages[metabolite][exp_index]"
   ]
  },
  {
   "cell_type": "code",
   "execution_count": 14,
   "id": "e7dc1f93-3423-4e80-bc62-75ce89351cf3",
   "metadata": {},
   "outputs": [
    {
     "name": "stdout",
     "output_type": "stream",
     "text": [
      "Fitted Isotoponers : [[0, 0, 0], [0, 1, 1], [1, 0, 1], [0, 0, 1]]\n",
      "Fitted Isotopomer %: [69.9999999999989, 17.999999999999705, 10.000000000001398, 1.9999999999999936]\n"
     ]
    }
   ],
   "source": [
    "print(f'Fitted Isotoponers : {ia.fitted_isotopomers[metabolite][exp_index]}\\nFitted Isotopomer %: {ia.fitted_isotopomer_percentages[metabolite][exp_index]}')"
   ]
  },
  {
   "cell_type": "markdown",
   "id": "49d9ea45",
   "metadata": {},
   "source": [
    "Export data and analysis to Excel spreadsheet"
   ]
  },
  {
   "cell_type": "code",
   "execution_count": 14,
   "id": "06b94802",
   "metadata": {},
   "outputs": [],
   "source": [
    "ia.export_data('fittedIsotopomerAnalysis.xlsx')"
   ]
  },
  {
   "cell_type": "code",
   "execution_count": null,
   "id": "a45c5053-7737-49aa-8dd9-0cbe79e34a95",
   "metadata": {},
   "outputs": [],
   "source": []
  }
 ],
 "metadata": {
  "kernelspec": {
   "display_name": "Python 3 (ipykernel)",
   "language": "python",
   "name": "python3"
  },
  "language_info": {
   "codemirror_mode": {
    "name": "ipython",
    "version": 3
   },
   "file_extension": ".py",
   "mimetype": "text/x-python",
   "name": "python",
   "nbconvert_exporter": "python",
   "pygments_lexer": "ipython3",
   "version": "3.12.3"
  }
 },
 "nbformat": 4,
 "nbformat_minor": 5
}
