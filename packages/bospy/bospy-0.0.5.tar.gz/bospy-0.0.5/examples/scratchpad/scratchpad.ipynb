{
 "cells": [
  {
   "cell_type": "code",
   "execution_count": 3,
   "metadata": {},
   "outputs": [],
   "source": [
    "import os\n",
    "os.environ['SYSMOD_ADDR'] = \"nuc:2821\"\n",
    "os.environ['DEVCTRL_ADDR'] = \"nuc:2822\""
   ]
  },
  {
   "cell_type": "code",
   "execution_count": 4,
   "metadata": {},
   "outputs": [
    {
     "name": "stdout",
     "output_type": "stream",
     "text": [
      "using sysmod addr: nuc:2821\n",
      "using devctrl addr: nuc:2822\n"
     ]
    }
   ],
   "source": [
    "import bospy.bos as bos\n",
    "print(\"using sysmod addr: {}\".format(bos.SYSMOD_ADDR))\n",
    "print(\"using devctrl addr: {}\".format(bos.DEVCTRL_ADDR))"
   ]
  },
  {
   "cell_type": "code",
   "execution_count": 5,
   "metadata": {},
   "outputs": [
    {
     "name": "stdout",
     "output_type": "stream",
     "text": [
      "The sysmod address is: nuc:2821\n",
      "bos://localhost/dev/1/pts/1\n",
      "bos://localhost/dev/1/pts/2\n",
      "bos://localhost/dev/1/pts/3\n",
      "bos://localhost/dev/1/pts/4\n",
      "bos://localhost/dev/1/pts/5\n",
      "bos://localhost/dev/1/pts/6\n"
     ]
    }
   ],
   "source": [
    "pts = bos.QueryPoints()\n",
    "pts = sorted(pts)\n",
    "for uri in pts:\n",
    "    print(uri)"
   ]
  },
  {
   "cell_type": "code",
   "execution_count": 14,
   "metadata": {},
   "outputs": [
    {
     "name": "stdout",
     "output_type": "stream",
     "text": [
      "co2\n",
      "air_temp\n",
      "air_temp_setpoint\n",
      "humidity\n",
      "status\n",
      "power_draw\n"
     ]
    }
   ],
   "source": [
    "names = [bos.PointToName(p) for p in pts]\n",
    "for n in names:\n",
    "    print(n)"
   ]
  },
  {
   "cell_type": "code",
   "execution_count": 15,
   "metadata": {},
   "outputs": [
    {
     "data": {
      "text/plain": [
       "21.25"
      ]
     },
     "execution_count": 15,
     "metadata": {},
     "output_type": "execute_result"
    }
   ],
   "source": [
    "pt = bos.NameToPoint('air_temp_setpoint')\n",
    "v = bos.Get(pt)\n",
    "v[pt]"
   ]
  },
  {
   "cell_type": "code",
   "execution_count": 16,
   "metadata": {},
   "outputs": [
    {
     "data": {
      "text/plain": [
       "True"
      ]
     },
     "execution_count": 16,
     "metadata": {},
     "output_type": "execute_result"
    }
   ],
   "source": [
    "ok = bos.Set(pt, 19)\n",
    "ok"
   ]
  },
  {
   "cell_type": "code",
   "execution_count": 17,
   "metadata": {},
   "outputs": [
    {
     "data": {
      "text/plain": [
       "19.0"
      ]
     },
     "execution_count": 17,
     "metadata": {},
     "output_type": "execute_result"
    }
   ],
   "source": [
    "v = bos.Get(pt)\n",
    "v[pt]"
   ]
  }
 ],
 "metadata": {
  "kernelspec": {
   "display_name": "bos",
   "language": "python",
   "name": "python3"
  },
  "language_info": {
   "codemirror_mode": {
    "name": "ipython",
    "version": 3
   },
   "file_extension": ".py",
   "mimetype": "text/x-python",
   "name": "python",
   "nbconvert_exporter": "python",
   "pygments_lexer": "ipython3",
   "version": "3.12.4"
  }
 },
 "nbformat": 4,
 "nbformat_minor": 2
}
