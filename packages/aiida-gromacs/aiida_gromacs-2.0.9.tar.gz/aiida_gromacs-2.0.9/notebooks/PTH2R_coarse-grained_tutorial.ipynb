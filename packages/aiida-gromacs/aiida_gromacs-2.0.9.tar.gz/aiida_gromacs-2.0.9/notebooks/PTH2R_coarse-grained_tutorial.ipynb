{
 "cells": [
  {
   "cell_type": "markdown",
   "metadata": {},
   "source": [
    "# Advanced Data Provenance with aiida-gromacs"
   ]
  },
  {
   "cell_type": "markdown",
   "metadata": {},
   "source": [
    "## Introduction"
   ]
  },
  {
   "cell_type": "markdown",
   "metadata": {},
   "source": [
    "### Who is this tutorial for?\n",
    "This tutorial is aimed at molecular dynamics simulators who want to keep track of each step used to build and setup simulations of biomolecular systems. \n",
    "\n",
    "### Why not just use a script to keep a record of simulation steps?\n",
    "As simulation protocols vary between practictioners, it is often difficult to ascertain how simulations are performed to generate the dynamics of molecular systems. Generation of scripts to automate steps performed is currently the only method used to keep track of simulation steps. However, scripts do not have standardised formats and do not track what inputs are used or what outputs are produced from each command. \n",
    "\n",
    "### How can we track complex simulation protocols?\n",
    "In this tutorial, we will setup and run a coarse-grained simulation of the active state PTH2R protein via the aiida-gromacs plugin. We will show how commands are written and provenance is saved in realtime for a simulation workflow. The files inputted and outputted for each command, along with the connections between them are saved in a consistent format in an aiida database archive file (SQLite format). This output not only shows what we did, but also how we did it, making it easy to reuse and reproduce our protocol. \n"
   ]
  },
  {
   "cell_type": "markdown",
   "metadata": {},
   "source": [
    "### Tutorial Overview\n",
    "\n",
    "<center><img src=\"PTH2R_coarse-grained_files/images/diagram-workflow-overview.png\" alt=\"Summary of the steps covered to produce the starting molecular system for simulation\" width=\"60%\" /></center>"
   ]
  },
  {
   "cell_type": "markdown",
   "metadata": {},
   "source": [
    "## Software and environment requirements"
   ]
  },
  {
   "cell_type": "markdown",
   "metadata": {},
   "source": [
    "* [``martinize2``](https://pypi.org/project/vermouth/) is used to convert from atomistic to coarse-grained structures. \n",
    "\n",
    "* [``dssp``](https://anaconda.org/salilab/dssp) is used by ``martinize2`` to find secondary structures in the protein.\n",
    "\n",
    "* A modified [``insane``](https://github.com/Tsjerk/Insane) script is used to build the coarse-grained system.\n",
    "\n",
    "* A local installation of [GROMACS](https://www.gromacs.org/) is required to perform molecular dynamics simulations.\n",
    "\n",
    "* [aiida-gromacs](https://aiida-gromacs.readthedocs.io/en/latest/user_guide/installation.html#plugin-installation) is used to keep track of all the commands used to setup and perform the simulation. \n",
    "\n",
    "Activate the conda environment that aiida-gromacs and AiiDA are installed in for this tutorial. We then need to start the AiiDA database and daemon using the first three steps from our [user guide](https://aiida-gromacs.readthedocs.io/en/latest/user_guide/aiida_sessions.html#start-stop-aiida)."
   ]
  },
  {
   "cell_type": "markdown",
   "metadata": {},
   "source": [
    "## AiiDA under the hood"
   ]
  },
  {
   "cell_type": "markdown",
   "metadata": {},
   "source": [
    "We use aiida-gromacs to track commands run on the CLI, which is a plugin for AiiDA software. Here's a brief description of what is going on under the hood when running aiida-gromacs; \n",
    "* AiiDA uses a [PostgreSQL](https://www.postgresql.org) database to store all data produced and the links between input and output files for each command run. Each submitted command is termed a process in AiiDA. \n",
    "* Communication between submitted processes are handled with [RabbitMQ](https://www.rabbitmq.com/) and submitted processes are handled with a deamon process that runs in the background. \n",
    "* AiiDA has a built-in CLI utility called ``verdi``, which we will use to view the status of the submitted processes, you can do this at any time with the following command:"
   ]
  },
  {
   "cell_type": "code",
   "execution_count": 1,
   "metadata": {},
   "outputs": [
    {
     "name": "stdout",
     "output_type": "stream",
     "text": [
      "\u001b[22mPK    Created    Process label    Process State    Process status\n",
      "----  ---------  ---------------  ---------------  ----------------\u001b[0m\n",
      "\u001b[22m\n",
      "Total results: 0\n",
      "\u001b[0m\n",
      "\u001b[34m\u001b[1mReport\u001b[0m: \u001b[22mlast time an entry changed state: never\u001b[0m\n",
      "\u001b[34m\u001b[1mReport\u001b[0m: \u001b[22mChecking daemon load... \u001b[0m\u001b[32m\u001b[1mOK\u001b[0m\n",
      "\u001b[34m\u001b[1mReport\u001b[0m: \u001b[22mUsing 0% of the available daemon worker slots.\u001b[0m\n"
     ]
    }
   ],
   "source": [
    "! verdi process list -a"
   ]
  },
  {
   "cell_type": "markdown",
   "metadata": {},
   "source": [
    "A successfully finished process will exit with code [0]. "
   ]
  },
  {
   "cell_type": "markdown",
   "metadata": {},
   "source": [
    "## Coarse-grained MD Simulation Data Provenance with aiida-gromacs"
   ]
  },
  {
   "cell_type": "markdown",
   "metadata": {},
   "source": [
    "In this tutorial, we will go through how to set-up a coarse-grained molecular system of a PTH2R (Parathyroid hormone receptor type 2) protein embedded in a lipid bilayer membrane along with water and counter-ions. We will use the command-line tools provided in aiida-gromacs to track each step performed on the terminal."
   ]
  },
  {
   "cell_type": "markdown",
   "metadata": {},
   "source": [
    "<center><img src=\"PTH2R_coarse-grained_files/images/gpcr_membrane.png\" alt=\"GPCR in a model plasma membrane. Each lipid is coloured differently.\" width=\"60%\"/></center>"
   ]
  },
  {
   "cell_type": "markdown",
   "metadata": {},
   "source": [
    "### Aquiring and tidying up the receptor protein structure"
   ]
  },
  {
   "cell_type": "markdown",
   "metadata": {},
   "source": [
    "Our starting point is the PTH2R [structure](https://gpcrdb.org/protein/pth2r_human/) from the GPCRdb. \n",
    "\n",
    "1. First, we download the PTH2R protein from the GPCRdb using `curl`. We will track our commands as we perform them using the `genericMD` command in aiida-gromacs: "
   ]
  },
  {
   "cell_type": "code",
   "execution_count": 2,
   "metadata": {},
   "outputs": [
    {
     "name": "stdout",
     "output_type": "stream",
     "text": [
      "/home/rjw41005/aiida-gromacs/examples/PTH2R_coarse-grained_files/protein\n"
     ]
    }
   ],
   "source": [
    "%mkdir PTH2R_coarse-grained_files/protein\n",
    "%cd PTH2R_coarse-grained_files/protein\n",
    "PTH2R=\"ClassB1_pth2r_human_Active_AF_2022-08-16_GPCRdb\""
   ]
  },
  {
   "cell_type": "code",
   "execution_count": 3,
   "metadata": {},
   "outputs": [
    {
     "name": "stdout",
     "output_type": "stream",
     "text": [
      "command: curl https://gpcrdb.org/structure/homology_models/pth2r_human_active_full/download_pdb -o ClassB1_pth2r_human_Active_AF_2022-08-16_GPCRdb.zip \n",
      "code: bash@localhost\n",
      "Submitted calculation: {'ClassB1_pth2r_human_Active_AF_2022_08_16_GPCRdb_zip': <SinglefileData: uuid: e4db2d67-2b07-4d06-9450-9d1f37d3dd45 (pk: 7)>, 'remote_folder': <RemoteData: uuid: f4ca6c78-bbb1-420d-b4c1-ecb4b037b89f (pk: 5)>, 'retrieved': <FolderData: uuid: 34b19cef-e882-47a8-8fd9-54ee78125d21 (pk: 6)>}\n",
      "\n"
     ]
    }
   ],
   "source": [
    "! genericMD --code bash@localhost \\\n",
    "--command \"curl https://gpcrdb.org/structure/homology_models/pth2r_human_active_full/download_pdb -o {PTH2R}.zip \" \\\n",
    "--outputs {PTH2R}.zip"
   ]
  },
  {
   "cell_type": "markdown",
   "metadata": {},
   "source": [
    "We can check that the command has run successfully with:"
   ]
  },
  {
   "cell_type": "code",
   "execution_count": 4,
   "metadata": {},
   "outputs": [
    {
     "name": "stdout",
     "output_type": "stream",
     "text": [
      "\u001b[22m  PK  Created    Process label       Process State    Process status\n",
      "----  ---------  ------------------  ---------------  ----------------\n",
      "   4  57s ago    GenericCalculation  ⏹ Finished [0]\u001b[0m\n",
      "\u001b[22m\n",
      "Total results: 1\n",
      "\u001b[0m\n",
      "\u001b[34m\u001b[1mReport\u001b[0m: \u001b[22mlast time an entry changed state: 56s ago (at 11:05:17 on 2024-04-24)\u001b[0m\n",
      "\u001b[34m\u001b[1mReport\u001b[0m: \u001b[22mChecking daemon load... \u001b[0m\u001b[32m\u001b[1mOK\u001b[0m\n",
      "\u001b[34m\u001b[1mReport\u001b[0m: \u001b[22mUsing 0% of the available daemon worker slots.\u001b[0m\n"
     ]
    }
   ],
   "source": [
    "! verdi process list -a"
   ]
  },
  {
   "cell_type": "markdown",
   "metadata": {},
   "source": [
    "2. We then need to `unzip` the downloaded file:"
   ]
  },
  {
   "cell_type": "code",
   "execution_count": 5,
   "metadata": {},
   "outputs": [
    {
     "name": "stdout",
     "output_type": "stream",
     "text": [
      "command: unzip ClassB1_pth2r_human_Active_AF_2022-08-16_GPCRdb.zip\n",
      "code: bash@localhost\n",
      "Submitted calculation: {'ClassB1_pth2r_human_Active_AF_2022_08_16_GPCRdb_pdb': <SinglefileData: uuid: d700826d-5ed2-45cd-8a2f-e4fd1aede268 (pk: 13)>, 'remote_folder': <RemoteData: uuid: 93362ce6-278a-4084-8683-9aaef3775811 (pk: 11)>, 'retrieved': <FolderData: uuid: ba722eed-a3d7-43bf-8105-eb2bbfcdaae4 (pk: 12)>}\n",
      "\n"
     ]
    }
   ],
   "source": [
    "! genericMD --code bash@localhost \\\n",
    "--command \"unzip {PTH2R}.zip\" \\\n",
    "--inputs {PTH2R}.zip --outputs {PTH2R}.pdb"
   ]
  },
  {
   "cell_type": "markdown",
   "metadata": {},
   "source": [
    "3. Now that we have the pdb file, we can remove regions of low confidence at the start and end of the receptor chain. We use the `sed` command to programmatically delete lines that correspond to low confidence regions between residues 1-31 and 435-550 inclusive. \n"
   ]
  },
  {
   "cell_type": "code",
   "execution_count": 6,
   "metadata": {},
   "outputs": [
    {
     "name": "stdout",
     "output_type": "stream",
     "text": [
      "command: sed -i -e '1,217d;3502,4387d' ClassB1_pth2r_human_Active_AF_2022-08-16_GPCRdb.pdb\n",
      "code: bash@localhost\n",
      "Submitted calculation: {'ClassB1_pth2r_human_Active_AF_2022_08_16_GPCRdb_pdb': <SinglefileData: uuid: 0f1648a8-e785-4b0a-a341-3e5d352b2e0e (pk: 19)>, 'remote_folder': <RemoteData: uuid: 889ed621-9e55-4761-aed2-b746cb95dde6 (pk: 17)>, 'retrieved': <FolderData: uuid: 0a6b34be-d1c3-414d-87dd-a350c8acc40b (pk: 18)>}\n",
      "\n"
     ]
    }
   ],
   "source": [
    "! genericMD --code bash@localhost \\\n",
    "--command \"sed -i -e '1,217d;3502,4387d' {PTH2R}.pdb\" \\\n",
    "--inputs {PTH2R}.pdb \\\n",
    "--outputs {PTH2R}.pdb"
   ]
  },
  {
   "cell_type": "markdown",
   "metadata": {},
   "source": [
    "### Aligning PTH2R to a correctly orientated structure"
   ]
  },
  {
   "cell_type": "markdown",
   "metadata": {},
   "source": [
    "4. Next, we download the correctly orientated structure from the OPM database."
   ]
  },
  {
   "cell_type": "code",
   "execution_count": 7,
   "metadata": {},
   "outputs": [
    {
     "name": "stdout",
     "output_type": "stream",
     "text": [
      "command: curl https://opm-assets.storage.googleapis.com/pdb/7f16.pdb -o PTH2R_opm.pdb \n",
      "code: bash@localhost\n",
      "Submitted calculation: {'PTH2R_opm_pdb': <SinglefileData: uuid: 6eb2efbd-d530-409c-8f6b-3ddd50be295b (pk: 25)>, 'remote_folder': <RemoteData: uuid: 4a631d12-a97d-44a1-8aa0-37ffadd0c479 (pk: 23)>, 'retrieved': <FolderData: uuid: fc112235-b898-4a41-abfb-fcceff35b717 (pk: 24)>}\n",
      "\n"
     ]
    }
   ],
   "source": [
    "! genericMD --code bash@localhost \\\n",
    "--command \"curl https://opm-assets.storage.googleapis.com/pdb/7f16.pdb -o PTH2R_opm.pdb \" \\\n",
    "--outputs PTH2R_opm.pdb"
   ]
  },
  {
   "cell_type": "markdown",
   "metadata": {},
   "source": [
    "5. PTH2R is a receptor for the parathyroid hormone and the OPM downloaded structure contains the coupled G-protein along with other bound molecules. We will keep only the receptor using the `sed` command to remove lines that do not correspond to the receptor:"
   ]
  },
  {
   "cell_type": "code",
   "execution_count": 8,
   "metadata": {},
   "outputs": [
    {
     "name": "stdout",
     "output_type": "stream",
     "text": [
      "command: sed -i -e '2,761d;3835,13708d' PTH2R_opm.pdb\n",
      "code: bash@localhost\n",
      "Submitted calculation: {'PTH2R_opm_pdb': <SinglefileData: uuid: 6936fd21-5b1d-4317-af15-0091f6010f15 (pk: 31)>, 'remote_folder': <RemoteData: uuid: be0c4830-1d8c-4f5c-a313-ec5a3ec6035f (pk: 29)>, 'retrieved': <FolderData: uuid: 01135b34-5688-4d2c-a2a5-9d50464dc829 (pk: 30)>}\n",
      "\n"
     ]
    }
   ],
   "source": [
    "! genericMD --code bash@localhost \\\n",
    "--command \"sed -i -e '2,761d;3835,13708d' PTH2R_opm.pdb\" \\\n",
    "--inputs PTH2R_opm.pdb \\\n",
    "--outputs PTH2R_opm.pdb"
   ]
  },
  {
   "cell_type": "markdown",
   "metadata": {},
   "source": [
    "The final step for preparing the PTH2R protein is to position the structure in the correct orientation by aligning against the structure downloaded from the OPM database. There are a few ways to orientate the protein, here we use the orientations of proteins in membranes (OPM) database [structure](https://opm.phar.umich.edu/proteins/7900) as a template to align our protein with. The OPM structure is correctly orientated to fit around a membrane and uses the [7F16](https://www.rcsb.org/structure/7F16) PDB deposited structure, however, this structure has missing atoms, so we cannot use this structure directly. There is an option to use the PPM webserver to orientate the protein correctly, however, no command-line tool is currently available, so we will not use this here.\n",
    "\n",
    "6. We use the `confrms` command in GROMACS to align our structure. We will carry on using `genericMD` to track this command and use the `echo` command to include the interactive options required by `confrms`:"
   ]
  },
  {
   "cell_type": "code",
   "execution_count": 9,
   "metadata": {},
   "outputs": [
    {
     "name": "stdout",
     "output_type": "stream",
     "text": [
      "command: echo -e '0 | 0 \\n q' | gmx confrms -f1 PTH2R_opm.pdb -f2 ClassB1_pth2r_human_Active_AF_2022-08-16_GPCRdb.pdb -name -one -o PTH2R_fit.pdb\n",
      "code: bash@localhost\n",
      "Submitted calculation: {'PTH2R_fit_pdb': <SinglefileData: uuid: d2b817b5-9623-4be6-9f24-1e656d8d00d2 (pk: 37)>, 'remote_folder': <RemoteData: uuid: 5d340325-a797-4171-a1bc-63588eacb321 (pk: 35)>, 'retrieved': <FolderData: uuid: 6b828312-f36b-46df-a8d2-7cce539df864 (pk: 36)>}\n",
      "\n"
     ]
    }
   ],
   "source": [
    "! genericMD --code bash@localhost \\\n",
    "--command \"echo -e '0 | 0 \\n q' | gmx confrms -f1 PTH2R_opm.pdb -f2 {PTH2R}.pdb -name -one -o PTH2R_fit.pdb\" \\\n",
    "--inputs PTH2R_opm.pdb --inputs {PTH2R}.pdb \\\n",
    "--outputs PTH2R_fit.pdb"
   ]
  },
  {
   "cell_type": "markdown",
   "metadata": {},
   "source": [
    "### Building a coarse-grained system from an atomic structure"
   ]
  },
  {
   "cell_type": "markdown",
   "metadata": {},
   "source": [
    "Now that we have the correct starting structure of the receptor, we move onto coarse-graining.\n",
    "\n",
    "7. We use Martinize2 to coarse-grain the atomistic structure and produce a GROMACS topology file"
   ]
  },
  {
   "cell_type": "code",
   "execution_count": 10,
   "metadata": {},
   "outputs": [
    {
     "name": "stdout",
     "output_type": "stream",
     "text": [
      "/home/rjw41005/aiida-gromacs/examples/PTH2R_coarse-grained_files/martinize\n"
     ]
    }
   ],
   "source": [
    "%mkdir ../martinize\n",
    "%cp PTH2R_fit.pdb ../martinize\n",
    "%cd ../martinize"
   ]
  },
  {
   "cell_type": "code",
   "execution_count": 11,
   "metadata": {},
   "outputs": [
    {
     "name": "stdout",
     "output_type": "stream",
     "text": [
      "command: -f PTH2R_fit.pdb -o PTH2R_opm.top -x PTH2R_opm.cg.pdb -ff martini3001 -nt -dssp mkdssp -elastic -p backbone -maxwarn 1 -mutate HSD:HIS -mutate HSP:HIH -ignh -cys auto -scfix\n",
      "code: martinize2@localhost\n",
      "Submitted calculation: {'PTH2R_opm_top': <SinglefileData: uuid: ad9eaa79-3334-469c-99a8-5d82d30407c1 (pk: 44)>, 'PTH2R_opm_cg_pdb': <SinglefileData: uuid: e9258618-1de8-496e-b704-923ef239400a (pk: 45)>, 'molecule_0_itp': <SinglefileData: uuid: 7c9eb92b-6fb9-4712-ae7e-91548e84d71f (pk: 46)>, 'remote_folder': <RemoteData: uuid: 95661130-d70d-49a6-8dc9-a0aada0eda1a (pk: 42)>, 'retrieved': <FolderData: uuid: d93fddc7-4364-4f32-b51c-d9afbb7685b5 (pk: 43)>}\n",
      "\n"
     ]
    }
   ],
   "source": [
    "! genericMD --code martinize2@localhost --command \"-f PTH2R_fit.pdb -o PTH2R_opm.top -x PTH2R_opm.cg.pdb -ff martini3001 -nt -dssp mkdssp -elastic -p backbone -maxwarn 1 -mutate HSD:HIS -mutate HSP:HIH -ignh -cys auto -scfix\" \\\n",
    "--inputs PTH2R_fit.pdb \\\n",
    "--outputs PTH2R_opm.top --outputs PTH2R_opm.cg.pdb --outputs molecule_0.itp"
   ]
  },
  {
   "cell_type": "markdown",
   "metadata": {},
   "source": [
    "### Adding the membrane and solution around the protein with ``insane``"
   ]
  },
  {
   "cell_type": "markdown",
   "metadata": {},
   "source": [
    "8. Next, we use our custom insane python script to embed the protein into a lipid bilayer and solvate the system. Our insane script is modified from [the Melo lab](https://github.com/MeloLab/PhosphoinositideParameters/blob/main/martini3/insane.py), it has been updated to python3 and contains additional parameters for the GM3 carbohydrate. "
   ]
  },
  {
   "cell_type": "code",
   "execution_count": 12,
   "metadata": {},
   "outputs": [
    {
     "name": "stdout",
     "output_type": "stream",
     "text": [
      "/home/rjw41005/aiida-gromacs/examples/PTH2R_coarse-grained_files/insane\n"
     ]
    }
   ],
   "source": [
    "! cp PTH2R_opm.cg.pdb PTH2R_opm.top molecule_0.itp ../insane\n",
    "%cd ../insane"
   ]
  },
  {
   "cell_type": "code",
   "execution_count": 13,
   "metadata": {},
   "outputs": [
    {
     "name": "stdout",
     "output_type": "stream",
     "text": [
      "command: insane_custom.py -f PTH2R_opm.cg.pdb -o solvated.gro -p system.top -pbc rectangular -box 18,18,17 -u POPC:25 -u DOPC:25 -u POPE:8 -u DOPE:7 -u CHOL:25 -u DPG3:10 -l POPC:5 -l DOPC:5 -l POPE:20 -l DOPE:20 -l CHOL:25 -l POPS:8 -l DOPS:7 -l POP2:10 -sol W\n",
      "code: python@localhost\n",
      "Submitted calculation: {'solvated_gro': <SinglefileData: uuid: b4d419a6-1605-48fa-8b39-8b4daf8a0c86 (pk: 54)>, 'system_top': <SinglefileData: uuid: 1bd285d1-4646-4f17-aaef-bd0badea9018 (pk: 55)>, 'remote_folder': <RemoteData: uuid: 3bead5a9-15a8-4de2-b329-392a5dcebcff (pk: 52)>, 'retrieved': <FolderData: uuid: 8099e070-c873-467d-b60c-86e8bcd5d4ac (pk: 53)>}\n",
      "\n"
     ]
    }
   ],
   "source": [
    "! genericMD --code python@localhost --command \"insane_custom.py -f PTH2R_opm.cg.pdb -o solvated.gro -p system.top -pbc rectangular -box 18,18,17 -u POPC:25 -u DOPC:25 -u POPE:8 -u DOPE:7 -u CHOL:25 -u DPG3:10 -l POPC:5 -l DOPC:5 -l POPE:20 -l DOPE:20 -l CHOL:25 -l POPS:8 -l DOPS:7 -l POP2:10 -sol W\" \\\n",
    "--inputs insane_custom.py --inputs PTH2R_opm.cg.pdb \\\n",
    "--outputs solvated.gro --outputs system.top"
   ]
  },
  {
   "cell_type": "markdown",
   "metadata": {},
   "source": [
    "### Preparing the system for simulation"
   ]
  },
  {
   "cell_type": "markdown",
   "metadata": {},
   "source": [
    "9. Once the topology file is created, we need to include all the itp files containing the force field parameters used to describe interactions between beads. We use the `sed` command again to edit the `system.top` file directly on the command-line and we submit this command via `genericMD` as with the previous commands."
   ]
  },
  {
   "cell_type": "code",
   "execution_count": 14,
   "metadata": {},
   "outputs": [
    {
     "name": "stdout",
     "output_type": "stream",
     "text": [
      "command: sed -i -e \"1 s/^/#include \\\"toppar\\/martini_v3.0.0.itp\\\"\\n#include \\\"toppar\\/martini_v3.0.0_ions_v1.itp\\\"\\n#include \\\"toppar\\/martini_v3.0.0_solvents_v1.itp\\\"\\n#include \\\"toppar\\/martini_v3.0.0_phospholipids_v1.itp\\\"\\n#include \\\"martini_v3.0_sterols_v1.0.itp\\\"\\n#include \\\"POP2.itp\\\"\\n#include \\\"molecule_0.itp\\\"\\n#include \\\"gm3_final.itp\\\"\\n/\" -e \"s/Protein/molecule_0/\" -e \"s/#include \\\"martini.itp\\\"/\\n/\" system.top\n",
      "code: bash@localhost\n",
      "Submitted calculation: {'system_top': <SinglefileData: uuid: abd45803-2cf7-4e29-8b7f-e0023548d564 (pk: 61)>, 'remote_folder': <RemoteData: uuid: cfcab8da-0ec0-434e-a096-b2a536bc67f3 (pk: 59)>, 'retrieved': <FolderData: uuid: 37124dd2-b91b-491f-b218-807f21781f29 (pk: 60)>}\n",
      "\n"
     ]
    }
   ],
   "source": [
    "sed_command1='sed -i -e \"1 s/^/#include \\\\\"toppar\\/martini_v3.0.0.itp\\\\\"\\\\n#include \\\\\"toppar\\/martini_v3.0.0_ions_v1.itp\\\\\"\\\\n#include \\\\\"toppar\\/martini_v3.0.0_solvents_v1.itp\\\\\"\\\\n#include \\\\\"toppar\\/martini_v3.0.0_phospholipids_v1.itp\\\\\"\\\\n#include \\\\\"martini_v3.0_sterols_v1.0.itp\\\\\"\\\\n#include \\\\\"POP2.itp\\\\\"\\\\n#include \\\\\"molecule_0.itp\\\\\"\\\\n#include \\\\\"gm3_final.itp\\\\\"\\\\n/\" '\\\n",
    "'-e \"s/Protein/molecule_0/\" '\\\n",
    "'-e \"s/#include \\\\\"martini.itp\\\\\"/\\\\n/\" system.top'\n",
    "! genericMD --code bash@localhost \\\n",
    "--command '{sed_command1}' \\\n",
    "--inputs system.top \\\n",
    "--outputs system.top"
   ]
  },
  {
   "cell_type": "markdown",
   "metadata": {},
   "source": [
    "10. We also need to edit the `molecule_0.itp` file generated from the Martinize2 step to include positional restraints on the coarse-grained beads."
   ]
  },
  {
   "cell_type": "code",
   "execution_count": 15,
   "metadata": {},
   "outputs": [
    {
     "name": "stdout",
     "output_type": "stream",
     "text": [
      "command: sed -i -e \"s/1000 1000 1000/POSRES_FC    POSRES_FC    POSRES_FC/g\" -e \"s/#ifdef POSRES/#ifdef POSRES\\n#ifndef POSRES_FC\\n#define POSRES_FC 1000.00\\n#endif/\" molecule_0.itp\n",
      "code: bash@localhost\n",
      "Submitted calculation: {'molecule_0_itp': <SinglefileData: uuid: bf27f8c6-1bc5-4b03-ad4f-92b28c14a32e (pk: 67)>, 'remote_folder': <RemoteData: uuid: 6313eec3-e7d8-42a1-b6b2-73e8a2c5a729 (pk: 65)>, 'retrieved': <FolderData: uuid: 32c95cb6-efcc-4c6b-9ef9-8c4e8cd84601 (pk: 66)>}\n",
      "\n"
     ]
    }
   ],
   "source": [
    "sed_command2='sed -i -e \"s/1000 1000 1000/POSRES_FC    POSRES_FC    POSRES_FC/g\" '\\\n",
    "'-e \"s/#ifdef POSRES/#ifdef POSRES\\\\n#ifndef POSRES_FC\\\\n#define POSRES_FC 1000.00\\\\n#endif/\" '\\\n",
    "'molecule_0.itp'\n",
    "! genericMD --code bash@localhost \\\n",
    "--command '{sed_command2}' \\\n",
    "--inputs molecule_0.itp \\\n",
    "--outputs molecule_0.itp"
   ]
  },
  {
   "cell_type": "markdown",
   "metadata": {},
   "source": [
    "11. Ions need to be added to neutralise the system and we can construct the GROMACS `.tpr` binary file containing the system configuration, topology and input parameters for the next step. We use the `gmx_grompp` command (note the underscore), which is wrapper command to run `gmx` via aiida-gromacs. We have included the most popular `gmx` commands in aiida-gromacs, the list of these are provided [here](https://aiida-gromacs.readthedocs.io/en/latest/user_guide/cli_interface.html)."
   ]
  },
  {
   "cell_type": "code",
   "execution_count": 16,
   "metadata": {},
   "outputs": [
    {
     "name": "stdout",
     "output_type": "stream",
     "text": [
      "/home/rjw41005/aiida-gromacs/examples/PTH2R_coarse-grained_files/gromacs\n"
     ]
    }
   ],
   "source": [
    "! cp molecule_0.itp solvated.gro system.top ../gromacs\n",
    "%cd ../gromacs"
   ]
  },
  {
   "cell_type": "code",
   "execution_count": 17,
   "metadata": {},
   "outputs": [
    {
     "name": "stdout",
     "output_type": "stream",
     "text": []
    }
   ],
   "source": [
    "! gmx_grompp -f ions.mdp -c solvated.gro -p system.top -o ions.tpr"
   ]
  },
  {
   "cell_type": "markdown",
   "metadata": {},
   "source": [
    "12. The `gmx_genion` command is then used to add the ions to reach a particular salt concentration and neutralise the system. As the `genion` command requires interactive user inputs, we can provide these in as an additional text file via the `--instructions` argument. Each interactive response can be provided on a new line in the input text file. In this example, we replace solvent `W` with ions"
   ]
  },
  {
   "cell_type": "code",
   "execution_count": 18,
   "metadata": {},
   "outputs": [
    {
     "name": "stdout",
     "output_type": "stream",
     "text": []
    }
   ],
   "source": [
    "! gmx_genion -s ions.tpr -o solvated_ions.gro -p system.top -pname NA -nname CL -conc 0.15 -neutral true --instructions inputs_genion.txt"
   ]
  },
  {
   "cell_type": "markdown",
   "metadata": {},
   "source": [
    "13. Lastly, we will use a `gmx_make_ndx` to create new index groups for the membrane and solute consituents"
   ]
  },
  {
   "cell_type": "code",
   "execution_count": 19,
   "metadata": {},
   "outputs": [
    {
     "name": "stdout",
     "output_type": "stream",
     "text": []
    }
   ],
   "source": [
    "! gmx_make_ndx -f solvated_ions.gro -o index.ndx --instructions inputs_index.txt"
   ]
  },
  {
   "cell_type": "markdown",
   "metadata": {},
   "source": [
    "### Saving and viewing all the steps used to build the system"
   ]
  },
  {
   "cell_type": "markdown",
   "metadata": {},
   "source": [
    "We have built our starting configuration of an embedded protein in a lipid bilayer, hurray!"
   ]
  },
  {
   "cell_type": "markdown",
   "metadata": {},
   "source": [
    "We can check again that all our commands ran successfully using `verdi`:"
   ]
  },
  {
   "cell_type": "code",
   "execution_count": 21,
   "metadata": {},
   "outputs": [
    {
     "name": "stdout",
     "output_type": "stream",
     "text": [
      "\u001b[22m  PK  Created    Process label        Process State    Process status\n",
      "----  ---------  -------------------  ---------------  ----------------\n",
      "   4  15m ago    GenericCalculation   ⏹ Finished [0]\n",
      "  10  14m ago    GenericCalculation   ⏹ Finished [0]\n",
      "  16  14m ago    GenericCalculation   ⏹ Finished [0]\n",
      "  22  14m ago    GenericCalculation   ⏹ Finished [0]\n",
      "  28  13m ago    GenericCalculation   ⏹ Finished [0]\n",
      "  34  12m ago    GenericCalculation   ⏹ Finished [0]\n",
      "  41  11m ago    GenericCalculation   ⏹ Finished [0]\n",
      "  51  10m ago    GenericCalculation   ⏹ Finished [0]\n",
      "  58  8m ago     GenericCalculation   ⏹ Finished [0]\n",
      "  64  8m ago     GenericCalculation   ⏹ Finished [0]\n",
      "  77  2m ago     GromppCalculation    ⏹ Finished [0]\n",
      "  85  1m ago     GenionCalculation    ⏹ Finished [0]\n",
      "  94  1m ago     Make_ndxCalculation  ⏹ Finished [0]\u001b[0m\n",
      "\u001b[22m\n",
      "Total results: 13\n",
      "\u001b[0m\n",
      "\u001b[34m\u001b[1mReport\u001b[0m: \u001b[22mlast time an entry changed state: 1m ago (at 11:19:52 on 2024-04-24)\u001b[0m\n",
      "\u001b[34m\u001b[1mReport\u001b[0m: \u001b[22mChecking daemon load... \u001b[0m\u001b[32m\u001b[1mOK\u001b[0m\n",
      "\u001b[34m\u001b[1mReport\u001b[0m: \u001b[22mUsing 0% of the available daemon worker slots.\u001b[0m\n"
     ]
    }
   ],
   "source": [
    "! verdi process list -a"
   ]
  },
  {
   "cell_type": "markdown",
   "metadata": {},
   "source": [
    "To view all the currently run commands in each process, the input files used in each command and the output files produced from each command, we can use:"
   ]
  },
  {
   "cell_type": "code",
   "execution_count": 20,
   "metadata": {},
   "outputs": [
    {
     "name": "stdout",
     "output_type": "stream",
     "text": [
      "\n",
      "Step 1.\n",
      "\tcommand: curl https://gpcrdb.org/structure/homology_models/pth2r_human_active_full/download_pdb -o ClassB1_pth2r_human_Active_AF_2022-08-16_GPCRdb.zip \n",
      "\texecutable: bash\n",
      "\tinput files: \n",
      "\t\t\n",
      "\toutput files: \n",
      "\t\tClassB1_pth2r_human_Active_AF_2022-08-16_GPCRdb.zip\n",
      "\n",
      "Step 2.\n",
      "\tcommand: unzip ClassB1_pth2r_human_Active_AF_2022-08-16_GPCRdb.zip\n",
      "\texecutable: bash\n",
      "\tinput files: \n",
      "\t\tClassB1_pth2r_human_Active_AF_2022-08-16_GPCRdb.zip <-- from Step 1.\n",
      "\toutput files: \n",
      "\t\tClassB1_pth2r_human_Active_AF_2022-08-16_GPCRdb.pdb\n",
      "\n",
      "Step 3.\n",
      "\tcommand: sed -i -e '1,217d;3502,4387d' ClassB1_pth2r_human_Active_AF_2022-08-16_GPCRdb.pdb\n",
      "\texecutable: bash\n",
      "\tinput files: \n",
      "\t\tClassB1_pth2r_human_Active_AF_2022-08-16_GPCRdb.pdb <-- from Step 2.\n",
      "\toutput files: \n",
      "\t\tClassB1_pth2r_human_Active_AF_2022-08-16_GPCRdb.pdb\n",
      "\n",
      "Step 4.\n",
      "\tcommand: curl https://opm-assets.storage.googleapis.com/pdb/7f16.pdb -o PTH2R_opm.pdb \n",
      "\texecutable: bash\n",
      "\tinput files: \n",
      "\t\t\n",
      "\toutput files: \n",
      "\t\tPTH2R_opm.pdb\n",
      "\n",
      "Step 5.\n",
      "\tcommand: sed -i -e '2,761d;3835,13708d' PTH2R_opm.pdb\n",
      "\texecutable: bash\n",
      "\tinput files: \n",
      "\t\tPTH2R_opm.pdb <-- from Step 4.\n",
      "\toutput files: \n",
      "\t\tPTH2R_opm.pdb\n",
      "\n",
      "Step 6.\n",
      "\tcommand: echo -e '0 | 0 \\n q' | gmx confrms -f1 PTH2R_opm.pdb -f2 ClassB1_pth2r_human_Active_AF_2022-08-16_GPCRdb.pdb -name -one -o PTH2R_fit.pdb\n",
      "\texecutable: bash\n",
      "\tinput files: \n",
      "\t\tPTH2R_opm.pdb <-- from Step 5.\n",
      "\t\tClassB1_pth2r_human_Active_AF_2022-08-16_GPCRdb.pdb <-- from Step 3.\n",
      "\toutput files: \n",
      "\t\tPTH2R_fit.pdb\n",
      "\n",
      "Step 7.\n",
      "\tcommand: -f PTH2R_fit.pdb -o PTH2R_opm.top -x PTH2R_opm.cg.pdb -ff martini3001 -nt -dssp mkdssp -elastic -p backbone -maxwarn 1 -mutate HSD:HIS -mutate HSP:HIH -ignh -cys auto -scfix\n",
      "\texecutable: martinize2\n",
      "\tinput files: \n",
      "\t\tPTH2R_fit.pdb <-- from Step 6.\n",
      "\toutput files: \n",
      "\t\tPTH2R_opm.top\n",
      "\t\tPTH2R_opm.cg.pdb\n",
      "\t\tmolecule_0.itp\n",
      "\n",
      "Step 8.\n",
      "\tcommand: insane_custom.py -f PTH2R_opm.cg.pdb -o solvated.gro -p system.top -pbc rectangular -box 18,18,17 -u POPC:25 -u DOPC:25 -u POPE:8 -u DOPE:7 -u CHOL:25 -u DPG3:10 -l POPC:5 -l DOPC:5 -l POPE:20 -l DOPE:20 -l CHOL:25 -l POPS:8 -l DOPS:7 -l POP2:10 -sol W\n",
      "\texecutable: python\n",
      "\tinput files: \n",
      "\t\tinsane_custom.py\n",
      "\t\tPTH2R_opm.cg.pdb <-- from Step 7.\n",
      "\toutput files: \n",
      "\t\tsolvated.gro\n",
      "\t\tsystem.top\n",
      "\n",
      "Step 9.\n",
      "\tcommand: sed -i -e \"1 s/^/#include \\\"toppar\\/martini_v3.0.0.itp\\\"\\n#include \\\"toppar\\/martini_v3.0.0_ions_v1.itp\\\"\\n#include \\\"toppar\\/martini_v3.0.0_solvents_v1.itp\\\"\\n#include \\\"toppar\\/martini_v3.0.0_phospholipids_v1.itp\\\"\\n#include \\\"martini_v3.0_sterols_v1.0.itp\\\"\\n#include \\\"POP2.itp\\\"\\n#include \\\"molecule_0.itp\\\"\\n#include \\\"gm3_final.itp\\\"\\n/\" -e \"s/Protein/molecule_0/\" -e \"s/#include \\\"martini.itp\\\"/\\n/\" system.top\n",
      "\texecutable: bash\n",
      "\tinput files: \n",
      "\t\tsystem.top <-- from Step 8.\n",
      "\toutput files: \n",
      "\t\tsystem.top\n",
      "\n",
      "Step 10.\n",
      "\tcommand: sed -i -e \"s/1000 1000 1000/POSRES_FC    POSRES_FC    POSRES_FC/g\" -e \"s/#ifdef POSRES/#ifdef POSRES\\n#ifndef POSRES_FC\\n#define POSRES_FC 1000.00\\n#endif/\" molecule_0.itp\n",
      "\texecutable: bash\n",
      "\tinput files: \n",
      "\t\tmolecule_0.itp <-- from Step 7.\n",
      "\toutput files: \n",
      "\t\tmolecule_0.itp\n",
      "\n",
      "Step 11.\n",
      "\tcommand: gmx grompp -f ions.mdp -c solvated.gro -p system.top -o ions.tpr \n",
      "\texecutable: gmx\n",
      "\tinput files: \n",
      "\t\tions.mdp\n",
      "\t\tsolvated.gro <-- from Step 8.\n",
      "\t\tsystem.top <-- from Step 9.\n",
      "\t\tmolecule_0.itp\n",
      "\t\tmartini_v3.0_sterols_v1.0.itp\n",
      "\t\tgm3_final.itp\n",
      "\t\tPOP2.itp\n",
      "\toutput files: \n",
      "\t\tgrompp.out\n",
      "\t\tions.tpr\n",
      "\n",
      "Step 12.\n",
      "\tcommand: gmx genion -s ions.tpr -o solvated_ions.gro -p system.top -pname NA -nname CL -conc 0.15 -neutral true -instructions inputs_genion.txt \n",
      "\texecutable: gmx\n",
      "\tinput files: \n",
      "\t\tinputs_genion.txt\n",
      "\t\tions.tpr <-- from Step 11.\n",
      "\t\tsystem.top <-- from Step 9.\n",
      "\toutput files: \n",
      "\t\tgenion.out\n",
      "\t\tsolvated_ions.gro\n",
      "\t\tsystem.top\n",
      "\n",
      "Step 13.\n",
      "\tcommand: gmx make_ndx -f solvated_ions.gro -o index.ndx -instructions inputs_index.txt \n",
      "\texecutable: gmx\n",
      "\tinput files: \n",
      "\t\tsolvated_ions.gro <-- from Step 12.\n",
      "\t\tinputs_index.txt\n",
      "\toutput files: \n",
      "\t\tmake_ndx.out\n",
      "\t\tindex.ndx\n"
     ]
    }
   ],
   "source": [
    "! verdi data provenance show"
   ]
  },
  {
   "cell_type": "markdown",
   "metadata": {},
   "source": [
    "We can also visualise the provenance graph of these processes, which shows how inputs and outputs of each process are connected to other processes. To save the provenance graph of all finished processes, replace the primary key value <PK> in the command below with that of the most recently run process."
   ]
  },
  {
   "cell_type": "code",
   "execution_count": null,
   "metadata": {},
   "outputs": [],
   "source": [
    "! verdi node graph generate <PK>"
   ]
  },
  {
   "cell_type": "markdown",
   "metadata": {},
   "source": [
    "<center><img src=\"PTH2R_coarse-grained_files/images/94.dot.png\" alt=\"Provenance graph for this tutorial\" width=\"60%\" /></center>"
   ]
  },
  {
   "cell_type": "markdown",
   "metadata": {},
   "source": [
    "At the end of a project, the AiiDA database can be saved as an AiiDA archive file (sqlite/zip format) for long term storage and to share your data and provenance with others. This archive file contains all the input and output files for each process, as well as how they are connected."
   ]
  },
  {
   "cell_type": "code",
   "execution_count": 24,
   "metadata": {},
   "outputs": [
    {
     "name": "stdout",
     "output_type": "stream",
     "text": [
      "\u001b[34m\u001b[1mReport\u001b[0m: \n",
      "Archive Parameters\n",
      "--------------------  -------------\n",
      "Path                  archive.aiida\n",
      "Version               main_0001\n",
      "Compression           6\n",
      "\n",
      "Inclusion rules\n",
      "----------------------------  -----\n",
      "Computers/Nodes/Groups/Users  All\n",
      "Computer Authinfos            False\n",
      "Node Comments                 True\n",
      "Node Logs                     True\n",
      "\n",
      "\u001b[34m\u001b[1mReport\u001b[0m: Validating Nodes                                           \n",
      "\u001b[34m\u001b[1mReport\u001b[0m: Creating archive with:\n",
      "---------  ---\n",
      "users        1\n",
      "computers    1\n",
      "nodes       98\n",
      "links      108\n",
      "---------  ---\n",
      "\u001b[34m\u001b[1mReport\u001b[0m: Finalizing archive creation...                             \n",
      "\u001b[34m\u001b[1mReport\u001b[0m: Archive created successfully\n",
      "\u001b[32m\u001b[1mSuccess: \u001b[0m\u001b[22mwrote the export archive file to archive.aiida\u001b[0m\n"
     ]
    }
   ],
   "source": [
    "! verdi archive create --all archive.aiida"
   ]
  },
  {
   "cell_type": "markdown",
   "metadata": {},
   "source": [
    "In the next tutorial, steps for preparing this system for a production simulation are covered."
   ]
  }
 ],
 "metadata": {
  "kernelspec": {
   "display_name": "aiida-2.4.0",
   "language": "python",
   "name": "python3"
  },
  "language_info": {
   "codemirror_mode": {
    "name": "ipython",
    "version": 3
   },
   "file_extension": ".py",
   "mimetype": "text/x-python",
   "name": "python",
   "nbconvert_exporter": "python",
   "pygments_lexer": "ipython3",
   "version": "3.1.-1"
  }
 },
 "nbformat": 4,
 "nbformat_minor": 2
}
