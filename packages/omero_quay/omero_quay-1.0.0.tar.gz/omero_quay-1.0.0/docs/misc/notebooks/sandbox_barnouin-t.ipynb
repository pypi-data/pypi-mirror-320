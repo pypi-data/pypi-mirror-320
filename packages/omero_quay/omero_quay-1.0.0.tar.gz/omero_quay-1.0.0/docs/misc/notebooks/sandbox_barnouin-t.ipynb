{
 "cells": [
  {
   "cell_type": "code",
   "execution_count": 1,
   "id": "b1d40ea7-c4c2-4557-afca-dd2314ab084c",
   "metadata": {},
   "outputs": [],
   "source": [
    "\n",
    "%load_ext autoreload\n",
    "%autoreload 2\n",
    "\n",
    "import logging\n",
    "import os\n",
    "import sys\n",
    "\n",
    "from pathlib import Path\n",
    "\n",
    "import asyncio\n",
    "\n",
    "\n",
    "from irods.session import iRODSSession\n",
    "\n",
    "\n",
    "os.environ[\"QUAY_CONF\"] = \"/home/tbarnouin/gitrepos/omero-quay/tests/containers/quay_docker_host.yml\"\n",
    "\n",
    "from omero_quay.clients.excel import excel_request\n",
    "from omero_quay.core.config import get_conf\n",
    "from omero_quay.managers.irods import put_directory\n",
    "from omero_quay.managers.omero import OmeroManager\n",
    "\n",
    "from omero.rtypes import rdouble, rint, rstring\n",
    "from omero_quay.core.connect import (\n",
    "    omero_admin_cli,\n",
    "    omero_conn,\n",
    "    irods_sudo_conn,\n",
    ")\n",
    "\n",
    "from omero_quay.users.manage import from_manifest\n",
    "from omero_quay.users import OmeroUser\n",
    "\n",
    "\n",
    "from linkml_runtime.loaders import yaml_loader, json_loader\n",
    "from linkml_runtime.dumpers import yaml_dumper, json_dumper\n",
    "\n",
    "from omero_quay.core.manifest import Manifest\n",
    "\n",
    "logging.basicConfig(\n",
    "    format=\"%(asctime)s | %(levelname)s : %(message)s\",\n",
    "    level=logging.INFO,\n",
    "    stream=sys.stdout,\n",
    ")\n",
    "log = logging.getLogger(\"omero_quay\")\n",
    "log.setLevel(\"DEBUG\")\n",
    "\n",
    "from omero_quay.parsers.excel import parse_xlsx, XlsxParser\n",
    "\n",
    "from omero_quay.managers.irods import iRODSManager\n",
    "\n",
    "base_path = Path(os.environ[\"HOME\"]) / \"gitrepos/omero-quay\"\n",
    "path = base_path / \"./tests/containers/QuayTestData/data/S-JCBD-200902093/JCB.xlsx\"\n",
    "\n",
    "example = json_loader.load(\"../example_manifest.json\", target_class=Manifest)\n"
   ]
  },
  {
   "cell_type": "code",
   "execution_count": null,
   "id": "4140b2ea-4016-4833-959c-6d2112ed980c",
   "metadata": {},
   "outputs": [],
   "source": []
  },
  {
   "cell_type": "code",
   "execution_count": 2,
   "id": "a7d93b4a-0408-47f4-91ab-adb918bd1304",
   "metadata": {},
   "outputs": [
    {
     "name": "stderr",
     "output_type": "stream",
     "text": [
      "INFO:omero_quay.core.config:Using defaults from /home/tbarnouin/gitrepos/omero-quay/src/omero_quay/core/quay.yml\n",
      "INFO:omero_quay.core.config:Using configuration from /home/tbarnouin/gitrepos/omero-quay/tests/containers/quay_docker_host.yml\n",
      "INFO:omero_quay.core.interface:using interface sub class XlsxParser\n",
      "INFO:omero_quay.core.interface:Interface XlsxParser created an empty manifest\n",
      "DEBUG:man:d252a372-ad94-11ef-9d9a-d0ad08e91db0:Inserted new manifest man:d252a372-ad94-11ef-9d9a-d0ad08e91db0 in DB\n",
      "INFO:man:d252a372-ad94-11ef-9d9a-d0ad08e91db0:No state found for manager XlsxParser with host pp-irs1-3503493 and scheme xlsx\n",
      "INFO:man:d252a372-ad94-11ef-9d9a-d0ad08e91db0:available states : \n",
      "INFO:man:d252a372-ad94-11ef-9d9a-d0ad08e91db0:manager XlsxParser state set to None\n"
     ]
    }
   ],
   "source": [
    "parser = XlsxParser(get_conf(), path)"
   ]
  },
  {
   "cell_type": "code",
   "execution_count": 8,
   "id": "cdd36276-9c52-4c5a-8f21-dde987f7f907",
   "metadata": {},
   "outputs": [
    {
     "data": {
      "text/plain": [
       "True"
      ]
     },
     "execution_count": 8,
     "metadata": {},
     "output_type": "execute_result"
    }
   ],
   "source": [
    "parser.has_db"
   ]
  },
  {
   "cell_type": "code",
   "execution_count": 9,
   "id": "f6b1f9fe-c921-4ebc-b8ac-7c5a0750f6a8",
   "metadata": {},
   "outputs": [
    {
     "name": "stderr",
     "output_type": "stream",
     "text": [
      "INFO:omero_quay.core.interface:Started interface instance XlsxParser\n",
      "INFO:man:d252a372-ad94-11ef-9d9a-d0ad08e91db0:Matched state with host pp-irs1-3503493 and scheme xlsx with manager XlsxParser\n",
      "INFO:man:d252a372-ad94-11ef-9d9a-d0ad08e91db0:manager XlsxParser state set to started\n",
      "INFO:man:d252a372-ad94-11ef-9d9a-d0ad08e91db0:Loading excel file /home/tbarnouin/gitrepos/omero-quay/tests/containers/QuayTestData/data/S-JCBD-200902093/JCB.xlsx\n",
      "INFO:man:d252a372-ad94-11ef-9d9a-d0ad08e91db0:Using SAMBA path\n",
      "INFO:man:d252a372-ad94-11ef-9d9a-d0ad08e91db0:Matched state with host pp-irs1-3503493 and scheme xlsx with manager XlsxParser\n",
      "INFO:man:d252a372-ad94-11ef-9d9a-d0ad08e91db0:manager XlsxParser state set to checked\n",
      "DEBUG:man:d252a372-ad94-11ef-9d9a-d0ad08e91db0:Updated manifest man:d252a372-ad94-11ef-9d9a-d0ad08e91db0 in DB\n",
      "INFO:omero_quay.core.interface:Exiting ---\n",
      "         XlsxParser managing manifest man:d252a372-ad94-11ef-9d9a-d0ad08e91db0 with\n",
      "\n",
      "         - 2 investigations\n",
      "         - 12 studies\n",
      "         - 20 assays\n",
      "         - 0 image\n",
      "         - 108 annotations\n",
      "\n",
      "        Current status:  checked\n",
      "         \n"
     ]
    }
   ],
   "source": [
    "with parser:\n",
    "    parser.parse()"
   ]
  },
  {
   "cell_type": "code",
   "execution_count": 10,
   "id": "c2ef14fc-9031-4dca-bb64-3b7cd39dfc29",
   "metadata": {},
   "outputs": [
    {
     "data": {
      "text/plain": [
       "['a', 'b', 'c', 'd']"
      ]
     },
     "execution_count": 10,
     "metadata": {},
     "output_type": "execute_result"
    }
   ],
   "source": [
    "list('abcd')"
   ]
  },
  {
   "cell_type": "code",
   "execution_count": 11,
   "id": "bffcfee7-f147-44fd-a1ac-7d08e8d57b7c",
   "metadata": {},
   "outputs": [
    {
     "ename": "NameError",
     "evalue": "name 'manager' is not defined",
     "output_type": "error",
     "traceback": [
      "\u001b[0;31m---------------------------------------------------------------------------\u001b[0m",
      "\u001b[0;31mNameError\u001b[0m                                 Traceback (most recent call last)",
      "Cell \u001b[0;32mIn[11], line 1\u001b[0m\n\u001b[0;32m----> 1\u001b[0m \u001b[43mmanager\u001b[49m\u001b[38;5;241m.\u001b[39mlog\u001b[38;5;241m.\u001b[39mhandlers\n",
      "\u001b[0;31mNameError\u001b[0m: name 'manager' is not defined"
     ]
    }
   ],
   "source": [
    "manager.log.handlers"
   ]
  },
  {
   "cell_type": "code",
   "execution_count": 12,
   "id": "30aa0e03-d181-4fae-982e-ca9b40135c95",
   "metadata": {},
   "outputs": [
    {
     "data": {
      "text/plain": [
       "<Logger man:d252a372-ad94-11ef-9d9a-d0ad08e91db0 (DEBUG)>"
      ]
     },
     "execution_count": 12,
     "metadata": {},
     "output_type": "execute_result"
    }
   ],
   "source": [
    "parser.log"
   ]
  },
  {
   "cell_type": "code",
   "execution_count": 13,
   "id": "1d5148f8-488a-401b-b8dd-d3817aa47d29",
   "metadata": {},
   "outputs": [
    {
     "name": "stderr",
     "output_type": "stream",
     "text": [
      "INFO:omero_quay.core.config:Using defaults from /home/tbarnouin/gitrepos/omero-quay/src/omero_quay/core/quay.yml\n",
      "INFO:omero_quay.core.config:Using configuration from /home/tbarnouin/gitrepos/omero-quay/tests/containers/quay_docker_host.yml\n",
      "INFO:omero_quay.core.interface:using interface sub class OmeroManager\n",
      "DEBUG:man:d252a372-ad94-11ef-9d9a-d0ad08e91db0:Updated manifest man:d252a372-ad94-11ef-9d9a-d0ad08e91db0 in DB\n",
      "INFO:man:d252a372-ad94-11ef-9d9a-d0ad08e91db0:No state found for manager OmeroManager with host localhost and scheme omero\n",
      "INFO:man:d252a372-ad94-11ef-9d9a-d0ad08e91db0:available states : host: pp-irs1-3503493, scheme: xlsx, status, checked\n",
      "INFO:man:d252a372-ad94-11ef-9d9a-d0ad08e91db0:manager OmeroManager state set to None\n",
      "INFO:man:d252a372-ad94-11ef-9d9a-d0ad08e91db0:Treating manifest with manager facility0\n"
     ]
    }
   ],
   "source": [
    "\n",
    "manager = OmeroManager(get_conf(), parser.manifest)"
   ]
  },
  {
   "cell_type": "code",
   "execution_count": 14,
   "id": "befccddb-a0e4-44ab-b525-59817fb3e2b1",
   "metadata": {},
   "outputs": [
    {
     "data": {
      "text/plain": [
       "True"
      ]
     },
     "execution_count": 14,
     "metadata": {},
     "output_type": "execute_result"
    }
   ],
   "source": [
    "manager.has_db\n"
   ]
  },
  {
   "cell_type": "code",
   "execution_count": 15,
   "id": "8eed2d33-a107-4e36-9cd8-0261fea93bbd",
   "metadata": {},
   "outputs": [
    {
     "name": "stderr",
     "output_type": "stream",
     "text": [
      "INFO:omero_quay.core.interface:Started interface instance OmeroManager\n",
      "INFO:man:d252a372-ad94-11ef-9d9a-d0ad08e91db0:Matched state with host localhost and scheme omero with manager OmeroManager\n",
      "INFO:man:d252a372-ad94-11ef-9d9a-d0ad08e91db0:manager OmeroManager state set to started\n",
      "INFO:man:d252a372-ad94-11ef-9d9a-d0ad08e91db0:Matched state with host localhost and scheme omero with manager OmeroManager\n",
      "INFO:man:d252a372-ad94-11ef-9d9a-d0ad08e91db0:manager OmeroManager state set to changed\n",
      "INFO:man:d252a372-ad94-11ef-9d9a-d0ad08e91db0:Resetting irods state after leaving omero manager\n",
      "DEBUG:man:d252a372-ad94-11ef-9d9a-d0ad08e91db0:Updated manifest man:d252a372-ad94-11ef-9d9a-d0ad08e91db0 in DB\n",
      "INFO:omero_quay.core.interface:Exiting ---\n",
      "         OmeroManager managing manifest man:d252a372-ad94-11ef-9d9a-d0ad08e91db0 with\n",
      "\n",
      "         - 2 investigations\n",
      "         - 12 studies\n",
      "         - 20 assays\n",
      "         - 0 image\n",
      "         - 108 annotations\n",
      "\n",
      "        Current status:  changed\n",
      "         \n"
     ]
    }
   ],
   "source": [
    "with manager:\n",
    "    manager.crud()"
   ]
  },
  {
   "cell_type": "code",
   "execution_count": 16,
   "id": "033afce4-ad7a-44f1-b743-38a2efc04df6",
   "metadata": {},
   "outputs": [],
   "source": [
    "import pandas as pd"
   ]
  },
  {
   "cell_type": "code",
   "execution_count": 17,
   "id": "cda4b8d4-dd82-43a7-9732-c3536c025744",
   "metadata": {},
   "outputs": [
    {
     "name": "stderr",
     "output_type": "stream",
     "text": [
      "INFO:omero_quay.core.interface:Started interface instance OmeroManager\n",
      "INFO:man:d252a372-ad94-11ef-9d9a-d0ad08e91db0:Matched state with host localhost and scheme omero with manager OmeroManager\n",
      "INFO:man:d252a372-ad94-11ef-9d9a-d0ad08e91db0:manager OmeroManager state set to started\n",
      "INFO:man:d252a372-ad94-11ef-9d9a-d0ad08e91db0:Resetting irods state after leaving omero manager\n",
      "DEBUG:man:d252a372-ad94-11ef-9d9a-d0ad08e91db0:Updated manifest man:d252a372-ad94-11ef-9d9a-d0ad08e91db0 in DB\n",
      "INFO:omero_quay.core.interface:Exiting ---\n",
      "         OmeroManager managing manifest man:d252a372-ad94-11ef-9d9a-d0ad08e91db0 with\n",
      "\n",
      "         - 2 investigations\n",
      "         - 12 studies\n",
      "         - 20 assays\n",
      "         - 0 image\n",
      "         - 108 annotations\n",
      "\n",
      "        Current status:  started\n",
      "         \n"
     ]
    }
   ],
   "source": [
    "with manager:\n",
    "    mans = manager.manifests.find().limit(10)"
   ]
  },
  {
   "cell_type": "code",
   "execution_count": 18,
   "id": "bb146edc-288b-450b-a29a-3c11071e052d",
   "metadata": {
    "scrolled": true
   },
   "outputs": [],
   "source": [
    "mans = list(mans)"
   ]
  },
  {
   "cell_type": "code",
   "execution_count": 19,
   "id": "a8c349b1-1e0c-4ad4-a797-25b6084e8f2b",
   "metadata": {},
   "outputs": [
    {
     "data": {
      "text/plain": [
       "2"
      ]
     },
     "execution_count": 19,
     "metadata": {},
     "output_type": "execute_result"
    }
   ],
   "source": [
    "len(mans)"
   ]
  },
  {
   "cell_type": "code",
   "execution_count": null,
   "id": "dfcaf9e9-67f9-4708-a776-0e7c619c2d8a",
   "metadata": {},
   "outputs": [],
   "source": []
  },
  {
   "cell_type": "code",
   "execution_count": 20,
   "id": "2d8e2d7b-c826-4639-8ebb-9b807a66f157",
   "metadata": {},
   "outputs": [
    {
     "name": "stderr",
     "output_type": "stream",
     "text": [
      "INFO:omero_quay.core.interface:Started interface instance OmeroManager\n",
      "INFO:man:d252a372-ad94-11ef-9d9a-d0ad08e91db0:Matched state with host localhost and scheme omero with manager OmeroManager\n",
      "INFO:man:d252a372-ad94-11ef-9d9a-d0ad08e91db0:manager OmeroManager state set to started\n",
      "INFO:omero_quay.managers.manager:Importing from smb:///172.18.253.32/espace_perso/S-JCBD-200902093/Figure_1/Figure_1_A\n",
      "ERROR:man:d252a372-ad94-11ef-9d9a-d0ad08e91db0:No file path found for id='ass:d2b4bd0a-ad94-11ef-9d9a-d0ad08e91db0' name='rad21 K1 control' description='ndc80-gfp cdc11-cfp' creation_date=None quay_annotations=['ann:d2b52f4c-ad94-11ef-9d9a-d0ad08e91db0', 'ann:d2b53622-ad94-11ef-9d9a-d0ad08e91db0', 'ann:d2b5385c-ad94-11ef-9d9a-d0ad08e91db0'] ome_id=None irods_id=None delete=False states=[] owner='user0' urls=[] parents=['stu:d2b4437a-ad94-11ef-9d9a-d0ad08e91db0'] datalinks=[] importlink=DataLink(id='imp:d2b4c732-ad94-11ef-9d9a-d0ad08e91db0', name=None, description=None, creation_date=None, quay_annotations=[], ome_id=None, irods_id=None, delete=False, states=[], owner='facility0', srce_url='smb:///172.18.253.32/espace_perso/S-JCBD-200902093/Figure_1/Figure_1_A', trgt_url=None) children=[] images=[]\n",
      "INFO:man:d252a372-ad94-11ef-9d9a-d0ad08e91db0:Preparing data import from None for user facility0\n",
      "ERROR:man:d252a372-ad94-11ef-9d9a-d0ad08e91db0:wrong path somehow, None, urls: []\n",
      "INFO:man:d252a372-ad94-11ef-9d9a-d0ad08e91db0:Resetting irods state after leaving omero manager\n",
      "ERROR:man:d252a372-ad94-11ef-9d9a-d0ad08e91db0:Exception: \n",
      "Traceback (most recent call last):\n",
      "  File \"/tmp/ipykernel_498395/2001239496.py\", line 2, in <module>\n",
      "    manager.parse()\n",
      "  File \"/home/tbarnouin/gitrepos/omero-quay/src/omero_quay/managers/manager.py\", line 53, in parse\n",
      "    self._import_from(isaobject)\n",
      "  File \"/home/tbarnouin/gitrepos/omero-quay/src/omero_quay/managers/omero.py\", line 156, in _import_from\n",
      "    ome = self._get_ome(isaobject)\n",
      "  File \"/home/tbarnouin/gitrepos/omero-quay/src/omero_quay/managers/omero.py\", line 173, in _get_ome\n",
      "    raise e\n",
      "  File \"/home/tbarnouin/gitrepos/omero-quay/src/omero_quay/managers/omero.py\", line 169, in _get_ome\n",
      "    ome_xml = Path(path) / \"ome.xml\"\n",
      "  File \"/home/tbarnouin/micromamba/envs/quay/lib/python3.10/pathlib.py\", line 960, in __new__\n",
      "    self = cls._from_parts(args)\n",
      "  File \"/home/tbarnouin/micromamba/envs/quay/lib/python3.10/pathlib.py\", line 594, in _from_parts\n",
      "    drv, root, parts = self._parse_args(args)\n",
      "  File \"/home/tbarnouin/micromamba/envs/quay/lib/python3.10/pathlib.py\", line 578, in _parse_args\n",
      "    a = os.fspath(a)\n",
      "TypeError: expected str, bytes or os.PathLike object, not NoneType\n",
      "INFO:man:d252a372-ad94-11ef-9d9a-d0ad08e91db0:Matched state with host localhost and scheme omero with manager OmeroManager\n",
      "INFO:man:d252a372-ad94-11ef-9d9a-d0ad08e91db0:manager OmeroManager state set to errored\n",
      "DEBUG:man:d252a372-ad94-11ef-9d9a-d0ad08e91db0:Updated manifest man:d252a372-ad94-11ef-9d9a-d0ad08e91db0 in DB\n",
      "INFO:omero_quay.core.interface:Exiting ---\n",
      "         OmeroManager managing manifest man:d252a372-ad94-11ef-9d9a-d0ad08e91db0 with\n",
      "\n",
      "         - 2 investigations\n",
      "         - 12 studies\n",
      "         - 20 assays\n",
      "         - 0 image\n",
      "         - 108 annotations\n",
      "\n",
      "        Current status:  errored\n",
      "         \n"
     ]
    },
    {
     "ename": "TypeError",
     "evalue": "expected str, bytes or os.PathLike object, not NoneType",
     "output_type": "error",
     "traceback": [
      "\u001b[0;31m---------------------------------------------------------------------------\u001b[0m",
      "\u001b[0;31mTypeError\u001b[0m                                 Traceback (most recent call last)",
      "Cell \u001b[0;32mIn[20], line 2\u001b[0m\n\u001b[1;32m      1\u001b[0m \u001b[38;5;28;01mwith\u001b[39;00m manager:\n\u001b[0;32m----> 2\u001b[0m     \u001b[43mmanager\u001b[49m\u001b[38;5;241;43m.\u001b[39;49m\u001b[43mparse\u001b[49m\u001b[43m(\u001b[49m\u001b[43m)\u001b[49m\n\u001b[1;32m      3\u001b[0m     manager\u001b[38;5;241m.\u001b[39mset_state(\u001b[38;5;124m\"\u001b[39m\u001b[38;5;124mchecked\u001b[39m\u001b[38;5;124m\"\u001b[39m)\n",
      "File \u001b[0;32m~/gitrepos/omero-quay/src/omero_quay/managers/manager.py:53\u001b[0m, in \u001b[0;36mManager.parse\u001b[0;34m(self, parse_links)\u001b[0m\n\u001b[1;32m     50\u001b[0m         \u001b[38;5;28;01mif\u001b[39;00m isaobject\u001b[38;5;241m.\u001b[39mimportlink \u001b[38;5;129;01mis\u001b[39;00m \u001b[38;5;129;01mnot\u001b[39;00m \u001b[38;5;28;01mNone\u001b[39;00m:\n\u001b[1;32m     51\u001b[0m             \u001b[38;5;66;03m# this will add isaobjects\u001b[39;00m\n\u001b[1;32m     52\u001b[0m             log\u001b[38;5;241m.\u001b[39minfo(\u001b[38;5;124m\"\u001b[39m\u001b[38;5;124mImporting from \u001b[39m\u001b[38;5;132;01m%s\u001b[39;00m\u001b[38;5;124m\"\u001b[39m, isaobject\u001b[38;5;241m.\u001b[39mimportlink\u001b[38;5;241m.\u001b[39msrce_url)\n\u001b[0;32m---> 53\u001b[0m             \u001b[38;5;28;43mself\u001b[39;49m\u001b[38;5;241;43m.\u001b[39;49m\u001b[43m_import_from\u001b[49m\u001b[43m(\u001b[49m\u001b[43misaobject\u001b[49m\u001b[43m)\u001b[49m\n\u001b[1;32m     54\u001b[0m \u001b[38;5;28;01mfor\u001b[39;00m isaobject \u001b[38;5;129;01min\u001b[39;00m \u001b[38;5;28mself\u001b[39m\u001b[38;5;241m.\u001b[39misaobjects:\n\u001b[1;32m     55\u001b[0m     \u001b[38;5;28mself\u001b[39m\u001b[38;5;241m.\u001b[39m_prepare(isaobject)\n",
      "File \u001b[0;32m~/gitrepos/omero-quay/src/omero_quay/managers/omero.py:156\u001b[0m, in \u001b[0;36mOmeroManager._import_from\u001b[0;34m(self, isaobject)\u001b[0m\n\u001b[1;32m    155\u001b[0m \u001b[38;5;28;01mdef\u001b[39;00m \u001b[38;5;21m_import_from\u001b[39m(\u001b[38;5;28mself\u001b[39m, isaobject):\n\u001b[0;32m--> 156\u001b[0m     ome \u001b[38;5;241m=\u001b[39m \u001b[38;5;28;43mself\u001b[39;49m\u001b[38;5;241;43m.\u001b[39;49m\u001b[43m_get_ome\u001b[49m\u001b[43m(\u001b[49m\u001b[43misaobject\u001b[49m\u001b[43m)\u001b[49m\n\u001b[1;32m    157\u001b[0m     depth \u001b[38;5;241m=\u001b[39m get_depth(isaobject)\n\u001b[1;32m    158\u001b[0m     duplicates \u001b[38;5;241m=\u001b[39m \u001b[38;5;28mself\u001b[39m\u001b[38;5;241m.\u001b[39m_parse_ome(depth, isaobject, ome)\n",
      "File \u001b[0;32m~/gitrepos/omero-quay/src/omero_quay/managers/omero.py:173\u001b[0m, in \u001b[0;36mOmeroManager._get_ome\u001b[0;34m(self, isaobject)\u001b[0m\n\u001b[1;32m    171\u001b[0m \u001b[38;5;28;01mexcept\u001b[39;00m \u001b[38;5;167;01mTypeError\u001b[39;00m \u001b[38;5;28;01mas\u001b[39;00m e:\n\u001b[1;32m    172\u001b[0m     \u001b[38;5;28mself\u001b[39m\u001b[38;5;241m.\u001b[39mlog\u001b[38;5;241m.\u001b[39merror(\u001b[38;5;124m\"\u001b[39m\u001b[38;5;124mwrong path somehow, \u001b[39m\u001b[38;5;132;01m%s\u001b[39;00m\u001b[38;5;124m, urls: \u001b[39m\u001b[38;5;132;01m%s\u001b[39;00m\u001b[38;5;124m\"\u001b[39m, path, isaobject\u001b[38;5;241m.\u001b[39murls)\n\u001b[0;32m--> 173\u001b[0m     \u001b[38;5;28;01mraise\u001b[39;00m e\n\u001b[1;32m    174\u001b[0m \u001b[38;5;28;01mif\u001b[39;00m lock_file\u001b[38;5;241m.\u001b[39mexists():\n\u001b[1;32m    175\u001b[0m     msg \u001b[38;5;241m=\u001b[39m \u001b[38;5;124mf\u001b[39m\u001b[38;5;124m\"\u001b[39m\u001b[38;5;124momero transfer prepare already processing \u001b[39m\u001b[38;5;132;01m{\u001b[39;00mpath\u001b[38;5;132;01m}\u001b[39;00m\u001b[38;5;124m\"\u001b[39m\n",
      "File \u001b[0;32m~/gitrepos/omero-quay/src/omero_quay/managers/omero.py:169\u001b[0m, in \u001b[0;36mOmeroManager._get_ome\u001b[0;34m(self, isaobject)\u001b[0m\n\u001b[1;32m    167\u001b[0m \u001b[38;5;28mself\u001b[39m\u001b[38;5;241m.\u001b[39mlog\u001b[38;5;241m.\u001b[39minfo(\u001b[38;5;124m\"\u001b[39m\u001b[38;5;124mPreparing data import from \u001b[39m\u001b[38;5;132;01m%s\u001b[39;00m\u001b[38;5;124m for user \u001b[39m\u001b[38;5;132;01m%s\u001b[39;00m\u001b[38;5;124m\"\u001b[39m, path, user_name)\n\u001b[1;32m    168\u001b[0m \u001b[38;5;28;01mtry\u001b[39;00m:\n\u001b[0;32m--> 169\u001b[0m     ome_xml \u001b[38;5;241m=\u001b[39m \u001b[43mPath\u001b[49m\u001b[43m(\u001b[49m\u001b[43mpath\u001b[49m\u001b[43m)\u001b[49m \u001b[38;5;241m/\u001b[39m \u001b[38;5;124m\"\u001b[39m\u001b[38;5;124mome.xml\u001b[39m\u001b[38;5;124m\"\u001b[39m\n\u001b[1;32m    170\u001b[0m     lock_file \u001b[38;5;241m=\u001b[39m Path(path) \u001b[38;5;241m/\u001b[39m \u001b[38;5;124m\"\u001b[39m\u001b[38;5;124mtransfer.xml.lock\u001b[39m\u001b[38;5;124m\"\u001b[39m\n\u001b[1;32m    171\u001b[0m \u001b[38;5;28;01mexcept\u001b[39;00m \u001b[38;5;167;01mTypeError\u001b[39;00m \u001b[38;5;28;01mas\u001b[39;00m e:\n",
      "File \u001b[0;32m~/micromamba/envs/quay/lib/python3.10/pathlib.py:960\u001b[0m, in \u001b[0;36mPath.__new__\u001b[0;34m(cls, *args, **kwargs)\u001b[0m\n\u001b[1;32m    958\u001b[0m \u001b[38;5;28;01mif\u001b[39;00m \u001b[38;5;28mcls\u001b[39m \u001b[38;5;129;01mis\u001b[39;00m Path:\n\u001b[1;32m    959\u001b[0m     \u001b[38;5;28mcls\u001b[39m \u001b[38;5;241m=\u001b[39m WindowsPath \u001b[38;5;28;01mif\u001b[39;00m os\u001b[38;5;241m.\u001b[39mname \u001b[38;5;241m==\u001b[39m \u001b[38;5;124m'\u001b[39m\u001b[38;5;124mnt\u001b[39m\u001b[38;5;124m'\u001b[39m \u001b[38;5;28;01melse\u001b[39;00m PosixPath\n\u001b[0;32m--> 960\u001b[0m \u001b[38;5;28mself\u001b[39m \u001b[38;5;241m=\u001b[39m \u001b[38;5;28;43mcls\u001b[39;49m\u001b[38;5;241;43m.\u001b[39;49m\u001b[43m_from_parts\u001b[49m\u001b[43m(\u001b[49m\u001b[43margs\u001b[49m\u001b[43m)\u001b[49m\n\u001b[1;32m    961\u001b[0m \u001b[38;5;28;01mif\u001b[39;00m \u001b[38;5;129;01mnot\u001b[39;00m \u001b[38;5;28mself\u001b[39m\u001b[38;5;241m.\u001b[39m_flavour\u001b[38;5;241m.\u001b[39mis_supported:\n\u001b[1;32m    962\u001b[0m     \u001b[38;5;28;01mraise\u001b[39;00m \u001b[38;5;167;01mNotImplementedError\u001b[39;00m(\u001b[38;5;124m\"\u001b[39m\u001b[38;5;124mcannot instantiate \u001b[39m\u001b[38;5;132;01m%r\u001b[39;00m\u001b[38;5;124m on your system\u001b[39m\u001b[38;5;124m\"\u001b[39m\n\u001b[1;32m    963\u001b[0m                               \u001b[38;5;241m%\u001b[39m (\u001b[38;5;28mcls\u001b[39m\u001b[38;5;241m.\u001b[39m\u001b[38;5;18m__name__\u001b[39m,))\n",
      "File \u001b[0;32m~/micromamba/envs/quay/lib/python3.10/pathlib.py:594\u001b[0m, in \u001b[0;36mPurePath._from_parts\u001b[0;34m(cls, args)\u001b[0m\n\u001b[1;32m    589\u001b[0m \u001b[38;5;129m@classmethod\u001b[39m\n\u001b[1;32m    590\u001b[0m \u001b[38;5;28;01mdef\u001b[39;00m \u001b[38;5;21m_from_parts\u001b[39m(\u001b[38;5;28mcls\u001b[39m, args):\n\u001b[1;32m    591\u001b[0m     \u001b[38;5;66;03m# We need to call _parse_args on the instance, so as to get the\u001b[39;00m\n\u001b[1;32m    592\u001b[0m     \u001b[38;5;66;03m# right flavour.\u001b[39;00m\n\u001b[1;32m    593\u001b[0m     \u001b[38;5;28mself\u001b[39m \u001b[38;5;241m=\u001b[39m \u001b[38;5;28mobject\u001b[39m\u001b[38;5;241m.\u001b[39m\u001b[38;5;21m__new__\u001b[39m(\u001b[38;5;28mcls\u001b[39m)\n\u001b[0;32m--> 594\u001b[0m     drv, root, parts \u001b[38;5;241m=\u001b[39m \u001b[38;5;28;43mself\u001b[39;49m\u001b[38;5;241;43m.\u001b[39;49m\u001b[43m_parse_args\u001b[49m\u001b[43m(\u001b[49m\u001b[43margs\u001b[49m\u001b[43m)\u001b[49m\n\u001b[1;32m    595\u001b[0m     \u001b[38;5;28mself\u001b[39m\u001b[38;5;241m.\u001b[39m_drv \u001b[38;5;241m=\u001b[39m drv\n\u001b[1;32m    596\u001b[0m     \u001b[38;5;28mself\u001b[39m\u001b[38;5;241m.\u001b[39m_root \u001b[38;5;241m=\u001b[39m root\n",
      "File \u001b[0;32m~/micromamba/envs/quay/lib/python3.10/pathlib.py:578\u001b[0m, in \u001b[0;36mPurePath._parse_args\u001b[0;34m(cls, args)\u001b[0m\n\u001b[1;32m    576\u001b[0m     parts \u001b[38;5;241m+\u001b[39m\u001b[38;5;241m=\u001b[39m a\u001b[38;5;241m.\u001b[39m_parts\n\u001b[1;32m    577\u001b[0m \u001b[38;5;28;01melse\u001b[39;00m:\n\u001b[0;32m--> 578\u001b[0m     a \u001b[38;5;241m=\u001b[39m \u001b[43mos\u001b[49m\u001b[38;5;241;43m.\u001b[39;49m\u001b[43mfspath\u001b[49m\u001b[43m(\u001b[49m\u001b[43ma\u001b[49m\u001b[43m)\u001b[49m\n\u001b[1;32m    579\u001b[0m     \u001b[38;5;28;01mif\u001b[39;00m \u001b[38;5;28misinstance\u001b[39m(a, \u001b[38;5;28mstr\u001b[39m):\n\u001b[1;32m    580\u001b[0m         \u001b[38;5;66;03m# Force-cast str subclasses to str (issue #21127)\u001b[39;00m\n\u001b[1;32m    581\u001b[0m         parts\u001b[38;5;241m.\u001b[39mappend(\u001b[38;5;28mstr\u001b[39m(a))\n",
      "\u001b[0;31mTypeError\u001b[0m: expected str, bytes or os.PathLike object, not NoneType"
     ]
    }
   ],
   "source": [
    "with manager:\n",
    "    manager.parse()\n",
    "    manager.set_state(\"checked\")"
   ]
  },
  {
   "cell_type": "code",
   "execution_count": 58,
   "id": "04bb6335-36a6-48ce-9c96-5d25c2c013e2",
   "metadata": {
    "scrolled": true
   },
   "outputs": [
    {
     "data": {
      "text/plain": [
       "Quelle page de manuel voulez-vous ?\n",
       "Par exemple, essayez « man man ».\n"
      ]
     },
     "metadata": {},
     "output_type": "display_data"
    }
   ],
   "source": [
    "man"
   ]
  },
  {
   "cell_type": "code",
   "execution_count": 28,
   "id": "fc3c67d1-a75a-4b53-b0ac-05f1ac29db34",
   "metadata": {},
   "outputs": [],
   "source": [
    "man[\"manager\"]\n"
   ]
  },
  {
   "cell_type": "code",
   "execution_count": null,
   "id": "982c2034-52e6-4ba3-ab53-df46ef1297f9",
   "metadata": {},
   "outputs": [],
   "source": []
  },
  {
   "cell_type": "code",
   "execution_count": 26,
   "id": "c4d2534c-717f-4830-b194-f8209b5ecf67",
   "metadata": {},
   "outputs": [
    {
     "ename": "NameError",
     "evalue": "name 'mans' is not defined",
     "output_type": "error",
     "traceback": [
      "\u001b[0;31m---------------------------------------------------------------------------\u001b[0m",
      "\u001b[0;31mNameError\u001b[0m                                 Traceback (most recent call last)",
      "Cell \u001b[0;32mIn[26], line 1\u001b[0m\n\u001b[0;32m----> 1\u001b[0m \u001b[38;5;28;01mfor\u001b[39;00m m \u001b[38;5;129;01min\u001b[39;00m \u001b[43mmans\u001b[49m:\n\u001b[1;32m      2\u001b[0m     \u001b[38;5;28mprint\u001b[39m(m[\u001b[38;5;124m\"\u001b[39m\u001b[38;5;124m_id\u001b[39m\u001b[38;5;124m\"\u001b[39m], m[\u001b[38;5;124m\"\u001b[39m\u001b[38;5;124mmanager\u001b[39m\u001b[38;5;124m\"\u001b[39m])\n",
      "\u001b[0;31mNameError\u001b[0m: name 'mans' is not defined"
     ]
    }
   ],
   "source": [
    "for m in mans:\n",
    "    print(m[\"_id\"], m[\"manager\"])"
   ]
  },
  {
   "cell_type": "code",
   "execution_count": 8,
   "id": "ef149aca-0996-4aad-b39e-a33ab895c5b5",
   "metadata": {},
   "outputs": [],
   "source": [
    "from datetime import datetime\n"
   ]
  },
  {
   "cell_type": "code",
   "execution_count": 9,
   "id": "c171c72c-19e3-457f-8145-384f17f79fae",
   "metadata": {},
   "outputs": [],
   "source": [
    "date = datetime(year=2024, month=8, day=1)"
   ]
  },
  {
   "cell_type": "code",
   "execution_count": 50,
   "id": "13533c54-76e0-429c-830c-dd335b320287",
   "metadata": {},
   "outputs": [],
   "source": [
    "import httpx"
   ]
  },
  {
   "cell_type": "code",
   "execution_count": 11,
   "id": "e1a4e050-8d4a-42cc-a9b2-4e0fae64191e",
   "metadata": {},
   "outputs": [],
   "source": [
    "import pymongo\n"
   ]
  },
  {
   "cell_type": "code",
   "execution_count": 12,
   "id": "0bc5d913-0f8e-436c-ba4b-d6a14d5c69c5",
   "metadata": {},
   "outputs": [
    {
     "data": {
      "text/plain": [
       "-1"
      ]
     },
     "execution_count": 12,
     "metadata": {},
     "output_type": "execute_result"
    }
   ],
   "source": [
    "pymongo.DESCENDING"
   ]
  },
  {
   "cell_type": "code",
   "execution_count": null,
   "id": "ab7c4d43-53db-4508-8b35-1fad4c90c5df",
   "metadata": {},
   "outputs": [],
   "source": [
    "date = \"2024-10-15T14\"\n",
    "\n",
    "r = httpx.get(\n",
    "    'http://localhost:8898',\n",
    "    params={\n",
    "            \"limit\": 3,\n",
    "            \"projection\": [\"state\", \"creation_date\", \"error\"]}\n",
    ")\n",
    "\n",
    "manifests = []\n",
    "for m in r.json():\n",
    "    m[\"id\"] = m.pop(\"_id\")\n",
    "    print(m)\n",
    "    manifests.append(Manifest(**m))\n",
    "\n",
    "\n",
    "\n"
   ]
  },
  {
   "cell_type": "code",
   "execution_count": 305,
   "id": "1aa679f4-e93c-40a1-88b1-f41465128b6f",
   "metadata": {},
   "outputs": [
    {
     "data": {
      "text/plain": [
       "Manifest(id='man:645e7922-8aee-11ef-842b-f4c88a41c68e', name=None, description=None, creation_date='2024-10-15T14:09:56.370761', quay_annotations=[], ome_id=None, irods_id=None, delete=False, states=[], schema_version='0.2', manager=None, investigations=[], studies=[], assays=[], images=[], error=None)"
      ]
     },
     "execution_count": 305,
     "metadata": {},
     "output_type": "execute_result"
    }
   ],
   "source": [
    "manifests[0]"
   ]
  },
  {
   "cell_type": "code",
   "execution_count": 180,
   "id": "a25850f7-1f0c-4329-b94e-7a5259e7b0ad",
   "metadata": {},
   "outputs": [
    {
     "data": {
      "text/plain": [
       "'creation_date_-1'"
      ]
     },
     "execution_count": 180,
     "metadata": {},
     "output_type": "execute_result"
    }
   ],
   "source": [
    "import pymongo\n",
    "\n",
    "manager.manifests.create_index([(\"creation_date\", pymongo.DESCENDING)] )"
   ]
  },
  {
   "cell_type": "code",
   "execution_count": 310,
   "id": "5f48efb7-14a3-4537-a101-bb72c7979bfe",
   "metadata": {},
   "outputs": [
    {
     "name": "stderr",
     "output_type": "stream",
     "text": [
      "UsageError: Cell magic `%%snakeviz` not found.\n"
     ]
    }
   ],
   "source": [
    "%%snakeviz"
   ]
  },
  {
   "cell_type": "code",
   "execution_count": 345,
   "id": "3c190670-1133-44dc-bd81-fc3e9437ebd6",
   "metadata": {},
   "outputs": [],
   "source": [
    "id = \"man:90c354b2-8d44-11ef-b2cb-f4c88a41c68e\"\n"
   ]
  },
  {
   "cell_type": "code",
   "execution_count": null,
   "id": "d8f33ad3-81f5-4adf-9672-7a55979a4dd9",
   "metadata": {},
   "outputs": [],
   "source": []
  },
  {
   "cell_type": "code",
   "execution_count": 308,
   "id": "ef32b99c-d90d-4d51-b870-2db586458baf",
   "metadata": {
    "editable": true,
    "slideshow": {
     "slide_type": ""
    },
    "tags": []
   },
   "outputs": [
    {
     "name": "stderr",
     "output_type": "stream",
     "text": [
      "INFO:omero_quay.core.interface:Started interface instance OmeroManager\n",
      "INFO:omero_quay.core.interface:Matched state with host mtp-omero-server and scheme omero with manager OmeroManager\n",
      "INFO:omero_quay.core.interface:manager OmeroManager state set to started\n",
      "INFO:omero_quay.managers.omero:Resetting irods state after leaving omero manager\n",
      "DEBUG:omero_quay.core.interface:Updated manifest man:5e5b8330-8ada-11ef-9277-7c4d8ff179f0 in DB\n",
      "INFO:omero_quay.core.interface:Exiting ---\n",
      "         OmeroManager managing manifest man:5e5b8330-8ada-11ef-9277-7c4d8ff179f0 with\n",
      "\n",
      "         - 1 investigation\n",
      "         - 6 studies\n",
      "         - 10 assays\n",
      "         - 0 image\n",
      "         - 54 annotations\n",
      "\n",
      "        Current status:  started\n",
      "         \n"
     ]
    }
   ],
   "source": [
    "date = \"2024-10-08\"\n",
    "\n",
    "with manager:\n",
    "\n",
    "    mans = manager.manifests.find({\"manager\": \"facility0\"}, sort=[(\"creation_date\", -1)], projection=['creation_date', 'states', 'error'], )"
   ]
  },
  {
   "cell_type": "code",
   "execution_count": 301,
   "id": "64d18504-b965-45f1-ac62-94cc22bb5719",
   "metadata": {},
   "outputs": [
    {
     "name": "stdout",
     "output_type": "stream",
     "text": [
      "{'_id': 'man:645e7922-8aee-11ef-842b-f4c88a41c68e', 'creation_date': '2024-10-15T14:09:56.370761', 'error': None, 'states': [{'scheme': 'file', 'status': 'started', 'timestamp': '2024-10-15T14:09:56.253836', 'host': 'localhost'}, {'scheme': 'omero', 'status': 'changed', 'timestamp': '2024-10-15T14:09:56.361001', 'host': 'localhost'}]}\n",
      "{'_id': 'man:5099345e-8aee-11ef-842b-f4c88a41c68e', 'creation_date': '2024-10-15T14:09:23.539765', 'error': None, 'states': [{'scheme': 'file', 'status': 'started', 'timestamp': '2024-10-15T14:09:23.084307', 'host': 'localhost'}, {'scheme': 'irods', 'status': 'started', 'timestamp': '2024-10-15T14:09:23.092288', 'host': 'icat'}]}\n",
      "{'_id': 'man:3d7963a8-8aee-11ef-842b-f4c88a41c68e', 'creation_date': '2024-10-15T14:08:51.008523', 'error': None, 'states': [{'scheme': 'file', 'status': 'started', 'timestamp': '2024-10-15T14:08:50.999103', 'host': 'localhost'}, {'scheme': 'irods', 'status': 'changed', 'timestamp': '2024-10-15T14:08:51.007900', 'host': 'icat'}]}\n",
      "{'_id': 'man:1a68e8e8-8aee-11ef-842b-f4c88a41c68e', 'creation_date': '2024-10-15T14:07:52.584047', 'error': None, 'states': [{'scheme': 'xlsx', 'status': 'checked', 'timestamp': '2024-10-15T14:07:52.583331', 'host': 'gay2'}]}\n",
      "{'_id': 'man:029750ec-8aee-11ef-842b-f4c88a41c68e', 'creation_date': '2024-10-15T14:07:12.333690', 'error': None, 'states': [{'scheme': 'xlsx', 'status': 'checked', 'timestamp': '2024-10-15T14:07:12.332557', 'host': 'gay2'}]}\n",
      "{'_id': 'man:f4b9d07a-8ae9-11ef-9a58-7c4d8ff179f0', 'creation_date': '2024-10-15T13:38:12.073113', 'error': None, 'states': [{'scheme': 'xlsx', 'status': 'checked', 'timestamp': '2024-10-15T13:38:12.072069', 'host': 'gay2'}]}\n",
      "{'_id': 'man:07ac4492-8aea-11ef-9a58-7c4d8ff179f0', 'creation_date': None, 'error': None, 'states': [{'scheme': 'file', 'status': 'changed', 'timestamp': '2024-10-15T13:38:43.548946', 'host': 'localhost'}]}\n",
      "{'_id': 'man:2b435ebe-8aee-11ef-842b-f4c88a41c68e', 'creation_date': None, 'error': None, 'states': [{'scheme': 'file', 'status': 'changed', 'timestamp': '2024-10-15T14:08:20.454630', 'host': 'localhost'}]}\n"
     ]
    }
   ],
   "source": [
    "for m in mans:\n",
    "    print(m)"
   ]
  },
  {
   "cell_type": "code",
   "execution_count": null,
   "id": "02bd9409-eb78-4a76-b1a0-c5a5b10b3d5b",
   "metadata": {},
   "outputs": [],
   "source": [
    "\n"
   ]
  }
 ],
 "metadata": {
  "kernelspec": {
   "display_name": "Python 3 (ipykernel)",
   "language": "python",
   "name": "python3"
  },
  "language_info": {
   "codemirror_mode": {
    "name": "ipython",
    "version": 3
   },
   "file_extension": ".py",
   "mimetype": "text/x-python",
   "name": "python",
   "nbconvert_exporter": "python",
   "pygments_lexer": "ipython3",
   "version": "3.10.8"
  }
 },
 "nbformat": 4,
 "nbformat_minor": 5
}
