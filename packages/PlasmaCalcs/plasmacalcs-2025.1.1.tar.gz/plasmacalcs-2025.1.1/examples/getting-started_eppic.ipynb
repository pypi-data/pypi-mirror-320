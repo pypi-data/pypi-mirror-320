{
 "cells": [
  {
   "cell_type": "markdown",
   "id": "50b8beda",
   "metadata": {},
   "source": [
    "# Getting Started with Eppic\n",
    "### (One of the hookups in PlasmaCalcs)\n",
    "The goal is to help you get started with using PlasmaCalcs to read & manipulate eppic outputs.\n",
    "\n",
    "**Please do not commit changes to this file** from running through this example! (I.e. if you complete the example locally on your machine, please don't commit those changes. **Suggested alternative: make a copy of this file & run the example in the copied file instead!**)"
   ]
  },
  {
   "cell_type": "code",
   "execution_count": null,
   "id": "66d8c57f",
   "metadata": {},
   "outputs": [],
   "source": [
    "## imports ##\n",
    "# builtins\n",
    "import os   # for os.chdir to navigate to directory where data is stored.\n",
    "\n",
    "# external packages available via pip install \n",
    "import numpy as np\n",
    "import matplotlib.pyplot as plt\n",
    "import xarray as xr\n",
    "\n",
    "# PlasmaCalcs package\n",
    "import PlasmaCalcs as pc\n",
    "\n",
    "\n",
    "## constants ##\n",
    "# store location of this Jupyter notebook file.\n",
    "#    (assumes you will never re-run this cell after changing directory.)\n",
    "PATH_TO_THIS_FILE = os.getcwd()\n",
    "\n",
    "\n",
    "## optional / settings ##\n",
    "import pdb   # --- after a crash, use pdb.pm() to enter the namespace of the crash, for easy debugging!\n",
    "\n",
    "plt.rcParams['animation.html']='jshtml'  # enables in-line animations in Jupyter\n",
    "\n",
    "from IPython.display import display, HTML  # set cell width in Jupyter:\n",
    "display(HTML(\"<style>.container { width:90% !important; }</style>\"))\n",
    "\n",
    "# xarray options\n",
    "xr.set_options(display_expand_data=False,\n",
    "               #display_values_threshold=20,  # < doesnt work how I want it to..\n",
    "               keep_attrs=True, # -- keep attrs during operations. Note, doesn't handle conflicts, just takes attrs from the first array.\n",
    "              );\n",
    "# matplotlib options\n",
    "plt.rcParams['savefig.dpi'] = 200"
   ]
  },
  {
   "cell_type": "code",
   "execution_count": null,
   "id": "5a33b506",
   "metadata": {},
   "outputs": [],
   "source": [
    "# force reload the PlasmaCalcs package.\n",
    "#   Useful if you've made any changes but don't want to restart kernel.\n",
    "#   Not required; you can delete this line if you are never editing PlasmaCalcs.\n",
    "pc = pc.reload(pc)\n",
    "\n",
    "# somehow specify the pic ambiguous unit. See help(pc.UnitsManagerPIC.from_pic) for details.\n",
    "#   this is the default conversion factor for length or time, used to convert simulation output to SI units.\n",
    "#   u_t=1 is recommended (i.e. 1 PIC time unit = 1 second). Other values haven't been extensively tested.\n",
    "pc.DEFAULTS.pic_ambiguous_unit = dict(u_t=1)"
   ]
  },
  {
   "cell_type": "markdown",
   "id": "a925735c",
   "metadata": {},
   "source": [
    "# Eppic Calculator – EXAMPLE"
   ]
  },
  {
   "cell_type": "code",
   "execution_count": null,
   "id": "3b780953",
   "metadata": {},
   "outputs": [],
   "source": [
    "## create an EppicCalculator object, from example data ##\n",
    "RUN_DIR = os.path.join(PATH_TO_THIS_FILE, '..', 'tests', 'test_eppic')\n",
    "os.chdir(RUN_DIR)\n",
    "\n",
    "# create an EppicCalculator based on the example in tests/test_eppic.\n",
    "#   The input file there is named 'test_eppic_basics.i' instead of 'eppic.i'.\n",
    "#   this calculator will know how to load & compute various values based on the available snapshots.\n",
    "ec = pc.EppicCalculator.from_here(filename='test_eppic_basics.i')\n",
    "\n",
    "# show the representation of the EppicCalculator (customized to contain relevant information!)\n",
    "ec"
   ]
  },
  {
   "cell_type": "code",
   "execution_count": null,
   "id": "d629263a",
   "metadata": {},
   "outputs": [],
   "source": [
    "# you can call the EppicCalculator as if it were a function, to load or compute a quantity:\n",
    "ec('B')  # magnetic field  (Bx=By=0, Bz=0.001 for this example data)"
   ]
  },
  {
   "cell_type": "code",
   "execution_count": null,
   "id": "c14f3e38",
   "metadata": {},
   "outputs": [],
   "source": [
    "# there are many options, for example:\n",
    "ec('B', component='z')  # get only the z component of B"
   ]
  },
  {
   "cell_type": "code",
   "execution_count": null,
   "id": "92a05f98",
   "metadata": {},
   "outputs": [],
   "source": [
    "# which quantities are available???\n",
    "# how else can I use this calculator object???\n",
    "# which other options are available??\n",
    "# --- See ec.help() for help! ---\n",
    "ec.help()"
   ]
  },
  {
   "cell_type": "code",
   "execution_count": null,
   "id": "1e862958",
   "metadata": {},
   "outputs": [],
   "source": [
    "# [TODO] you can get values which vary in space if you have snapshots!\n",
    "#   Sadly the example here doesn't have any snapshots (it's just an eppic.i file).\n",
    "#   E.g. the number density:\n",
    "ec('n')   # <-- Currently, this crashes because there are no snapshots!"
   ]
  },
  {
   "cell_type": "markdown",
   "id": "dd9ae885",
   "metadata": {},
   "source": [
    "# Eppic Calculator – From your data"
   ]
  },
  {
   "cell_type": "code",
   "execution_count": null,
   "id": "72f1480d",
   "metadata": {},
   "outputs": [],
   "source": [
    "## create an EppicCalculator object, from data you have ##\n",
    "\n",
    "# change to the appropriate directory\n",
    "RUN_DIR = 'path/to/the_folder_containing_eppic_i_file'  # YOU MUST SUPPLY THIS PATH!!!\n",
    "os.chdir(RUN_DIR)\n",
    "\n",
    "# create an EppicCalculator based on the eppic.i file in the current directory.\n",
    "#   this calculator will know how to load & compute various values based on the available snapshots.\n",
    "ec = pc.EppicCalculator.from_here()"
   ]
  },
  {
   "cell_type": "code",
   "execution_count": null,
   "id": "3a9bafa7",
   "metadata": {},
   "outputs": [],
   "source": [
    "# get number densities:\n",
    "#n = ec('n')   # if 2D\n",
    "n = ec('n', slices=dict(x=0))  # if 3D, pick a slice in space so it will be 2D output instead (for now)."
   ]
  },
  {
   "cell_type": "code",
   "execution_count": null,
   "id": "e9047451",
   "metadata": {},
   "outputs": [],
   "source": [
    "xsubs = n.pc.subplots(row='fluid')  # make a plot at one snapshot!"
   ]
  },
  {
   "cell_type": "code",
   "execution_count": null,
   "id": "147d59b4",
   "metadata": {},
   "outputs": [],
   "source": [
    "help(n.pc.subplots)  # get help on available options to improve the subplots & how to use it!"
   ]
  },
  {
   "cell_type": "code",
   "execution_count": null,
   "id": "e60bc4f5",
   "metadata": {},
   "outputs": [],
   "source": [
    "xsubs.get_animator()   # make animation in-line!  use help(xsubs.get_animator) for options & details."
   ]
  },
  {
   "cell_type": "code",
   "execution_count": null,
   "id": "3998d4d3",
   "metadata": {},
   "outputs": [],
   "source": [
    "xsubs.save('mymovie')   # save animation!  use help(xsubs.save) for options & details."
   ]
  },
  {
   "cell_type": "code",
   "execution_count": null,
   "id": "2e047de3",
   "metadata": {},
   "outputs": [],
   "source": []
  },
  {
   "cell_type": "code",
   "execution_count": null,
   "id": "87a1a0c4",
   "metadata": {},
   "outputs": [],
   "source": []
  }
 ],
 "metadata": {
  "kernelspec": {
   "display_name": "Python 3 (ipykernel)",
   "language": "python",
   "name": "python3"
  },
  "language_info": {
   "codemirror_mode": {
    "name": "ipython",
    "version": 3
   },
   "file_extension": ".py",
   "mimetype": "text/x-python",
   "name": "python",
   "nbconvert_exporter": "python",
   "pygments_lexer": "ipython3",
   "version": "3.9.13"
  }
 },
 "nbformat": 4,
 "nbformat_minor": 5
}
