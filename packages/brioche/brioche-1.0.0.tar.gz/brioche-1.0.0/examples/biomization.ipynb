{
 "cells": [
  {
   "cell_type": "markdown",
   "metadata": {},
   "source": [
    "# Brioche example Jupyter notebook\n",
    "\n",
    "This is an example of how Brioche can be used in Jupyter.  Similar code would work in Google Colaboratory, using the utility class methods that reads data from a Google Docs spreadsheet.\n",
    "\n",
    "This example reads two excel files, one containing the PFT mappings, one containing a worksheet per site. It then performs the biomization analysis on each site and writes the results to an Excel file."
   ]
  },
  {
   "cell_type": "markdown",
   "metadata": {
    "id": "CWYeIyxUGBot"
   },
   "source": [
    "# Install brioche"
   ]
  },
  {
   "cell_type": "code",
   "execution_count": 1,
   "metadata": {
    "id": "e75mOEPSGLvt"
   },
   "outputs": [
    {
     "name": "stdout",
     "output_type": "stream",
     "text": [
      "Obtaining file:///C:/Users/peter.liljenberg/code/brioche\n",
      "  Installing build dependencies: started\n",
      "  Installing build dependencies: finished with status 'done'\n",
      "  Checking if build backend supports build_editable: started\n",
      "  Checking if build backend supports build_editable: finished with status 'done'\n",
      "  Getting requirements to build editable: started\n",
      "  Getting requirements to build editable: finished with status 'done'\n",
      "  Preparing editable metadata (pyproject.toml): started\n",
      "  Preparing editable metadata (pyproject.toml): finished with status 'done'\n",
      "Requirement already satisfied: pandas~=2.2 in c:\\users\\peter.liljenberg\\code\\brioche\\.venv\\lib\\site-packages (from brioche==1.0.0a0) (2.2.3)\n",
      "Requirement already satisfied: gspread~=6.1 in c:\\users\\peter.liljenberg\\code\\brioche\\.venv\\lib\\site-packages (from brioche==1.0.0a0) (6.1.4)\n",
      "Requirement already satisfied: numpy~=2.1 in c:\\users\\peter.liljenberg\\code\\brioche\\.venv\\lib\\site-packages (from brioche==1.0.0a0) (2.1.3)\n",
      "Requirement already satisfied: openpyxl~=3.1 in c:\\users\\peter.liljenberg\\code\\brioche\\.venv\\lib\\site-packages (from brioche==1.0.0a0) (3.1.5)\n",
      "Requirement already satisfied: google-auth>=1.12.0 in c:\\users\\peter.liljenberg\\code\\brioche\\.venv\\lib\\site-packages (from gspread~=6.1->brioche==1.0.0a0) (2.36.0)\n",
      "Requirement already satisfied: google-auth-oauthlib>=0.4.1 in c:\\users\\peter.liljenberg\\code\\brioche\\.venv\\lib\\site-packages (from gspread~=6.1->brioche==1.0.0a0) (1.2.1)\n",
      "Requirement already satisfied: et-xmlfile in c:\\users\\peter.liljenberg\\code\\brioche\\.venv\\lib\\site-packages (from openpyxl~=3.1->brioche==1.0.0a0) (2.0.0)\n",
      "Requirement already satisfied: python-dateutil>=2.8.2 in c:\\users\\peter.liljenberg\\code\\brioche\\.venv\\lib\\site-packages (from pandas~=2.2->brioche==1.0.0a0) (2.9.0.post0)\n",
      "Requirement already satisfied: pytz>=2020.1 in c:\\users\\peter.liljenberg\\code\\brioche\\.venv\\lib\\site-packages (from pandas~=2.2->brioche==1.0.0a0) (2024.2)\n",
      "Requirement already satisfied: tzdata>=2022.7 in c:\\users\\peter.liljenberg\\code\\brioche\\.venv\\lib\\site-packages (from pandas~=2.2->brioche==1.0.0a0) (2024.2)\n",
      "Requirement already satisfied: cachetools<6.0,>=2.0.0 in c:\\users\\peter.liljenberg\\code\\brioche\\.venv\\lib\\site-packages (from google-auth>=1.12.0->gspread~=6.1->brioche==1.0.0a0) (5.5.0)\n",
      "Requirement already satisfied: pyasn1-modules>=0.2.1 in c:\\users\\peter.liljenberg\\code\\brioche\\.venv\\lib\\site-packages (from google-auth>=1.12.0->gspread~=6.1->brioche==1.0.0a0) (0.4.1)\n",
      "Requirement already satisfied: rsa<5,>=3.1.4 in c:\\users\\peter.liljenberg\\code\\brioche\\.venv\\lib\\site-packages (from google-auth>=1.12.0->gspread~=6.1->brioche==1.0.0a0) (4.9)\n",
      "Requirement already satisfied: requests-oauthlib>=0.7.0 in c:\\users\\peter.liljenberg\\code\\brioche\\.venv\\lib\\site-packages (from google-auth-oauthlib>=0.4.1->gspread~=6.1->brioche==1.0.0a0) (2.0.0)\n",
      "Requirement already satisfied: six>=1.5 in c:\\users\\peter.liljenberg\\code\\brioche\\.venv\\lib\\site-packages (from python-dateutil>=2.8.2->pandas~=2.2->brioche==1.0.0a0) (1.16.0)\n",
      "Requirement already satisfied: pyasn1<0.7.0,>=0.4.6 in c:\\users\\peter.liljenberg\\code\\brioche\\.venv\\lib\\site-packages (from pyasn1-modules>=0.2.1->google-auth>=1.12.0->gspread~=6.1->brioche==1.0.0a0) (0.6.1)\n",
      "Requirement already satisfied: oauthlib>=3.0.0 in c:\\users\\peter.liljenberg\\code\\brioche\\.venv\\lib\\site-packages (from requests-oauthlib>=0.7.0->google-auth-oauthlib>=0.4.1->gspread~=6.1->brioche==1.0.0a0) (3.2.2)\n",
      "Requirement already satisfied: requests>=2.0.0 in c:\\users\\peter.liljenberg\\code\\brioche\\.venv\\lib\\site-packages (from requests-oauthlib>=0.7.0->google-auth-oauthlib>=0.4.1->gspread~=6.1->brioche==1.0.0a0) (2.32.3)\n",
      "Requirement already satisfied: charset-normalizer<4,>=2 in c:\\users\\peter.liljenberg\\code\\brioche\\.venv\\lib\\site-packages (from requests>=2.0.0->requests-oauthlib>=0.7.0->google-auth-oauthlib>=0.4.1->gspread~=6.1->brioche==1.0.0a0) (3.4.0)\n",
      "Requirement already satisfied: idna<4,>=2.5 in c:\\users\\peter.liljenberg\\code\\brioche\\.venv\\lib\\site-packages (from requests>=2.0.0->requests-oauthlib>=0.7.0->google-auth-oauthlib>=0.4.1->gspread~=6.1->brioche==1.0.0a0) (3.10)\n",
      "Requirement already satisfied: urllib3<3,>=1.21.1 in c:\\users\\peter.liljenberg\\code\\brioche\\.venv\\lib\\site-packages (from requests>=2.0.0->requests-oauthlib>=0.7.0->google-auth-oauthlib>=0.4.1->gspread~=6.1->brioche==1.0.0a0) (2.2.3)\n",
      "Requirement already satisfied: certifi>=2017.4.17 in c:\\users\\peter.liljenberg\\code\\brioche\\.venv\\lib\\site-packages (from requests>=2.0.0->requests-oauthlib>=0.7.0->google-auth-oauthlib>=0.4.1->gspread~=6.1->brioche==1.0.0a0) (2024.8.30)\n",
      "Building wheels for collected packages: brioche\n",
      "  Building editable for brioche (pyproject.toml): started\n",
      "  Building editable for brioche (pyproject.toml): finished with status 'done'\n",
      "  Created wheel for brioche: filename=brioche-1.0.0a0-py3-none-any.whl size=3804 sha256=ec38633887fd79ccab49892ebdd4a0df67460e1653d7eba007344408767245bb\n",
      "  Stored in directory: C:\\Users\\peter.liljenberg\\AppData\\Local\\Temp\\pip-ephem-wheel-cache-plvl2os2\\wheels\\2c\\9c\\bf\\7faf8502a9ea930cba59c728fc944b18ed32d2b321931ffc13\n",
      "Successfully built brioche\n",
      "Installing collected packages: brioche\n",
      "  Attempting uninstall: brioche\n",
      "    Found existing installation: brioche 1.0.0a0\n",
      "    Uninstalling brioche-1.0.0a0:\n",
      "      Successfully uninstalled brioche-1.0.0a0\n",
      "Successfully installed brioche-1.0.0a0\n",
      "Note: you may need to restart the kernel to use updated packages.\n"
     ]
    }
   ],
   "source": [
    "# Install from source distribution. Hint: if editing the Brioche code, you must restart the kernel\n",
    "# for the changes to take effect, but you do not have to rerun this step.\n",
    "%pip install --editable ..\n",
    "\n",
    "# Install from pypi\n",
    "# %pip install brioche"
   ]
  },
  {
   "cell_type": "markdown",
   "metadata": {
    "id": "iQK35NxhGTUF"
   },
   "source": [
    "# Setup"
   ]
  },
  {
   "cell_type": "code",
   "execution_count": 2,
   "metadata": {
    "id": "NkfIaridFcqf"
   },
   "outputs": [],
   "source": [
    "### Configuration\n",
    "\n",
    "# The spreadsheet that contains one or more worksheets of pollen counts\n",
    "\n",
    "# If the document only contains one index column (either age or depth)\n",
    "# index_col = 0\n",
    "\n",
    "# If the document contains two index columns (age and depth)\n",
    "index_col = [0, 1]\n",
    "\n",
    "# Path to the spreadsheet and worksheets that contains the taxa/pft/biome mapping\n",
    "mapping_path = 'githumbi-2025/mapping.xlsx'\n",
    "taxa_pft_worksheet_name = 'Taxa=PFT'\n",
    "biome_pft_worksheet_name = 'PFT=BIOME'\n",
    "\n",
    "# Path to the pollen sample spreadsheet\n",
    "sample_path = 'githumbi-2025/sites.xlsx'\n",
    "\n",
    "#bin_years = 1000\n",
    "#bin_years = 2000\n",
    "bin_years = 5000\n",
    "\n",
    "# Bin the biome affinity scores and recalculate\n",
    "def bin(x):\n",
    "  depth, age = x\n",
    "  return ((int(age) + bin_years // 2) // bin_years) * bin_years\n",
    "\n",
    "# Name of the result document\n",
    "result_file_name = f'Biomization result ({bin_years} bins).xlsx'\n",
    "\n",
    "# Name of the trace document containing partial steps of the calculation\n",
    "trace_file_name = f'Biomization trace ({bin_years} bins).xlsx'\n",
    "\n",
    "# The threshold subtracted by the biomization to remove insignificant taxa\n",
    "default_threshold = 0.5\n"
   ]
  },
  {
   "cell_type": "markdown",
   "metadata": {},
   "source": [
    "# Load data"
   ]
  },
  {
   "cell_type": "code",
   "execution_count": 3,
   "metadata": {},
   "outputs": [
    {
     "name": "stdout",
     "output_type": "stream",
     "text": [
      "Data loaded from githumbi-2025/sites.xlsx\n"
     ]
    }
   ],
   "source": [
    "from brioche import BiomePftList, TaxaPftList, PollenCounts, Biomization, PollenPercentages\n",
    "import pandas as pd\n",
    "import openpyxl\n",
    "\n",
    "pollen_document = openpyxl.open(sample_path, read_only=True)\n",
    "biome_document = openpyxl.open(mapping_path, read_only=True)\n",
    "\n",
    "biome_pft_mapping = BiomePftList.read_excel_sheet(biome_document[biome_pft_worksheet_name])\n",
    "taxa_pft_mapping = TaxaPftList.read_excel_sheet(biome_document[taxa_pft_worksheet_name])\n",
    "\n",
    "# Load Excel file with one site per worksheet\n",
    "site_dfs = pd.read_excel(sample_path, sheet_name=None, index_col=index_col)\n",
    "\n",
    "# Convert into pollen counts. If the data are percentages, use PollenPercentages instead.\n",
    "sites = [PollenCounts(site_dfs[name], name) for name in sorted(site_dfs.keys())]\n",
    "\n",
    "print('Data loaded from', sample_path)"
   ]
  },
  {
   "cell_type": "markdown",
   "metadata": {},
   "source": [
    "# Perform biomization analysis"
   ]
  },
  {
   "cell_type": "code",
   "execution_count": 4,
   "metadata": {},
   "outputs": [
    {
     "name": "stdout",
     "output_type": "stream",
     "text": [
      "\n",
      "WARNING: sample worksheets contain taxas that are not mapped to any biome\n",
      "Nymphaea\n",
      "Myriophyllum\n",
      "Cyperaceae undiff.\n",
      "Subularia monticola\n",
      "Limosella\n",
      "Cyperaceae\n",
      "Alisma\n",
      "Laurembergia\n",
      "Typha\n",
      "Laurembergia tetrandra\n",
      "Hydrocotyle\n",
      "Hydrocotyle ranunculoides\n",
      "Nymphaeaceae\n",
      "Callitriche\n",
      "Ludwigia\n",
      "Subularia\n",
      "\n",
      "Site: MM002-Devadeva\n",
      "0        Upper Montane Forest/cold temperate evergreen\n",
      "5000     Upper Montane Forest/cold temperate evergreen\n",
      "10000    Upper Montane Forest/cold temperate evergreen\n",
      "15000    Upper Montane Forest/cold temperate evergreen\n",
      "20000    Upper Montane Forest/cold temperate evergreen\n",
      "25000    Upper Montane Forest/cold temperate evergreen\n",
      "30000    Upper Montane Forest/cold temperate evergreen\n",
      "35000    Upper Montane Forest/cold temperate evergreen\n",
      "40000    Upper Montane Forest/cold temperate evergreen\n",
      "45000    Upper Montane Forest/cold temperate evergreen\n",
      "50000    Upper Montane Forest/cold temperate evergreen\n",
      "55000    Upper Montane Forest/cold temperate evergreen\n",
      "Name: Biome, dtype: object\n",
      "\n",
      "Site: MM005-Kitumbako\n",
      "0        Upper Montane Forest/cold temperate evergreen\n",
      "5000     Upper Montane Forest/cold temperate evergreen\n",
      "10000    Upper Montane Forest/cold temperate evergreen\n",
      "15000    Upper Montane Forest/cold temperate evergreen\n",
      "Name: Biome, dtype: object\n",
      "\n",
      "Site: MM009-Kwasebuge\n",
      "0    Upper Montane Forest/cold temperate evergreen\n",
      "Name: Biome, dtype: object\n",
      "\n",
      "Site: MM010-Oblong Tarn\n",
      "0       Upper Montane Forest/cold temperate evergreen\n",
      "5000    Upper Montane Forest/cold temperate evergreen\n",
      "Name: Biome, dtype: object\n",
      "\n",
      "Site: MM011-Kuruyange\n",
      "0        Lower Montane Forest/warm temperate evergreen\n",
      "5000     Lower Montane Forest/warm temperate evergreen\n",
      "10000    Upper Montane Forest/cold temperate evergreen\n",
      "15000    Upper Montane Forest/cold temperate evergreen\n",
      "Name: Biome, dtype: object\n",
      "\n",
      "Site: MM012-Ahakagyezi\n",
      "5000     Lower Montane Forest/warm temperate evergreen\n",
      "10000    Upper Montane Forest/cold temperate evergreen\n",
      "15000    Upper Montane Forest/cold temperate evergreen\n",
      "20000                             Lowland rain forests\n",
      "25000    Upper Montane Forest/cold temperate evergreen\n",
      "30000    Upper Montane Forest/cold temperate evergreen\n",
      "Name: Biome, dtype: object\n",
      "\n",
      "Site: MM013-Mubwindi\n",
      "0         Upper Montane Forest/cold temperate evergreen\n",
      "5000      Upper Montane Forest/cold temperate evergreen\n",
      "10000     Upper Montane Forest/cold temperate evergreen\n",
      "15000     Upper Montane Forest/cold temperate evergreen\n",
      "20000     Upper Montane Forest/cold temperate evergreen\n",
      "25000     Upper Montane Forest/cold temperate evergreen\n",
      "35000     Upper Montane Forest/cold temperate evergreen\n",
      "40000     Upper Montane Forest/cold temperate evergreen\n",
      "45000     Upper Montane Forest/cold temperate evergreen\n",
      "60000     Upper Montane Forest/cold temperate evergreen\n",
      "65000     Upper Montane Forest/cold temperate evergreen\n",
      "70000     Upper Montane Forest/cold temperate evergreen\n",
      "75000     Upper Montane Forest/cold temperate evergreen\n",
      "80000     Upper Montane Forest/cold temperate evergreen\n",
      "85000     Upper Montane Forest/cold temperate evergreen\n",
      "90000     Upper Montane Forest/cold temperate evergreen\n",
      "100000    Upper Montane Forest/cold temperate evergreen\n",
      "105000    Upper Montane Forest/cold temperate evergreen\n",
      "Name: Biome, dtype: object\n",
      "\n",
      "Site: MM014-Muchoya\n",
      "0        Upper Montane Forest/cold temperate evergreen\n",
      "5000     Upper Montane Forest/cold temperate evergreen\n",
      "10000    Upper Montane Forest/cold temperate evergreen\n",
      "15000    Upper Montane Forest/cold temperate evergreen\n",
      "20000    Upper Montane Forest/cold temperate evergreen\n",
      "25000    Upper Montane Forest/cold temperate evergreen\n",
      "30000    Upper Montane Forest/cold temperate evergreen\n",
      "35000    Upper Montane Forest/cold temperate evergreen\n",
      "40000    Upper Montane Forest/cold temperate evergreen\n",
      "45000    Upper Montane Forest/cold temperate evergreen\n",
      "50000    Upper Montane Forest/cold temperate evergreen\n",
      "55000    Upper Montane Forest/cold temperate evergreen\n",
      "60000    Upper Montane Forest/cold temperate evergreen\n",
      "65000    Upper Montane Forest/cold temperate evergreen\n",
      "70000    Upper Montane Forest/cold temperate evergreen\n",
      "Name: Biome, dtype: object\n",
      "\n",
      "Site: MM017-Mahoma\n",
      "0        Upper Montane Forest/cold temperate evergreen\n",
      "5000     Upper Montane Forest/cold temperate evergreen\n",
      "10000    Upper Montane Forest/cold temperate evergreen\n",
      "15000    Upper Montane Forest/cold temperate evergreen\n",
      "20000    Upper Montane Forest/cold temperate evergreen\n",
      "Name: Biome, dtype: object\n",
      "\n",
      "Site: MM018-Bujuku\n",
      "0       Upper Montane Forest/cold temperate evergreen\n",
      "5000    Upper Montane Forest/cold temperate evergreen\n",
      "Name: Biome, dtype: object\n",
      "\n",
      "Site: MM021-Kimilia\n",
      "0        Upper Montane Forest/cold temperate evergreen\n",
      "5000     Upper Montane Forest/cold temperate evergreen\n",
      "10000    Upper Montane Forest/cold temperate evergreen\n",
      "15000    Upper Montane Forest/cold temperate evergreen\n",
      "Name: Biome, dtype: object\n",
      "\n",
      "Site: MM025-Manguo\n",
      "0        Upper Montane Forest/cold temperate evergreen\n",
      "5000     Upper Montane Forest/cold temperate evergreen\n",
      "10000    Upper Montane Forest/cold temperate evergreen\n",
      "15000                               Dry Montane Forest\n",
      "Name: Biome, dtype: object\n",
      "\n",
      "Site: MM026-Nyabuiyabuyi\n",
      "0                                   Dry Montane Forest\n",
      "5000                                Dry Montane Forest\n",
      "10000                               Dry Montane Forest\n",
      "15000                               Dry Montane Forest\n",
      "20000                               Dry Montane Forest\n",
      "25000                               Dry Montane Forest\n",
      "30000    Lower Montane Forest/warm temperate evergreen\n",
      "Name: Biome, dtype: object\n",
      "\n",
      "Site: MM028-Kashiru\n",
      "0        Upper Montane Forest/cold temperate evergreen\n",
      "5000     Upper Montane Forest/cold temperate evergreen\n",
      "10000    Upper Montane Forest/cold temperate evergreen\n",
      "15000    Upper Montane Forest/cold temperate evergreen\n",
      "20000    Upper Montane Forest/cold temperate evergreen\n",
      "25000    Upper Montane Forest/cold temperate evergreen\n",
      "30000    Upper Montane Forest/cold temperate evergreen\n",
      "35000    Upper Montane Forest/cold temperate evergreen\n",
      "40000    Upper Montane Forest/cold temperate evergreen\n",
      "45000    Upper Montane Forest/cold temperate evergreen\n",
      "50000    Upper Montane Forest/cold temperate evergreen\n",
      "55000    Upper Montane Forest/cold temperate evergreen\n",
      "60000    Upper Montane Forest/cold temperate evergreen\n",
      "65000    Upper Montane Forest/cold temperate evergreen\n",
      "70000    Upper Montane Forest/cold temperate evergreen\n",
      "75000    Upper Montane Forest/cold temperate evergreen\n",
      "80000    Upper Montane Forest/cold temperate evergreen\n",
      "Name: Biome, dtype: object\n",
      "\n",
      "Site: MM029-Rusaka\n",
      "0        Upper Montane Forest/cold temperate evergreen\n",
      "5000     Upper Montane Forest/cold temperate evergreen\n",
      "10000    Upper Montane Forest/cold temperate evergreen\n",
      "15000    Upper Montane Forest/cold temperate evergreen\n",
      "20000    Upper Montane Forest/cold temperate evergreen\n",
      "25000    Upper Montane Forest/cold temperate evergreen\n",
      "30000    Upper Montane Forest/cold temperate evergreen\n",
      "35000    Upper Montane Forest/cold temperate evergreen\n",
      "40000    Upper Montane Forest/cold temperate evergreen\n",
      "45000    Upper Montane Forest/cold temperate evergreen\n",
      "Name: Biome, dtype: object\n",
      "\n",
      "Site: MM030-Kamir\n",
      "15000    Upper Montane Forest/cold temperate evergreen\n",
      "20000    Upper Montane Forest/cold temperate evergreen\n",
      "25000    Upper Montane Forest/cold temperate evergreen\n",
      "30000    Upper Montane Forest/cold temperate evergreen\n",
      "35000    Upper Montane Forest/cold temperate evergreen\n",
      "40000    Upper Montane Forest/cold temperate evergreen\n",
      "45000    Upper Montane Forest/cold temperate evergreen\n",
      "Name: Biome, dtype: object\n",
      "\n",
      "Site: MM032-Kitandara\n",
      "0       Upper Montane Forest/cold temperate evergreen\n",
      "5000    Upper Montane Forest/cold temperate evergreen\n",
      "Name: Biome, dtype: object\n",
      "\n",
      "Site: MM040-Laboota\n",
      "0        Upper Montane Forest/cold temperate evergreen\n",
      "5000     Upper Montane Forest/cold temperate evergreen\n",
      "10000    Upper Montane Forest/cold temperate evergreen\n",
      "15000    Upper Montane Forest/cold temperate evergreen\n",
      "20000    Upper Montane Forest/cold temperate evergreen\n",
      "Name: Biome, dtype: object\n",
      "\n",
      "Site: MM040-Labootb\n",
      "0    Upper Montane Forest/cold temperate evergreen\n",
      "Name: Biome, dtype: object\n",
      "\n",
      "Site: MM042-Koitoboss\n",
      "0        Upper Montane Forest/cold temperate evergreen\n",
      "5000     Upper Montane Forest/cold temperate evergreen\n",
      "10000    Upper Montane Forest/cold temperate evergreen\n",
      "Name: Biome, dtype: object\n",
      "\n",
      "Site: MM047-Momela\n",
      "0                                   Dry Montane Forest\n",
      "5000                                Dry Montane Forest\n",
      "10000    Upper Montane Forest/cold temperate evergreen\n",
      "Name: Biome, dtype: object\n",
      "\n",
      "Site: MM048-Rumuiku\n",
      "0        Upper Montane Forest/cold temperate evergreen\n",
      "5000     Upper Montane Forest/cold temperate evergreen\n",
      "10000    Upper Montane Forest/cold temperate evergreen\n",
      "15000    Upper Montane Forest/cold temperate evergreen\n",
      "20000    Upper Montane Forest/cold temperate evergreen\n",
      "25000    Upper Montane Forest/cold temperate evergreen\n",
      "Name: Biome, dtype: object\n",
      "\n"
     ]
    }
   ],
   "source": [
    "### Perform biome affinity analysis\n",
    "\n",
    "biomization = Biomization(taxa_pft_mapping, biome_pft_mapping)\n",
    "\n",
    "unmapped_taxas = biomization.get_unmapped_taxas(*sites)\n",
    "if unmapped_taxas:\n",
    "  print()\n",
    "  print('WARNING: sample worksheets contain taxas that are not mapped to any biome')\n",
    "  for t in unmapped_taxas:\n",
    "    print(t)\n",
    "  print()\n",
    "\n",
    "percentages = [sample.get_percentages(decimals=2) for sample in sites]\n",
    "stabilized = [perc.get_stabilized(default_threshold=default_threshold, decimals=2) for perc in percentages]\n",
    "biomes = [biomization.get_biome_affinity(stab) for stab in stabilized]\n",
    "\n",
    "binned_biomes = [biome.apply(lambda scores: scores.groupby(bin).mean()) for biome in biomes]\n",
    "\n",
    "for biome in binned_biomes:\n",
    "  print('Site:', biome.site)\n",
    "  print(biome.biomes)\n",
    "  print()"
   ]
  },
  {
   "cell_type": "markdown",
   "metadata": {
    "id": "-8eKKfmCJClG"
   },
   "source": [
    "# Store result\n",
    "\n",
    "Saves an Excel spreadsheat with four sheets per site:\n",
    "* Biome for each sample\n",
    "* Affinity scores for each sample\n",
    "* Binned biomes\n",
    "* Binned affinity scores"
   ]
  },
  {
   "cell_type": "code",
   "execution_count": 5,
   "metadata": {
    "id": "56JwK915JFPT"
   },
   "outputs": [
    {
     "name": "stdout",
     "output_type": "stream",
     "text": [
      "Saved results to Biomization result (5000 bins).xlsx\n"
     ]
    }
   ],
   "source": [
    "import pandas as pd\n",
    "\n",
    "with pd.ExcelWriter(result_file_name) as writer:\n",
    "  for biome in biomes:\n",
    "    biome.biomes.to_excel(writer, sheet_name=f'AB {biome.site}'[:31])\n",
    "    biome.scores.to_excel(writer, sheet_name=f'AS {biome.site}'[:31])\n",
    "\n",
    "  for biome in binned_biomes:\n",
    "    biome.biomes.to_excel(writer, sheet_name=f'BB {biome.site}'[:31])\n",
    "    biome.scores.to_excel(writer, sheet_name=f'BS {biome.site}'[:31])\n",
    "\n",
    "print('Saved results to', result_file_name)"
   ]
  },
  {
   "cell_type": "markdown",
   "metadata": {
    "id": "AOxthoC9d51V"
   },
   "source": [
    "# Store traces (optional)\n",
    "\n",
    "This step saves the pollen samples and stabilized values used to calculate the affinity score. It is mainly intended to investigate any issues in those steps."
   ]
  },
  {
   "cell_type": "code",
   "execution_count": 6,
   "metadata": {
    "id": "Oi8E2kI3eAQc"
   },
   "outputs": [
    {
     "name": "stdout",
     "output_type": "stream",
     "text": [
      "Saved trace to Biomization trace (5000 bins).xlsx\n"
     ]
    }
   ],
   "source": [
    "with pd.ExcelWriter(trace_file_name) as writer:\n",
    "  for perc in percentages:\n",
    "    perc.samples.to_excel(writer, sheet_name=f'% {perc.site}'[:31])\n",
    "\n",
    "  for stab in stabilized:\n",
    "    stab.samples.to_excel(writer, sheet_name=f'S {perc.site}'[:31])\n",
    "\n",
    "print('Saved trace to', trace_file_name)\n"
   ]
  }
 ],
 "metadata": {
  "colab": {
   "private_outputs": true,
   "provenance": []
  },
  "kernelspec": {
   "display_name": ".venv",
   "language": "python",
   "name": "python3"
  },
  "language_info": {
   "codemirror_mode": {
    "name": "ipython",
    "version": 3
   },
   "file_extension": ".py",
   "mimetype": "text/x-python",
   "name": "python",
   "nbconvert_exporter": "python",
   "pygments_lexer": "ipython3",
   "version": "3.12.8"
  }
 },
 "nbformat": 4,
 "nbformat_minor": 0
}
